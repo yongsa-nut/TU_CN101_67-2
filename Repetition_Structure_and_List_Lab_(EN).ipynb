{
  "nbformat": 4,
  "nbformat_minor": 0,
  "metadata": {
    "colab": {
      "provenance": [],
      "authorship_tag": "ABX9TyMNxXAC+py7NYXopilfMf2g",
      "include_colab_link": true
    },
    "kernelspec": {
      "name": "python3",
      "display_name": "Python 3"
    },
    "language_info": {
      "name": "python"
    }
  },
  "cells": [
    {
      "cell_type": "markdown",
      "metadata": {
        "id": "view-in-github",
        "colab_type": "text"
      },
      "source": [
        "<a href=\"https://colab.research.google.com/github/yongsa-nut/TU_CN101_67-2/blob/main/Repetition_Structure_and_List_Lab_(EN).ipynb\" target=\"_parent\"><img src=\"https://colab.research.google.com/assets/colab-badge.svg\" alt=\"Open In Colab\"/></a>"
      ]
    },
    {
      "cell_type": "markdown",
      "source": [
        "# Repetition Structure and List 1 Lab"
      ],
      "metadata": {
        "id": "dmXQiCcfNjhN"
      }
    },
    {
      "cell_type": "markdown",
      "source": [
        "### **Using AI will result in 0**\n",
        "\n",
        "- Turn off AI: Tools -> Settings -> AI Assistance -> Hide Generative AI Features"
      ],
      "metadata": {
        "id": "6fUdSubmSGbc"
      }
    },
    {
      "cell_type": "markdown",
      "source": [
        "**Q1**: What is the output of this program?\n",
        "```python\n",
        "my_list = [1,2,3,4,7,12]\n",
        "print(my_list[0], my_list[2], my_list[-1])\n",
        "```"
      ],
      "metadata": {
        "id": "lKf1LVXHmeYd"
      }
    },
    {
      "cell_type": "code",
      "source": [],
      "metadata": {
        "id": "L5CmtQ6jmeAv"
      },
      "execution_count": null,
      "outputs": []
    },
    {
      "cell_type": "markdown",
      "source": [
        "**Q2**: What is the output of this program?\n",
        "```python\n",
        "numbers = [1, 2, 3, 4, 5]\n",
        "for num in numbers:\n",
        "    print(num * 2, end=\" \")\n",
        "```"
      ],
      "metadata": {
        "id": "NBvNyGZ6nkeh"
      }
    },
    {
      "cell_type": "code",
      "source": [],
      "metadata": {
        "id": "8vYc5ahsnkBe"
      },
      "execution_count": null,
      "outputs": []
    },
    {
      "cell_type": "markdown",
      "source": [
        "**Q3**: What is the outout of this program?\n",
        "```python\n",
        "sequences = [7, 9, 10, 12]\n",
        "for i in range(len(sequences)):\n",
        "  print(f'{i} {sequences[i]}')\n",
        "```"
      ],
      "metadata": {
        "id": "dV72zeSQWnuQ"
      }
    },
    {
      "cell_type": "code",
      "source": [],
      "metadata": {
        "id": "13e5WoZgW-LT"
      },
      "execution_count": null,
      "outputs": []
    },
    {
      "cell_type": "markdown",
      "source": [
        "**Q4**: What is the output?\n",
        "\n",
        "```python\n",
        "numbers = [10, 11, 12, 13]\n",
        "for i in range(len(numbers)):\n",
        "  print(f'{i+1}: {1+numbers[i]*2}')\n",
        "```"
      ],
      "metadata": {
        "id": "2B7Paql6GS--"
      }
    },
    {
      "cell_type": "code",
      "source": [],
      "metadata": {
        "id": "Q44nANhzGWt4"
      },
      "execution_count": null,
      "outputs": []
    },
    {
      "cell_type": "markdown",
      "source": [
        "**Q5**: What is the output?\n",
        "\n",
        "```python\n",
        "numbers = [-5, 0, 3, 2, 10]\n",
        "count = 0\n",
        "n = len(numbers)\n",
        "for i in range(n):\n",
        "  if numbers[i] < i:\n",
        "    count += 1\n",
        "print(count)\n",
        "```"
      ],
      "metadata": {
        "id": "k3ra8kn7f4ve"
      }
    },
    {
      "cell_type": "code",
      "source": [],
      "metadata": {
        "id": "sivW8Czkf5DA"
      },
      "execution_count": null,
      "outputs": []
    },
    {
      "cell_type": "markdown",
      "source": [
        "**Q6**: What is the output?\n",
        "\n",
        "```python\n",
        "total = 1\n",
        "somethings = [1, 2, 3, 1, 2, 3]\n",
        "for i in range(1, 6, 2):\n",
        "  total *= somethings[i]\n",
        "print(total)\n",
        "```"
      ],
      "metadata": {
        "id": "9fP_nqrZg_LI"
      }
    },
    {
      "cell_type": "code",
      "source": [],
      "metadata": {
        "id": "kguyTp2zh7iF"
      },
      "execution_count": null,
      "outputs": []
    },
    {
      "cell_type": "markdown",
      "source": [
        "**Q7**: What is the output of this program?\n",
        "\n",
        "```python\n",
        "words = ['AAA','BBB','CCC','DDD','FFF']\n",
        "for i in range(len(words)):\n",
        "  if words[i] != 'BBB':\n",
        "    print(words[i], end=',')\n",
        "  if words[i] == 'DDD':\n",
        "    break\n",
        "```"
      ],
      "metadata": {
        "id": "RqNsh5B-npto"
      }
    },
    {
      "cell_type": "code",
      "source": [],
      "metadata": {
        "id": "yMHJS6IunqAK"
      },
      "execution_count": null,
      "outputs": []
    },
    {
      "cell_type": "markdown",
      "source": [
        "**Q8**: What is the output of this program?\n",
        "```python\n",
        "numbers = [1, 2, 3, 4]\n",
        "numbers[1] = numbers[0] + numbers[1]\n",
        "numbers[2] = numbers[1] + numbers[2]\n",
        "numbers[3] = numbers[2] + numbers[3]\n",
        "print(numbers)\n",
        "```"
      ],
      "metadata": {
        "id": "gmAOf0K8optT"
      }
    },
    {
      "cell_type": "code",
      "source": [],
      "metadata": {
        "id": "39Xqd4Gsoudl"
      },
      "execution_count": null,
      "outputs": []
    },
    {
      "cell_type": "markdown",
      "source": [
        "**Q9**: What is the output of this program?\n",
        "```python\n",
        "seq1 = [1,2,3,4]\n",
        "n1 = len(seq1)\n",
        "seq2 = [323,1234,123156311]\n",
        "n2 = len(seq2)\n",
        "print(n1, n2)\n",
        "```"
      ],
      "metadata": {
        "id": "ql0Rq77hpw8L"
      }
    },
    {
      "cell_type": "code",
      "source": [],
      "metadata": {
        "id": "_5LWK4n3pwsF"
      },
      "execution_count": null,
      "outputs": []
    },
    {
      "cell_type": "markdown",
      "source": [
        "**Q10**: What is the output of this program?\n",
        "```python\n",
        "my_list = [3, 5, 7, 10, 12, 14, 19]\n",
        "mode = 'Delta'\n",
        "count = 0\n",
        "if mode == 'Alpha':\n",
        "  for num in my_list:\n",
        "    if num%2 == 0:\n",
        "      count += 1\n",
        "if mode == 'Delta:\n",
        "  for i in range(len(my_list)):\n",
        "    if my_list[i]%2 == 1:\n",
        "      count += 1\n",
        "print(count)\n",
        "```"
      ],
      "metadata": {
        "id": "RBApiEZFkqFT"
      }
    },
    {
      "cell_type": "code",
      "source": [],
      "metadata": {
        "id": "eA8LnG0BoIh2"
      },
      "execution_count": null,
      "outputs": []
    },
    {
      "cell_type": "markdown",
      "source": [
        "**Q11**: Fill in the blank to print the index and value of each element:\n",
        "```\n",
        "1: apple\n",
        "2: banana\n",
        "3: cherry\n",
        "```"
      ],
      "metadata": {
        "id": "9h1EpMAHqq4K"
      }
    },
    {
      "cell_type": "code",
      "source": [
        "fruits = [\"apple\", \"banana\", \"cherry\"]\n",
        "for i in range(1, _____):\n",
        "  print(f\"{i}: {fruits[__]}\")"
      ],
      "metadata": {
        "id": "ez6Il05XqqrI"
      },
      "execution_count": null,
      "outputs": []
    },
    {
      "cell_type": "markdown",
      "source": [
        "**Q12**: Complete the code to find the largest number in the list:\n",
        "\n",
        "Idea:\n",
        "- Create a variable, largest, to store the largest/maximum number so far\n",
        "- Then, for loop into the list to compare each number with the largest\n",
        "  - If the number is larger than the largest, then the number is the new largest. So, update the largest to the new number."
      ],
      "metadata": {
        "id": "K2EdQvhRrA4P"
      }
    },
    {
      "cell_type": "code",
      "source": [
        "numbers = [3, 7, 2, 8, 1]\n",
        "largest = numbers[0]\n",
        "for num in numbers:\n",
        "    if num __ largest:\n",
        "      largest = _________\n",
        "print(largest)"
      ],
      "metadata": {
        "id": "QdyhROm_rDuQ"
      },
      "execution_count": null,
      "outputs": []
    },
    {
      "cell_type": "markdown",
      "source": [
        "**Q13** Fill in the blank to count the numbers in `DATA` that are between 13 and 18 (inclusive)."
      ],
      "metadata": {
        "id": "PjnSR3GmZBxw"
      }
    },
    {
      "cell_type": "code",
      "source": [
        "data = [0, 9, 14, 50, 32, 17, 20, 1]\n",
        "count = 0\n",
        "for num in data:\n",
        "  if _______________:\n",
        "    _______________\n",
        "print(count)"
      ],
      "metadata": {
        "id": "-mDs6IcyZMCW"
      },
      "execution_count": null,
      "outputs": []
    },
    {
      "cell_type": "markdown",
      "source": [
        "**Q14**: Fill in the blank to count even numbers at an odd index in `my_list`\n",
        "\n",
        "Example:\n",
        "\n",
        "`my_list = [10, 12, 13, 14, 4, 4]`\n",
        "\n",
        "Explanation:\n",
        "\n",
        "The answer is 2.\n",
        "- index = 1 -> 12\n",
        "- index = 5 -> 4"
      ],
      "metadata": {
        "id": "Db_gZwLpJwAs"
      }
    },
    {
      "cell_type": "code",
      "source": [
        "my_list = [10, 12, 13, 13, 4, 4]\n",
        "count = 0\n",
        "for i in range(len(my_list)):\n",
        "  if _______________________:\n",
        "    count += 1\n",
        "print(count)"
      ],
      "metadata": {
        "id": "UCBWrmisJwP5"
      },
      "execution_count": null,
      "outputs": []
    },
    {
      "cell_type": "markdown",
      "source": [
        "**Q15**: Fill in the blanks to complete the program. The program will ask the user for three options:\n",
        "\n",
        "1.   `A` - print out `AAA`\n",
        "2.   `B` - print out `BBB`\n",
        "3.   `C` - Terminate the program (break out of the while loop)\n",
        "\n",
        "Note: The program will keep asking the user until the user chooses `C`"
      ],
      "metadata": {
        "id": "6nsZv6ePld52"
      }
    },
    {
      "cell_type": "code",
      "source": [
        "while True:\n",
        "  print('Option A: display AAA')\n",
        "  print('Option B: display BBB')\n",
        "  print('Option C: Terminate')\n",
        "  option = input('Enter option: ')\n",
        "  if option == 'A':\n",
        "    print(____)\n",
        "  ____________________:\n",
        "    print(\"BBB\")\n",
        "  elif option == 'C':\n",
        "    _____\n",
        "  else:\n",
        "    print('Invalid Option')"
      ],
      "metadata": {
        "id": "QBJb_ghLlheC"
      },
      "execution_count": null,
      "outputs": []
    },
    {
      "cell_type": "markdown",
      "source": [
        "**Q16** Package Shipment\n",
        "\n",
        "Write a program to calculate the total of weight of packages and check whether or not the weight is above the limit. Each package contains its own multiple identical objects.\n",
        "\n",
        "For this program, the user will first input the number of packages. Then, the user will input the number of objects and its weight for each package. The weight of each package is the number of objects times its weight\n",
        "\n",
        "Finally, print out the total weight of all pacakges and the message whether the total weight is over the limit ('Over limit') or not ('Can carry').\n",
        "\n",
        "```\n",
        "weight = float(input(f'Enter the {num} package weight: '))\n",
        "```\n",
        "\n",
        "\n",
        "ตัวอย่าง 1\n",
        "```\n",
        ">Enter the number of packages: 2\n",
        ">Enter the package 1 amount: 10\n",
        ">Enter the package 1 weight: 5\n",
        ">Enter the package 2 amount: 20\n",
        ">Enter the package 2 weight: 10\n",
        "The total weight is 250.00\n",
        ">Enter the weight limit: 300\n",
        "Can carry\n",
        "```\n",
        "\n",
        "ตัวอย่าง 2\n",
        "```\n",
        "Enter the number of packages: 3\n",
        "Enter the package 1 amount: 1\n",
        "Enter the package 1 weight: 100\n",
        "Enter the package 2 amount: 5\n",
        "Enter the package 2 weight: 10\n",
        "Enter the package 3 amount: 10\n",
        "Enter the package 3 weight: 20\n",
        "The total weight is 350.00\n",
        "Enter the weight limit: 300\n",
        "Over weight\n",
        "```\n",
        "\n"
      ],
      "metadata": {
        "id": "z90YnCEkZmy-"
      }
    },
    {
      "cell_type": "code",
      "source": [
        "total = 0\n",
        "n_package = int(input('Enter the number of packages: '))\n",
        "\n",
        "for num in range(n_package):\n",
        "  amount = float(input(f'Enter the {num+1} package amount: '))\n",
        "  # Fill in the rest\n",
        "  weight = ...\n",
        "\n",
        "\n",
        "\n"
      ],
      "metadata": {
        "id": "hlzY_9j0ZpUD"
      },
      "execution_count": null,
      "outputs": []
    },
    {
      "cell_type": "markdown",
      "source": [
        "**Q17**: FizzBuzz ver 0.5\n",
        "\n",
        "Write a program to receive input from the user specifying which mode the program should run in: either `3` or `5`\n",
        "Then print the data from 'numbers' according to the following requirements:\n",
        "\n",
        "- If it's mode `3` and the number is divisible by three, print 'Fizz' along with that number.\n",
        "\n",
        "- If it's mode `5` and the number is divisible by five, print 'Buzz' along with that number.\n",
        "\n",
        "Finally, print how many numbers met the condition.\n",
        "\n",
        "**Requirements**: Must check that the user only inputs either '3' or '5'.\n",
        "\n",
        "**Hint**:\n",
        "- Do the validation for `3` or `5` using `while` loop first\n",
        "\n",
        "Example 1\n",
        "```\n",
        "Enter mode (3 or 5): 3\n",
        "Fizz 3\n",
        "Fizz 9\n",
        "Fizz 30\n",
        "3\n",
        "```\n",
        "\n",
        "Example 2\n",
        "```\n",
        "Enter mode (3 or 5): 7\n",
        "Mode is not 3 or 5.\n",
        "Enter mode (3 or 5): 9\n",
        "Mode is not 3 or 5.\n",
        "Enter mode (3 or 5): 5\n",
        "Buzz 5\n",
        "Buzz 10\n",
        "Buzz 20\n",
        "Buzz 30\n",
        "Buzz 10\n",
        "5\n",
        "```\n"
      ],
      "metadata": {
        "id": "lXv2j3relb9t"
      }
    },
    {
      "cell_type": "code",
      "source": [
        "numbers = [2, 3, 5, 10, 9, 20, 30, 10, 7]\n",
        "\n",
        "# Input Validation\n",
        "\n",
        "\n",
        "# Process\n",
        "\n"
      ],
      "metadata": {
        "id": "F15hg1fdlbku"
      },
      "execution_count": null,
      "outputs": []
    },
    {
      "cell_type": "markdown",
      "source": [
        "## การส่ง\n",
        "- File -> Download -> Download .ipynb\n",
        "- Upload to MS Teams"
      ],
      "metadata": {
        "id": "seUHkJQgFlm4"
      }
    }
  ]
}