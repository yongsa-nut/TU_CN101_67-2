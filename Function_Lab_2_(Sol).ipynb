{
  "nbformat": 4,
  "nbformat_minor": 0,
  "metadata": {
    "colab": {
      "provenance": [],
      "authorship_tag": "ABX9TyPntZppslhdsdMpFtk7nz7Q",
      "include_colab_link": true
    },
    "kernelspec": {
      "name": "python3",
      "display_name": "Python 3"
    },
    "language_info": {
      "name": "python"
    }
  },
  "cells": [
    {
      "cell_type": "markdown",
      "metadata": {
        "id": "view-in-github",
        "colab_type": "text"
      },
      "source": [
        "<a href=\"https://colab.research.google.com/github/yongsa-nut/TU_CN101_67-2/blob/main/Function_Lab_2_(Sol).ipynb\" target=\"_parent\"><img src=\"https://colab.research.google.com/assets/colab-badge.svg\" alt=\"Open In Colab\"/></a>"
      ]
    },
    {
      "cell_type": "markdown",
      "source": [
        "# Function Lab 2"
      ],
      "metadata": {
        "id": "j40-C7hfAp4t"
      }
    },
    {
      "cell_type": "markdown",
      "source": [
        "**Q1**: What will the following program print out?\n",
        "\n",
        "```python\n",
        "def funcx(n):\n",
        "  y = 1+n**2\n",
        "  return 2*y\n",
        "\n",
        "def main():\n",
        "  print(funcx(funcx(2)))\n",
        "  \n",
        "main()\n",
        "```"
      ],
      "metadata": {
        "id": "gtc29vyTnXw_"
      }
    },
    {
      "cell_type": "code",
      "source": [
        "202"
      ],
      "metadata": {
        "id": "i53RS0N9ngV1"
      },
      "execution_count": null,
      "outputs": []
    },
    {
      "cell_type": "markdown",
      "source": [
        "**Q2**: What will the following program print out?\n",
        "\n",
        "```python\n",
        "def my_func(x=3, y=5):\n",
        " return x*y, x-y\n",
        "\n",
        "x, y = my_func(y=5, x=4)\n",
        "print(x, y)\n",
        "```"
      ],
      "metadata": {
        "id": "nHPrWd_fnglu"
      }
    },
    {
      "cell_type": "code",
      "source": [
        "20 -1"
      ],
      "metadata": {
        "id": "_-OUA9CUnhYI"
      },
      "execution_count": null,
      "outputs": []
    },
    {
      "cell_type": "markdown",
      "source": [
        "**Q3**: What will the following program print out?\n",
        "\n",
        "```python\n",
        "def do_x(a, b, c):\n",
        "  return a*b, b+c, a+b*c\n",
        "x = 3\n",
        "outcomes = do_x(1, x, x+2)\n",
        "print(outcomes[0], outcomes[1], outcomes[2])\n",
        "```"
      ],
      "metadata": {
        "id": "fHBl5HkjMhhE"
      }
    },
    {
      "cell_type": "code",
      "source": [
        "3 8 16"
      ],
      "metadata": {
        "id": "gLCR_VJIMbp7"
      },
      "execution_count": null,
      "outputs": []
    },
    {
      "cell_type": "markdown",
      "source": [
        "**Q4**: What will the following program print out?\n",
        "\n",
        "```python\n",
        "def cal_something(data):\n",
        "  total = sum(data)\n",
        "  return total, total/len(data)\n",
        "  \n",
        "def print_results(data, results):\n",
        "  print(f\"Data is {data}\")\n",
        "  print(f\"Total = {results[0]}. Avg = {results[1]}\")\n",
        "\n",
        "def main():\n",
        "  my_data = [1, 5, 9, 5]\n",
        "  stats = cal_something(my_data)\n",
        "  print_results(my_data, stats)\n",
        "\n",
        "main()\n",
        "```"
      ],
      "metadata": {
        "id": "mgdjCVEtMd3m"
      }
    },
    {
      "cell_type": "code",
      "source": [
        "Data is [1, 5, 9, 5]\n",
        "Total = 20. Avg = 5.0"
      ],
      "metadata": {
        "id": "SLZjGJEoMkzR"
      },
      "execution_count": null,
      "outputs": []
    },
    {
      "cell_type": "markdown",
      "source": [
        "**Q5**: What will the following program print out?\n",
        "\n",
        "```python\n",
        "import math\n",
        "\n",
        "if math.e > 5:\n",
        "  print(\"Hello\", end='-')\n",
        "  if math.pi > 3:\n",
        "    print(\"Hi\")\n",
        "  else:\n",
        "    print(\"Bye\")\n",
        "else:\n",
        "  print(\"Noon\", end='-')\n",
        "  if math.pi < 3:\n",
        "    print(\"Rain\")\n",
        "  else:\n",
        "    print(\"Sunny\")\n",
        "```"
      ],
      "metadata": {
        "id": "vtpPQn60nhjm"
      }
    },
    {
      "cell_type": "code",
      "source": [
        "Noon-Sunny"
      ],
      "metadata": {
        "id": "05PWUfYMnigL"
      },
      "execution_count": null,
      "outputs": []
    },
    {
      "cell_type": "markdown",
      "source": [
        "**Q6**: What will the following program print out?\n",
        "\n",
        "```python\n",
        "def double(x=0, y=1):\n",
        "  return x*2, y*2\n",
        "\n",
        "def cal_sum(start, end, step = 2):\n",
        "  total = 0\n",
        "  for i in range(start, end, step):\n",
        "    total += i\n",
        "  return total\n",
        "\n",
        "def main():\n",
        "  start, end = double(y = 3)\n",
        "  result = cal_sum(start, end)\n",
        "  print(result)\n",
        "\n",
        "main()\n",
        "```"
      ],
      "metadata": {
        "id": "YsH8duS-ni3U"
      }
    },
    {
      "cell_type": "code",
      "source": [
        "6"
      ],
      "metadata": {
        "id": "oECSBwHznjrN"
      },
      "execution_count": null,
      "outputs": []
    },
    {
      "cell_type": "markdown",
      "source": [
        "**Q7**: What will the following program print out?\n",
        "\n",
        "```python\n",
        "x = 5\n",
        "\n",
        "def do_x():\n",
        "  global x\n",
        "  x = x + 3\n",
        "\n",
        "def do_y():\n",
        "  do_x()\n",
        "  do_x()\n",
        "\n",
        "def do_z():\n",
        "  x = 7\n",
        "  x = x + 5\n",
        "\n",
        "do_y()\n",
        "print(x)\n",
        "do_z()\n",
        "print(x)\n",
        "```"
      ],
      "metadata": {
        "id": "QA7iZFbuJSsm"
      }
    },
    {
      "cell_type": "code",
      "source": [
        "11\n",
        "11"
      ],
      "metadata": {
        "id": "YzwzUOuDJWff"
      },
      "execution_count": null,
      "outputs": []
    },
    {
      "cell_type": "markdown",
      "source": [
        "**Q8**: What will the following program print out?\n",
        "\n",
        "```python\n",
        "my_number   = 5\n",
        "your_number = 10\n",
        "\n",
        "def do_something(x, y):\n",
        "  x = x + y\n",
        "  print(x, end=\",\")\n",
        "\n",
        "def do_more(x):\n",
        "  x = my_number + your_number\n",
        "  print(x, end=\",\")\n",
        "\n",
        "def do_another():\n",
        "  global my_number\n",
        "  my_number += 1\n",
        "  do_something(my_number, your_number)\n",
        "\n",
        "def main()\n",
        "  do_something(my_number, your_number)\n",
        "  do_more(5)\n",
        "  do_another()\n",
        "  do_something(my_number, your_number)\n",
        "\n",
        "main()\n",
        "```"
      ],
      "metadata": {
        "id": "kJzt4BLEnj4R"
      }
    },
    {
      "cell_type": "code",
      "source": [
        "15,15,16,16"
      ],
      "metadata": {
        "id": "jpWF--U2nko4"
      },
      "execution_count": null,
      "outputs": []
    },
    {
      "cell_type": "markdown",
      "source": [
        "**Q9** Fill in the blank so that the program print out 7."
      ],
      "metadata": {
        "id": "wViwKi37oaJp"
      }
    },
    {
      "cell_type": "code",
      "source": [
        "def y(x, z = 4 ):\n",
        "  return z + x\n",
        "\n",
        "def main():\n",
        "  x = y(3)\n",
        "  print(x)\n",
        "main()"
      ],
      "metadata": {
        "id": "mQ0panAEocDq",
        "outputId": "0b3ddb22-203b-40d1-bc0f-c296071c65bb",
        "colab": {
          "base_uri": "https://localhost:8080/"
        }
      },
      "execution_count": null,
      "outputs": [
        {
          "output_type": "stream",
          "name": "stdout",
          "text": [
            "7\n"
          ]
        }
      ]
    },
    {
      "cell_type": "markdown",
      "source": [
        "**Q10**:\n",
        "Fill in the blank to calculate the following equation: $y = \\frac{1}{2\\pi}e^{\\frac{-(x-\\mu)^2}{2}}$ (Note $\\mu$ = mu)"
      ],
      "metadata": {
        "id": "mC5ik0IMoWLO"
      }
    },
    {
      "cell_type": "code",
      "source": [
        "import math\n",
        "x = float(input('Enter x: ' ))\n",
        "mu = float(input('Enter mu: '))\n",
        "y = (1/(2*math.pi)) * math.e**( (-(x-mu)**2)/2 )"
      ],
      "metadata": {
        "id": "bjJFTeJloXwY"
      },
      "execution_count": null,
      "outputs": []
    },
    {
      "cell_type": "markdown",
      "source": [
        "**Q11**: เติมโค้ดเพื่อให้โปรแกรมแสดงผลตัวเลขจำนวนเต็มสุ่มหนึ่งตัวที่มีค่าระหว่าง `lower` และ `upper` ซึ่งรับค่ามาจากผู้ใช้\n"
      ],
      "metadata": {
        "id": "Sbw9yxuRpttp"
      }
    },
    {
      "cell_type": "code",
      "source": [
        "import random\n",
        "\n",
        "lower = int(input('Enter lower: '))\n",
        "upper = int(input('Enter upper: '))\n",
        "\n",
        "rand_num = random.randint(lower, upper)\n",
        "print(rand_num)"
      ],
      "metadata": {
        "id": "7X9RcKlurAgD",
        "outputId": "bd111c33-1b03-44db-94c0-4208d40f1a54",
        "colab": {
          "base_uri": "https://localhost:8080/"
        }
      },
      "execution_count": null,
      "outputs": [
        {
          "output_type": "stream",
          "name": "stdout",
          "text": [
            "Enter lower: 2\n",
            "Enter upper: 3\n",
            "3\n"
          ]
        }
      ]
    },
    {
      "cell_type": "markdown",
      "source": [
        "**Q12** เติมโค้ดเพื่อให้ฟังก์ชัน `gen_random_result` **คืนค่า** (return) ตัวเลขสุ่มระหว่าง 1 ถึง 50"
      ],
      "metadata": {
        "id": "OV8BzL71o1_n"
      }
    },
    {
      "cell_type": "code",
      "source": [
        "import random\n",
        "\n",
        "def gen_random_result(i):\n",
        "  random.seed(i)\n",
        "  return random.randint(1,50)\n",
        "\n",
        "def main():\n",
        "  print(gen_random_result(7))\n",
        "\n",
        "main()"
      ],
      "metadata": {
        "id": "hwSjmfs6o5A_",
        "outputId": "70f2dbab-f4fc-42ba-941d-284a88123a0e",
        "colab": {
          "base_uri": "https://localhost:8080/"
        }
      },
      "execution_count": null,
      "outputs": [
        {
          "output_type": "stream",
          "name": "stdout",
          "text": [
            "21\n"
          ]
        }
      ]
    },
    {
      "cell_type": "markdown",
      "source": [
        "**Q13**: เติมโค้ดด้านล่างเพื่อสร้างรายการของ **5** ตัวเลขสุ่มระหว่าง 1 ถึง 10 ผลลัพธ์ควรเป็น `[10, 5, 6, 9, 1]`"
      ],
      "metadata": {
        "id": "qNZSutGEt8H4"
      }
    },
    {
      "cell_type": "code",
      "source": [
        "import random\n",
        "\n",
        "random.seed(5)\n",
        "\n",
        "lst = [random.randint(1,10) for i in range(5)]\n",
        "print(lst)"
      ],
      "metadata": {
        "id": "6EJx1MhMt9Fw",
        "outputId": "5274f1fb-2cab-49f8-ff65-ed3bb270f2d4",
        "colab": {
          "base_uri": "https://localhost:8080/"
        }
      },
      "execution_count": null,
      "outputs": [
        {
          "output_type": "stream",
          "name": "stdout",
          "text": [
            "[10, 5, 6, 9, 1]\n"
          ]
        }
      ]
    },
    {
      "cell_type": "markdown",
      "source": [
        "**Q14**: เติมคำในช่องว่างเพื่อทำให้ฟังก์ชัน `circle_area(radius)` สำหรับคำนวณพื้นที่ของวงกลม และฟังก์ชัน `vol_sphere(radius)` สำหรับคำนวณปริมาตรของทรงกลม ($V = \\frac{4}{3}\\pi r^2$) สมบูรณ์ ใช้ค่า $\\pi$ จาก math library.\n",
        "\n",
        "**Example**:\n",
        "```\n",
        "Enter radius: 1\n",
        "Area: 3.14. Volume of sphere: 4.19.\n",
        "```"
      ],
      "metadata": {
        "id": "8nETZM1Ft9Re"
      }
    },
    {
      "cell_type": "code",
      "source": [
        "# Import\n",
        "import math\n",
        "\n",
        "def circle_area(radius):\n",
        "  area = math.pi*radius**2\n",
        "  return area\n",
        "\n",
        "def vol_sphere(radius):\n",
        "  vol = (4/3)*math.pi*radius**3\n",
        "  return vol\n",
        "\n",
        "def main():\n",
        "  rad = float(input('Enter radius: '))\n",
        "  c_area = circle_area(rad)\n",
        "  vol_sph = vol_sphere(rad)\n",
        "  print(f'Area: {c_area:.2f}. Volume of sphere: {vol_sph:.2f}.')\n",
        "\n",
        "main()"
      ],
      "metadata": {
        "id": "wHaoTLq-t-LS",
        "outputId": "0c6b6b7d-d0c7-42be-df2a-3ab812bfaccf",
        "colab": {
          "base_uri": "https://localhost:8080/"
        }
      },
      "execution_count": null,
      "outputs": [
        {
          "output_type": "stream",
          "name": "stdout",
          "text": [
            "Enter radius: 1\n",
            "Area: 3.14. Volume of sphere: 4.19.\n"
          ]
        }
      ]
    },
    {
      "cell_type": "markdown",
      "source": [
        "**Q15**: เติมโค้ดในช่องว่างเพื่อเขียนฟังก์ชัน `mul_all()` ให้สมบูรณ์ เพื่อคำนวณผลคูณของตัวเลขทั้งหมดในรายการตัวเลขที่กำหนด ตัวอย่างเช่น `mul_all([2,5,10,15])` = $2 \\times 5 \\times 10 \\times 15 = 1500$"
      ],
      "metadata": {
        "id": "SlaqM0Bht_wV"
      }
    },
    {
      "cell_type": "code",
      "source": [
        "def mul_all(numbers):\n",
        "  total = 1\n",
        "  for number in numbers:\n",
        "    total *= number\n",
        "\n",
        "  return total\n",
        "\n",
        "def main():\n",
        "  print(mul_all([1,1,3,2]))   # 6\n",
        "  print(mul_all([2,5,10,15])) # 1500\n",
        "\n",
        "main()"
      ],
      "metadata": {
        "id": "zrTzld_UuAnz",
        "outputId": "2261bdf8-cb58-448c-b459-78ab391fc0a8",
        "colab": {
          "base_uri": "https://localhost:8080/"
        }
      },
      "execution_count": null,
      "outputs": [
        {
          "output_type": "stream",
          "name": "stdout",
          "text": [
            "6\n",
            "1500\n"
          ]
        }
      ]
    },
    {
      "cell_type": "markdown",
      "source": [
        "**Q16**: เติมคำในช่องว่างเพื่อทำให้ฟังก์ชัน `cal_donut(n_donut, price)` ที่คำนวณราคารวมของโดนัทสมบูรณ์ ถ้าราคารวมมากกว่า 500 คุณจะได้รับส่วนลด 20%\n",
        "\n",
        "**Example**:\n",
        "```\n",
        "Enter n donut: 50\n",
        "Enter donut's price: 20\n",
        "Cost without discount: 1000.00\n",
        "Cost with discount: 800.00\n",
        "```\n"
      ],
      "metadata": {
        "id": "gwh0j3Tkt-eD"
      }
    },
    {
      "cell_type": "code",
      "source": [
        "def cal_donut(n_donut, price):\n",
        "  total = n_donut*price\n",
        "  if total > 500:\n",
        "    discount = total*0.2 # 20% discount\n",
        "  else:\n",
        "    discount = total\n",
        "  return total, discount\n",
        "\n",
        "def main():\n",
        "  n = int(input('Enter n donut: '))\n",
        "  p = float(input(\"Enter donut's price: \"))\n",
        "  full_cost, dis_cost = cal_donut(n, p)\n",
        "  print(f'Cost without discount: {full_cost:.2f}')\n",
        "  print(f'Cost with discount: {dis_cost:.2f}')\n",
        "\n",
        "main()"
      ],
      "metadata": {
        "id": "oUUn_KAAt_cr"
      },
      "execution_count": null,
      "outputs": []
    },
    {
      "cell_type": "markdown",
      "source": [
        "**Q17**: Input Validation function\n",
        "\n",
        "สร้างฟังก์ชัน `input_validation(text, lower, upper)` เพื่อขอข้อมูลจากผู้ใช้และทำการตรวจสอบข้อมูลที่ป้อน - โดยจะถามผู้ใช้ซ้ำๆ จนกว่าข้อมูลที่ป้อนจะอยู่ในช่วงที่กำหนด (ระหว่าง lower และ upper รวมทั้งสองค่า)\n",
        "\n",
        "**ข้อกำหนดของฟังก์ชัน**:\n",
        "- มี arguments สามตัว:\n",
        "  - `text`: ข้อความที่จะแสดงให้ผู้ใช้เห็น\n",
        "  - `lower`: ขอบเขตล่างของตัวเลขที่ถูกต้อง\n",
        "  - `upper`: ขอบเขตบนของตัวเลขที่ถูกต้อง\n",
        "\n",
        "**Example**:\n",
        "```\n",
        "Enter your income: -10\n",
        "Value must be between 0 and 100000\n",
        "Enter your income: 100\n",
        "Enter your expense: 300000\n",
        "Value must be between 0 and 200000\n",
        "Enter your expense: 300\n",
        "Your income is 100.00\n",
        "YOur expense is 300.00\n",
        "```\n"
      ],
      "metadata": {
        "id": "egzlstVNsnhH"
      }
    },
    {
      "cell_type": "code",
      "source": [
        "def input_validation(text, lower, upper):\n",
        "  while True:\n",
        "    value = int(input(text))\n",
        "    if lower <= value <= upper:\n",
        "      break\n",
        "    print(f'Value must be between {lower} and {upper}')\n",
        "\n",
        "  return value\n",
        "\n",
        "def main():\n",
        "  income = input_validation(\"Enter your income: \", 0, 100000)\n",
        "  expense = input_validation(\"Enter your expense: \", 0, 200000)\n",
        "  print(f\"Your income is {income:.2f}\")\n",
        "  print(f\"Your expense is {expense:.2f}\")\n",
        "\n",
        "main()"
      ],
      "metadata": {
        "id": "kS6XuxKMs_1r",
        "outputId": "2063fc6f-8e1b-445e-8ce8-b30602718493",
        "colab": {
          "base_uri": "https://localhost:8080/"
        }
      },
      "execution_count": null,
      "outputs": [
        {
          "output_type": "stream",
          "name": "stdout",
          "text": [
            "Enter your income: -10\n",
            "Value must be between 0 and 100000\n",
            "Enter your income: 1000\n",
            "Enter your expense: 300000\n",
            "Value must be between 0 and 200000\n",
            "Enter your expense: 300\n",
            "Your income is 1000.00\n",
            "Your expense is 300.00\n"
          ]
        }
      ]
    },
    {
      "cell_type": "markdown",
      "source": [
        "**Q18**: Create a random number list\n",
        "\n",
        "เขียนฟังก์ชัน `gen_random(n)` ซึ่งรับตัวเลข `n` และส่งคืน list ของตัวเลขสุ่มระหว่าง 1 ถึง 10\n",
        "\n",
        "**Input**:\n",
        "- ค่าเริ่มต้นสำหรับการสุ่ม (seed number)\n",
        "- $n$ แสดงจำนวนของตัวเลขสุ่มที่จะถูกสร้าง\n",
        "\n",
        "**Output**:\n",
        "- A list of randomly generated numbers\n",
        "\n",
        "**หมายเหตุ**:\n",
        "- คุณต้องสร้างฟังก์ชัน `main()` ซึ่งถามผู้ใช้สำหรับค่า `n`, เรียกใช้ `gen_random(n)`, และแสดงผลลัพธ์\n",
        "- คุณต้องสร้างฟังก์ชัน `gen_random(n)`\n",
        "\n",
        "Example 1:\n",
        "```\n",
        "Enter seed: 7\n",
        "Enter n: 5\n",
        "[6, 3, 7, 1, 2]\n",
        "```\n",
        "\n",
        "Example 2:\n",
        "```\n",
        "Enter seed: 77\n",
        "Enter n: 10\n",
        "[5, 6, 4, 4, 4, 2, 5, 8, 9, 10]\n",
        "```"
      ],
      "metadata": {
        "id": "l2lI5ldNsucm"
      }
    },
    {
      "cell_type": "code",
      "source": [
        "# import\n",
        "import random\n",
        "\n",
        "def gen_random(n):\n",
        "  results = []\n",
        "  # Fill your code below\n",
        "  for i in range(n):\n",
        "    results.append(random.randint(1,10))\n",
        "\n",
        "  return results\n",
        "\n",
        "def main():\n",
        "  seed = int(input('Enter seed: '))\n",
        "  random.seed(seed)\n",
        "  n = int(input('Enter n: '))\n",
        "  random_list = gen_random(n)\n",
        "  print(random_list)\n",
        "\n",
        "main()"
      ],
      "metadata": {
        "id": "hgS486QssxCB",
        "outputId": "a3e9da78-086f-4371-a778-d7ef2864fdd7",
        "colab": {
          "base_uri": "https://localhost:8080/"
        }
      },
      "execution_count": null,
      "outputs": [
        {
          "output_type": "stream",
          "name": "stdout",
          "text": [
            "Enter seed: 77\n",
            "Enter n: 10\n",
            "[5, 6, 4, 4, 4, 2, 5, 8, 9, 10]\n"
          ]
        }
      ]
    },
    {
      "cell_type": "markdown",
      "source": [
        "**Q19**: Mean and Standard Deviation\n",
        "\n",
        "เขียนโปรแกรมเพื่อคำนวณค่าส่วนเบี่ยงเบนมาตรฐานจากข้อมูลที่กำหนดให้\n",
        "\n",
        "สูตรสำหรับค่าส่วนเบี่ยงเบนมาตรฐาน (standard deviation):\n",
        "\n",
        "$s.d. = \\sqrt{\\frac{∑_{i=1}^n(x_i - x̄)^2}{n}}$,\n",
        "\n",
        "โดยที่ $n$ คือจำนวนข้อมูล และ $x̄$ คือค่าเฉลี่ย (mean), $\\frac{1}{n}∑_{i=1}^n(x_i)$\n",
        "\n",
        "**ข้อกำหนด**:\n",
        "- ต้องสร้างฟังก์ชัน `mean(data)` ซึ่งรับข้อมูลเป็น list และส่งคืนค่าเฉลี่ยของลิสต์นั้น\n",
        "- ต้องสร้างฟังก์ชัน `standard_deviation(data)` ซึ่งรับข้อมูลเป็น list และส่งคืนค่าส่วนเบี่ยงเบนมาตรฐานของข้อมูล โดยฟังก์ชันนี้ควรเรียกใช้ฟังก์ชัน `mean()`\n",
        "- ฟังก์ชัน `main()` ถูกกำหนดให้แล้ว\n",
        "\n",
        "Example 1:\n",
        "```\n",
        "standard_deviation([1, 2, 3, 4, 5])\n",
        "1.41\n",
        "```\n",
        "Explanation:\n",
        "- mean = $(1 + 2 + 3 + 4 + 5)/5$ = 3\n",
        "- $(1-3)^2 + (2-3)^2 + (3-3)^2 + (4-3)^2 + (5-3)^2 = 4 + 1 + 0 + 1 + 4 = 10$\n",
        "- $10/5 = 2$\n",
        "- $\\sqrt{2} = 1.41...$\n",
        "\n",
        "Example 2:\n",
        "```\n",
        "standard_deviation([10, 3, 8, 1, 9, 1, 3])\n",
        "3.59\n",
        "```\n",
        "\n",
        "Example 3:\n",
        "```\n",
        "standard_deviation([5, 5, 3, 8, 9, 7, 10, 6, 3, 9])\n",
        "2.38\n",
        "```\n",
        "\n",
        "\n"
      ],
      "metadata": {
        "id": "un1erguqpvra"
      }
    },
    {
      "cell_type": "code",
      "source": [
        "import math\n",
        "\n",
        "def mean(data):\n",
        "  # Calculate the mean of the data.\n",
        "  return sum(data)/len(data)\n",
        "\n",
        "def standard_deviation(data):\n",
        "  # Calculate the standard_deviation of the data.\n",
        "  x_bar = mean(data)\n",
        "  total = 0\n",
        "  for i in range(len(data)):\n",
        "    total += (data[i] - x_bar)**2\n",
        "  std = (total/len(data))**(0.5)\n",
        "  return std\n",
        "\n",
        "def main():\n",
        "\n",
        "  # Example 1\n",
        "  data = [1, 2, 3, 4, 5]\n",
        "  print(f\"{standard_deviation(data):.2f}\") # 1.41\n",
        "  # Example 2\n",
        "  data = [10, 3, 8, 1, 9, 1, 3]\n",
        "  print(f\"{standard_deviation(data):.2f}\") # 3.59\n",
        "  # Example 3\n",
        "  data = [5, 5, 3, 8, 9, 7, 10, 6, 3, 9]\n",
        "  print(f\"{standard_deviation(data):.2f}\") # 2.38\n",
        "\n",
        "main()"
      ],
      "metadata": {
        "id": "LZSMLy5Tpxmk"
      },
      "execution_count": null,
      "outputs": []
    },
    {
      "cell_type": "markdown",
      "source": [
        "**Q20** Calculate Midpoint and Distance\n",
        "\n",
        "เขียนโปรแกรมที่ถามผู้ใช้สำหรับตัวเลขสี่ตัวสำหรับจุดสองจุด: (x1, y1) และ (x2, y2) จากนั้นคำนวณระยะห่างระหว่างจุดสองจุดนี้และจุดกึ่งกลางระหว่างจุดทั้งสอง\n",
        "\n",
        "งานของคุณ:\n",
        "* สร้างฟังก์ชัน `main()` เพื่อรับข้อมูลจากผู้ใช้\n",
        "* สร้างฟังก์ชัน `cal_distance(x1, y1, x2, y2)` ซึ่งรับตัวเลขสี่ตัวและส่งคืนระยะห่างระหว่างจุดสองจุดนี้\n",
        "  * ระยะห่างระหว่าง $(x_1, y_1)$ และ $(x_2, y_2) $ = $\\sqrt{(x_1 - x_2)^2 + (y_1 - y_2)^2}$\n",
        "* สร้างฟังก์ชัน `cal_midpoint(x1, y1, x2, y2)`ซึ่งรับตัวเลขสี่ตัวและส่งคืนจุดกึ่งกลาง: ทั้ง $x$ และ $y$\n",
        "  * จุดกึ่งกลาง ($x_3, y_3$) = $(\\frac{x_1 + x_2}{2}, \\frac{y_1 + y_2}{2})$\n",
        "\n",
        "\n",
        "**Input**:\n",
        "- ตัวเลขจำนวนเต็ม 4 ตัว\n",
        "\n",
        "**Output**:\n",
        "- ระยะห่าง (ทศนิยม 3 ตำแหน่ง)\n",
        "- จุดกึ่งกลาง (ทศนิยม 2 ตำแหน่ง)\n",
        "\n",
        "**Example**:\n",
        "```\n",
        "Enter x1: 1\n",
        "Enter y1: 2\n",
        "Enter x2: 3\n",
        "Enter y2: 4\n",
        "Distance = 2.828\n",
        "Midpoint = (2.00, 3.00)\n",
        "```"
      ],
      "metadata": {
        "id": "E3fop40apaxE"
      }
    },
    {
      "cell_type": "code",
      "source": [
        "#implement cal_distance function here\n",
        "def cal_distance(x1, y1, x2, y2):\n",
        "  dist = ((x1-x2)**2 + (y1-y2)**2)**(0.5)\n",
        "  return dist\n",
        "\n",
        "#implement cal_midpoint function here\n",
        "def cal_midpoint(x1, y1, x2, y2):\n",
        "  x3 = (x1+x2)/2\n",
        "  y3 = (y1+y2)/2\n",
        "  return x3, y3\n",
        "\n",
        "def main():\n",
        "  x1 = float(input(\"Enter x1: \"))\n",
        "  y1 = float(input(\"Enter y1: \"))\n",
        "  x2 = float(input(\"Enter x2: \"))\n",
        "  y2 = float(input(\"Enter y2: \"))\n",
        "  #Call the functions and print out answers below\n",
        "  distance = cal_distance(x1, y1, x2, y2)\n",
        "  x3, y3 = cal_midpoint(x1, y1, x2, y2)\n",
        "  print(f'Distance = {distance:.3f}')\n",
        "  print(f'Midpoint = ({x3:.2f},{y3:.2f})')\n",
        "\n",
        "main()"
      ],
      "metadata": {
        "id": "uB1sO5Qvpb_A",
        "outputId": "f3ad30dc-f6cb-462f-da24-fab6b3676081",
        "colab": {
          "base_uri": "https://localhost:8080/"
        }
      },
      "execution_count": null,
      "outputs": [
        {
          "output_type": "stream",
          "name": "stdout",
          "text": [
            "Enter x1: 1\n",
            "Enter y1: 2\n",
            "Enter x2: 3\n",
            "Enter y2: 4\n",
            "Distance = 2.828\n",
            "Midpoint = (2.00,3.00)\n"
          ]
        }
      ]
    }
  ]
}