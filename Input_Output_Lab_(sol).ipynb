{
  "nbformat": 4,
  "nbformat_minor": 0,
  "metadata": {
    "colab": {
      "provenance": [],
      "authorship_tag": "ABX9TyNVXm52DnezCiKbpsPtuyn+",
      "include_colab_link": true
    },
    "kernelspec": {
      "name": "python3",
      "display_name": "Python 3"
    },
    "language_info": {
      "name": "python"
    }
  },
  "cells": [
    {
      "cell_type": "markdown",
      "metadata": {
        "id": "view-in-github",
        "colab_type": "text"
      },
      "source": [
        "<a href=\"https://colab.research.google.com/github/yongsa-nut/TU_CN101_67-2/blob/main/Input_Output_Lab_(sol).ipynb\" target=\"_parent\"><img src=\"https://colab.research.google.com/assets/colab-badge.svg\" alt=\"Open In Colab\"/></a>"
      ]
    },
    {
      "cell_type": "markdown",
      "source": [
        "# Input Output Lab"
      ],
      "metadata": {
        "id": "tiUUTEF5wIkB"
      }
    },
    {
      "cell_type": "markdown",
      "source": [
        "Turn off AI: Tools -> Settings -> Hide generative AI features"
      ],
      "metadata": {
        "id": "zpqB6O9y8hB4"
      }
    },
    {
      "cell_type": "markdown",
      "source": [
        "**Q1**: What is the output of the code below? Write your answer in the code block below.\n",
        "จงเขียนผลลัพท์ที่ได้จากการทำงานของโค็ดด้านล่าง เขียนไว้ในช่อง code ด้านล่าง\n",
        "\n",
        "```python\n",
        "print(\"House\")\n",
        "```"
      ],
      "metadata": {
        "id": "lFzQae7swpah"
      }
    },
    {
      "cell_type": "code",
      "execution_count": null,
      "metadata": {
        "id": "k4KrvMwFvt45"
      },
      "outputs": [],
      "source": [
        "House # Fill in your answer like this"
      ]
    },
    {
      "cell_type": "markdown",
      "source": [
        "**Q2**: What is the output?\n",
        "\n",
        "```python\n",
        "print('Cat')\n",
        "print('Dog')\n",
        "print('Apple')\n",
        "```"
      ],
      "metadata": {
        "id": "VIqy4xftx_5n"
      }
    },
    {
      "cell_type": "code",
      "source": [
        "Cat\n",
        "Dog\n",
        "Apple"
      ],
      "metadata": {
        "id": "SyKhCPByytFX"
      },
      "execution_count": null,
      "outputs": []
    },
    {
      "cell_type": "markdown",
      "source": [
        "**Q3**: What is the output?\n",
        "\n",
        "```python\n",
        "x = 5\n",
        "y = 3\n",
        "print(x + y)\n",
        "```"
      ],
      "metadata": {
        "id": "mkRufiEgywMS"
      }
    },
    {
      "cell_type": "code",
      "source": [
        "8"
      ],
      "metadata": {
        "id": "3bcJJ-CFzM0-"
      },
      "execution_count": null,
      "outputs": []
    },
    {
      "cell_type": "markdown",
      "source": [
        "**Q4**: What is the output?\n",
        "\n",
        "```python\n",
        "a = 10\n",
        "b = 3\n",
        "print(a // b)\n",
        "print(a % b)\n",
        "```"
      ],
      "metadata": {
        "id": "NUEyk3SqzNJT"
      }
    },
    {
      "cell_type": "code",
      "source": [
        "3\n",
        "1"
      ],
      "metadata": {
        "id": "6c7ZEN0QzhwB"
      },
      "execution_count": null,
      "outputs": []
    },
    {
      "cell_type": "markdown",
      "source": [
        "**Q5**: What is the output?\n",
        "\n",
        "```python\n",
        "x = (5%2) + 3\n",
        "print(x)\n",
        "```"
      ],
      "metadata": {
        "id": "FeHr8X8uziGl"
      }
    },
    {
      "cell_type": "code",
      "source": [
        "4"
      ],
      "metadata": {
        "id": "BTL2W7UY0HzF"
      },
      "execution_count": null,
      "outputs": []
    },
    {
      "cell_type": "markdown",
      "source": [
        "**Q6**: What is the output?\n",
        "\n",
        "```python\n",
        "a = 4\n",
        "b = 0\n",
        "c = 3\n",
        "a = a + 1\n",
        "b = b + 2\n",
        "result = a * b ** c\n",
        "print(\"The result is\", result)\n",
        "```"
      ],
      "metadata": {
        "id": "Puqnje8A0SUB"
      }
    },
    {
      "cell_type": "code",
      "source": [
        "The result is 40"
      ],
      "metadata": {
        "id": "dVYYrUl8loGn"
      },
      "execution_count": null,
      "outputs": []
    },
    {
      "cell_type": "markdown",
      "source": [
        "**Q7**: What is the output?\n",
        "\n",
        "```python\n",
        "a = 1\n",
        "b = 2\n",
        "result = a + b + 1\n",
        "print(result)\n",
        "a = 3\n",
        "b = 4\n",
        "result = a + b + 1\n",
        "print(result)\n",
        "```"
      ],
      "metadata": {
        "id": "tHMeIXMk0Zl-"
      }
    },
    {
      "cell_type": "code",
      "source": [
        "4\n",
        "8"
      ],
      "metadata": {
        "id": "ZZc-OKXf0R8y"
      },
      "execution_count": null,
      "outputs": []
    },
    {
      "cell_type": "markdown",
      "source": [
        "**Q8**: If the user enters \"John\" and \"25\", what will be the output?\n",
        "```python\n",
        "name = input(\"Enter your name: \")\n",
        "age = int(input(\"Enter your age: \"))\n",
        "print(\"My name is\", name, \". I'm\", age, \"years old.\")\n",
        "```"
      ],
      "metadata": {
        "id": "mvIufTai0s1I"
      }
    },
    {
      "cell_type": "code",
      "source": [
        "My name is John . I'm 25 years old."
      ],
      "metadata": {
        "id": "NL819QDr1F0W"
      },
      "execution_count": null,
      "outputs": []
    },
    {
      "cell_type": "markdown",
      "source": [
        "**Q9**: Fill in the blank so that the program prints out 10:"
      ],
      "metadata": {
        "id": "JD6V9R-T1ber"
      }
    },
    {
      "cell_type": "code",
      "source": [
        "x = 8  # Fill here\n",
        "print(x + 2)"
      ],
      "metadata": {
        "id": "Wny1AYOz1bKG",
        "colab": {
          "base_uri": "https://localhost:8080/"
        },
        "outputId": "f85064ed-a8a7-498d-a105-ccba5baee68b"
      },
      "execution_count": 5,
      "outputs": [
        {
          "output_type": "stream",
          "name": "stdout",
          "text": [
            "10\n"
          ]
        }
      ]
    },
    {
      "cell_type": "markdown",
      "source": [
        "**Q10**: Complete the code to print as show below:\n",
        "```python\n",
        "Hello World!!\n",
        "```"
      ],
      "metadata": {
        "id": "lCticRPG1xc2"
      }
    },
    {
      "cell_type": "code",
      "source": [
        "print(\"Hello World!!\")  # Fill here"
      ],
      "metadata": {
        "id": "eIcqILop1xIb"
      },
      "execution_count": null,
      "outputs": []
    },
    {
      "cell_type": "markdown",
      "source": [
        "**Q11**: Fill in the blank to calculate and print the area of a rectangle with length 5 and width 3:"
      ],
      "metadata": {
        "id": "x_ZsFXov2t6D"
      }
    },
    {
      "cell_type": "code",
      "source": [
        "length = 5\n",
        "width = 3\n",
        "area = length*width  # Fill here\n",
        "print(area)  #The answer should be 15"
      ],
      "metadata": {
        "id": "jO_3cFfN20Kk",
        "colab": {
          "base_uri": "https://localhost:8080/"
        },
        "outputId": "b9608fd7-7d32-474e-9757-f0fc1b031bf9"
      },
      "execution_count": 6,
      "outputs": [
        {
          "output_type": "stream",
          "name": "stdout",
          "text": [
            "15\n"
          ]
        }
      ]
    },
    {
      "cell_type": "markdown",
      "source": [
        "**Q12**: Complete the code to ask the user for their age and print it:"
      ],
      "metadata": {
        "id": "3IKtjFKd22yp"
      }
    },
    {
      "cell_type": "code",
      "source": [
        "age = input(\"Enter your age\")  # Fill here\n",
        "print(age)"
      ],
      "metadata": {
        "id": "3wQqseqj22Z4"
      },
      "execution_count": null,
      "outputs": []
    },
    {
      "cell_type": "markdown",
      "source": [
        "**Q13**: Fill in the blank to print the result of 7 raised to the power of 3 or $7^3$:"
      ],
      "metadata": {
        "id": "tfqNf3ab3Bkc"
      }
    },
    {
      "cell_type": "code",
      "source": [
        "result = 7**3  # Fill here\n",
        "print(result)  # should print out 343"
      ],
      "metadata": {
        "id": "-GktqhRm3BFo"
      },
      "execution_count": null,
      "outputs": []
    },
    {
      "cell_type": "markdown",
      "source": [
        "**Q14**: Complete the code to print the remainder when 17 is divided by 5 (หาเศษของการหาร 17 ด้วย 5):"
      ],
      "metadata": {
        "id": "rNHM70TL3wJq"
      }
    },
    {
      "cell_type": "code",
      "source": [
        "result = 17%5  # Fill here\n",
        "print(result) # should print out 2"
      ],
      "metadata": {
        "id": "pjvnjf9l39F5"
      },
      "execution_count": null,
      "outputs": []
    },
    {
      "cell_type": "markdown",
      "source": [
        "**Q15**: Fill in the blank with mathematic operators so that the output is\n",
        "```\n",
        "8\n",
        "5\n",
        "```"
      ],
      "metadata": {
        "id": "P6XkymPk4B4K"
      }
    },
    {
      "cell_type": "code",
      "source": [
        "x = 85\n",
        "y = x // 10\n",
        "z = x % 10\n",
        "print(y)\n",
        "print(z)"
      ],
      "metadata": {
        "id": "NZJUlXMU4Bfj",
        "colab": {
          "base_uri": "https://localhost:8080/"
        },
        "outputId": "bc960577-4afd-440a-9fb2-e7ffa4133579"
      },
      "execution_count": 9,
      "outputs": [
        {
          "output_type": "stream",
          "name": "stdout",
          "text": [
            "8\n",
            "5\n"
          ]
        }
      ]
    },
    {
      "cell_type": "markdown",
      "source": [
        "**Q16**: Complete the code to print the average of three numbers:"
      ],
      "metadata": {
        "id": "5alQ2g5I4chF"
      }
    },
    {
      "cell_type": "code",
      "source": [
        "a = 10\n",
        "b = 15\n",
        "c = 20\n",
        "average = (a+b+c)/3  # Fill here.\n",
        "print(\"The average is\", average)"
      ],
      "metadata": {
        "id": "1OSsnMpi4itF",
        "colab": {
          "base_uri": "https://localhost:8080/"
        },
        "outputId": "cd5d7ba4-f8a1-40f8-c565-d03ce2346fd7"
      },
      "execution_count": 10,
      "outputs": [
        {
          "output_type": "stream",
          "name": "stdout",
          "text": [
            "The average is 15.0\n"
          ]
        }
      ]
    },
    {
      "cell_type": "markdown",
      "source": [
        "**Q17**: Implement a program to first ask two numbers from the user and then print out the sum of the two number.\n",
        "\n",
        "จงเขียนโปรแกรม ที่ถามผู้ใช้งานให้ป้อนข้อมูลตัวเลขสองตัว แล้วแสดงผลรวมของตัวเลขทั้งสองตัวดังตัวอย่างด้านล่าง\n",
        "\n",
        "For example\n",
        "```\n",
        ">Enter the first number: 3\n",
        ">Enter the second number: 5\n",
        "The sum of 3 and 5 is 8\n",
        "```\n",
        "Note: `>` indicates the input line\n"
      ],
      "metadata": {
        "id": "f0DrYsuY4oos"
      }
    },
    {
      "cell_type": "code",
      "source": [
        "first = int(input('Enter the first number: '))\n",
        "second = int(input('Enter the second number: '))\n",
        "total = first + second\n",
        "print('The sum of', first, 'and', second, 'is', total)"
      ],
      "metadata": {
        "id": "lm1QqSN04oJz"
      },
      "execution_count": null,
      "outputs": []
    },
    {
      "cell_type": "markdown",
      "source": [
        "**Q18**: Temperature Convertor\n",
        "\n",
        "Write a program that takes in a temperature in Fahrenheit (F) from the user and convert it into Celsius (C) and print it out.\n",
        "\n",
        "จงเขียนโปรแกรมที่รับข้อมูลอุณหภูมิในหน่วย Fahrenheit (F) จากผู้ใช้งานและ เปลี่ยนเป็น หน่วย Celsius (C) และแสดงผลออกมา\n",
        "\n",
        "The formula to convert F to C is C = $(F-32) \\times 5/9$.\n",
        "\n",
        "Example 1:\n",
        "```\n",
        ">Enter Fahrenheit: 32\n",
        "0.0\n",
        "```\n",
        "\n",
        "Example 2:\n",
        "```\n",
        ">Enter Fahrenheit: 100\n",
        "37.77777777777778\n",
        "```"
      ],
      "metadata": {
        "id": "z9Qc7uPH53dp"
      }
    },
    {
      "cell_type": "code",
      "source": [
        "# 1) Ask the user for the temperature in Fahrenheit\n",
        "fah = float(input('Enter Fahrenheit: '))\n",
        "\n",
        "# 2) Calculate the temperature in Celsius using the formula above and save the value in a variable\n",
        "cel = (fah - 32)*5/9\n",
        "\n",
        "# 3) Print the value out\n",
        "print(cel)\n"
      ],
      "metadata": {
        "id": "Je3n_ayG53ES",
        "colab": {
          "base_uri": "https://localhost:8080/"
        },
        "outputId": "18bd33a6-7c5d-4b22-d134-165d0a0b916d"
      },
      "execution_count": 11,
      "outputs": [
        {
          "output_type": "stream",
          "name": "stdout",
          "text": [
            "Enter Fahrenheit: 100\n",
            "37.77777777777778\n"
          ]
        }
      ]
    },
    {
      "cell_type": "markdown",
      "source": [
        "**Q19**: Student Average GPA\n",
        "\n",
        "Write a program that takes in **three real numbers** for Math GPA, Science GPA, and English GPA, and then calculate the average GPA.\n",
        "\n",
        "จงเขียนโปรแกรมที่รับ ตัวเลขจำนวนจริงสามตัวสำหรับ GPA วิชาเลข วิทยาศาสตร์ และอังกฤษ หลังจากนั้นคำนวณค่าเฉลี่ย GPA และแสดงผลออกมาตามตัวอย่าง\n",
        "\n",
        "Example 1:\n",
        "```\n",
        ">Math GPA: 3\n",
        ">Science GPA: 3.5\n",
        ">English GPA: 3.75\n",
        "Average GPA is 3.4166666666666665\n",
        "```\n",
        "\n",
        "Example 2:\n",
        "```\n",
        ">Math GPA: 4\n",
        ">Science GPA: 2\n",
        ">Englishg GPA: 2.5\n",
        "Average GPA is 2.8333333333333335\n",
        "```"
      ],
      "metadata": {
        "id": "dOgLAaDRCKI1"
      }
    },
    {
      "cell_type": "code",
      "source": [
        "math = float(input('Math GPA: '))\n",
        "sci = float(input('Math GPA: '))\n",
        "eng = float(input('Math GPA: '))\n",
        "avg_gpa = (math + sci+ eng)/3\n",
        "print('Average GPA is', avg_gpa)"
      ],
      "metadata": {
        "id": "PWbCqF7wDGet",
        "colab": {
          "base_uri": "https://localhost:8080/"
        },
        "outputId": "46553d95-d67d-4394-c884-c87f30cd4ae6"
      },
      "execution_count": 12,
      "outputs": [
        {
          "output_type": "stream",
          "name": "stdout",
          "text": [
            "Math GPA: 4\n",
            "Math GPA: 2\n",
            "Math GPA: 2.5\n",
            "Average GPA is 2.8333333333333335\n"
          ]
        }
      ]
    },
    {
      "cell_type": "markdown",
      "source": [
        "**Q20**: Quardratic Equation\n",
        "\n",
        "Write a program that takes in **four real numbers**, $A, B, C, x$, to calculate the quardratic equation as follows: $y = Ax^2 + Bx +C$.\n",
        "\n",
        "จงเขียนโปรแกรมที่รับตัวเลขจำนวนจริงสี่ตัว $A, B, C, x$ และคำนวณค่าตามสมการ Quardratic ดังนี้ $y = Ax^2 + Bx +C$. หลังจากนั้นให้แสดงผลค่า $y$ ออกมา ตามตัวอย่าง\n",
        "\n",
        "Example 1:\n",
        "```\n",
        ">Enter A: 2\n",
        ">Enter B: 2\n",
        ">Enter C: 3\n",
        ">Enter x: 1\n",
        "y = 7\n",
        "```\n",
        "\n",
        "Example 2:\n",
        "```\n",
        ">Enter A: 1.5\n",
        ">Enter B: 2.4\n",
        ">Enter C: 0\n",
        ">Enter x: 2.5\n",
        "y = 15.375\n",
        "```"
      ],
      "metadata": {
        "id": "tQ45hJ2i5HeR"
      }
    },
    {
      "cell_type": "code",
      "source": [
        "A = float(input('Enter A: '))\n",
        "B = float(input('Enter B: '))\n",
        "C = float(input('Enter C: '))\n",
        "x = float(input('Enter x: '))\n",
        "y = A*x**2 + B*x + C\n",
        "print('y =', y)"
      ],
      "metadata": {
        "id": "KPOmnOARCNoZ",
        "colab": {
          "base_uri": "https://localhost:8080/"
        },
        "outputId": "ff9a2e77-c2f3-4abc-ab9c-b4598434eb5e"
      },
      "execution_count": 13,
      "outputs": [
        {
          "output_type": "stream",
          "name": "stdout",
          "text": [
            "Enter A: 2\n",
            "Enter B: 2\n",
            "Enter C: 3\n",
            "Enter x: 1\n",
            "y = 7.0\n"
          ]
        }
      ]
    },
    {
      "cell_type": "markdown",
      "source": [
        "## Submission\n",
        "- File -> Download -> Download .ipynb\n",
        "- Upload to MS Teams"
      ],
      "metadata": {
        "id": "CO5u2oRvj8mj"
      }
    }
  ]
}