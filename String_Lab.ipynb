{
  "nbformat": 4,
  "nbformat_minor": 0,
  "metadata": {
    "colab": {
      "provenance": [],
      "authorship_tag": "ABX9TyMmf1VnjhpaLnst2E1DPJxk",
      "include_colab_link": true
    },
    "kernelspec": {
      "name": "python3",
      "display_name": "Python 3"
    },
    "language_info": {
      "name": "python"
    }
  },
  "cells": [
    {
      "cell_type": "markdown",
      "metadata": {
        "id": "view-in-github",
        "colab_type": "text"
      },
      "source": [
        "<a href=\"https://colab.research.google.com/github/yongsa-nut/TU_CN101_67-2/blob/main/String_Lab.ipynb\" target=\"_parent\"><img src=\"https://colab.research.google.com/assets/colab-badge.svg\" alt=\"Open In Colab\"/></a>"
      ]
    },
    {
      "cell_type": "markdown",
      "source": [
        "# String Lab"
      ],
      "metadata": {
        "id": "3yxRmThrRbwA"
      }
    },
    {
      "cell_type": "markdown",
      "source": [
        "**Q1**: What will the following code print out?\n",
        "\n",
        "```python\n",
        "my_str = \"Hello There, How are you?\"\n",
        "print(my_str[0], my_str[5], my_str[10], my_str[-1])\n",
        "```"
      ],
      "metadata": {
        "id": "JkNnmI3GT3Ak"
      }
    },
    {
      "cell_type": "code",
      "source": [],
      "metadata": {
        "id": "AKwderP6T3Rm"
      },
      "execution_count": null,
      "outputs": []
    },
    {
      "cell_type": "markdown",
      "source": [
        "**Q2**: What will the following code print out?\n",
        "\n",
        "```python\n",
        "str1 = \"Hello Where is this?\"\n",
        "print(str1[3:7])\n",
        "print(str1[:4])\n",
        "print(str1[len(str1)-4:])\n",
        "```"
      ],
      "metadata": {
        "id": "QzaTR4_eUKMD"
      }
    },
    {
      "cell_type": "code",
      "source": [],
      "metadata": {
        "id": "vE0S1oKkUTQB"
      },
      "execution_count": null,
      "outputs": []
    },
    {
      "cell_type": "markdown",
      "source": [
        "**Q3**: What will the following code print out?\n",
        "\n",
        "```python\n",
        "seq = [5, 7, 9, 11, 6, 8, 10]\n",
        "print(seq[1:3], seq[-1:-3:-1])\n",
        "print(seq[4:])\n",
        "print(seq[::-1])\n",
        "```"
      ],
      "metadata": {
        "id": "fyr8lhouWrpQ"
      }
    },
    {
      "cell_type": "code",
      "source": [],
      "metadata": {
        "id": "6mH3wYzVXBwV"
      },
      "execution_count": null,
      "outputs": []
    },
    {
      "cell_type": "markdown",
      "source": [
        "**Q4**: What will the following program print out?\n",
        "\n",
        "```python\n",
        "her_string = 'How are you today?'\n",
        "his_string = 'I am doing well.'\n",
        "result = ('h' in her_string) or ('m' in his_string)\n",
        "print(result)\n",
        "```"
      ],
      "metadata": {
        "id": "W6wanon3Txg5"
      }
    },
    {
      "cell_type": "code",
      "source": [],
      "metadata": {
        "id": "8xeqsS2OTyuF"
      },
      "execution_count": null,
      "outputs": []
    },
    {
      "cell_type": "markdown",
      "source": [
        "**Q5**: What will the following program print out?\n",
        "```python\n",
        "text = \"abc\" + \"ABC\"\n",
        "text += \"xxx\"\n",
        "print(\"xxx\"+text)\n",
        "```"
      ],
      "metadata": {
        "id": "WnT7BvosTn1A"
      }
    },
    {
      "cell_type": "code",
      "source": [],
      "metadata": {
        "id": "tVdt-qPxToC1"
      },
      "execution_count": null,
      "outputs": []
    },
    {
      "cell_type": "markdown",
      "source": [
        "**Q6**: What will the following program print out?\n",
        "\n",
        "```python\n",
        "ref = \"This\"\n",
        "outcome = (ref*2).lower() + \" \" + (\"SvD\"*3).upper()\n",
        "print(outcome)\n",
        "```"
      ],
      "metadata": {
        "id": "_ZbBw766UVrp"
      }
    },
    {
      "cell_type": "code",
      "source": [],
      "metadata": {
        "id": "JeJHMaRGUWuP"
      },
      "execution_count": null,
      "outputs": []
    },
    {
      "cell_type": "markdown",
      "source": [
        "**Q7**: What will the following program print out?\n",
        "\n",
        "```python\n",
        "chars = 'AAaaABbbCcCddd'\n",
        "total = 0\n",
        "for char in chars:\n",
        "  if char == 'A':\n",
        "    total += 1\n",
        "  if char == 'B':\n",
        "    total += 2\n",
        "  if char == 'C':\n",
        "    total += 3\n",
        "print(total)\n",
        "```"
      ],
      "metadata": {
        "id": "XxNVlKKfTmh3"
      }
    },
    {
      "cell_type": "code",
      "source": [],
      "metadata": {
        "id": "KyKUaSFFTnCo"
      },
      "execution_count": null,
      "outputs": []
    },
    {
      "cell_type": "markdown",
      "source": [
        "**Q8**: What will the following program print out?\n",
        "\n",
        "```python\n",
        "s = '  abcde  '\n",
        "temp = s.strip()\n",
        "print(temp)\n",
        "temp = temp.lstrip('a')\n",
        "print(temp)\n",
        "temp = temp.rstrip('e')\n",
        "print(temp)\n",
        "print(s.strip().lstrip('a').rstrip('e'))\n",
        "```"
      ],
      "metadata": {
        "id": "skSi3uroUqK3"
      }
    },
    {
      "cell_type": "code",
      "source": [],
      "metadata": {
        "id": "VBkopnenUrhM"
      },
      "execution_count": null,
      "outputs": []
    },
    {
      "cell_type": "markdown",
      "source": [
        "**Q9**: What will the following program print out?\n",
        "\n",
        "```python\n",
        "numbers = \"One Two Three Four Five Six\"\n",
        "one_index = numbers.find(\"One\")\n",
        "five_index = numbers.find(\"Five\")\n",
        "nine_index = numbers.find(\"Nine\")\n",
        "\n",
        "print(one_index)\n",
        "print(five_index)\n",
        "print(nine_index)\n",
        "```"
      ],
      "metadata": {
        "id": "yT6cRReEUfs4"
      }
    },
    {
      "cell_type": "code",
      "source": [],
      "metadata": {
        "id": "9H0N_q3pUhV0"
      },
      "execution_count": null,
      "outputs": []
    },
    {
      "cell_type": "markdown",
      "source": [
        "**Q10**: What will the following program print out?\n",
        "\n",
        "```python\n",
        "my_str = \"One Two One Two one two one two\"\n",
        "your_str = my_str.replace(\"One\",\"1\")\n",
        "his_str = your_str.replace('e',\"E\")\n",
        "print(your_str)\n",
        "print(his_str)\n",
        "```"
      ],
      "metadata": {
        "id": "vq0DNDfEX0RQ"
      }
    },
    {
      "cell_type": "code",
      "source": [],
      "metadata": {
        "id": "dfMNDJGhYFHg"
      },
      "execution_count": null,
      "outputs": []
    },
    {
      "cell_type": "markdown",
      "source": [
        "**Q11**: What will the following program print out?\n",
        "\n",
        "```python\n",
        "str1 = \"10//20//30//40\"\n",
        "temp = str1.split(\"//\")\n",
        "print(temp)\n",
        "x = int(temp[0])\n",
        "y = int(temp[3])\n",
        "print(x+y)\n",
        "print(temp[0]+temp[3])\n",
        "```"
      ],
      "metadata": {
        "id": "fC9W1pJ-Ymw1"
      }
    },
    {
      "cell_type": "code",
      "source": [],
      "metadata": {
        "id": "WFxT7-z_Yq-h"
      },
      "execution_count": null,
      "outputs": []
    },
    {
      "cell_type": "markdown",
      "source": [
        "**Q12**: What will the following program print out?\n",
        "\n",
        "```python\n",
        "target1 = \"12345\"\n",
        "target2 = \"abc44\"\n",
        "target3 = \"ABcc\"\n",
        "\n",
        "print(target1.isdigit())\n",
        "print(target2.isdigit())\n",
        "print(target3[:2].isupper())\n",
        "print(target2[3:].isdigit())\n",
        "```"
      ],
      "metadata": {
        "id": "pLc80I5IYrMq"
      }
    },
    {
      "cell_type": "code",
      "source": [],
      "metadata": {
        "id": "NUKMxc3MYucF"
      },
      "execution_count": null,
      "outputs": []
    },
    {
      "cell_type": "markdown",
      "source": [
        "**Q13**: What will the following program print out?\n",
        "\n",
        "```python\n",
        "temp = '1 2 3 4 5'\n",
        "temp = temp.split(' ')\n",
        "x = 0\n",
        "y = ''\n",
        "for num in temp:\n",
        "  x += int(num)\n",
        "  y += num\n",
        "print(x, y)\n",
        "```"
      ],
      "metadata": {
        "id": "4gIafvZ7VIJB"
      }
    },
    {
      "cell_type": "code",
      "source": [],
      "metadata": {
        "id": "Jybg1-0hWsGf"
      },
      "execution_count": null,
      "outputs": []
    },
    {
      "cell_type": "markdown",
      "source": [
        "**Q14**: Fill in the blank so that the program print out $\\texttt{Wrd}$"
      ],
      "metadata": {
        "id": "NX6pVSntTriw"
      }
    },
    {
      "cell_type": "code",
      "source": [
        "my_string = \"Hello\"\n",
        "your_string = my_string + \" World\" + my_string\n",
        "print(your_string[___])"
      ],
      "metadata": {
        "id": "65aKjvm0TsBH"
      },
      "execution_count": null,
      "outputs": []
    },
    {
      "cell_type": "markdown",
      "source": [
        "**Q15**: Fill in the blank so that the program print out `Hello Alice, How are you? Today is Sunday.`"
      ],
      "metadata": {
        "id": "kcop0XxfSgG1"
      }
    },
    {
      "cell_type": "code",
      "source": [
        "def print_thing(name, day):\n",
        "  msg = f\"Hello {____},\"\n",
        "  msg += f\" How are you? \"\n",
        "  msg += f\"_____________\"\n",
        "  print(msg)\n",
        "\n",
        "print_thing(\"Alice\", \"Sunday\")"
      ],
      "metadata": {
        "id": "d27uKcUtSwwP"
      },
      "execution_count": null,
      "outputs": []
    },
    {
      "cell_type": "markdown",
      "source": [
        "**Q16**: Find the sum from a given string\n",
        "\n",
        "Write a function `sum_from_string(string)` which takes in a string `string`. This string will be numbers separated by space, e.g., `10 30 50 10 31`. The function returns the sum of all numbers.\n",
        "\n",
        "Example 1:\n",
        "```\n",
        "Enter numbers: 1 2 3 4\n",
        "Total = 10\n",
        "```\n",
        "\n",
        "Example 2:\n",
        "```\n",
        "Enter numbers: 10 30 50 10 31\n",
        "Total = 131\n",
        "```"
      ],
      "metadata": {
        "id": "mNgLqBJJaRxJ"
      }
    },
    {
      "cell_type": "code",
      "source": [
        "def sum_from_string(string):\n",
        "  # Fill in your code here\n",
        "\n",
        "  return ...\n",
        "\n",
        "def main():\n",
        "  numbers = input('Enter numbers: ')\n",
        "  total = sum_from_string(numbers)\n",
        "  print(f'Total = {total}')\n",
        "\n",
        "main()"
      ],
      "metadata": {
        "id": "z18_z7swaSEE"
      },
      "execution_count": null,
      "outputs": []
    },
    {
      "cell_type": "markdown",
      "source": [
        "**Q17**: Defanging an IP Address\n",
        "\n",
        "Write a function `defang(ip)` which takes in an IP address and return a defanged version.\n",
        "\n",
        "A defanged IP is an ip which every \".\" is replaced by \"[.]\".\n",
        "\n",
        "Extra: Try to solve this problem with at least two ways.\n",
        "\n",
        "Example 1:\n",
        "```\n",
        "Enter IP address: 1.1.1.1\n",
        "1[.]1[.]1[.]1\n",
        "```\n",
        "\n",
        "Example 2:\n",
        "```\n",
        "Enter IP address: 255.100.50.0\n",
        "255[.]100[.]50[.]0\n",
        "```"
      ],
      "metadata": {
        "id": "7-cqRpFkaMtH"
      }
    },
    {
      "cell_type": "code",
      "source": [
        "def defang(ip):\n",
        "  # fill in your code here\n",
        "\n",
        "  return ...\n",
        "\n",
        "def main():\n",
        "  ip = input('Enter IP address: ')\n",
        "  print(defang(ip))\n",
        "\n",
        "main()"
      ],
      "metadata": {
        "id": "RSJziXGPaNT7"
      },
      "execution_count": null,
      "outputs": []
    },
    {
      "cell_type": "markdown",
      "source": [
        "**Q18**: Check first and last\n",
        "\n",
        "Write a function `check_first_last(string, target)` which takes in two strings: `string` and `target` and return two values: whether `string` starts with `target` and whether `string` ends with `target`.\n",
        "\n",
        "**Requirement**\n",
        "- Use slicing to solve this problem. Think about how would you slice the start and the end of `string` to have the same lenght as `target`.\n",
        "- `main()` is provided\n",
        "\n",
        "Example 1\n",
        "```\n",
        "Enter string: Hello\n",
        "Enter target: He\n",
        "Start = True, End = False\n",
        "```\n",
        "\n",
        "Example 2\n",
        "```\n",
        "Enter string: ABCDDDABC\n",
        "Enter target: ABC\n",
        "Start = True, End = True\n",
        "```\n"
      ],
      "metadata": {
        "id": "G030yMNFaymi"
      }
    },
    {
      "cell_type": "code",
      "source": [
        "# Implement check_first_last(string, target) below\n",
        "\n",
        "\n",
        "\n",
        "def main():\n",
        "  string = input('Enter string: ')\n",
        "  target = input('Enter target: ')\n",
        "  first, last = check_first_last(string, target)\n",
        "  print(f'First = {first}, Last = {last}')\n",
        "\n",
        "main()"
      ],
      "metadata": {
        "id": "vO3Zd8BIa2ZV"
      },
      "execution_count": null,
      "outputs": []
    },
    {
      "cell_type": "markdown",
      "source": [
        "**Q19**: Jewels and Stones\n",
        "\n",
        "Write a function `count_jewels(jewels,stones)` which takes in two strings: `jewels` and `stones` and count how many `stones` are `jewels`. `jewels` is a string of characters indicating which characters are a jewel. `stones` is a string of characters.\n",
        "\n",
        "Characters are case sensitive so \"a\" and \"A\" are not the same.\n",
        "\n",
        "Example 1:\n",
        "```\n",
        "Enter jewels: aA\n",
        "Enter stones aAAbbbb\n",
        "3\n",
        "```\n",
        "Explanation: There are two jewels, 'a' and 'A'. There is 1 'a' and 2 'A' in the stones so the total is 3.\n",
        "\n",
        "Example 2:\n",
        "```\n",
        "Enter jewels: z\n",
        "Enter stones: ZZ\n",
        "0\n",
        "```\n",
        "\n",
        "Example 3:\n",
        "```\n",
        "Enter jewels: kKp\n",
        "Enter stones: aaBkBcKcKcDDgkggkgpp\n",
        "7\n",
        "```"
      ],
      "metadata": {
        "id": "RnxOEhuPaNv5"
      }
    },
    {
      "cell_type": "code",
      "source": [
        "# implement count_jewels(jewels, stones) here\n",
        "\n",
        "\n",
        "def main():\n",
        "  jewels = input('Enter jewels: ')\n",
        "  stones = input('Enter stones: ')\n",
        "  print(count_jewels(jewels, stones))\n",
        "\n",
        "main()"
      ],
      "metadata": {
        "id": "XFgmdfjeaPOH"
      },
      "execution_count": null,
      "outputs": []
    }
  ]
}