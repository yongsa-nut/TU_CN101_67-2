{
  "nbformat": 4,
  "nbformat_minor": 0,
  "metadata": {
    "colab": {
      "provenance": [],
      "include_colab_link": true
    },
    "kernelspec": {
      "name": "python3",
      "display_name": "Python 3"
    },
    "language_info": {
      "name": "python"
    }
  },
  "cells": [
    {
      "cell_type": "markdown",
      "metadata": {
        "id": "view-in-github",
        "colab_type": "text"
      },
      "source": [
        "<a href=\"https://colab.research.google.com/github/yongsa-nut/TU_CN101_67-2/blob/main/%5BSOL_LAB_6%5D_List_Lab.ipynb\" target=\"_parent\"><img src=\"https://colab.research.google.com/assets/colab-badge.svg\" alt=\"Open In Colab\"/></a>"
      ]
    },
    {
      "cell_type": "markdown",
      "source": [
        "# List 2 Lab (solutions)"
      ],
      "metadata": {
        "id": "DL1evIxg5c9i"
      }
    },
    {
      "cell_type": "markdown",
      "source": [
        "Turn off AI: Tools -> Settings -> Hide generative AI features\n",
        "\n"
      ],
      "metadata": {
        "id": "zcXaKN8Y5ep6"
      }
    },
    {
      "cell_type": "markdown",
      "source": [
        "**Q1**:  What will this program print out?\n",
        "\n",
        "```python\n",
        "temp = [5,5,4,4,4,3,3]\n",
        "temp[0] = 1\n",
        "temp[1] = len(temp)\n",
        "temp[len(temp)-1] = temp[0]*2\n",
        "print(temp)\n",
        "```"
      ],
      "metadata": {
        "id": "G795h03nbvvN"
      }
    },
    {
      "cell_type": "code",
      "source": [
        "#Explanation\n",
        "temp = [5,5,4,4,4,3,3]\n",
        "temp[0] = 1\n",
        "# here temp is [1,5,4,4,4,3,3]\n",
        "temp[1] = len(temp)\n",
        "# here temp is [1,7,4,4,4,3,3] because len(temp) is 7\n",
        "temp[len(temp)-1] = temp[0]*2\n",
        "# here temp is [1,7,4,4,4,3,3]\n",
        "#    because temp[0] is 1 and 1*2 is 2\n",
        "#    then len(temp)-1 --> 7-1 --> 6  so we set temp[6] to 2\n",
        "print(temp) #[1,7,4,4,4,3,2]"
      ],
      "metadata": {
        "colab": {
          "base_uri": "https://localhost:8080/"
        },
        "id": "_3UPmPh9vm7c",
        "outputId": "eb3a34ee-99b5-484a-fa7e-7b342aaecec7"
      },
      "execution_count": null,
      "outputs": [
        {
          "output_type": "stream",
          "name": "stdout",
          "text": [
            "[1, 7, 4, 4, 4, 3, 2]\n"
          ]
        }
      ]
    },
    {
      "cell_type": "markdown",
      "source": [
        "**Q2**: What will this program print out?\n",
        "```python\n",
        "seq1 = [1,2,3]\n",
        "seq2 = [4,4,4]\n",
        "seq3 = seq1 + seq2\n",
        "seq3[4] = 5\n",
        "print(seq3)\n",
        "```"
      ],
      "metadata": {
        "id": "DnuUaTFdcKyq"
      }
    },
    {
      "cell_type": "code",
      "source": [
        "#Explanation\n",
        "seq1 = [1,2,3]\n",
        "seq2 = [4,4,4]\n",
        "seq3 = seq1 + seq2 # list + list operation == combined them together so --> seq3 = [1, 2, 3, 4, 4, 4]\n",
        "seq3[4] = 5 # seq3[4] now changed to 5\n",
        "print(seq3) # [1, 2, 3, 4, 5, 4]"
      ],
      "metadata": {
        "colab": {
          "base_uri": "https://localhost:8080/"
        },
        "id": "_A9-2pUS_OGX",
        "outputId": "f8402059-abce-4657-e65e-189ab6ece1fb"
      },
      "execution_count": null,
      "outputs": [
        {
          "output_type": "stream",
          "name": "stdout",
          "text": [
            "[1, 2, 3, 4, 5, 4]\n"
          ]
        }
      ]
    },
    {
      "cell_type": "code",
      "source": [
        "[1, 2, 3, 4, 5, 4]"
      ],
      "metadata": {
        "id": "Fq3QbxAPcKfS"
      },
      "execution_count": null,
      "outputs": []
    },
    {
      "cell_type": "markdown",
      "source": [
        "**Q3** What will this program print out?\n",
        "```python\n",
        "seq1 = [0]*5\n",
        "seq2 = [1,2,3]*3\n",
        "print(seq1 + seq2)\n",
        "```"
      ],
      "metadata": {
        "id": "-KlaL5R0cdx6"
      }
    },
    {
      "cell_type": "code",
      "source": [
        "#Explanation\n",
        "seq1 = [0]*5 #repeated [0] for 5 times so --> seq1 = [0, 0, 0, 0, 0]\n",
        "seq2 = [1,2,3]*3 #repeated [1, 2, 3] for 3 times so --> seq2 = [1, 2, 3, 1, 2, 3, 1, 2, 3]\n",
        "print(seq1 + seq2) # combine them together"
      ],
      "metadata": {
        "id": "9zB4xZ1qchml",
        "colab": {
          "base_uri": "https://localhost:8080/"
        },
        "outputId": "c6dcb953-9dbf-4f46-a184-7d54cb6a8d4f"
      },
      "execution_count": null,
      "outputs": [
        {
          "output_type": "stream",
          "name": "stdout",
          "text": [
            "[0, 0, 0, 0, 0, 1, 2, 3, 1, 2, 3, 1, 2, 3]\n"
          ]
        }
      ]
    },
    {
      "cell_type": "markdown",
      "source": [
        "**Q4**: What will this program print out?\n",
        "\n",
        "```python\n",
        "target = 'E'\n",
        "if target in ['A','B','C']:\n",
        "  print([target]*1)\n",
        "elif target in ['A','D','FE']:\n",
        "  print([target]*2)\n",
        "elif target in ['A','E','I','O','U']:\n",
        "  print([target]*3)\n",
        "else:\n",
        "  print([target]*4)\n",
        "```"
      ],
      "metadata": {
        "id": "FYK3Zja6cpCI"
      }
    },
    {
      "cell_type": "code",
      "source": [
        "target = 'E'\n",
        "if target in ['A','B','C']: #False: 'E' is not there\n",
        "  print([target]*1)\n",
        "elif target in ['A','D','FE']: #False: 'E' is not there\n",
        "  print([target]*2)\n",
        "elif target in ['A','E','I','O','U']: #TRUE: There is 'E' in the list\n",
        "  print([target]*3) #This line is executed\n",
        "else:\n",
        "  print([target]*4)"
      ],
      "metadata": {
        "id": "FiUr6JDIcpvW",
        "colab": {
          "base_uri": "https://localhost:8080/"
        },
        "outputId": "a008f3a7-4e99-4d8f-9c56-c5c1e0f87662"
      },
      "execution_count": null,
      "outputs": [
        {
          "output_type": "stream",
          "name": "stdout",
          "text": [
            "['E', 'E', 'E']\n"
          ]
        }
      ]
    },
    {
      "cell_type": "markdown",
      "source": [
        "**Q5**: What will this program print out if the user enters `122`?\n",
        "\n",
        "```python\n",
        "references = [12,234,671,32,122,99]\n",
        "query = int(input('Enter your query'))\n",
        "if query in references:\n",
        "  print('Yes')\n",
        "else:\n",
        "  print('No')\n",
        "```"
      ],
      "metadata": {
        "id": "7vokzkwbcurZ"
      }
    },
    {
      "cell_type": "code",
      "source": [
        "references = [12,234,671,32,122,99]\n",
        "query = int(input('Enter your query')) # query=122\n",
        "if query in references: # TRUE: because 122 is in [12,234,671,32,122,99]\n",
        "  print('Yes')\n",
        "else:\n",
        "  print('No')"
      ],
      "metadata": {
        "id": "z2un3zk5cu7T",
        "colab": {
          "base_uri": "https://localhost:8080/"
        },
        "outputId": "ef7ce1b2-011c-4039-93b8-f46cbf1b7289"
      },
      "execution_count": null,
      "outputs": [
        {
          "output_type": "stream",
          "name": "stdout",
          "text": [
            "Enter your query122\n",
            "Yes\n"
          ]
        }
      ]
    },
    {
      "cell_type": "markdown",
      "source": [
        "**Q6**: What will this program print out?\n",
        "\n",
        "```python\n",
        "temp = [30,20,18,90,77,44]\n",
        "new_list = []\n",
        "for num in temp:\n",
        "  if num > 20:\n",
        "    new_list.append(num)\n",
        "print(new_list)\n",
        "```"
      ],
      "metadata": {
        "id": "2llhtNH7eevM"
      }
    },
    {
      "cell_type": "code",
      "source": [
        "temp = [30,20,18,90,77,44]\n",
        "new_list = []\n",
        "for num in temp: # for each item in list\n",
        "  if num > 20: # True when num are 30, 90, 77, 44\n",
        "    new_list.append(num) #When TRUE --> add the num to new_list\n",
        "print(new_list) # [30, 90, 77, 44]"
      ],
      "metadata": {
        "id": "Qf47vpdGefHz",
        "colab": {
          "base_uri": "https://localhost:8080/"
        },
        "outputId": "b86a2a94-0efb-4880-e003-53cb5dd2a256"
      },
      "execution_count": null,
      "outputs": [
        {
          "output_type": "stream",
          "name": "stdout",
          "text": [
            "[30, 90, 77, 44]\n"
          ]
        }
      ]
    },
    {
      "cell_type": "markdown",
      "source": [
        "**Q7**: What will this program print out?\n",
        "```python\n",
        "initial = [1,1]\n",
        "for i in range(1,5):\n",
        "  initial.append(initial[i-1] + initial[i])\n",
        "print(initial)\n",
        "```"
      ],
      "metadata": {
        "id": "HT8IvcdVfcS0"
      }
    },
    {
      "cell_type": "code",
      "source": [
        "# This program created a Fibonacci sequence\n",
        "initial = [1,1]\n",
        "for i in range(1,5): #i will be extracted from [1, 2, 3, 4]\n",
        "  initial.append(initial[i-1] + initial[i]) #This line add the number at the current index to the previous one.\n",
        "  # We do this four times\n",
        "  #   when i = 1 --> initial = [1, 1, 1+1] = [1, 1, 2]\n",
        "  #   when i = 2 --> initial = [1, 1, 2, 1+2] = [1, 1, 2, 3]\n",
        "  #   when i = 3 --> initial = [1, 1, 2, 3, 2+3] = [1, 1, 2, 3, 5]\n",
        "  #   when i = 4 --> initial = [1, 1, 2, 3, 5, 3+5] = [1, 1, 2, 3, 5, 8]\n",
        "print(initial) # [1, 1, 2, 3, 5, 8]"
      ],
      "metadata": {
        "id": "5HkCcuHvfcCk",
        "colab": {
          "base_uri": "https://localhost:8080/"
        },
        "outputId": "647f7b32-efd1-46ce-fae7-327adb5c3eee"
      },
      "execution_count": null,
      "outputs": [
        {
          "output_type": "stream",
          "name": "stdout",
          "text": [
            "[1, 1, 2, 3, 5, 8]\n"
          ]
        }
      ]
    },
    {
      "cell_type": "markdown",
      "source": [
        "**Q8**: What will this program print out?\n",
        "```python\n",
        "names = [['Alice','Bob'],['Anna','Mike'],['Mary','Richard']]\n",
        "print(names[0][1], names[2][0])\n",
        "```"
      ],
      "metadata": {
        "id": "3ytgblXrf5aI"
      }
    },
    {
      "cell_type": "code",
      "source": [
        "names = [['Alice','Bob'],['Anna','Mike'],['Mary','Richard']] #This is a list of list.\n",
        "\"\"\"\n",
        " It might help to imagine this as the following table\n",
        " names = [['Alice','Bob'],\n",
        "          ['Anna','Mike'],\n",
        "          ['Mary','Richard']]\n",
        " Then, names[i][j] is an item in row i, column j\n",
        " Therefore,\n",
        "      names[0] is ['Alice', 'Bob']\n",
        "      and names[0][1] is 'Bob'\n",
        "\"\"\"\n",
        "print(names[0][1], names[2][0]) #names[0][1] is 'Bob', names[2][0] is 'Mary'\n",
        "#print('Bob', 'Mary') is --> Bob Mary\n"
      ],
      "metadata": {
        "id": "227gS8gWgIJN",
        "colab": {
          "base_uri": "https://localhost:8080/"
        },
        "outputId": "0e90fd9f-22ff-4b81-ea5c-1f6541640229"
      },
      "execution_count": null,
      "outputs": [
        {
          "output_type": "stream",
          "name": "stdout",
          "text": [
            "Bob Mary\n"
          ]
        }
      ]
    },
    {
      "cell_type": "markdown",
      "source": [
        "**Q9:** What will the following code print out?\n",
        "\n",
        "```python\n",
        "numbers = [7, 8, 25, 20, 25]\n",
        "numbers.insert(3, 10)\n",
        "numbers.sort()\n",
        "numbers.remove(25)\n",
        "print(numbers)\n",
        "```"
      ],
      "metadata": {
        "id": "YCq7cN7ykaxR"
      }
    },
    {
      "cell_type": "code",
      "source": [
        "numbers = [7, 8, 25, 20, 25]\n",
        "numbers.insert(3, 10) #add 10 at index 3. So, now --> numbers = [7, 8, 25, 10, 20, 25]\n",
        "numbers.sort() #sorted in ascending order. So, now --> numbers = [7, 8, 10, 20, 25, 25]\n",
        "numbers.remove(25) # an 25 is removed. So, --> numbers = [7, 8, 10, 20, 25]\n",
        "print(numbers)"
      ],
      "metadata": {
        "id": "BxR14YR7kfnQ",
        "colab": {
          "base_uri": "https://localhost:8080/"
        },
        "outputId": "11cbf10f-9226-404f-f64b-6743ccce7d32"
      },
      "execution_count": null,
      "outputs": [
        {
          "output_type": "stream",
          "name": "stdout",
          "text": [
            "[7, 8, 10, 20, 25]\n"
          ]
        }
      ]
    },
    {
      "cell_type": "markdown",
      "source": [
        "**Q10**: What will the following code print out?\n",
        "\n",
        "```python\n",
        "items = [1, 2, 3, 4]\n",
        "list1 = [item+1 for item in items]\n",
        "list2 = [item**2 for item in items if item%2 ==0]\n",
        "print(list1)\n",
        "print(list2)\n",
        "```"
      ],
      "metadata": {
        "id": "brnBydr6kf8M"
      }
    },
    {
      "cell_type": "code",
      "source": [
        "# This code use list comprehension. Read more at https://www.w3schools.com/python/python_lists_comprehension.asp\n",
        "items = [1, 2, 3, 4]\n",
        "list1 = [item+1 for item in items] # created list1 with each item in items plus one. So, list1 = [2, 3, 4, 5]\n",
        "list2 = [item**2 for item in items if item%2 ==0] #created list2 with item**2 only when the item in items is even (that is, 2 and 4). So, list2 = [2**2, 4**2] = [4, 16]\n",
        "print(list1) #[2, 3, 4, 5]\n",
        "print(list2) #[4, 16]"
      ],
      "metadata": {
        "id": "qeGlaIuykixo",
        "colab": {
          "base_uri": "https://localhost:8080/"
        },
        "outputId": "bcac95ba-4019-4097-aa0e-25e896b8f546"
      },
      "execution_count": null,
      "outputs": [
        {
          "output_type": "stream",
          "name": "stdout",
          "text": [
            "[2, 3, 4, 5]\n",
            "[4, 16]\n"
          ]
        }
      ]
    },
    {
      "cell_type": "markdown",
      "source": [
        "**Q11** Fill in the blank so that the program prints out `[2,4,6,8]`"
      ],
      "metadata": {
        "id": "De3ZMDu_gHmk"
      }
    },
    {
      "cell_type": "code",
      "source": [
        "my_list = []\n",
        "for num in range(1,10):\n",
        "  if ______________________:\n",
        "    ______________________\n",
        "print(my_list)"
      ],
      "metadata": {
        "id": "kDEIAPYCggSU"
      },
      "execution_count": null,
      "outputs": []
    },
    {
      "cell_type": "code",
      "source": [
        "#To tackle this question, you may start with considering how the output we want([2, 4, 6, 8]) related to the range(1, 10)\n",
        "# We see that the my_list consists of all even numbers between 1 and 9\n",
        "my_list = []\n",
        "for num in range(1,10): # num will be [1, 2, 3, 4, 5, 6, 7, 8, 9]\n",
        "  if num % 2== 0: #This will be true when num == 2, 4, 6, 8\n",
        "    my_list.append(num) #add num to my_list\n",
        "print(my_list)"
      ],
      "metadata": {
        "colab": {
          "base_uri": "https://localhost:8080/"
        },
        "id": "jAcGGyV4B7-b",
        "outputId": "4a5bb5dc-c454-4eca-f9c0-ed6d91ec9c5c"
      },
      "execution_count": null,
      "outputs": [
        {
          "output_type": "stream",
          "name": "stdout",
          "text": [
            "[2, 4, 6, 8]\n"
          ]
        }
      ]
    },
    {
      "cell_type": "markdown",
      "source": [
        "**Q12** Fill in the blank so that the program prints out `[1, 4, 9, 16]`"
      ],
      "metadata": {
        "id": "Ib2M4AXWhD54"
      }
    },
    {
      "cell_type": "code",
      "source": [
        "numbers = [0, 1, 2, 3]\n",
        "print([___________ for ______ in numbers])"
      ],
      "metadata": {
        "id": "TM9CyJZ7hsdN"
      },
      "execution_count": null,
      "outputs": []
    },
    {
      "cell_type": "code",
      "source": [
        "# We see that what we wanted is a list of [1**2, 2**2, 3**2, 4**2]\n",
        "numbers = [0, 1, 2, 3] #which we see that this is the square of each item in numbers plus one\n",
        "print([(num +1)**2 for num in numbers])"
      ],
      "metadata": {
        "colab": {
          "base_uri": "https://localhost:8080/"
        },
        "id": "Qw1xPRKkB_I9",
        "outputId": "ab32abb4-d17f-4482-b009-9582e6030f2e"
      },
      "execution_count": null,
      "outputs": [
        {
          "output_type": "stream",
          "name": "stdout",
          "text": [
            "[1, 4, 9, 16]\n"
          ]
        }
      ]
    },
    {
      "cell_type": "markdown",
      "source": [
        "**Q13** Fill in the blank so that the program print out `[5, 10, 15]`"
      ],
      "metadata": {
        "id": "5rQXUaoAkydd"
      }
    },
    {
      "cell_type": "code",
      "source": [
        "sequences = [1, 5, 10, 3, 15, 4, 7, 9]\n",
        "new_list = [_____ for ______ in sequences __________________________]\n",
        "print(new_list)"
      ],
      "metadata": {
        "id": "mUBmMi13k1v9"
      },
      "execution_count": null,
      "outputs": []
    },
    {
      "cell_type": "code",
      "source": [
        "sequences = [1, 5, 10, 3, 15, 4, 7, 9]\n",
        "# We want a new list with [5, 10, 15], which, all of them are already in the sequences and they are multiple of 5\n",
        "new_list = [num for num in sequences if num % 5== 0] #num is added to new_list is num%5 == 0\n",
        "print(new_list)\n",
        "# If you're confused, read more about list comprehension at https://www.w3schools.com/python/python_lists_comprehension.asp"
      ],
      "metadata": {
        "colab": {
          "base_uri": "https://localhost:8080/"
        },
        "id": "JlCJMYv_CELc",
        "outputId": "1056732d-b11c-4a0b-b680-2548ec764cbf"
      },
      "execution_count": null,
      "outputs": [
        {
          "output_type": "stream",
          "name": "stdout",
          "text": [
            "[5, 10, 15]\n"
          ]
        }
      ]
    },
    {
      "cell_type": "markdown",
      "source": [
        "**Q14**: Create a list from the user\n",
        "\n",
        "Write a program to receive input from the user and create a list. The user will first type the value `n`, and then input `n` integer values.\n",
        "\n",
        "After that, find the average value of the list and then create another list where each element is the original value minus the average.\n",
        "\n",
        "---\n",
        "\n",
        "จงเขียนโปรแกรม เพื่อรับข้อมูลนำเข้าจาก user และมาสร้างเป็น list. User จะพิมพ์ค่า `n` ก่อนแล้วหลังจากนั้นจะพิมพ์ข้อมูล จำนวนเต็มอีก `n` ค่า\n",
        "\n",
        "หลังจากนั้น ให้หาค่า ค่าเฉลี่ยของ list และ สร้าง list อีก list ที่ลบค่าเฉลี่ยออกจากจำนวนทุกค่า\n",
        "\n",
        "**Extra**: Write two programs: 1) using `append`, 2) list comprehension\n",
        "\n",
        "Hint: You can use `sum()`\n",
        "\n",
        "Example 1:\n",
        "```\n",
        "Enter n: 3\n",
        "Enter number: 1\n",
        "Enter number: 1\n",
        "Enter number: 1\n",
        "The original list is [1, 1, 1]\n",
        "The mean is 1.00\n",
        "The new list is [0.0, 0.0, 0.0]\n",
        "```\n",
        "\n",
        "Example 2:\n",
        "\n",
        "```\n",
        "Enter n: 5\n",
        "Enter number: 1\n",
        "Enter number: 3\n",
        "Enter number: 5\n",
        "Enter number: 7\n",
        "Enter number: 9\n",
        "The original list is [1, 3, 5, 7, 9]\n",
        "The mean is 5.00\n",
        "The new list is [-4.0, -2.0, 0.0, 2.0, 4.0]\n",
        "```\n"
      ],
      "metadata": {
        "id": "k9AyNl--goV7"
      }
    },
    {
      "cell_type": "code",
      "source": [
        "# Let think about the steps to write this program\n",
        "# 1) Ask user to Enter n\n",
        "# 2) For n times, ask user to enter number\n",
        "# 3) calculate the mean of all number in the list\n",
        "# 4) create a new list with the item minus mean (that we found in #3)\n",
        "# 5) print out"
      ],
      "metadata": {
        "id": "c0XmdBSTVbhQ"
      },
      "execution_count": null,
      "outputs": []
    },
    {
      "cell_type": "code",
      "source": [
        "# Method 1: Using append\n",
        "\n",
        "# 1) Ask user to Enter n\n",
        "n = int(input(\"Enter n: \"))\n",
        "\n",
        "# 2) For n times, ask user to enter number\n",
        "original_list = []\n",
        "for i in range(n): # notice i is not used, so you can name it anything\n",
        "  original_list.append(int(input(\"Enter number: \")))\n",
        "\n",
        "# 3) calculate the mean of all number in the list\n",
        "mean = sum(original_list) / len(original_list)\n",
        "\n",
        "# 4) create a new list with the item minus mean (that we found in #3)\n",
        "new_list = []\n",
        "for num in original_list:\n",
        "  new_list.append(num - mean)\n",
        "\n",
        "# 5) print out\n",
        "print(f\"The original list is {original_list}\")\n",
        "print(f\"The mean is {mean:.2f}\")\n",
        "print(f\"The new list is {new_list}\")"
      ],
      "metadata": {
        "colab": {
          "base_uri": "https://localhost:8080/"
        },
        "id": "WTB2eKLlVZMB",
        "outputId": "ebfda314-a7cc-4575-ef66-da625f18a66c"
      },
      "execution_count": null,
      "outputs": [
        {
          "output_type": "stream",
          "name": "stdout",
          "text": [
            "Enter n: 3\n",
            "Enter number: 1\n",
            "Enter number: 1\n",
            "Enter number: 1\n",
            "The original list is [1, 1, 1]\n",
            "The mean is 1.00\n",
            "The new list is [0.0, 0.0, 0.0]\n"
          ]
        }
      ]
    },
    {
      "cell_type": "code",
      "source": [
        "# Method 2: List comprehension\n",
        "\n",
        "# 1) Ask user to Enter n\n",
        "n = int(input(\"Enter n: \"))\n",
        "# 2) For n times, ask user to enter number\n",
        "original_list = [int(input(\"Enter number: \")) for i in range(n)]\n",
        "\n",
        "# 3) calculate the mean of all number in the list\n",
        "mean = sum(original_list) / len(original_list)\n",
        "\n",
        "# 4) create a new list with the item minus mean (that we found in #3)\n",
        "new_list = [num - mean for num in original_list]\n",
        "\n",
        "# 5) print out\n",
        "print(f\"The original list is {original_list}\")\n",
        "print(f\"The mean is {mean:.2f}\")\n",
        "print(f\"The new list is {new_list}\")\n"
      ],
      "metadata": {
        "colab": {
          "base_uri": "https://localhost:8080/"
        },
        "id": "j2EL774jXK-Y",
        "outputId": "4a9196b2-e69d-4340-d166-09e1ac77ca61"
      },
      "execution_count": null,
      "outputs": [
        {
          "output_type": "stream",
          "name": "stdout",
          "text": [
            "Enter n: 5\n",
            "Enter number: 1\n",
            "Enter number: 3\n",
            "Enter number: 5\n",
            "Enter number: 7\n",
            "Enter number: 9\n",
            "The original list is [1, 3, 5, 7, 9]\n",
            "The mean is 5.00\n",
            "The new list is [-4.0, -2.0, 0.0, 2.0, 4.0]\n"
          ]
        }
      ]
    },
    {
      "cell_type": "markdown",
      "source": [
        "**Q15**: FizzBuzz\n",
        "\n",
        "Given an integer $n$, return a list $answer$ where:\n",
        "\n",
        "* $\\texttt{answer[i] == \"FizzBuzz\"}$ if $\\texttt{i}$ is divisible by 3 and 5.\n",
        "* $\\texttt{answer[i] == \"Fizz\"}$ if $\\texttt{i}$ is divisible by 3.\n",
        "* $\\texttt{answer[i] == \"Buzz\"}$ if $\\texttt{i}$ is divisible by 5.\n",
        "* $\\texttt{answer[i] == i}$ if none of the above conditions are true.\n",
        "\n",
        "\n",
        "Example 1:\n",
        "\n",
        "```\n",
        "Enter n: 3\n",
        "[1,2,'Fizz']\n",
        "```\n",
        "\n",
        "Example 2:\n",
        "\n",
        "```\n",
        "Enter n: 5\n",
        "[1,2,'Fizz',4,'Buzz']\n",
        "```\n",
        "\n",
        "Example 3:\n",
        "\n",
        "```\n",
        "Enter n: 15\n",
        "[1,2,'Fizz',4,'Buzz','Fizz',7,8,'Fizz','Buzz',11,'Fizz',13,14,'FizzBuzz']\n",
        "```"
      ],
      "metadata": {
        "id": "VYaNfVV-gwRK"
      }
    },
    {
      "cell_type": "code",
      "source": [
        "# There are two approachs to write this program\n",
        "# Method 1: created a list from 1 to n, then check the condition to replace the number with string\n",
        "# Method 2: created an empty list that append it with appropriate items"
      ],
      "metadata": {
        "id": "i87kMPw8Ygk1"
      },
      "execution_count": null,
      "outputs": []
    },
    {
      "cell_type": "code",
      "source": [
        "# Method 1: create a list of 1 to n first\n",
        "\n",
        "# Let think about the steps to write this program\n",
        "# 1) Ask user to Enter n\n",
        "# 2) create a list of numbers (1 to n) as answer\n",
        "# 3) Check the three conditions\n",
        "#     - 𝚊𝚗𝚜𝚠𝚎𝚛[𝚒] == \"𝙵𝚒𝚣𝚣𝙱𝚞𝚣𝚣\"  if  𝚒  is divisible by 3 and 5.\n",
        "#     - 𝚊𝚗𝚜𝚠𝚎𝚛[𝚒] == \"𝙵𝚒𝚣𝚣\"  if  𝚒  is divisible by 3.\n",
        "#     - 𝚊𝚗𝚜𝚠𝚎𝚛[𝚒] == \"𝙱𝚞𝚣𝚣\"  if  𝚒  is divisible by 5.\n",
        "# 4) print out\n",
        "\n",
        "#----------------------------------------------\n",
        "### Let's code!\n",
        "#----------------------------------------------\n",
        "# 1) Ask user to Enter n\n",
        "n = int(input(\"Enter n: \"))\n",
        "\n",
        "# 2) create a list of numbers (1 to n) as answer\n",
        "answer = [ x for x in range(1, n+1)]\n",
        "\n",
        "# 3) Check the three conditions\n",
        "#     - 𝚊𝚗𝚜𝚠𝚎𝚛[𝚒] == \"𝙵𝚒𝚣𝚣𝙱𝚞𝚣𝚣\"  if  𝚒  is divisible by 3 and 5.\n",
        "#     - 𝚊𝚗𝚜𝚠𝚎𝚛[𝚒] == \"𝙵𝚒𝚣𝚣\"  if  𝚒  is divisible by 3.\n",
        "#     - 𝚊𝚗𝚜𝚠𝚎𝚛[𝚒] == \"𝙱𝚞𝚣𝚣\"  if  𝚒  is divisible by 5.\n",
        "for i in range(len(answer)):\n",
        "  if answer[i] % 3 == 0 and answer[i] % 5 == 0:\n",
        "    answer[i] = \"FizzBuzz\"\n",
        "  elif answer[i] % 3 == 0:\n",
        "    answer[i] = \"Fizz\"\n",
        "  elif answer[i] % 5 == 0:\n",
        "    answer[i] = \"Buzz\"\n",
        "  # 'else:' is not necessary since the list has initialized in step#2\n",
        "#Note: you can implemented this step with while loop as well\n",
        "\n",
        "# 4) print out\n",
        "print(answer)\n"
      ],
      "metadata": {
        "colab": {
          "base_uri": "https://localhost:8080/"
        },
        "id": "DC-Yxr13X2cc",
        "outputId": "9f130eba-0fd1-4a34-f260-24076f768395"
      },
      "execution_count": null,
      "outputs": [
        {
          "output_type": "stream",
          "name": "stdout",
          "text": [
            "Enter n: 15\n",
            "[1, 2, 'Fizz', 4, 'Buzz', 'Fizz', 7, 8, 'Fizz', 'Buzz', 11, 'Fizz', 13, 14, 'FizzBuzz']\n"
          ]
        }
      ]
    },
    {
      "cell_type": "code",
      "source": [
        "# Method 2: create an empty list then append\n",
        "\n",
        "# Let think about the steps to write this program\n",
        "# 1) Ask user to Enter n\n",
        "# 2) create an empty list called answer\n",
        "# 3) loop through 1 to n and check the four conditions\n",
        "#     - append \"𝙵𝚒𝚣𝚣𝙱𝚞𝚣𝚣\"  if  𝚒  is divisible by 3 and 5.\n",
        "#     - append \"𝙵𝚒𝚣𝚣\"  if  𝚒  is divisible by 3.\n",
        "#     - append \"𝙱𝚞𝚣𝚣\"  if  𝚒  is divisible by 5.\n",
        "#     - append 𝚒  if none of the above conditions are true.\n",
        "# 4) print out\n",
        "\n",
        "#----------------------------------------------\n",
        "### Let's code!\n",
        "#----------------------------------------------\n",
        "# 1) Ask user to Enter n\n",
        "n = int(input(\"Enter n: \"))\n",
        "\n",
        "# 2) create an empty list called answer\n",
        "answer = []\n",
        "\n",
        "# 3) loop through 1 to n and check the four conditions\n",
        "#     - append \"𝙵𝚒𝚣𝚣𝙱𝚞𝚣𝚣\"  if  𝚒  is divisible by 3 and 5.\n",
        "#     - append \"𝙵𝚒𝚣𝚣\"  if  𝚒  is divisible by 3.\n",
        "#     - append \"𝙱𝚞𝚣𝚣\"  if  𝚒  is divisible by 5.\n",
        "#     - append 𝚒  if none of the above conditions are true.\n",
        "for i in range(1, n+1):\n",
        "  if i % 3 == 0 and i % 5 ==0:\n",
        "    answer.append(\"FizzBuzz\")\n",
        "  elif i % 3 == 0:\n",
        "    answer.append(\"Fizz\")\n",
        "  elif i % 5 == 0:\n",
        "    answer.append(\"Buzz\")\n",
        "  else:\n",
        "    answer.append(i)\n",
        "  #Note: you can implemented this with while loop as well\n",
        "\n",
        "# 4) print out\n",
        "print(answer)"
      ],
      "metadata": {
        "colab": {
          "base_uri": "https://localhost:8080/"
        },
        "id": "DGZ1hETbLdx7",
        "outputId": "7ba57365-8153-43c6-f1e3-5631bb39838b"
      },
      "execution_count": null,
      "outputs": [
        {
          "output_type": "stream",
          "name": "stdout",
          "text": [
            "Enter n: 15\n",
            "[1, 2, 'Fizz', 4, 'Buzz', 'Fizz', 7, 8, 'Fizz', 'Buzz', 11, 'Fizz', 13, 14, 'FizzBuzz']\n"
          ]
        }
      ]
    },
    {
      "cell_type": "markdown",
      "source": [
        "**Q15 Extra:** a version with list comprehension\n",
        "\n",
        "The syntex for list comprehension with if else is as follows:\n",
        "```python\n",
        "newlist = [do_something_when_True if condition == True else do_something_when_false for item in iterable ]\n",
        "```\n",
        "\n",
        "Notice that you can't use elif with the above format. However, we can work around it with nested if-else conditions\n"
      ],
      "metadata": {
        "id": "EUWKrEbcQKXJ"
      }
    },
    {
      "cell_type": "code",
      "source": [
        "# Extra: a version with nested else-if list comprehension\n",
        "#Let's code!\n",
        "n = int(input(\"Enter n: \"))\n",
        "answer = [ 'FizzBuzz' if (i%3==0 and i%5==0) else (\n",
        "                                                    'Fizz' if i%3==0 else (\n",
        "                                                                      'Buzz' if i%5==0 else i\n",
        "                                                                      )\n",
        "                                                    )\n",
        "                for i in range(1,n+1)] #Note: the Python interpreter will interpret all of these within [] as one long line\n",
        "print(answer)"
      ],
      "metadata": {
        "colab": {
          "base_uri": "https://localhost:8080/"
        },
        "id": "4_BAXsLWLf3v",
        "outputId": "d2ad2a0c-30e0-48ca-980b-b4fbfb11b7bb"
      },
      "execution_count": null,
      "outputs": [
        {
          "output_type": "stream",
          "name": "stdout",
          "text": [
            "Enter n: 15\n",
            "[1, 2, 'Fizz', 4, 'Buzz', 'Fizz', 7, 8, 'Fizz', 'Buzz', 11, 'Fizz', 13, 14, 'FizzBuzz']\n"
          ]
        }
      ]
    },
    {
      "cell_type": "code",
      "source": [
        "# same code as the block above, but written in a single line\n",
        "n = int(input(\"Enter n: \"))\n",
        "answer = [ 'FizzBuzz' if (i%3==0 and i%5==0) else ('Fizz' if i%3==0 else ('Buzz' if i%5==0 else i)) for i in range(1,n+1)]\n",
        "print(answer)"
      ],
      "metadata": {
        "colab": {
          "base_uri": "https://localhost:8080/"
        },
        "id": "rIh_UUNqOwps",
        "outputId": "3a3dc83b-ef3e-483e-b0d8-b4f9d04fbd83"
      },
      "execution_count": null,
      "outputs": [
        {
          "output_type": "stream",
          "name": "stdout",
          "text": [
            "Enter n: 15\n",
            "[1, 2, 'Fizz', 4, 'Buzz', 'Fizz', 7, 8, 'Fizz', 'Buzz', 11, 'Fizz', 13, 14, 'FizzBuzz']\n"
          ]
        }
      ]
    },
    {
      "cell_type": "markdown",
      "source": [
        "## Submission\n",
        "- File -> Download -> Download .ipynb\n",
        "- Upload to MS Teams"
      ],
      "metadata": {
        "id": "SUAOgfPAEXw8"
      }
    }
  ]
}