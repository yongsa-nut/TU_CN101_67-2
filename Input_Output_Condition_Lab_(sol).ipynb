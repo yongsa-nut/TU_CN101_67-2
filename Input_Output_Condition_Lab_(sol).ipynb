{
  "nbformat": 4,
  "nbformat_minor": 0,
  "metadata": {
    "colab": {
      "provenance": [],
      "authorship_tag": "ABX9TyNoo66F01JI1f5A2J0V5mhJ",
      "include_colab_link": true
    },
    "kernelspec": {
      "name": "python3",
      "display_name": "Python 3"
    },
    "language_info": {
      "name": "python"
    }
  },
  "cells": [
    {
      "cell_type": "markdown",
      "metadata": {
        "id": "view-in-github",
        "colab_type": "text"
      },
      "source": [
        "<a href=\"https://colab.research.google.com/github/yongsa-nut/TU_CN101_67-2/blob/main/Input_Output_Condition_Lab_(sol).ipynb\" target=\"_parent\"><img src=\"https://colab.research.google.com/assets/colab-badge.svg\" alt=\"Open In Colab\"/></a>"
      ]
    },
    {
      "cell_type": "markdown",
      "source": [
        "# Input Output Lab 2\n"
      ],
      "metadata": {
        "id": "2pGvo3NBxzK_"
      }
    },
    {
      "cell_type": "markdown",
      "source": [
        "Turn off AI: Tools -> Settings -> Hide generative AI features"
      ],
      "metadata": {
        "id": "ViEnihRigB27"
      }
    },
    {
      "cell_type": "markdown",
      "source": [
        "**Q1**: What is the output?\n",
        "```python\n",
        "num1 = 15\n",
        "num2 = 4\n",
        "result = num1 / num2\n",
        "print(f\"The result is: {result:.2f}\")\n",
        "```"
      ],
      "metadata": {
        "id": "3aXev6Hm7TpI"
      }
    },
    {
      "cell_type": "code",
      "source": [
        "The result is 3.75"
      ],
      "metadata": {
        "id": "oqquuDmH7TEe"
      },
      "execution_count": null,
      "outputs": []
    },
    {
      "cell_type": "markdown",
      "source": [
        "**Q2**: What is the output?\n",
        "```python\n",
        "num = 1.23456\n",
        "result = f\"One = {num:.1f}. Two = {num:.2f}. Three = {num:.3f}\"\n",
        "print(result)\n",
        "```"
      ],
      "metadata": {
        "id": "BDrawOEX7pfI"
      }
    },
    {
      "cell_type": "code",
      "source": [
        "One = 1.2. Two = 1.23. Three = 1.235"
      ],
      "metadata": {
        "id": "3jTAISxjDk6u"
      },
      "execution_count": null,
      "outputs": []
    },
    {
      "cell_type": "markdown",
      "source": [
        "**Q3**: What is the output?\n",
        "\n",
        "```python\n",
        "x = 10\n",
        "y = 3\n",
        "z = 2\n",
        "result = (x + y) * z - x / y\n",
        "print(f\"The result is: {result}\")\n",
        "```"
      ],
      "metadata": {
        "id": "TqAx6xO-7ajE"
      }
    },
    {
      "cell_type": "code",
      "execution_count": null,
      "metadata": {
        "id": "TvR_mm_OxcsW"
      },
      "outputs": [],
      "source": [
        "The result is: 22.666"
      ]
    },
    {
      "cell_type": "markdown",
      "source": [
        "**Q4**: What is the output?\n",
        "```python\n",
        "x = 3\n",
        "y = 2\n",
        "z = (x**x)%y + 5*3/2\n",
        "print(f\"{z:.3f}\")\n",
        "```"
      ],
      "metadata": {
        "id": "JhXwG_m68F9T"
      }
    },
    {
      "cell_type": "code",
      "source": [
        "8.500"
      ],
      "metadata": {
        "id": "TybdnV6M8FeN"
      },
      "execution_count": null,
      "outputs": []
    },
    {
      "cell_type": "markdown",
      "source": [
        "**Q5**: What is the output?\n",
        "```python\n",
        "x = 0\n",
        "x = x + 1\n",
        "x = x + 2\n",
        "x = x + 3\n",
        "x + 4\n",
        "print(x)\n",
        "```"
      ],
      "metadata": {
        "id": "0Q2DNUvUCsZH"
      }
    },
    {
      "cell_type": "code",
      "source": [
        "6"
      ],
      "metadata": {
        "id": "G1Qb6iOdCzou"
      },
      "execution_count": null,
      "outputs": []
    },
    {
      "cell_type": "markdown",
      "source": [
        "**Q6**: What is the output?\n",
        "```python\n",
        "first = 5 > 3\n",
        "second = 10 <= 7\n",
        "third = 7 == 3\n",
        "print(first, second, third, sep ='--')\n",
        "```"
      ],
      "metadata": {
        "id": "b4_1tEAu6tgT"
      }
    },
    {
      "cell_type": "code",
      "source": [
        "True--False--False"
      ],
      "metadata": {
        "id": "DhhAkU136tQl"
      },
      "execution_count": null,
      "outputs": []
    },
    {
      "cell_type": "markdown",
      "source": [
        "**Q7**: What is the output?\n",
        "```\n",
        "x = 5\n",
        "y = 7\n",
        "if (x*2) > y:\n",
        "  print(\"Greater\", end =':')\n",
        "print(\"Done\")\n",
        "```"
      ],
      "metadata": {
        "id": "M077F5W37H5P"
      }
    },
    {
      "cell_type": "code",
      "source": [
        "Greater:Done"
      ],
      "metadata": {
        "id": "C7NkEzzA7RBL"
      },
      "execution_count": null,
      "outputs": []
    },
    {
      "cell_type": "markdown",
      "source": [
        "**Q8**: What is the output?\n",
        "```python\n",
        "x = 20\n",
        "y = 12\n",
        "print(f\"{x > y}, {x < y}, {x == y}, {x != y}\")\n",
        "```"
      ],
      "metadata": {
        "id": "usVab_mn7TDY"
      }
    },
    {
      "cell_type": "code",
      "source": [
        "True, False, False, True"
      ],
      "metadata": {
        "id": "m-aV-C8x7TU1"
      },
      "execution_count": null,
      "outputs": []
    },
    {
      "cell_type": "markdown",
      "source": [
        "**Q9**: What is the output?\n",
        "\n",
        "```python\n",
        "x = 8 > 6\n",
        "if x:\n",
        "  print('A', end = ',')\n",
        "if 7 > 3:\n",
        "  print('B', end =',')\n",
        "if 3 != 5:\n",
        "  print('C', end =',')\n",
        "print('x')\n",
        "```"
      ],
      "metadata": {
        "id": "Ka2qo-IZ9eGc"
      }
    },
    {
      "cell_type": "code",
      "source": [
        "A,B,C,x"
      ],
      "metadata": {
        "id": "0VwFSDNR9edA"
      },
      "execution_count": null,
      "outputs": []
    },
    {
      "cell_type": "markdown",
      "source": [
        "**Q10**: Fill in the blanks so that the statement below print out the following:\n",
        "```\n",
        "1 2 2.5 25\n",
        "```"
      ],
      "metadata": {
        "id": "e44Tx5XD8TPq"
      }
    },
    {
      "cell_type": "code",
      "source": [
        "print(5 % 2, 5 // 2, 5 / 2, 5 ** 2)"
      ],
      "metadata": {
        "id": "BsnEb_Au8S8_",
        "colab": {
          "base_uri": "https://localhost:8080/"
        },
        "outputId": "88d15865-3658-4968-f21b-41586a6ba59b"
      },
      "execution_count": null,
      "outputs": [
        {
          "output_type": "stream",
          "name": "stdout",
          "text": [
            "1 2 2.5 25\n"
          ]
        }
      ]
    },
    {
      "cell_type": "markdown",
      "source": [
        "**Q11**: Fill in the blank so that the program print out 55"
      ],
      "metadata": {
        "id": "8eZymOOw8fNV"
      }
    },
    {
      "cell_type": "code",
      "source": [
        "string = \"50\"\n",
        "num = int(string) + 5 #fill in the blank here\n",
        "print(num)"
      ],
      "metadata": {
        "id": "8px5EscM8e8M",
        "colab": {
          "base_uri": "https://localhost:8080/"
        },
        "outputId": "0f16c28f-616c-4a90-d08c-57c115687aac"
      },
      "execution_count": null,
      "outputs": [
        {
          "output_type": "stream",
          "name": "stdout",
          "text": [
            "55\n"
          ]
        }
      ]
    },
    {
      "cell_type": "markdown",
      "source": [
        "**Q12**: Fill in the blank to properly format the f-string and print the person's name and age:\n",
        "\n",
        "The answer should be\n",
        "```\n",
        "Alice is 30 years old.\n",
        "```"
      ],
      "metadata": {
        "id": "ZLJNB9-R8iC5"
      }
    },
    {
      "cell_type": "code",
      "source": [
        "name = \"Alice\"\n",
        "age = 30\n",
        "print(f\"{name} is {age} years old.\")  # Fill here"
      ],
      "metadata": {
        "id": "9A1vCZyJ8kAR",
        "colab": {
          "base_uri": "https://localhost:8080/"
        },
        "outputId": "34e115cc-5ec3-40ef-a075-b4243010ed50"
      },
      "execution_count": null,
      "outputs": [
        {
          "output_type": "stream",
          "name": "stdout",
          "text": [
            "Alice is 30 years old.\n"
          ]
        }
      ]
    },
    {
      "cell_type": "markdown",
      "source": [
        "**Q13**: Fill in the blank so that when the user enters `10.234` the program prints out `10.2340`."
      ],
      "metadata": {
        "id": "cuKX6Ckx8kUv"
      }
    },
    {
      "cell_type": "code",
      "source": [
        "num = float(input('Enter a number:'))\n",
        "print(f\"{num:.4f}\")"
      ],
      "metadata": {
        "id": "5EhphKd-8mDW",
        "colab": {
          "base_uri": "https://localhost:8080/"
        },
        "outputId": "d1160862-0132-405b-9bcd-8bed11779d86"
      },
      "execution_count": null,
      "outputs": [
        {
          "output_type": "stream",
          "name": "stdout",
          "text": [
            "Enter a number:10.234\n",
            "10.2340\n"
          ]
        }
      ]
    },
    {
      "cell_type": "markdown",
      "source": [
        "**Q14** What will the following code print out?\n",
        "```python\n",
        "a = 3\n",
        "b = 7\n",
        "total = a+b*5-4**2/2-1\n",
        "print(total+1)\n",
        "```"
      ],
      "metadata": {
        "id": "TlTsRK9268qD"
      }
    },
    {
      "cell_type": "code",
      "source": [
        "30"
      ],
      "metadata": {
        "id": "UbJIscob68M8"
      },
      "execution_count": null,
      "outputs": []
    },
    {
      "cell_type": "markdown",
      "source": [
        "**Q15** Correct the code to properly calculate and print the average of three numbers (15):"
      ],
      "metadata": {
        "id": "DoYmJg1h7Gjp"
      }
    },
    {
      "cell_type": "code",
      "source": [
        "num1 = 10\n",
        "num2 = 15\n",
        "num3 = 20\n",
        "average = (num1 + num2 + num3) / 3\n",
        "print(f\"The average is: {average:.2f}\") # It should print out 15"
      ],
      "metadata": {
        "id": "zRmhjbTD7GKa",
        "colab": {
          "base_uri": "https://localhost:8080/"
        },
        "outputId": "e757bff1-32f4-4ef3-a269-2c0bf9674372"
      },
      "execution_count": null,
      "outputs": [
        {
          "output_type": "stream",
          "name": "stdout",
          "text": [
            "The average is: 15.00\n"
          ]
        }
      ]
    },
    {
      "cell_type": "markdown",
      "source": [
        "**Q16**: Fill in the blank to print \"Hello\" if x is greater than 5:"
      ],
      "metadata": {
        "id": "sevVsON055K9"
      }
    },
    {
      "cell_type": "code",
      "source": [
        "x = 7\n",
        "if x > 5:\n",
        "  print(\"Hello\")"
      ],
      "metadata": {
        "id": "IQ--C9u-7pYr",
        "colab": {
          "base_uri": "https://localhost:8080/"
        },
        "outputId": "22f81414-5d97-4fd4-82f7-ec0e9a77ad9e"
      },
      "execution_count": null,
      "outputs": [
        {
          "output_type": "stream",
          "name": "stdout",
          "text": [
            "Hello\n"
          ]
        }
      ]
    },
    {
      "cell_type": "markdown",
      "source": [
        "**Q17**: Fill in the blanks to calculate hour and minute from second.\n",
        "\n",
        "**Hint**:\n",
        "- 1 hours = 60*60 = 3600 seconds. You can use `//` to get the full number of hours.\n",
        "\n",
        "Minutes:\n",
        " - You can get the remaining minute by first convert total second to minute and then get the remaining minutes after hour using `%`. (สามารถคำนวณนาทีโดยการเปลี่ยนค่าวินาทีทั้งหมด เป็นนาที แล้วหาว่าเหลือกี่นาทีหลังจากเปลี่ยนเป็นชั่วโมงแล้ว โดยสามารถใช้ `%` ได้)\n",
        " - Alternatively, you can get the remaining minute from `(total_second - hours*3600)` and then convert it to the remaining minutes similar to hours. (อีกวิธีคือ สามารถหาได้โดยการ หา วินาทีที่เหลือหลังจาก นับชมทั้งหมดไปแล้วจาก `total_score - hours*3600`)\n",
        "\n",
        "\n",
        "\n",
        "Example 1:\n",
        "```\n",
        "Enter a number of seconds: 1000\n",
        "Hours: 0.00, minutes: 16.00, seconds = 40.00\n",
        "```\n",
        "\n",
        "Example 2:\n",
        "```\n",
        "Enter a number of seconds: 3666\n",
        "Hours: 1.00, minutes: 1.00, seconds = 6.00\n",
        "```"
      ],
      "metadata": {
        "id": "xM9gBXytEeKR"
      }
    },
    {
      "cell_type": "code",
      "source": [
        "(3666//60)%60"
      ],
      "metadata": {
        "colab": {
          "base_uri": "https://localhost:8080/"
        },
        "id": "4HjvvUIwHR2R",
        "outputId": "6046e1b1-1b77-4310-e48f-3f2df113023e"
      },
      "execution_count": null,
      "outputs": [
        {
          "output_type": "execute_result",
          "data": {
            "text/plain": [
              "61"
            ]
          },
          "metadata": {},
          "execution_count": 13
        }
      ]
    },
    {
      "cell_type": "code",
      "source": [
        "total_second = float(input('Enter a number of seconds: '))\n",
        "hours = total_second//3600 #Calculate hours\n",
        "minutes = (total_second//60)%60 #Calculate remainng minutes. (total_score - hours*3600)//60\n",
        "seconds = total_second % 60 # Calculate the remaining second\n",
        "print(f\"Hours: {hours:.2f}, minutes: {minutes:.2f}, seconds = {seconds:.2f} \")"
      ],
      "metadata": {
        "id": "6psWTnKmEvSw",
        "colab": {
          "base_uri": "https://localhost:8080/"
        },
        "outputId": "8b04c9fc-4e0e-45b4-a7c2-4386be3eea51"
      },
      "execution_count": null,
      "outputs": [
        {
          "output_type": "stream",
          "name": "stdout",
          "text": [
            "Enter a number of seconds: 3666\n",
            "Hours: 1.00, minutes: 1.00, seconds = 6.00 \n"
          ]
        }
      ]
    },
    {
      "cell_type": "markdown",
      "source": [
        "**Q18**: BMI Calculator\n",
        "\n",
        "\n",
        "Write a program that calculates the Body Mass Index (BMI) of a person. Ask the user for their weight in kilograms and height in meters. If BMI is greater than 30, print \"Overweight\".\n",
        "\n",
        "---\n",
        "\n",
        "จงเขียนโปรแกรมคำนวณค่า Body Mass Index (BMI) ผู้ใช้งานจะป้อน น้ำหนัก (kg) และส่วนสูง (m) และถ้า BMI มากกว่า 30 ให้ปริ้น \"Overweight\"\n",
        "\n",
        "BMI formula:\n",
        "BMI = $\\frac{\\text{weight (kg)}}{\\text{(height (m))}^2}$\n",
        "\n",
        "**Input:**\n",
        "\n",
        "- Real number, weight in kilograms\n",
        "- Real number, height in meters\n",
        "\n",
        "**Output:**\n",
        "- BMI, rounded to two decimal place\n",
        "\n",
        "Example1:\n",
        "```\n",
        ">Enter your weight in kg: 70\n",
        ">Enter your height in m: 1.75\n",
        "Your BMI is 22.9\n",
        "```\n",
        "\n",
        "Example2:\n",
        "```\n",
        ">Enter your weight in kg: 120\n",
        ">Enter your height in m: 1.80\n",
        "Your BMI is 37.0\n",
        "Overweight\n",
        "```"
      ],
      "metadata": {
        "id": "qOk5aoF1-eS6"
      }
    },
    {
      "cell_type": "code",
      "source": [
        "# Input\n",
        "weight = float(input('Enter your weight in kg: '))\n",
        "height = float(input('Enter your height in m: '))\n",
        "\n",
        "# Process\n",
        "BMI = weight/(height**2)\n",
        "\n",
        "# Output\n",
        "print(f\"Your BMI is {BMI:.1f}\")\n",
        "if BMI > 30:\n",
        "  print(\"Overweight\")"
      ],
      "metadata": {
        "id": "6dLb0_WN-giX",
        "colab": {
          "base_uri": "https://localhost:8080/"
        },
        "outputId": "94665166-bd03-4be2-fb31-4b714230a8b8"
      },
      "execution_count": null,
      "outputs": [
        {
          "output_type": "stream",
          "name": "stdout",
          "text": [
            "Enter your weight in kg: 120\n",
            "Enter your height in m: 1.80\n",
            "Your BMI is 37.0\n",
            "Overweight\n"
          ]
        }
      ]
    },
    {
      "cell_type": "markdown",
      "source": [
        "**Q19**: Cashier Program\n",
        "\n",
        "Write a cashier program to calculate the total payment.\n",
        "\n",
        "There are 4 items: cookie (5 baht), water (10 baht), soda (20 baht), and popcorn (30)\n",
        "\n",
        "If the total payment is greater than 100, you get a 10% discount.\n",
        "\n",
        "---\n",
        "\n",
        "จงเขียนโปรแกรมคำนวณราคาสิ้นค้า โดยมีสิ้นค้าทั้งหมดสี่ชนิดดังนี้ cookie (5 baht), water (10 baht), soda (20 baht), and popcorn (30)\n",
        "\n",
        "ถ้าราคาทั้งหมดมากกว่า 100 บาท จะได้ลดราคา 10%\n",
        "\n",
        "Input:\n",
        "- The number of cookie\n",
        "- The number of water\n",
        "- The number of soda\n",
        "- The number of popcorn\n",
        "\n",
        "Output:\n",
        "- The total payment\n",
        "\n",
        "Note:\n",
        "- You must use $\\texttt{Named constant}$.\n",
        "- Name your variables meaningfully!\n",
        "\n",
        "Example 1:\n",
        "\n",
        "```\n",
        "The number of cookie: 3\n",
        "The number of water: 2\n",
        "The number of soda: 0\n",
        "The number of popcorn: 1\n",
        "Total payment = 65 baht.\n",
        "```\n",
        "\n",
        "Example 2:\n",
        "```\n",
        "The number of cookie: 10  \n",
        "The number of water: 2     \n",
        "The number of soda: 5     \n",
        "The number of popcorn: 1  \n",
        "Total payment = 180 baht.\n",
        "```"
      ],
      "metadata": {
        "id": "_7UW0rVt-Dfw"
      }
    },
    {
      "cell_type": "code",
      "source": [
        "# NAMED CONSTANT\n",
        "COOKIE_P = 5\n",
        "WATER_P = 10\n",
        "SODA_P = 20\n",
        "POPCORN_P = 30\n",
        "DISCOUNT = 0.9\n",
        "\n",
        "# Input\n",
        "cookie_n = int(input('The number of cookie: '))\n",
        "water_n  = int(input('The number of water: '))\n",
        "soda_n   = int(input('The number of soda: '))\n",
        "popcorn_n = int(input('The number of popcorn: '))\n",
        "\n",
        "# Process\n",
        "total_payment = (cookie_n*COOKIE_P +\n",
        "                 water_n*WATER_P +\n",
        "                 soda_n*SODA_P +\n",
        "                 popcorn_n*POPCORN_P)\n",
        "if total_payment > 100:\n",
        "  total_payment = total_payment*DISCOUNT\n",
        "\n",
        "# Output\n",
        "print(f'Total payment = {total_payment:.0f} baht.')"
      ],
      "metadata": {
        "id": "LRrfo-I8-DDm",
        "colab": {
          "base_uri": "https://localhost:8080/"
        },
        "outputId": "c7ee4e04-8689-417c-d646-529b3a775f71"
      },
      "execution_count": null,
      "outputs": [
        {
          "output_type": "stream",
          "name": "stdout",
          "text": [
            "The number of cookie: 10\n",
            "The number of water: 2\n",
            "The number of soda: 5\n",
            "The number of popcorn: 1\n",
            "Total payment = 180 baht.\n"
          ]
        }
      ]
    },
    {
      "cell_type": "markdown",
      "source": [
        "**Q20**: Calculate the Average GPA of a Classroom\n",
        "\n",
        "Write a program that calculates the average GPA of a classroom based on the number of students who received each letter grade.\n",
        "\n",
        "Use the following grade point values:\n",
        "\n",
        "- A = 4.0\n",
        "- B = 3.0\n",
        "- C = 2.0\n",
        "- D = 1.0\n",
        "- F = 0.0\n",
        "\n",
        "Your program should:\n",
        "\n",
        "- Ask the user to input the number of students who received each letter grade (A, B, C, D, and F).\n",
        "- Calculate the total grade points by multiplying the number of students with the corresponding grade point for each letter grade.\n",
        "- Calculate the total number of students.\n",
        "- Calculate and display the average GPA of the classroom to two decimal places.\n",
        "\n",
        "---\n",
        "\n",
        "การทำงานของโปรแกรมมีดังต่อไปนี้:\n",
        "- ถามผู้ใช้งานว่ามีกี่คนได้เกรด A, B, C, D, F\n",
        "- คำนวณ GPA ทั้งหมดโดยการ คูณจำนวนนักเรียนแต่ละเกรดและนำมารวมกัน\n",
        "- หาจำนวนนักเรียนทั้งหมด\n",
        "- คำนวณค่าเฉลี่ย GPA จาก GPA ทั้งหมดหารด้วยจำนวนนักเรียนทั้งหมด\n",
        "\n",
        "**Input**:\n",
        "- 5 integer for the number of students who received each letter grade.\n",
        "\n",
        "**Output**:\n",
        "- One real number for the average GPA.\n",
        "\n",
        "**Note**:\n",
        "- You must use **NAME CONSTANT**.\n",
        "- Name your variables meaningfully!\n",
        "\n",
        "Example 1:\n",
        "```\n",
        ">Enter the number of A: 5\n",
        ">Enter the number of B: 10\n",
        ">Enter the number of C: 8\n",
        ">Enter the number of D: 4\n",
        ">Enter the number of F: 3\n",
        "The average GPA of the classroom is: 2.33\n",
        "```\n",
        "**Explanation**:\n",
        "- The total GPA is `5*4 + 10*3 + 8*2 + 4*1 + 3*0 = 70`\n",
        "- The total number of students is `5 + 10 + 8 + 4 + 3 = 30`\n",
        "- The average is `70/30 = 2.33`\n",
        "\n",
        "Example 2:\n",
        "```\n",
        "Enter the number of A: 0\n",
        "Enter the number of B: 10\n",
        "Enter the number of C: 3\n",
        "Enter the number of D: 5\n",
        "Enter the number of F: 1\n",
        "The average GPA of the classroom is: 2.16\n",
        "```"
      ],
      "metadata": {
        "id": "byAOnJCfx5dp"
      }
    },
    {
      "cell_type": "code",
      "source": [
        "# Named Constant\n",
        "GPA_A = 4.0\n",
        "GPA_B = 3.0\n",
        "GPA_C = 2.0\n",
        "GPA_D = 1.0\n",
        "GPA_F = 0.0\n",
        "\n",
        "# Input\n",
        "nA = int(input('Enter the number of A: '))\n",
        "nB = int(input('Enter the number of B: '))\n",
        "nC = int(input('Enter the number of C: '))\n",
        "nD = int(input('Enter the number of D: '))\n",
        "nF = int(input('Enter the number of F: '))\n",
        "\n",
        "# Process\n",
        "total_GPA = (nA*GPA_A + nB*GPA_B + nC*GPA_C + nD*GPA_D + nF*GPA_F)\n",
        "total_students = (nA + nB + nC + nD + nF)\n",
        "avg_GPA = total_GPA/total_students\n",
        "# Output\n",
        "print(f\"The average GPA of the classroom is {avg_GPA:.2f}\")"
      ],
      "metadata": {
        "id": "IN9yrMnxx9rA",
        "colab": {
          "base_uri": "https://localhost:8080/"
        },
        "outputId": "bfb6dc58-e95b-44b4-ffc6-e33ffaf81678"
      },
      "execution_count": null,
      "outputs": [
        {
          "output_type": "stream",
          "name": "stdout",
          "text": [
            "Enter the number of A: 0\n",
            "Enter the number of B: 10\n",
            "Enter the number of C: 3\n",
            "Enter the number of D: 5\n",
            "Enter the number of F: 1\n",
            "The average GPA of the classroom is 2.16\n"
          ]
        }
      ]
    },
    {
      "cell_type": "markdown",
      "source": [
        "## Submission\n",
        "- File -> Download -> Download .ipynb\n",
        "- Upload to Microsoft Teams"
      ],
      "metadata": {
        "id": "dsSJ-p0rP6pX"
      }
    }
  ]
}