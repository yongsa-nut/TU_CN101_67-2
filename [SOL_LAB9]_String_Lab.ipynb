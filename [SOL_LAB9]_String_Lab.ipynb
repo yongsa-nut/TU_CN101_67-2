{
  "nbformat": 4,
  "nbformat_minor": 0,
  "metadata": {
    "colab": {
      "provenance": [],
      "include_colab_link": true
    },
    "kernelspec": {
      "name": "python3",
      "display_name": "Python 3"
    },
    "language_info": {
      "name": "python"
    }
  },
  "cells": [
    {
      "cell_type": "markdown",
      "metadata": {
        "id": "view-in-github",
        "colab_type": "text"
      },
      "source": [
        "<a href=\"https://colab.research.google.com/github/yongsa-nut/TU_CN101_67-2/blob/main/%5BSOL_LAB9%5D_String_Lab.ipynb\" target=\"_parent\"><img src=\"https://colab.research.google.com/assets/colab-badge.svg\" alt=\"Open In Colab\"/></a>"
      ]
    },
    {
      "cell_type": "markdown",
      "source": [
        "# String Lab"
      ],
      "metadata": {
        "id": "3yxRmThrRbwA"
      }
    },
    {
      "cell_type": "markdown",
      "source": [
        "Check out the accompanying colab here --> [String](https://colab.research.google.com/github/yongsa-nut/TU_CN101_67-1/blob/main/Chapter_7_Strings.ipynb)\n"
      ],
      "metadata": {
        "id": "XQ1HGVfjyZ-x"
      }
    },
    {
      "cell_type": "markdown",
      "source": [
        "**Q1**: What will the following code print out?\n",
        "\n",
        "```python\n",
        "my_str = \"Hello There, How are you?\"\n",
        "print(my_str[0], my_str[5], my_str[10], my_str[-1])\n",
        "```"
      ],
      "metadata": {
        "id": "JkNnmI3GT3Ak"
      }
    },
    {
      "cell_type": "code",
      "source": [
        "H   e ?"
      ],
      "metadata": {
        "id": "AKwderP6T3Rm"
      },
      "execution_count": null,
      "outputs": []
    },
    {
      "cell_type": "markdown",
      "source": [
        "Q1 : Explanation"
      ],
      "metadata": {
        "id": "2tDCcWjCHAfq"
      }
    },
    {
      "cell_type": "code",
      "source": [
        "my_str = \"Hello There, How are you?\" #To do this, we have to count the indices\n",
        "#         ^^^^^^^^^^^^^^^^^^^^^^^^^\n",
        "# my_str[0] -> first character      --> 'H'\n",
        "# my_str[5] -> 6th character        --> ' '\n",
        "# my_str[10] -> 11th character      --> 'e'\n",
        "# my_str[-1] -> the last character  --> '?'\n",
        "print(my_str[0], my_str[5], my_str[10], my_str[-1])"
      ],
      "metadata": {
        "colab": {
          "base_uri": "https://localhost:8080/"
        },
        "id": "BPT-hvX1HFhi",
        "outputId": "0a41fb86-8a55-4360-9f28-20aed119d2cc"
      },
      "execution_count": null,
      "outputs": [
        {
          "output_type": "stream",
          "name": "stdout",
          "text": [
            "H   e ?\n"
          ]
        }
      ]
    },
    {
      "cell_type": "markdown",
      "source": [
        "**Q2**: What will the following code print out?\n",
        "\n",
        "```python\n",
        "str1 = \"Hello Where is this?\"\n",
        "print(str1[3:7])\n",
        "print(str1[:4])\n",
        "print(str1[len(str1)-4:])\n",
        "```"
      ],
      "metadata": {
        "id": "QzaTR4_eUKMD"
      }
    },
    {
      "cell_type": "code",
      "source": [
        "lo W\n",
        "Hell\n",
        "his?"
      ],
      "metadata": {
        "id": "vE0S1oKkUTQB"
      },
      "execution_count": null,
      "outputs": []
    },
    {
      "cell_type": "markdown",
      "source": [
        "Q2 : Explanation"
      ],
      "metadata": {
        "id": "BR489NKjHG1r"
      }
    },
    {
      "cell_type": "code",
      "source": [
        "# Slicing format:  𝚜𝚝𝚛𝚒𝚗𝚐[𝚜𝚝𝚊𝚛𝚝 : 𝚎𝚗𝚍: 𝚜𝚝𝚎𝚙]\n",
        "str1 = \"Hello Where is this?\"\n",
        "print(str1[3:7])#Get indices [3,4,5,6] --> print 'lo W'\n",
        "print(str1[:4]) #Get indices [0,1,2,3]--> print 'Hell'\n",
        "print(str1[len(str1)-4:]) #len(str1)=>20 since, 20-4 => 16 Then --> Get indices [16,17,18,19]--> print 'his?'"
      ],
      "metadata": {
        "colab": {
          "base_uri": "https://localhost:8080/"
        },
        "id": "FVOYr1qdHIaL",
        "outputId": "74aac00b-8e90-4d13-eabf-2a2cc0ae568a"
      },
      "execution_count": null,
      "outputs": [
        {
          "output_type": "stream",
          "name": "stdout",
          "text": [
            "lo W\n",
            "Hell\n",
            "his?\n"
          ]
        }
      ]
    },
    {
      "cell_type": "markdown",
      "source": [
        "**Q3**: What will the following code print out?\n",
        "\n",
        "```python\n",
        "seq = [5, 7, 9, 11, 6, 8, 10]\n",
        "print(seq[1:3], seq[-1:-3:-1])\n",
        "print(seq[4:])\n",
        "print(seq[::-1])\n",
        "```"
      ],
      "metadata": {
        "id": "fyr8lhouWrpQ"
      }
    },
    {
      "cell_type": "code",
      "source": [
        "[7, 9] [10, 8]\n",
        "[6, 8, 10]\n",
        "[10, 8, 6, 11, 9, 7, 5]"
      ],
      "metadata": {
        "id": "6mH3wYzVXBwV"
      },
      "execution_count": null,
      "outputs": []
    },
    {
      "cell_type": "markdown",
      "source": [
        "Q3 : Explanation"
      ],
      "metadata": {
        "id": "XlizdMM_HJPE"
      }
    },
    {
      "cell_type": "code",
      "source": [
        "# Slicing format:  𝚜𝚝𝚛𝚒𝚗𝚐[𝚜𝚝𝚊𝚛𝚝 : 𝚎𝚗𝚍: 𝚜𝚝𝚎𝚙]\n",
        "seq = [5, 7, 9, 11, 6, 8, 10]\n",
        "print(seq[1:3], seq[-1:-3:-1]) # seq[1:3] get seq at indices [1, 2] --> print [7, 9]\n",
        "                               # seq[-1:-3:-1] get seq at indices [-1, -2] --> print [10, 8]\n",
        "print(seq[4:]) #Get indices [4,5,6]--> print [6, 8, 10]\n",
        "print(seq[::-1]) # == seq in reverse order. --> Get indices [-1, -2, -3, -4, -5, -6, -7]--> print [10, 8, 6, 11, 9, 7, 5]"
      ],
      "metadata": {
        "colab": {
          "base_uri": "https://localhost:8080/"
        },
        "id": "EYcM25lUHLc1",
        "outputId": "f11d641e-f3ff-4c13-e742-c0e23f90d860"
      },
      "execution_count": null,
      "outputs": [
        {
          "output_type": "stream",
          "name": "stdout",
          "text": [
            "[7, 9] [10, 8]\n",
            "[6, 8, 10]\n",
            "[10, 8, 6, 11, 9, 7, 5]\n"
          ]
        }
      ]
    },
    {
      "cell_type": "markdown",
      "source": [
        "**Q4**: What will the following program print out?\n",
        "\n",
        "```python\n",
        "her_string = 'How are you today?'\n",
        "his_string = 'I am doing well.'\n",
        "result = ('h' in her_string) or ('m' in his_string)\n",
        "print(result)\n",
        "```"
      ],
      "metadata": {
        "id": "W6wanon3Txg5"
      }
    },
    {
      "cell_type": "code",
      "source": [
        "True"
      ],
      "metadata": {
        "id": "8xeqsS2OTyuF"
      },
      "execution_count": null,
      "outputs": []
    },
    {
      "cell_type": "markdown",
      "source": [
        "Q4 : Explanation"
      ],
      "metadata": {
        "id": "cW2cgxyaHMa9"
      }
    },
    {
      "cell_type": "code",
      "source": [
        "her_string = 'How are you today?' #'h' in her_string)? --> False\n",
        "his_string = 'I am doing well.' #('m' in his_string)? --> True\n",
        "result = ('h' in her_string) or ('m' in his_string) #(False or True) ==> True\n",
        "print(result)"
      ],
      "metadata": {
        "colab": {
          "base_uri": "https://localhost:8080/"
        },
        "id": "EI82igkXHNme",
        "outputId": "33ac6003-543a-4364-be33-57efa97e136c"
      },
      "execution_count": null,
      "outputs": [
        {
          "output_type": "stream",
          "name": "stdout",
          "text": [
            "True\n"
          ]
        }
      ]
    },
    {
      "cell_type": "markdown",
      "source": [
        "**Q5**: What will the following program print out?\n",
        "```python\n",
        "text = \"abc\" + \"ABC\"\n",
        "text += \"xxx\"\n",
        "print(\"xxx\"+text)\n",
        "```"
      ],
      "metadata": {
        "id": "WnT7BvosTn1A"
      }
    },
    {
      "cell_type": "code",
      "source": [
        "xxxabcABCxxx"
      ],
      "metadata": {
        "id": "tVdt-qPxToC1"
      },
      "execution_count": null,
      "outputs": []
    },
    {
      "cell_type": "markdown",
      "source": [
        "Q5 : Explanation"
      ],
      "metadata": {
        "id": "K53K5AS8HPCR"
      }
    },
    {
      "cell_type": "code",
      "source": [
        "text = \"abc\" + \"ABC\" #now text = 'abcABC'\n",
        "text += \"xxx\" #now text = 'abcABCxxx'\n",
        "print(\"xxx\"+text) #now print -> 'xxxabcABCxxx'"
      ],
      "metadata": {
        "colab": {
          "base_uri": "https://localhost:8080/"
        },
        "id": "QrtmDcEgHQfb",
        "outputId": "c9aab2fc-2640-48f0-dc6d-04d9bb9f6f80"
      },
      "execution_count": null,
      "outputs": [
        {
          "output_type": "stream",
          "name": "stdout",
          "text": [
            "xxxabcABCxxx\n"
          ]
        }
      ]
    },
    {
      "cell_type": "markdown",
      "source": [
        "**Q6**: What will the following program print out?\n",
        "\n",
        "```python\n",
        "ref = \"This\"\n",
        "outcome = (ref*2).lower() + \" \" + (\"SvD\"*3).upper()\n",
        "print(outcome)\n",
        "```"
      ],
      "metadata": {
        "id": "_ZbBw766UVrp"
      }
    },
    {
      "cell_type": "code",
      "source": [
        "thisthis SVDSVDSVD"
      ],
      "metadata": {
        "id": "JeJHMaRGUWuP"
      },
      "execution_count": null,
      "outputs": []
    },
    {
      "cell_type": "markdown",
      "source": [
        "Q6 : Explanation"
      ],
      "metadata": {
        "id": "NyprRusNHRIz"
      }
    },
    {
      "cell_type": "code",
      "source": [
        "ref = \"This\" # * operator repeat the string\n",
        "outcome = (ref*2).lower() + \" \" + (\"SvD\"*3).upper() # --> (\"ThisThis\").lower() + \" \" + (\"SvDSvDSvD\").upper()\n",
        "print(outcome)"
      ],
      "metadata": {
        "colab": {
          "base_uri": "https://localhost:8080/"
        },
        "id": "bb8bL4DpHShk",
        "outputId": "cb3a597a-b9c4-449e-b5bb-069359b2494f"
      },
      "execution_count": null,
      "outputs": [
        {
          "output_type": "stream",
          "name": "stdout",
          "text": [
            "thisthis SVDSVDSVD\n"
          ]
        }
      ]
    },
    {
      "cell_type": "markdown",
      "source": [
        "**Q7**: What will the following program print out?\n",
        "\n",
        "```python\n",
        "chars = 'AAaaABbbCcCddd'\n",
        "total = 0\n",
        "for char in chars:\n",
        "  if char == 'A':\n",
        "    total += 1\n",
        "  if char == 'B':\n",
        "    total += 2\n",
        "  if char == 'C':\n",
        "    total += 3\n",
        "print(total)\n",
        "```"
      ],
      "metadata": {
        "id": "XxNVlKKfTmh3"
      }
    },
    {
      "cell_type": "code",
      "source": [
        "11"
      ],
      "metadata": {
        "id": "KyKUaSFFTnCo"
      },
      "execution_count": null,
      "outputs": []
    },
    {
      "cell_type": "markdown",
      "source": [
        "Q7 : Explanation"
      ],
      "metadata": {
        "id": "rBZp1IN_HTgG"
      }
    },
    {
      "cell_type": "code",
      "source": [
        "chars = 'AAaaABbbCcCddd'\n",
        "total = 0\n",
        "for char in chars: #extract each character from 'AAaaABbbCcCddd'\n",
        "  if char == 'A':\n",
        "    total += 1 #  total + 1 for every 'A'\n",
        "  if char == 'B':\n",
        "    total += 2 #  total + 2 for every 'B'\n",
        "  if char == 'C':\n",
        "    total += 3 #  total + 3 for every 'C'\n",
        "print(total) #'AAaaABbbCcCddd' --> There are 3 'A', 1 'B', 2 'C' --> total = 3*1 + 1*2 + 2*3"
      ],
      "metadata": {
        "colab": {
          "base_uri": "https://localhost:8080/"
        },
        "id": "QSUKtDxYHVUO",
        "outputId": "42d91ed3-4e5a-449d-dc7a-493088099968"
      },
      "execution_count": null,
      "outputs": [
        {
          "output_type": "stream",
          "name": "stdout",
          "text": [
            "11\n"
          ]
        }
      ]
    },
    {
      "cell_type": "markdown",
      "source": [
        "**Q8**: What will the following program print out?\n",
        "\n",
        "```python\n",
        "s = '  abcde  '\n",
        "temp = s.strip()\n",
        "print(temp)\n",
        "temp = temp.lstrip('a')\n",
        "print(temp)\n",
        "temp = temp.rstrip('e')\n",
        "print(temp)\n",
        "print(s.strip().lstrip('a').rstrip('e'))\n",
        "```"
      ],
      "metadata": {
        "id": "skSi3uroUqK3"
      }
    },
    {
      "cell_type": "code",
      "source": [
        "abcde\n",
        "bcde\n",
        "bcd\n",
        "bcd"
      ],
      "metadata": {
        "id": "VBkopnenUrhM"
      },
      "execution_count": null,
      "outputs": []
    },
    {
      "cell_type": "markdown",
      "source": [
        "Q8 : Explanation"
      ],
      "metadata": {
        "id": "-cnLKSgGHWF_"
      }
    },
    {
      "cell_type": "code",
      "source": [
        "s = '  abcde  '\n",
        "temp = s.strip() # Remove space from s --> \" abcde \" => 'abcde'\n",
        "print(temp) #temp => 'abcde'\n",
        "temp = temp.lstrip('a') # Remove 'a' on the left side of temp -->  'abcde' => 'bcde'\n",
        "print(temp) #temp => 'bcd'\n",
        "temp = temp.rstrip('e') # Remove 'e' on the right side of temp -->  'bcde' => 'bcd'\n",
        "print(temp) #temp => 'bcd'\n",
        "print(s.strip().lstrip('a').rstrip('e')) #work from left to right  on the original s = ' abcde '\n",
        "# If we try to do the line above one method at a time\n",
        "# s.strip().lstrip('a').rstrip('e') ==> '  abcde  '.strip().lstrip('a').rstrip('e')\n",
        "#                                   ==>             'abcde'.lstrip('a').rstrip('e')\n",
        "#                                   ==>                          'bcde'.rstrip('e')\n",
        "#                                   ==>                                 'bcd'"
      ],
      "metadata": {
        "colab": {
          "base_uri": "https://localhost:8080/"
        },
        "id": "bW7JOXorHXwx",
        "outputId": "581cee5d-6c16-4f9f-cbdc-97841430af04"
      },
      "execution_count": null,
      "outputs": [
        {
          "output_type": "stream",
          "name": "stdout",
          "text": [
            "abcde\n",
            "bcde\n",
            "bcd\n",
            "bcd\n"
          ]
        }
      ]
    },
    {
      "cell_type": "markdown",
      "source": [
        "**Q9**: What will the following program print out?\n",
        "\n",
        "```python\n",
        "numbers = \"One Two Three Four Five Six\"\n",
        "one_index = numbers.find(\"One\")\n",
        "five_index = numbers.find(\"Five\")\n",
        "nine_index = numbers.find(\"Nine\")\n",
        "\n",
        "print(one_index)\n",
        "print(five_index)\n",
        "print(nine_index)\n",
        "```"
      ],
      "metadata": {
        "id": "yT6cRReEUfs4"
      }
    },
    {
      "cell_type": "code",
      "source": [
        "0\n",
        "19\n",
        "-1"
      ],
      "metadata": {
        "id": "9H0N_q3pUhV0"
      },
      "execution_count": null,
      "outputs": []
    },
    {
      "cell_type": "markdown",
      "source": [
        "Q9 : Explanation"
      ],
      "metadata": {
        "id": "cm90Au4eHYqY"
      }
    },
    {
      "cell_type": "code",
      "source": [
        "numbers = \"One Two Three Four Five Six\"\n",
        "#          ^^^^^^^^^^^^^^^^^^^^^^^^^^^\n",
        "one_index = numbers.find(\"One\") #'One' starts at index 0 in numbers\n",
        "five_index = numbers.find(\"Five\") #'Five' starts at index 19 in numbers\n",
        "nine_index = numbers.find(\"Nine\") #'Nine' not found --> return -1\n",
        "\n",
        "print(one_index)  #0\n",
        "print(five_index) #19\n",
        "print(nine_index) #-1"
      ],
      "metadata": {
        "colab": {
          "base_uri": "https://localhost:8080/"
        },
        "id": "o00eRWXDHaD4",
        "outputId": "bc025156-f871-4899-b6d8-05103793db30"
      },
      "execution_count": null,
      "outputs": [
        {
          "output_type": "stream",
          "name": "stdout",
          "text": [
            "0\n",
            "19\n",
            "-1\n"
          ]
        }
      ]
    },
    {
      "cell_type": "markdown",
      "source": [
        "**Q10**: What will the following program print out?\n",
        "\n",
        "```python\n",
        "my_str = \"One Two One Two one two one two\"\n",
        "your_str = my_str.replace(\"One\",\"1\")\n",
        "his_str = your_str.replace('e',\"E\")\n",
        "print(your_str)\n",
        "print(his_str)\n",
        "```"
      ],
      "metadata": {
        "id": "vq0DNDfEX0RQ"
      }
    },
    {
      "cell_type": "code",
      "source": [
        "1 Two 1 Two one two one two\n",
        "1 Two 1 Two onE two onE two"
      ],
      "metadata": {
        "id": "dfMNDJGhYFHg"
      },
      "execution_count": null,
      "outputs": []
    },
    {
      "cell_type": "markdown",
      "source": [
        "Q10 : Explanation"
      ],
      "metadata": {
        "id": "bNGFMCy_HbBW"
      }
    },
    {
      "cell_type": "code",
      "source": [
        "my_str = \"One Two One Two one two one two\"\n",
        "your_str = my_str.replace(\"One\",\"1\") #Find all of 'One' in my_str then replace them with '1' --> your_str => \"1 Two 1 Two one two one two\"\n",
        "his_str = your_str.replace('e',\"E\") #Find all of 'e' in your_str then replace them with 'E' --> his_str => \"1 Two 1 Two onE two onE two\"\n",
        "print(your_str)\n",
        "print(his_str)"
      ],
      "metadata": {
        "colab": {
          "base_uri": "https://localhost:8080/"
        },
        "id": "6K_pb8beHcUJ",
        "outputId": "33dc6613-d99e-47fc-825a-0a38da10fcf3"
      },
      "execution_count": null,
      "outputs": [
        {
          "output_type": "stream",
          "name": "stdout",
          "text": [
            "1 Two 1 Two one two one two\n",
            "1 Two 1 Two onE two onE two\n"
          ]
        }
      ]
    },
    {
      "cell_type": "markdown",
      "source": [
        "**Q11**: What will the following program print out?\n",
        "\n",
        "```python\n",
        "str1 = \"10//20//30//40\"\n",
        "temp = str1.split(\"//\")\n",
        "print(temp)\n",
        "x = int(temp[0])\n",
        "y = int(temp[3])\n",
        "print(x+y)\n",
        "print(temp[0]+temp[3])\n",
        "```"
      ],
      "metadata": {
        "id": "fC9W1pJ-Ymw1"
      }
    },
    {
      "cell_type": "code",
      "source": [
        "['10', '20', '30', '40']\n",
        "50\n",
        "1040"
      ],
      "metadata": {
        "id": "WFxT7-z_Yq-h"
      },
      "execution_count": null,
      "outputs": []
    },
    {
      "cell_type": "markdown",
      "source": [
        "Q11 : Explanation"
      ],
      "metadata": {
        "id": "dApUxfHKHdSZ"
      }
    },
    {
      "cell_type": "code",
      "source": [
        "str1 = \"10//20//30//40\"\n",
        "temp = str1.split(\"//\") # split str1 at '//' --> ['10', '20', '30', '40']\n",
        "print(temp) # ['10', '20', '30', '40']\n",
        "x = int(temp[0]) # temp[0] is '10' --> x => 10\n",
        "y = int(temp[3]) # temp[3] is '40' --> y => 40\n",
        "print(x+y) #They are integer -> so we can do normal addition --> 10 + 40 => 50\n",
        "print(temp[0]+temp[3]) #This is because temp[0] and temp[3] are string, operator + concat them together --> '10' + '40' => '1040'"
      ],
      "metadata": {
        "colab": {
          "base_uri": "https://localhost:8080/"
        },
        "id": "RAtPPHu6HfHq",
        "outputId": "8820fe9b-a3cc-4c2b-fc74-63cb0dcf5d00"
      },
      "execution_count": null,
      "outputs": [
        {
          "output_type": "stream",
          "name": "stdout",
          "text": [
            "['10', '20', '30', '40']\n",
            "50\n",
            "1040\n"
          ]
        }
      ]
    },
    {
      "cell_type": "markdown",
      "source": [
        "**Q12**: What will the following program print out?\n",
        "\n",
        "```python\n",
        "target1 = \"12345\"\n",
        "target2 = \"abc44\"\n",
        "target3 = \"ABcc\"\n",
        "\n",
        "print(target1.isdigit())\n",
        "print(target2.isdigit())\n",
        "print(target3[:2].isupper())\n",
        "print(target2[3:].isdigit())\n",
        "```"
      ],
      "metadata": {
        "id": "pLc80I5IYrMq"
      }
    },
    {
      "cell_type": "code",
      "source": [
        "True\n",
        "False\n",
        "True\n",
        "True"
      ],
      "metadata": {
        "id": "NUKMxc3MYucF"
      },
      "execution_count": null,
      "outputs": []
    },
    {
      "cell_type": "markdown",
      "source": [
        "Q12 : Explanation"
      ],
      "metadata": {
        "id": "8oxSGAzyHgOK"
      }
    },
    {
      "cell_type": "code",
      "source": [
        "target1 = \"12345\"\n",
        "target2 = \"abc44\"\n",
        "target3 = \"ABcc\"\n",
        "\n",
        "print(target1.isdigit()) #target1.isdigit() check if all characters in the string are numbers (0-9) --> \"12345\".isdigit() is True\n",
        "print(target2.isdigit()) #target2.isdigit()--> \"abc44\".isdigit() is False\n",
        "print(target3[:2].isupper()) # target3[:2] take the first two characters of target3 --> \"AB\".isupper() --> True\n",
        "print(target2[3:].isdigit()) # target2[3:] take the characters from index 3 to the end --> \"44\".isdigit() --> True"
      ],
      "metadata": {
        "colab": {
          "base_uri": "https://localhost:8080/"
        },
        "id": "sihuTvaEHh5-",
        "outputId": "5153b2f7-20b0-47bd-f974-e9a1dcec97a4"
      },
      "execution_count": null,
      "outputs": [
        {
          "output_type": "stream",
          "name": "stdout",
          "text": [
            "True\n",
            "False\n",
            "True\n",
            "True\n"
          ]
        }
      ]
    },
    {
      "cell_type": "markdown",
      "source": [
        "**Q13**: What will the following program print out?\n",
        "\n",
        "```python\n",
        "temp = '1 2 3 4 5'\n",
        "temp = temp.split(' ')\n",
        "x = 0\n",
        "y = ''\n",
        "for num in temp:\n",
        "  x += int(num)\n",
        "  y += num\n",
        "print(x, y)\n",
        "```"
      ],
      "metadata": {
        "id": "4gIafvZ7VIJB"
      }
    },
    {
      "cell_type": "code",
      "source": [
        "15 12345"
      ],
      "metadata": {
        "id": "Jybg1-0hWsGf"
      },
      "execution_count": null,
      "outputs": []
    },
    {
      "cell_type": "markdown",
      "source": [
        "Q13 : Explanation"
      ],
      "metadata": {
        "id": "dEOXubVBHjzt"
      }
    },
    {
      "cell_type": "code",
      "source": [
        "temp = '1 2 3 4 5'\n",
        "temp = temp.split(' ') # temp => ['1', '2', '3', '4', '5']\n",
        "x = 0\n",
        "y = ''\n",
        "for num in temp: # Extract the item from temp one by one\n",
        "  x += int(num) #convert num to integer then add it to x\n",
        "  y += num #concat num to y\n",
        "#Thus, x is summation of all numbers in temp, y is concatenation of all items in temp\n",
        "print(x, y) # x => 1+2+3+4+5 => 15, y => '1'+'2'+'3'+'4'+'5' => '12345'"
      ],
      "metadata": {
        "colab": {
          "base_uri": "https://localhost:8080/"
        },
        "id": "FnUQjgXZHlPQ",
        "outputId": "8b6e59f4-9c7f-4f5d-c1ce-0af9565d0971"
      },
      "execution_count": null,
      "outputs": [
        {
          "output_type": "stream",
          "name": "stdout",
          "text": [
            "15 12345\n"
          ]
        }
      ]
    },
    {
      "cell_type": "markdown",
      "source": [
        "**Q14**: Fill in the blank so that the program print out $\\texttt{Wrd}$"
      ],
      "metadata": {
        "id": "NX6pVSntTriw"
      }
    },
    {
      "cell_type": "code",
      "source": [
        "my_string = \"Hello\"\n",
        "your_string = my_string + \" World\" + my_string\n",
        "print(your_string[___])"
      ],
      "metadata": {
        "id": "65aKjvm0TsBH"
      },
      "execution_count": null,
      "outputs": []
    },
    {
      "cell_type": "markdown",
      "source": [
        "Q14 : Explanation"
      ],
      "metadata": {
        "id": "QgvcGekZHmYq"
      }
    },
    {
      "cell_type": "code",
      "source": [
        "my_string = \"Hello\"\n",
        "your_string = my_string + \" World\" + my_string # => \"Hello WorldHello\" --> 'W', 'r', 'd' are at the index 6,8,10, respectively\n",
        "print(your_string[6:11:2]) # get your_string at indices [6, 8, 10]"
      ],
      "metadata": {
        "colab": {
          "base_uri": "https://localhost:8080/"
        },
        "id": "BAp0jDgyHn7t",
        "outputId": "d7448017-17b7-4662-b050-40c8360dc36a"
      },
      "execution_count": null,
      "outputs": [
        {
          "output_type": "stream",
          "name": "stdout",
          "text": [
            "Wrd\n"
          ]
        }
      ]
    },
    {
      "cell_type": "markdown",
      "source": [
        "**Q15**: Fill in the blank so that the program print out `Hello Alice, How are you? Today is Sunday.`"
      ],
      "metadata": {
        "id": "kcop0XxfSgG1"
      }
    },
    {
      "cell_type": "code",
      "source": [
        "def print_thing(name, day):\n",
        "  msg = f\"Hello {____},\"\n",
        "  msg += f\" How are you? \"\n",
        "  msg += f\"_____________\"\n",
        "  print(msg)\n",
        "\n",
        "print_thing(\"Alice\", \"Sunday\")"
      ],
      "metadata": {
        "id": "d27uKcUtSwwP"
      },
      "execution_count": null,
      "outputs": []
    },
    {
      "cell_type": "markdown",
      "source": [
        "Q15 : Explanation"
      ],
      "metadata": {
        "id": "SvtohfvVHoxb"
      }
    },
    {
      "cell_type": "code",
      "source": [
        "# this program shows that we can pass string as arguments\n",
        "#\n",
        "def print_thing(name, day): # when print_thing(\"Alice\", \"Sunday\") is called --> name => \"Alice\", day => \"Sunday\"\n",
        "  msg = f\"Hello {name},\"\n",
        "  msg += f\" How are you? \"\n",
        "  msg += f\"Today is {day}.\"\n",
        "  print(msg)\n",
        "\n",
        "print_thing(\"Alice\", \"Sunday\")"
      ],
      "metadata": {
        "colab": {
          "base_uri": "https://localhost:8080/"
        },
        "id": "830GLY_nHqMN",
        "outputId": "f512093f-fb1f-4c2e-80a6-3e3df8e7912e"
      },
      "execution_count": null,
      "outputs": [
        {
          "output_type": "stream",
          "name": "stdout",
          "text": [
            "Hello Alice, How are you? Today is Sunday.\n"
          ]
        }
      ]
    },
    {
      "cell_type": "markdown",
      "source": [
        "**Q16**: Fill in the blank so that the program print out `['1', '2', '3', '4', '5']`"
      ],
      "metadata": {
        "id": "CyGjVouHVyVq"
      }
    },
    {
      "cell_type": "code",
      "source": [
        "my_string = \"1,2,3,4,5\"\n",
        "string_lst = __________________\n",
        "print(string_lst)"
      ],
      "metadata": {
        "id": "92J3ys37VyuJ"
      },
      "execution_count": null,
      "outputs": []
    },
    {
      "cell_type": "markdown",
      "source": [
        "Q16 : Explanation"
      ],
      "metadata": {
        "id": "K3hROb6eHrCn"
      }
    },
    {
      "cell_type": "code",
      "source": [
        "my_string = \"1,2,3,4,5\"\n",
        "string_lst = my_string.split(',') #the numbers are seperated by ',' --> so, we can use the split(',') method to create a new list\n",
        "print(string_lst)"
      ],
      "metadata": {
        "colab": {
          "base_uri": "https://localhost:8080/"
        },
        "id": "lh8mUAZwHsdn",
        "outputId": "ed4262d4-5314-417a-bc09-df506cfb9580"
      },
      "execution_count": null,
      "outputs": [
        {
          "output_type": "stream",
          "name": "stdout",
          "text": [
            "['1', '2', '3', '4', '5']\n"
          ]
        }
      ]
    },
    {
      "cell_type": "markdown",
      "source": [
        "**Q17**: Find the sum from a given string\n",
        "\n",
        "จงเขียนฟังก์ชัน `sum_from_string(string)` ซึ่งรับตัวเลขหลายๆตัวคั่นด้วยช่องว่างเข้ามาเป็น string เช่น `10 30 50 10 31` แล้ว ส่งค่ากลับเป็น ผลรวมของตัวเลขทั้งหมด โดยที่ฟังก์ชัน `main` ให้มาแล้วซึ่งรับข้อมูลนำเข้าจากผู้ใช้งาน\n",
        "\n",
        "---\n",
        "\n",
        "Write a function `sum_from_string(string)` which takes in a string `string`. This string will be numbers separated by space, e.g., `10 30 50 10 31`. The function returns the sum of all numbers. `main` function is provided which asks the user for the input.\n",
        "\n",
        "Example 1:\n",
        "```\n",
        "Enter numbers: 1 2 3 4\n",
        "Total = 10\n",
        "```\n",
        "\n",
        "Example 2:\n",
        "```\n",
        "Enter numbers: 10 30 50 10 31\n",
        "Total = 131\n",
        "```"
      ],
      "metadata": {
        "id": "mNgLqBJJaRxJ"
      }
    },
    {
      "cell_type": "code",
      "source": [
        "def sum_from_string(string):\n",
        "  # Args: string - numbers separated by spaces as a string\n",
        "  # Return: total - the sum of all numbers.\n",
        "  # Fill in your code here\n",
        "\n",
        "  return ...\n",
        "\n",
        "def main():\n",
        "  numbers = input('Enter numbers: ')\n",
        "  total = sum_from_string(numbers)\n",
        "  print(f'Total = {total}')\n",
        "\n",
        "main()"
      ],
      "metadata": {
        "id": "z18_z7swaSEE"
      },
      "execution_count": null,
      "outputs": []
    },
    {
      "cell_type": "markdown",
      "source": [
        "Q17 : Explanation"
      ],
      "metadata": {
        "id": "g9VnPvQTHvfJ"
      }
    },
    {
      "cell_type": "code",
      "source": [
        "# Method 1) split the string with string.split() then loop through the list and converse each item to integer\n",
        "def sum_from_string(string):\n",
        "  # Args: string - numbers separated by spaces as a string\n",
        "  # Return: total - the sum of all numbers.\n",
        "  string_lst = string.split()\n",
        "  total = 0\n",
        "  for num in string_lst:\n",
        "    total += int(num)\n",
        "  return total\n",
        "\n",
        "def main():\n",
        "  numbers = input('Enter numbers: ')\n",
        "  total = sum_from_string(numbers)\n",
        "  print(f'Total = {total}')\n",
        "\n",
        "main()"
      ],
      "metadata": {
        "colab": {
          "base_uri": "https://localhost:8080/"
        },
        "id": "bWPg3GoMHw9E",
        "outputId": "33714643-ec2b-40c9-afa5-3c9af00a9d90"
      },
      "execution_count": null,
      "outputs": [
        {
          "output_type": "stream",
          "name": "stdout",
          "text": [
            "Enter numbers: 1 2 3 4\n",
            "Total = 10\n"
          ]
        }
      ]
    },
    {
      "cell_type": "code",
      "source": [
        "# Alternate solution: Create a new list by conversing the string to number first\n",
        "def sum_from_string(string):\n",
        "  # Args: string - numbers separated by spaces as a string\n",
        "  # Return: total - the sum of all numbers.\n",
        "  string_lst = string.split()\n",
        "  number_list = [int(num) for num in string_lst]\n",
        "  total = sum(number_list)\n",
        "  return total\n",
        "\n",
        "def main():\n",
        "  numbers = input('Enter numbers: ')\n",
        "  total = sum_from_string(numbers)\n",
        "  print(f'Total = {total}')\n",
        "\n",
        "main()"
      ],
      "metadata": {
        "colab": {
          "base_uri": "https://localhost:8080/"
        },
        "id": "tKME1V5ycbti",
        "outputId": "35f8d794-8f90-4d16-a188-ff7db6006218"
      },
      "execution_count": null,
      "outputs": [
        {
          "output_type": "stream",
          "name": "stdout",
          "text": [
            "Enter numbers: 10 30 50 10 31\n",
            "Total = 131\n"
          ]
        }
      ]
    },
    {
      "cell_type": "markdown",
      "source": [
        "**Q18**: Defanging an IP Address\n",
        "\n",
        "จงเขียนฟังก์ชั่น `defang(ip)` ซึ่งรับ ip address (e.g., 1.1.1.1) เข้าไปแล้วส่ง ip ที่เป็น defanged version คือ \".\" ถูกแทนที่ด้วย \"[.]\" ออกมา. `main()` ให้มาแล้ว\n",
        "\n",
        "**เพิ่มเติม**: ลองทำข้อนี้มากกว่าหนึ่งวิธี\n",
        "\n",
        "---\n",
        "\n",
        "Write a function `defang(ip)` which takes in an IP address and return a defanged version. `main()` is provided.\n",
        "\n",
        "A defanged IP is an ip which every \".\" is replaced by \"[.]\".\n",
        "\n",
        "**Extra**: Try to solve this problem with at least two ways.\n",
        "\n",
        "Example 1:\n",
        "```\n",
        "Enter IP address: 1.1.1.1\n",
        "1[.]1[.]1[.]1\n",
        "```\n",
        "\n",
        "Example 2:\n",
        "```\n",
        "Enter IP address: 255.100.50.0\n",
        "255[.]100[.]50[.]0\n",
        "```"
      ],
      "metadata": {
        "id": "7-cqRpFkaMtH"
      }
    },
    {
      "cell_type": "code",
      "source": [
        "def defang(ip):\n",
        "  # Args: ip (string)\n",
        "  # Returns: defanged ip (string)\n",
        "  # fill in your code here\n",
        "\n",
        "  return ...\n",
        "\n",
        "def main():\n",
        "  ip = input('Enter IP address: ')\n",
        "  print(defang(ip))\n",
        "\n",
        "main()"
      ],
      "metadata": {
        "id": "RSJziXGPaNT7"
      },
      "execution_count": null,
      "outputs": []
    },
    {
      "cell_type": "markdown",
      "source": [
        "Q18 : Explanation"
      ],
      "metadata": {
        "id": "MzLtm_NEHyUh"
      }
    },
    {
      "cell_type": "code",
      "source": [
        "#Method 1) loop into string to find '.', the replace it with '[.]'\n",
        "def defang(ip):\n",
        "  # Args: ip (string)\n",
        "  # Returns: defanged ip (string)\n",
        "  defanged_ip = ''\n",
        "  for char in ip:\n",
        "    if char == '.':\n",
        "      defanged_ip += '[.]'\n",
        "    else:\n",
        "      defanged_ip += char\n",
        "  return defanged_ip\n",
        "\n",
        "def main():\n",
        "  ip = input('Enter IP address: ')\n",
        "  print(defang(ip))\n",
        "\n",
        "main()"
      ],
      "metadata": {
        "colab": {
          "base_uri": "https://localhost:8080/"
        },
        "id": "eQceydf3Hzxd",
        "outputId": "e9112018-4b9f-483d-bfa4-8e3b229d22e7"
      },
      "execution_count": null,
      "outputs": [
        {
          "output_type": "stream",
          "name": "stdout",
          "text": [
            "Enter IP address: 1.1.1.1\n",
            "1[.]1[.]1[.]1\n"
          ]
        }
      ]
    },
    {
      "cell_type": "code",
      "source": [
        "#Method 2) use the 𝚛𝚎𝚙𝚕𝚊𝚌𝚎(𝚜𝚞𝚋𝚜𝚝𝚛𝚒𝚗𝚐, 𝚗𝚎𝚠_𝚜𝚝𝚛𝚒𝚗𝚐) method\n",
        "def defang(ip):\n",
        "  # Args: ip (string)\n",
        "  # Returns: defanged ip (string)\n",
        "  return ip.replace('.', '[.]')\n",
        "\n",
        "def main():\n",
        "  ip = input('Enter IP address: ')\n",
        "  print(defang(ip))\n",
        "\n",
        "main()"
      ],
      "metadata": {
        "colab": {
          "base_uri": "https://localhost:8080/"
        },
        "id": "E4tIjqX-feyC",
        "outputId": "c0f21189-d4a2-42e3-b83f-bf46dfee1260"
      },
      "execution_count": null,
      "outputs": [
        {
          "output_type": "stream",
          "name": "stdout",
          "text": [
            "Enter IP address: 255.100.50.0\n",
            "255[.]100[.]50[.]0\n"
          ]
        }
      ]
    },
    {
      "cell_type": "markdown",
      "source": [
        "**Q19**: Check first and last\n",
        "\n",
        "จงเขียนฟังก์ชัน `check_first_last(string, target)` ซึ่งรับค่าสตริงสองตัว: `string` และ `target` และส่งคืนค่าสองค่า: ว่า `string` ขึ้นต้นด้วย `target` หรือไม่ (`True` หรือ `False`) และว่า `string` ลงท้ายด้วย `target` หรือไม่ (`True` หรือ `False`)\n",
        "\n",
        "**ข้อกำหนด**\n",
        "- **ใช้ slicing เพื่อแก้ปัญหานี้** ลองคิดว่าคุณจะตัดส่วนต้นและส่วนท้ายของ `string` อย่างไรเพื่อให้มีความยาวเท่ากับ `target`\n",
        "- ฟังก์ชัน `main()` มีให้แล้ว\n",
        "\n",
        "---\n",
        "\n",
        "Write a function `check_first_last(string, target)` which takes in two strings: `string` and `target` and return two values: whether `string` starts with `target` and whether `string` ends with `target` (`True` or `False`) .\n",
        "\n",
        "**Requirement**\n",
        "- **Use slicing to solve this problem**. Think about how would you slice the start and the end of `string` to have the same lenght as `target`.\n",
        "- `main()` is provided\n",
        "\n",
        "Example 1\n",
        "```\n",
        "Enter string: Hello\n",
        "Enter target: He\n",
        "Start = True, End = False\n",
        "```\n",
        "\n",
        "Example 2\n",
        "```\n",
        "Enter string: ABCDDDABC\n",
        "Enter target: ABC\n",
        "Start = True, End = True\n",
        "```\n"
      ],
      "metadata": {
        "id": "G030yMNFaymi"
      }
    },
    {
      "cell_type": "code",
      "source": [
        "# Implement check_first_last(string, target) below\n",
        "def check_first_last(string, target):\n",
        "  # fill in your code below\n",
        "  ...\n",
        "\n",
        "def main():\n",
        "  string = input('Enter string: ')\n",
        "  target = input('Enter target: ')\n",
        "  fst, lst = check_first_last(string, target)\n",
        "  print(f'First = {fst}, Last = {lst}')\n",
        "\n",
        "main()"
      ],
      "metadata": {
        "id": "ueXuXd6Pgspl"
      },
      "execution_count": null,
      "outputs": []
    },
    {
      "cell_type": "markdown",
      "source": [
        "Q19 : Explanation\n",
        "\n",
        "\n",
        "---\n",
        "\n",
        "Steps to solve this problem\n",
        "\n",
        "1.   Get the length of the *target* we want to check\n",
        "2.   Get the beginning part of *string*  with the same length as the target\n",
        "3.   Get the ending part of *string*  with the same length as the target\n",
        "4.   Check if #2 and #3 matches the target\n",
        "5.   Return the finding"
      ],
      "metadata": {
        "id": "7Z9Q1fBDH1ds"
      }
    },
    {
      "cell_type": "code",
      "source": [
        "def check_first_last(string, target): #For example, if string is \"Hello\" and target is \"He\"\n",
        "  len_target = len(target) #get length of target --> len(\"He\") is 2\n",
        "  cut_start = string[:len_target] #slice the first part of string with length of target --> string[:2] --> cut_start => \"He\"\n",
        "  cut_end = string[-len_target:] #slice the last part of string with length of target --> string[-2:] --> cut_end => \"lo\"\n",
        "  if cut_start == target: #Check if it matches the target\n",
        "    found_start = True\n",
        "  else:\n",
        "    found_start = False\n",
        "  if cut_end == target:\n",
        "    found_end = True\n",
        "  else:\n",
        "    found_end = False\n",
        "  return found_start, found_end\n",
        "\n",
        "def main():\n",
        "  string = input('Enter string: ')\n",
        "  target = input('Enter target: ')\n",
        "  fst, lst = check_first_last(string, target)\n",
        "  print(f'First = {fst}, Last = {lst}')\n",
        "\n",
        "main()"
      ],
      "metadata": {
        "colab": {
          "base_uri": "https://localhost:8080/"
        },
        "id": "E_fb7jPMhbCp",
        "outputId": "2550ef56-a407-4071-81c2-1d009760f710"
      },
      "execution_count": null,
      "outputs": [
        {
          "output_type": "stream",
          "name": "stdout",
          "text": [
            "Enter string: Hello\n",
            "Enter target: He\n",
            "First = True, Last = False\n"
          ]
        }
      ]
    },
    {
      "cell_type": "code",
      "source": [
        "# Alternate solution: using short form\n",
        "\n",
        "def check_first_last(string, target):\n",
        "  len_target = len(target) #get length of target\n",
        "  cut_start = string[:len_target] #slice the first part of string with length of target\n",
        "  cut_end = string[-len_target:] #slice the last part of string with length of target\n",
        "\n",
        "  return cut_start == target, cut_end == target #Use condition to check if they are the same with target and return them directly\n",
        "\n",
        "def main():\n",
        "  string = input('Enter string: ')\n",
        "  target = input('Enter target: ')\n",
        "  fst, lst = check_first_last(string, target)\n",
        "  print(f'First = {fst}, Last = {lst}')\n",
        "\n",
        "main()"
      ],
      "metadata": {
        "colab": {
          "base_uri": "https://localhost:8080/"
        },
        "id": "gpgTKA5BH3Ba",
        "outputId": "44205853-bc49-46de-d8a2-29a1aac4abbc"
      },
      "execution_count": null,
      "outputs": [
        {
          "output_type": "stream",
          "name": "stdout",
          "text": [
            "Enter string: Hello\n",
            "Enter target: He\n",
            "First = True, Last = False\n"
          ]
        }
      ]
    },
    {
      "cell_type": "code",
      "source": [
        "# Alternate solution: one line\n",
        "\n",
        "def check_first_last(string, target):\n",
        "  return string[:len(target)] == target, string[-len(target):] == target #Use condition to check if they are the same with target and return them directly\n",
        "\n",
        "def main():\n",
        "  string = input('Enter string: ')\n",
        "  target = input('Enter target: ')\n",
        "  fst, lst = check_first_last(string, target)\n",
        "  print(f'First = {fst}, Last = {lst}')\n",
        "\n",
        "main()"
      ],
      "metadata": {
        "id": "grkyW_yT_TnH"
      },
      "execution_count": null,
      "outputs": []
    },
    {
      "cell_type": "markdown",
      "source": [
        "**Q20**: Jewels and Stones\n",
        "\n",
        "จงเขียนฟังก์ชัน `count_jewels(jewels,stones)` ซึ่งรับสตริงสองตัว: `jewels` และ `stones` และนับว่ามีกี่ `stones` ที่เป็น `jewels` โดย `jewels` เป็นสตริงของตัวอักษรที่ระบุว่าตัวอักษรใดเป็นอัญมณี และ `stones` เป็นสตริงของตัวอักษร\n",
        "\n",
        "ตัวอักษรมีความเป็นตัวพิมพ์ใหญ่-เล็ก (case sensitive) ดังนั้น \"a\" และ \"A\" จึงไม่ใช่ตัวเดียวกัน\n",
        "\n",
        "---\n",
        "\n",
        "Write a function `count_jewels(jewels,stones)` which takes in two strings: `jewels` and `stones` and count how many `stones` are `jewels`. `jewels` is a string of characters indicating which characters are a jewel. `stones` is a string of characters.\n",
        "\n",
        "Characters are case sensitive so \"a\" and \"A\" are not the same.\n",
        "\n",
        "Example 1:\n",
        "```\n",
        "Enter jewels: aA\n",
        "Enter stones aAAbbbb\n",
        "3\n",
        "```\n",
        "Explanation: There are two jewels, 'a' and 'A'. There is 1 'a' and 2 'A' in the stones so the total is 3.\n",
        "\n",
        "Example 2:\n",
        "```\n",
        "Enter jewels: z\n",
        "Enter stones: ZZ\n",
        "0\n",
        "```\n",
        "\n",
        "Example 3:\n",
        "```\n",
        "Enter jewels: kKp\n",
        "Enter stones: aaBkBcKcKcDDgkggkgpp\n",
        "7\n",
        "```"
      ],
      "metadata": {
        "id": "RnxOEhuPaNv5"
      }
    },
    {
      "cell_type": "code",
      "source": [
        "# implement count_jewels(jewels, stones) here\n",
        "def count_jewels(jewels, stones):\n",
        "  # Args:\n",
        "  #    - jewels (string)\n",
        "  #    - stones (string)\n",
        "  # Return: a number\n",
        "  ...\n",
        "\n",
        "def main():\n",
        "  jewels = input('Enter jewels: ')\n",
        "  stones = input('Enter stones: ')\n",
        "  print(count_jewels(jewels, stones))\n",
        "\n",
        "main()"
      ],
      "metadata": {
        "id": "XFgmdfjeaPOH"
      },
      "execution_count": null,
      "outputs": []
    },
    {
      "cell_type": "markdown",
      "source": [
        "Q20 : Explanation"
      ],
      "metadata": {
        "id": "Wah-kU-XH4aH"
      }
    },
    {
      "cell_type": "code",
      "source": [
        "# Method 1) Use nested for loop\n",
        "def count_jewels(jewels, stones):\n",
        "  # Args:\n",
        "  #    - jewels (string)\n",
        "  #    - stones (string)\n",
        "  # Return: a number\n",
        "  count = 0\n",
        "  for stone in stones: #Check each stone one by one\n",
        "    for jewel in jewels: #we want to check all the jewels one by one\n",
        "      if stone == jewel: #check if the stone is the jewel or not\n",
        "        count += 1\n",
        "  return count\n",
        "\n",
        "def main():\n",
        "  jewels = input('Enter jewels: ')\n",
        "  stones = input('Enter stones: ')\n",
        "  print(count_jewels(jewels, stones))\n",
        "\n",
        "main()"
      ],
      "metadata": {
        "colab": {
          "base_uri": "https://localhost:8080/"
        },
        "id": "xEPAKzn-k8eY",
        "outputId": "9a43eb23-c506-42d5-e1b2-7689b064e921"
      },
      "execution_count": null,
      "outputs": [
        {
          "output_type": "stream",
          "name": "stdout",
          "text": [
            "Enter jewels: aA\n",
            "Enter stones: aAAbbbb\n",
            "3\n"
          ]
        }
      ]
    },
    {
      "cell_type": "code",
      "source": [
        "# Method 2) use for and then check \"if character in string\"\n",
        "def count_jewels(jewels, stones):\n",
        "  # Args:\n",
        "  #    - jewels (string)\n",
        "  #    - stones (string)\n",
        "  # Return: a number\n",
        "  count = 0\n",
        "  for jewel in jewels: #Check each jewel that we want to count one by one\n",
        "    if jewel in stones: #for each jewel, count how many of it is in stones\n",
        "      count += 1\n",
        "  return count\n",
        "\n",
        "def main():\n",
        "  jewels = input('Enter jewels: ')\n",
        "  stones = input('Enter stones: ')\n",
        "  print(count_jewels(jewels, stones))\n",
        "\n",
        "main()"
      ],
      "metadata": {
        "colab": {
          "base_uri": "https://localhost:8080/"
        },
        "id": "NhSnjyzxH6F6",
        "outputId": "186f99ee-4fd6-47f5-b4c8-bc7f32f9ff1f"
      },
      "execution_count": null,
      "outputs": [
        {
          "output_type": "stream",
          "name": "stdout",
          "text": [
            "Enter jewels: kKp\n",
            "Enter stones: aaBkBcKcKcDDgkggkgpp\n",
            "7\n"
          ]
        }
      ]
    }
  ]
}