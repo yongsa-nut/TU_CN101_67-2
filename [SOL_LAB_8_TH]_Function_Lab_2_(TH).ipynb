{
  "nbformat": 4,
  "nbformat_minor": 0,
  "metadata": {
    "colab": {
      "provenance": [],
      "include_colab_link": true
    },
    "kernelspec": {
      "name": "python3",
      "display_name": "Python 3"
    },
    "language_info": {
      "name": "python"
    }
  },
  "cells": [
    {
      "cell_type": "markdown",
      "metadata": {
        "id": "view-in-github",
        "colab_type": "text"
      },
      "source": [
        "<a href=\"https://colab.research.google.com/github/yongsa-nut/TU_CN101_67-2/blob/main/%5BSOL_LAB_8_TH%5D_Function_Lab_2_(TH).ipynb\" target=\"_parent\"><img src=\"https://colab.research.google.com/assets/colab-badge.svg\" alt=\"Open In Colab\"/></a>"
      ]
    },
    {
      "cell_type": "markdown",
      "source": [
        "# Function Lab 2"
      ],
      "metadata": {
        "id": "j40-C7hfAp4t"
      }
    },
    {
      "cell_type": "markdown",
      "source": [
        "**Q1**: What will the following program print out?\n",
        "\n",
        "```python\n",
        "def funcx(n):\n",
        "  y = 1+n**2\n",
        "  return 2*y\n",
        "\n",
        "def main():\n",
        "  print(funcx(funcx(2)))\n",
        "  \n",
        "main()\n",
        "```"
      ],
      "metadata": {
        "id": "gtc29vyTnXw_"
      }
    },
    {
      "cell_type": "code",
      "source": [
        "202"
      ],
      "metadata": {
        "id": "i53RS0N9ngV1"
      },
      "execution_count": null,
      "outputs": []
    },
    {
      "cell_type": "markdown",
      "source": [
        "Q1: Explanation"
      ],
      "metadata": {
        "id": "LJ0SQkZXcR4o"
      }
    },
    {
      "cell_type": "code",
      "source": [
        "# In this program, the function funcx(n) was called twice funcx(2) and then funcx(*) where * is outout of funcx(2)\n",
        "def funcx(n):\n",
        "  y = 1+n**2\n",
        "  return 2*y\n",
        "#funcx(n) --> return 2*(1+n**2)\n",
        "#funcx(2) => 2*(1+2**2) => 2*(1+4) => 10\n",
        "#funcx(10) => 2*(1+10**2) => 2*(1+100) => 202\n",
        "def main():\n",
        "  print(funcx(funcx(2))) #print out 202 because funcx(funcx(2)) => funcx(10) => 202 as calculated above\n",
        "\n",
        "main()"
      ],
      "metadata": {
        "id": "cWpWe7rYcT92"
      },
      "execution_count": null,
      "outputs": []
    },
    {
      "cell_type": "markdown",
      "source": [
        "**Q2**: What will the following program print out?\n",
        "\n",
        "```python\n",
        "def my_func(x=3, y=5):\n",
        " return x*y, x-y\n",
        "\n",
        "x, y = my_func(y=5, x=4)\n",
        "print(x, y)\n",
        "```"
      ],
      "metadata": {
        "id": "nHPrWd_fnglu"
      }
    },
    {
      "cell_type": "code",
      "source": [
        "20 -1"
      ],
      "metadata": {
        "id": "_-OUA9CUnhYI"
      },
      "execution_count": null,
      "outputs": []
    },
    {
      "cell_type": "markdown",
      "source": [
        "Q2: Explanation"
      ],
      "metadata": {
        "id": "nPklJ8FWcap_"
      }
    },
    {
      "cell_type": "code",
      "source": [
        "def my_func(x=3, y=5):\n",
        " return x*y, x-y\n",
        "\n",
        "x, y = my_func(y=5, x=4) # position when calling function is irrelevant when using keyword arguments\n",
        "# since my_func(x=4, y=5) return 4*5, 4-5 --> Here, x = 20 and y=-1\n",
        "print(x, y) #20 -1"
      ],
      "metadata": {
        "id": "bcdq0HsFca-M"
      },
      "execution_count": null,
      "outputs": []
    },
    {
      "cell_type": "markdown",
      "source": [
        "**Q3**: What will the following program print out?\n",
        "\n",
        "```python\n",
        "def do_x(a, b, c):\n",
        "  return a*b, b+c, a+b*c\n",
        "x = 3\n",
        "outcomes = do_x(1, x, x+2)\n",
        "print(outcomes[0], outcomes[1], outcomes[2])\n",
        "```"
      ],
      "metadata": {
        "id": "fHBl5HkjMhhE"
      }
    },
    {
      "cell_type": "code",
      "source": [
        "3 8 16"
      ],
      "metadata": {
        "id": "gLCR_VJIMbp7"
      },
      "execution_count": null,
      "outputs": []
    },
    {
      "cell_type": "markdown",
      "source": [
        "Q3: Explanation"
      ],
      "metadata": {
        "id": "AfUvQBRocfm5"
      }
    },
    {
      "cell_type": "code",
      "source": [
        "def do_x(a, b, c):\n",
        "  return a*b, b+c, a+b*c\n",
        "x = 3\n",
        "outcomes = do_x(1, x, x+2) #The arguments were passed by values. With a=1, b=x, and c=x+2\n",
        "# since do_x(a=1, b=3, c=5) return 1*3, 3+5, 1+3*5 --> here outcomes = [3, 8, 16]\n",
        "print(outcomes[0], outcomes[1], outcomes[2]) # print --> 3 8 16"
      ],
      "metadata": {
        "colab": {
          "base_uri": "https://localhost:8080/"
        },
        "id": "p8XMt8Phcgxy",
        "outputId": "0fb2c0c1-48f4-4dad-b3dc-62fc76307001"
      },
      "execution_count": null,
      "outputs": [
        {
          "output_type": "stream",
          "name": "stdout",
          "text": [
            "3 8 16\n"
          ]
        }
      ]
    },
    {
      "cell_type": "markdown",
      "source": [
        "**Q4**: What will the following program print out?\n",
        "\n",
        "```python\n",
        "def cal_something(data):\n",
        "  total = sum(data)\n",
        "  return total, total/len(data)\n",
        "def print_results(data, results):\n",
        "  print(f\"Data is {data}\")\n",
        "  print(f\"Total = {results[0]}. Avg = {results[1]}\")\n",
        "\n",
        "def main():\n",
        "  my_data = [1, 5, 9, 5]\n",
        "  stats = cal_something(my_data)\n",
        "  print_results(my_data, stats)\n",
        "\n",
        "main()\n",
        "```"
      ],
      "metadata": {
        "id": "mgdjCVEtMd3m"
      }
    },
    {
      "cell_type": "code",
      "source": [
        "Data is [1, 5, 9, 5]\n",
        "Total = 20. Avg = 5.0"
      ],
      "metadata": {
        "id": "SLZjGJEoMkzR"
      },
      "execution_count": null,
      "outputs": []
    },
    {
      "cell_type": "markdown",
      "source": [
        "Q4: Explanation"
      ],
      "metadata": {
        "id": "mPlfH2K2ciFw"
      }
    },
    {
      "cell_type": "code",
      "source": [
        "def cal_something(data):\n",
        "  total = sum(data)\n",
        "  return total, total/len(data) # --> return the summation of all numbers in the list 'data', and their average\n",
        "\n",
        "def print_results(data, results):\n",
        "  print(f\"Data is {data}\")\n",
        "  print(f\"Total = {results[0]}. Avg = {results[1]}\")  # based on the text strings --> we can infer that the variable 'results' are the output from cal_something(data)\n",
        "\n",
        "def main():\n",
        "  my_data = [1, 5, 9, 5] # -->\n",
        "  stats = cal_something(my_data) # Since, sum(data) => 1+5+9+5 => 20  and the average is 20/4 => 5 --> Therefore, stats => (20, 5.0)\n",
        "  print_results(my_data, stats) # The output is\n",
        "  #Data is [1, 5, 9, 5]\n",
        "  #Total = 20. Avg = 5.0\n",
        "\n",
        "main() #--> function main() is called"
      ],
      "metadata": {
        "colab": {
          "base_uri": "https://localhost:8080/"
        },
        "id": "qyDS76QdcjyL",
        "outputId": "834606fd-67ad-4474-82ca-448173e8243a"
      },
      "execution_count": null,
      "outputs": [
        {
          "output_type": "stream",
          "name": "stdout",
          "text": [
            "Data is [1, 5, 9, 5]\n",
            "Total = 20. Avg = 5.0\n"
          ]
        }
      ]
    },
    {
      "cell_type": "markdown",
      "source": [
        "**Q5**: What will the following program print out?\n",
        "\n",
        "```python\n",
        "import math\n",
        "\n",
        "if math.e > 5:\n",
        "  print(\"Hello\", end='-')\n",
        "  if math.pi > 3:\n",
        "    print(\"Hi\")\n",
        "  else:\n",
        "    print(\"Bye\")\n",
        "else:\n",
        "  print(\"Noon\", end='-')\n",
        "  if math.pi < 3:\n",
        "    print(\"Rain\")\n",
        "  else:\n",
        "    print(\"Sunny\")\n",
        "```"
      ],
      "metadata": {
        "id": "vtpPQn60nhjm"
      }
    },
    {
      "cell_type": "code",
      "source": [
        "Noon-Sunny"
      ],
      "metadata": {
        "id": "05PWUfYMnigL"
      },
      "execution_count": null,
      "outputs": []
    },
    {
      "cell_type": "markdown",
      "source": [
        "Q5: Explanation"
      ],
      "metadata": {
        "id": "VkVoSwsvck7g"
      }
    },
    {
      "cell_type": "code",
      "source": [
        "import math\n",
        "# e is 2.718281828459045\n",
        "# pi is 3.141592653589793\n",
        "if math.e > 5: # --> False\n",
        "  print(\"Hello\", end='-')\n",
        "  if math.pi > 3:\n",
        "    print(\"Hi\")\n",
        "  else:\n",
        "    print(\"Bye\")\n",
        "else:\n",
        "  print(\"Noon\", end='-') #This line is executed. print --> \"Noon-\"\n",
        "  if math.pi < 3: # pi is  --> False\n",
        "    print(\"Rain\")\n",
        "  else:\n",
        "    print(\"Sunny\") #This line is executed. print --> \"Sunny\""
      ],
      "metadata": {
        "colab": {
          "base_uri": "https://localhost:8080/"
        },
        "id": "VnEH4srFcmll",
        "outputId": "1303d4d6-7a30-48b3-c41e-59ea68beb58e"
      },
      "execution_count": null,
      "outputs": [
        {
          "output_type": "stream",
          "name": "stdout",
          "text": [
            "Noon-Sunny\n"
          ]
        }
      ]
    },
    {
      "cell_type": "markdown",
      "source": [
        "**Q6**: What will the following program print out?\n",
        "\n",
        "```python\n",
        "def double(x=0, y=1):\n",
        "  return x*2, y*2\n",
        "\n",
        "def cal_sum(start, end, step = 2):\n",
        "  total = 0\n",
        "  for i in range(start, end, step):\n",
        "    total += i\n",
        "  return total\n",
        "\n",
        "def main():\n",
        "  start, end = double(y = 3)\n",
        "  result = cal_sum(start, end)\n",
        "  print(result)\n",
        "\n",
        "main()\n",
        "```"
      ],
      "metadata": {
        "id": "YsH8duS-ni3U"
      }
    },
    {
      "cell_type": "code",
      "source": [
        "6"
      ],
      "metadata": {
        "id": "oECSBwHznjrN"
      },
      "execution_count": null,
      "outputs": []
    },
    {
      "cell_type": "markdown",
      "source": [
        "Q6: Explanation"
      ],
      "metadata": {
        "id": "eiZDNv6scoVf"
      }
    },
    {
      "cell_type": "code",
      "source": [
        "def double(x=0, y=1):\n",
        "  return x*2, y*2\n",
        "\n",
        "def cal_sum(start, end, step = 2): # the default value for step is 2\n",
        "  total = 0\n",
        "  for i in range(start, end, step): # range(0, 6, 2) --> i => [0, 2, 4]\n",
        "    total += i #calculate cumulative sum\n",
        "  return total  #total = 0+2+4 => 6\n",
        "\n",
        "def main():\n",
        "  start, end = double(y = 3) #only the argument y was passed to the function, therefore, we use the default value for x ---> start==> 0*2=> 2, end==> 3*2=> 6\n",
        "  result = cal_sum(start, end) #cal_sum(0, 6) was called --> result => 6\n",
        "  print(result)\n",
        "\n",
        "main()"
      ],
      "metadata": {
        "colab": {
          "base_uri": "https://localhost:8080/"
        },
        "id": "HTMot2wkcqUz",
        "outputId": "ad7aeea9-f53a-4388-93cc-429085e556c4"
      },
      "execution_count": null,
      "outputs": [
        {
          "output_type": "stream",
          "name": "stdout",
          "text": [
            "6\n"
          ]
        }
      ]
    },
    {
      "cell_type": "markdown",
      "source": [
        "**Q7**: What will the following program print out?\n",
        "\n",
        "```python\n",
        "x = 5\n",
        "\n",
        "def do_x():\n",
        "  global x\n",
        "  x = x + 3\n",
        "\n",
        "def do_y():\n",
        "  do_x()\n",
        "  do_x()\n",
        "\n",
        "def do_z():\n",
        "  x = 7\n",
        "  x = x + 5\n",
        "\n",
        "do_y()\n",
        "print(x)\n",
        "do_z()\n",
        "print(x)\n",
        "```"
      ],
      "metadata": {
        "id": "QA7iZFbuJSsm"
      }
    },
    {
      "cell_type": "code",
      "source": [
        "11\n",
        "11"
      ],
      "metadata": {
        "id": "YzwzUOuDJWff"
      },
      "execution_count": null,
      "outputs": []
    },
    {
      "cell_type": "markdown",
      "source": [
        "Q7: Explanation"
      ],
      "metadata": {
        "id": "BZ7Pm5fdcrOX"
      }
    },
    {
      "cell_type": "code",
      "source": [
        "x = 5 #We define a variable called 'x' in the global scope --> let's call this the 'global x'\n",
        "\n",
        "def do_x():\n",
        "  global x #At this line, you declare that the variable 'x' here is the same as the one in the outmost layer (== global x)\n",
        "  x = x + 3 #so, whatever you do to x here affect the outside x as well (since they are the same variable)\n",
        "\n",
        "def do_y():\n",
        "  do_x()\n",
        "  do_x()\n",
        "\n",
        "def do_z():\n",
        "  x = 7 # The variable, x, is a local variable with the scope limited to the inside of the function do_z() --> let's call this the 'local x'\n",
        "  x = x + 5 #when you manipulate variable 'x' here the 'global x' doesn't get affected. (remember, this 'local x' is different from the 'global x')\n",
        "\n",
        "do_y()\n",
        "print(x) #This line print the value of 'global x' ==> 5+3+3 => 11\n",
        "do_z()\n",
        "print(x) #This line print the value of 'global x', which is not changed at all inside do_z()"
      ],
      "metadata": {
        "colab": {
          "base_uri": "https://localhost:8080/"
        },
        "id": "Qwmfdx8IcsnB",
        "outputId": "17432747-d8ce-4b26-d589-09737286f934"
      },
      "execution_count": null,
      "outputs": [
        {
          "output_type": "stream",
          "name": "stdout",
          "text": [
            "11\n",
            "11\n"
          ]
        }
      ]
    },
    {
      "cell_type": "code",
      "source": [
        "#If you are still confused, run this program and check the output line by line.\n",
        "x = 5\n",
        "\n",
        "def do_x():\n",
        "  print(\"\\t > This is inside do_x()\")\n",
        "  global x\n",
        "  x = x + 3\n",
        "  print(f\"\\t\\t->[ Inside do_x() | Currently x = {x} ] -- note: this is global x inside do_z()\")\n",
        "\n",
        "def do_y():\n",
        "  print(\"\\t > This is inside do_y()\")\n",
        "  do_x()\n",
        "  do_x()\n",
        "\n",
        "def do_z():\n",
        "  print(\"\\t > This is inside do_z()\")\n",
        "  x = 7\n",
        "  x = x + 5\n",
        "  print(f\"\\t\\t->[ Inside do_z() | Currently x = {x} ] -- note: this is local x inside do_z()\")\n",
        "\n",
        "print(f\"At the beginning, x is {x}\")\n",
        "print(\"do_y()\")\n",
        "do_y()\n",
        "print(\"After do_y() is called\")\n",
        "print(f\"x={x}\")\n",
        "print(\"------------------------\")\n",
        "print(\"do_z()\")\n",
        "do_z()\n",
        "print(\"After do_z() is called\")\n",
        "print(f\"x={x}\")"
      ],
      "metadata": {
        "colab": {
          "base_uri": "https://localhost:8080/"
        },
        "id": "8l-ytEK9eZeD",
        "outputId": "3f9960eb-548c-4006-8fa5-fec5a8296cd2"
      },
      "execution_count": null,
      "outputs": [
        {
          "output_type": "stream",
          "name": "stdout",
          "text": [
            "At the beginning, x is 5\n",
            "do_y()\n",
            "\t > This is inside do_y()\n",
            "\t > This is inside do_x()\n",
            "\t\t->[ Inside do_x() | Currently x = 8 ] -- note: this is global x inside do_z()\n",
            "\t > This is inside do_x()\n",
            "\t\t->[ Inside do_x() | Currently x = 11 ] -- note: this is global x inside do_z()\n",
            "After do_y() is called\n",
            "x=11\n",
            "------------------------\n",
            "do_z()\n",
            "\t > This is inside do_z()\n",
            "\t\t->[ Inside do_z() | Currently x = 12 ] -- note: this is local x inside do_z()\n",
            "After do_z() is called\n",
            "x=11\n"
          ]
        }
      ]
    },
    {
      "cell_type": "markdown",
      "source": [
        "**Q8**: What will the following program print out?\n",
        "\n",
        "```python\n",
        "my_number   = 5\n",
        "your_number = 10\n",
        "\n",
        "def do_something(x, y):\n",
        "  x = x + y\n",
        "  print(x, end=\",\")\n",
        "\n",
        "def do_more(x):\n",
        "  x = my_number + your_number\n",
        "  print(x, end=\",\")\n",
        "\n",
        "def do_another():\n",
        "  global my_number\n",
        "  my_number += 1\n",
        "  do_something(my_number, your_number)\n",
        "\n",
        "def main():\n",
        "  do_something(my_number, your_number)\n",
        "  do_more(5)\n",
        "  do_another()\n",
        "  do_something(my_number, your_number)\n",
        "\n",
        "main()\n",
        "```"
      ],
      "metadata": {
        "id": "kJzt4BLEnj4R"
      }
    },
    {
      "cell_type": "code",
      "source": [
        "15,15,16,16,"
      ],
      "metadata": {
        "id": "jpWF--U2nko4"
      },
      "execution_count": null,
      "outputs": []
    },
    {
      "cell_type": "markdown",
      "source": [
        "Q8: Explanation"
      ],
      "metadata": {
        "id": "3DfVLL4OcuFv"
      }
    },
    {
      "cell_type": "code",
      "source": [
        "my_number   = 5\n",
        "your_number = 10\n",
        "\n",
        "def do_something(x, y):\n",
        "  x = x + y\n",
        "  print(x, end=\",\")\n",
        "  # This function return the same output as print(f\"{x+y},\")\n",
        "\n",
        "def do_more(x):\n",
        "  x = my_number + your_number #x is assigned to the value of my_number + your_number\n",
        "  print(x, end=\",\")\n",
        "\n",
        "def do_another():\n",
        "  global my_number # tell the Python interpreter that the variable 'my_number' is the same one as the one in the global space\n",
        "  my_number += 1 #the global variable my_number is updated with the value of my_number + 1\n",
        "  do_something(my_number, your_number)\n",
        "\n",
        "def main():\n",
        "  do_something(my_number, your_number) # --> do_something(5, 10) is called  ---> because 5+10 == 15 --> print \"15,\"\n",
        "  do_more(5) # --> do_something(5, 10) is called  ---> because 5+10 == 15 --> print \"15,\"\n",
        "  do_another() # add one to my_number then call do_something(my_number, your_number)\n",
        "  do_something(my_number, your_number) #notice that the output here is differ from the first line because the global variable has been updated\n",
        "\n",
        "main()"
      ],
      "metadata": {
        "colab": {
          "base_uri": "https://localhost:8080/"
        },
        "id": "AoG1b6Plcvph",
        "outputId": "1da3a1c9-9555-4d15-de4b-3e46706bac5f"
      },
      "execution_count": null,
      "outputs": [
        {
          "output_type": "stream",
          "name": "stdout",
          "text": [
            "15,15,16,16,"
          ]
        }
      ]
    },
    {
      "cell_type": "code",
      "source": [
        "#If you are still confused, run this program and check the output line by line.\n",
        "my_number   = 5\n",
        "your_number = 10\n",
        "\n",
        "def do_something(x, y):\n",
        "  x = x + y\n",
        "  print(x, end=\",\")\n",
        "\n",
        "def do_more(x):\n",
        "  x = my_number + your_number\n",
        "  print(x, end=\",\")\n",
        "\n",
        "def do_another():\n",
        "  global my_number # tell the Python interpreter that the variable 'my_number' is the same one as the one in the global space\n",
        "  my_number += 1\n",
        "  do_something(my_number, your_number)\n",
        "\n",
        "def main():\n",
        "  print(\"main() is called\\n\")\n",
        "  print(f\"Current values are: my_number = {my_number}, your_number = {your_number}\\n\")\n",
        "  do_something(my_number, your_number)\n",
        "  print(\"\\n-----------------------------------------\\n\")\n",
        "  print(f\"After do_something({my_number}, {your_number})\")\n",
        "  print(f\"Current values are: my_number = {my_number}, your_number = {your_number}\\n\")\n",
        "  do_more(5)\n",
        "  print(\"\\n-----------------------------------------\\n\")\n",
        "  print(f\"After do_more(5)\")\n",
        "  print(f\"Current values are: my_number = {my_number}, your_number = {your_number}\\n\")\n",
        "  do_another()\n",
        "  print(\"\\n-----------------------------------------\\n\")\n",
        "  print(f\"After do_another()\")\n",
        "  print(f\"Current values are: my_number = {my_number}, your_number = {your_number}\\n\")\n",
        "  do_something(my_number, your_number)\n",
        "  print(\"\\n-----------------------------------------\\n\")\n",
        "  print(f\"After do_something({my_number}, {your_number})\")\n",
        "  print(f\"Current values are: my_number = {my_number}, your_number = {your_number}\\n\")\n",
        "\n",
        "main()"
      ],
      "metadata": {
        "colab": {
          "base_uri": "https://localhost:8080/"
        },
        "id": "OFttOfg8lWjg",
        "outputId": "c9493e65-2512-42e1-8e90-9fdecfc93d05"
      },
      "execution_count": null,
      "outputs": [
        {
          "output_type": "stream",
          "name": "stdout",
          "text": [
            "main() is called\n",
            "\n",
            "Current values are: my_number = 5, your_number = 10\n",
            "\n",
            "15,\n",
            "-----------------------------------------\n",
            "\n",
            "After do_something(5, 10)\n",
            "Current values are: my_number = 5, your_number = 10\n",
            "\n",
            "15,\n",
            "-----------------------------------------\n",
            "\n",
            "After do_more(5)\n",
            "Current values are: my_number = 5, your_number = 10\n",
            "\n",
            "16,\n",
            "-----------------------------------------\n",
            "\n",
            "After do_another()\n",
            "Current values are: my_number = 6, your_number = 10\n",
            "\n",
            "16,\n",
            "-----------------------------------------\n",
            "\n",
            "After do_something(6, 10)\n",
            "Current values are: my_number = 6, your_number = 10\n",
            "\n"
          ]
        }
      ]
    },
    {
      "cell_type": "markdown",
      "source": [
        "**Q9** Fill in the blank so that the program print out 7."
      ],
      "metadata": {
        "id": "wViwKi37oaJp"
      }
    },
    {
      "cell_type": "code",
      "source": [
        "def y(x, ___ ):\n",
        "  return z + x\n",
        "\n",
        "def main():\n",
        "  x = y(3)\n",
        "  print(x)\n",
        "main()"
      ],
      "metadata": {
        "id": "mQ0panAEocDq"
      },
      "execution_count": null,
      "outputs": []
    },
    {
      "cell_type": "markdown",
      "source": [
        "Q9: Explanation and solution"
      ],
      "metadata": {
        "id": "TQ14F7AYcxNM"
      }
    },
    {
      "cell_type": "code",
      "source": [
        "def y(x, z=4): #Set default value for z to 4 so that z+x => 7\n",
        "  return z + x #The function return z+x\n",
        "\n",
        "def main():\n",
        "  x = y(3) #We pass x as 3\n",
        "  print(x)\n",
        "main()"
      ],
      "metadata": {
        "colab": {
          "base_uri": "https://localhost:8080/"
        },
        "id": "fVj3LBLCW-_n",
        "outputId": "719e9f1d-4feb-4cf4-e1bc-800f9b54814e"
      },
      "execution_count": null,
      "outputs": [
        {
          "output_type": "stream",
          "name": "stdout",
          "text": [
            "7\n"
          ]
        }
      ]
    },
    {
      "cell_type": "markdown",
      "source": [
        "**Q10**:\n",
        "Fill in the blank to calculate the following equation: $y = \\frac{1}{2\\pi}e^{\\frac{-(x-\\mu)^2}{2}}$ (Note $\\mu$ = mu)"
      ],
      "metadata": {
        "id": "mC5ik0IMoWLO"
      }
    },
    {
      "cell_type": "code",
      "source": [
        "import math\n",
        "x = float(input('Enter x: ' ))\n",
        "mu = float(input('Enter mu: '))\n",
        "y = __________________________"
      ],
      "metadata": {
        "id": "bjJFTeJloXwY"
      },
      "execution_count": null,
      "outputs": []
    },
    {
      "cell_type": "markdown",
      "source": [
        "Q10: Explanation and solution"
      ],
      "metadata": {
        "id": "1Xiw3FJtc47G"
      }
    },
    {
      "cell_type": "code",
      "source": [
        "import math\n",
        "x = float(input('Enter x: ' ))\n",
        "mu = float(input('Enter mu: '))\n",
        "y = 1/(2*math.pi) * math.e**((-1*(x-mu)**2)/2) #Method 1) use math.e\n",
        "print(f'y = {y}')"
      ],
      "metadata": {
        "id": "AamDYIQgc6SP"
      },
      "execution_count": null,
      "outputs": []
    },
    {
      "cell_type": "code",
      "source": [
        "import math\n",
        "x = float(input('Enter x: ' ))\n",
        "mu = float(input('Enter mu: '))\n",
        "y = 1/(2*math.pi) * math.exp((-1*(x-mu)**2)/2) #Method 2) use math.exp()\n",
        "print(f'y = {y}')"
      ],
      "metadata": {
        "colab": {
          "base_uri": "https://localhost:8080/"
        },
        "id": "gT4r0mRzfBzB",
        "outputId": "1a7b6454-5d1d-49b6-ba43-ff180f11dad9"
      },
      "execution_count": null,
      "outputs": [
        {
          "output_type": "stream",
          "name": "stdout",
          "text": [
            "Enter x: 1\n",
            "Enter mu: 1\n",
            "y = 0.15915494309189535\n"
          ]
        }
      ]
    },
    {
      "cell_type": "markdown",
      "source": [
        "**Q11**: เติมโค้ดเพื่อให้โปรแกรมแสดงผลตัวเลขจำนวนเต็มสุ่มหนึ่งตัวที่มีค่าระหว่าง `lower` และ `upper` ซึ่งรับค่ามาจากผู้ใช้\n"
      ],
      "metadata": {
        "id": "Sbw9yxuRpttp"
      }
    },
    {
      "cell_type": "code",
      "source": [
        "import random\n",
        "\n",
        "lower = int(input('Enter lower: '))\n",
        "upper = int(input('Enter upper: '))\n",
        "\n",
        "rand_num = random._________________\n",
        "print(rand_num)"
      ],
      "metadata": {
        "id": "7X9RcKlurAgD"
      },
      "execution_count": null,
      "outputs": []
    },
    {
      "cell_type": "markdown",
      "source": [
        "Q11: Explanation and solution"
      ],
      "metadata": {
        "id": "dz4QKKgVc7Iw"
      }
    },
    {
      "cell_type": "code",
      "source": [
        "import random\n",
        "\n",
        "lower = int(input('Enter lower: '))\n",
        "upper = int(input('Enter upper: '))\n",
        "\n",
        "rand_num = random.randint(lower, upper) #returns an integer number selected between the range [lower, upper]  (included both 'lower' and 'upper')\n",
        "print(rand_num)"
      ],
      "metadata": {
        "colab": {
          "base_uri": "https://localhost:8080/"
        },
        "id": "XFAghCMJc8Um",
        "outputId": "80f989b2-a486-457b-aaa3-c689f8f004ff"
      },
      "execution_count": null,
      "outputs": [
        {
          "output_type": "stream",
          "name": "stdout",
          "text": [
            "Enter lower: 5\n",
            "Enter upper: 15\n",
            "7\n"
          ]
        }
      ]
    },
    {
      "cell_type": "markdown",
      "source": [
        "**Q12** เติมโค้ดเพื่อให้ฟังก์ชัน `gen_random_result` **คืนค่า** (return) ตัวเลขสุ่มระหว่าง 1 ถึง 50"
      ],
      "metadata": {
        "id": "OV8BzL71o1_n"
      }
    },
    {
      "cell_type": "code",
      "source": [
        "import random\n",
        "\n",
        "def gen_random_result(i):\n",
        "  random.seed(i)\n",
        "  _________________________\n",
        "\n",
        "def main():\n",
        "  print(gen_random_result(7))\n",
        "\n",
        "main()"
      ],
      "metadata": {
        "id": "hwSjmfs6o5A_"
      },
      "execution_count": null,
      "outputs": []
    },
    {
      "cell_type": "markdown",
      "source": [
        "Q12: Explanation and solution"
      ],
      "metadata": {
        "id": "v9N0N5Nvc8-z"
      }
    },
    {
      "cell_type": "code",
      "source": [
        "import random\n",
        "\n",
        "def gen_random_result(i):\n",
        "  random.seed(i) #set seed as i\n",
        "  return random.randint(1, 50) # return a random number between 1 and 50\n",
        "\n",
        "def main():\n",
        "  print(gen_random_result(7))\n",
        "\n",
        "main()"
      ],
      "metadata": {
        "colab": {
          "base_uri": "https://localhost:8080/"
        },
        "id": "ImPZY4mKc-Fv",
        "outputId": "71635d52-f5e3-474c-cda6-090659fc9f04"
      },
      "execution_count": null,
      "outputs": [
        {
          "output_type": "stream",
          "name": "stdout",
          "text": [
            "21\n"
          ]
        }
      ]
    },
    {
      "cell_type": "markdown",
      "source": [
        "**Q13**: เติมโค้ดด้านล่างเพื่อสร้างรายการของ **5** ตัวเลขสุ่มระหว่าง 1 ถึง 10 ผลลัพธ์ควรเป็น `[10, 5, 6, 9, 1]`"
      ],
      "metadata": {
        "id": "qNZSutGEt8H4"
      }
    },
    {
      "cell_type": "code",
      "source": [
        "import random\n",
        "\n",
        "random.seed(5)\n",
        "\n",
        "lst = [______________ for i in range(___)]\n",
        "print(lst)"
      ],
      "metadata": {
        "id": "6EJx1MhMt9Fw"
      },
      "execution_count": null,
      "outputs": []
    },
    {
      "cell_type": "markdown",
      "source": [
        "Q13: Explanation and solution"
      ],
      "metadata": {
        "id": "YxyIeYRvc-9d"
      }
    },
    {
      "cell_type": "code",
      "source": [
        "import random\n",
        "\n",
        "random.seed(5)\n",
        "\n",
        "lst = [random.randint(1,10) for i in range(5)] # random.randint(1,10) return one random number -- this is repeated for five times when \"for i in range(5)\" is called\n",
        "print(lst)"
      ],
      "metadata": {
        "colab": {
          "base_uri": "https://localhost:8080/"
        },
        "id": "jsVlpfkAdCq8",
        "outputId": "90cbcd83-8b12-411f-b756-38aca244a834"
      },
      "execution_count": null,
      "outputs": [
        {
          "output_type": "stream",
          "name": "stdout",
          "text": [
            "[10, 5, 6, 9, 1]\n"
          ]
        }
      ]
    },
    {
      "cell_type": "markdown",
      "source": [
        "**Q14**: เติมคำในช่องว่างเพื่อทำให้ฟังก์ชัน `circle_area(radius)` สำหรับคำนวณพื้นที่ของวงกลม ($A = \\pi r^2$)และฟังก์ชัน `vol_sphere(radius)` สำหรับคำนวณปริมาตรของทรงกลม ($V = \\frac{4}{3}\\pi r^3$) สมบูรณ์ ใช้ค่า $\\pi$ จาก math library.\n",
        "\n",
        "**Example**:\n",
        "```\n",
        "Enter radius: 1\n",
        "Area: 3.14. Volume of sphere: 4.19.\n",
        "```"
      ],
      "metadata": {
        "id": "8nETZM1Ft9Re"
      }
    },
    {
      "cell_type": "code",
      "source": [
        "# Import\n",
        "_______________\n",
        "\n",
        "def circle_area(radius):\n",
        "  area = ______\n",
        "  return ______\n",
        "\n",
        "def vol_sphere(radius):\n",
        "  vol = _______\n",
        "  _____________\n",
        "\n",
        "def main():\n",
        "  rad = ________________\n",
        "  c_area = circle_area(_______)\n",
        "  vol_sph = vol_sphere(_______)\n",
        "  print(f'Area: {c_area:.2f}. Volume of sphere: {______:.2f}.')\n",
        "\n",
        "main()"
      ],
      "metadata": {
        "id": "wHaoTLq-t-LS"
      },
      "execution_count": null,
      "outputs": []
    },
    {
      "cell_type": "markdown",
      "source": [
        "Q14: Explanation and solution"
      ],
      "metadata": {
        "id": "i-U8k6NidDou"
      }
    },
    {
      "cell_type": "code",
      "source": [
        "# Import\n",
        "import math\n",
        "\n",
        "def circle_area(radius):\n",
        "  area = math.pi*radius**2 #use pi from math\n",
        "  return area\n",
        "\n",
        "def vol_sphere(radius):\n",
        "  vol = 4/3*math.pi*radius**3\n",
        "  return vol\n",
        "\n",
        "def main():\n",
        "  rad = float(input('Enter radius: '))\n",
        "  c_area = circle_area(rad) #pass rad as an argument to function\n",
        "  vol_sph = vol_sphere(rad)\n",
        "  print(f'Area: {c_area:.2f}. Volume of sphere: {vol_sph:.2f}.') #print out the outputs that were returned from functions\n",
        "\n",
        "main()"
      ],
      "metadata": {
        "colab": {
          "base_uri": "https://localhost:8080/"
        },
        "id": "2T84zKk8dE5y",
        "outputId": "908f0027-4eb7-47fa-cc23-929d7ad3048d"
      },
      "execution_count": null,
      "outputs": [
        {
          "output_type": "stream",
          "name": "stdout",
          "text": [
            "Enter radius: 1\n",
            "Area: 3.14. Volume of sphere: 4.19.\n"
          ]
        }
      ]
    },
    {
      "cell_type": "markdown",
      "source": [
        "**Q15**: เติมโค้ดในช่องว่างเพื่อเขียนฟังก์ชัน `mul_all()` ให้สมบูรณ์ เพื่อคำนวณผลคูณของตัวเลขทั้งหมดในรายการตัวเลขที่กำหนด ตัวอย่างเช่น `mul_all([2,5,10,15])` = $2 \\times 5 \\times 10 \\times 15 = 1500$"
      ],
      "metadata": {
        "id": "SlaqM0Bht_wV"
      }
    },
    {
      "cell_type": "code",
      "source": [
        "def mul_all(numbers):\n",
        "  total = ___\n",
        "  for _________________:\n",
        "    total ___________\n",
        "\n",
        "  ____________\n",
        "\n",
        "def main():\n",
        "  print(mul_all([1,1,3,2]))   # 6\n",
        "  print(mul_all([2,5,10,15])) # 1500\n",
        "\n",
        "main()"
      ],
      "metadata": {
        "id": "zrTzld_UuAnz"
      },
      "execution_count": null,
      "outputs": []
    },
    {
      "cell_type": "markdown",
      "source": [
        "Q15: Explanation and solution"
      ],
      "metadata": {
        "id": "QFmP_8MsdGRd"
      }
    },
    {
      "cell_type": "code",
      "source": [
        "def mul_all(numbers):\n",
        "  total = 1 #initial value for multiplication (because any number * 1 is the number)\n",
        "  for num in numbers: #get all items in the list 'numbers' one by one\n",
        "    total *= num #multiply num to the previously calculated total\n",
        "  return total\n",
        "\n",
        "def main():\n",
        "  print(mul_all([1,1,3,2]))   # 6\n",
        "  print(mul_all([2,5,10,15])) # 1500\n",
        "\n",
        "main()"
      ],
      "metadata": {
        "colab": {
          "base_uri": "https://localhost:8080/"
        },
        "id": "9DeRbyT3dH5Y",
        "outputId": "e2db6b3c-1d5e-4f50-e5fd-ba8f78786ef7"
      },
      "execution_count": null,
      "outputs": [
        {
          "output_type": "stream",
          "name": "stdout",
          "text": [
            "6\n",
            "1500\n"
          ]
        }
      ]
    },
    {
      "cell_type": "markdown",
      "source": [
        "**Q16**: เติมคำในช่องว่างเพื่อทำให้ฟังก์ชัน `cal_donut(n_donut, price)` ที่คำนวณราคารวมของโดนัทสมบูรณ์ ถ้าราคารวมมากกว่า 500 คุณจะได้รับส่วนลด 20%\n",
        "\n",
        "**Example**:\n",
        "```\n",
        "Enter n donut: 50\n",
        "Enter donut's price: 20\n",
        "Cost without discount: 1000.00\n",
        "Cost with discount: 800.00\n",
        "```\n"
      ],
      "metadata": {
        "id": "gwh0j3Tkt-eD"
      }
    },
    {
      "cell_type": "code",
      "source": [
        "def cal_donut(n_donut, price):\n",
        "  total = ___________\n",
        "  if ________________:\n",
        "    discount = total*0.2 # 20% discount\n",
        "  else:\n",
        "    discount = ______\n",
        "  return total, _________\n",
        "\n",
        "def main():\n",
        "  n = int(input('Enter n donut: '))\n",
        "  p = float(input(\"Enter donut's price: \"))\n",
        "  _______________ = cal_donut(__________)\n",
        "  print(f'Cost without discount: {full_cost:.2f}')\n",
        "  print(f'Cost with discount: {dis_cost:.2f}')\n",
        "\n",
        "main()"
      ],
      "metadata": {
        "id": "oUUn_KAAt_cr"
      },
      "execution_count": null,
      "outputs": []
    },
    {
      "cell_type": "markdown",
      "source": [
        "Q16: Explanation and solution"
      ],
      "metadata": {
        "id": "ZE0dAnE4dKq4"
      }
    },
    {
      "cell_type": "code",
      "source": [
        "def cal_donut(n_donut, price):\n",
        "  total = n_donut*price #The original price\n",
        "  if total > 500:\n",
        "    discount = total*0.2 # 20% discount\n",
        "  else:\n",
        "    discount = 0\n",
        "  return total, total-discount  # the original price, the discounted price\n",
        "\n",
        "def main():\n",
        "  n = int(input('Enter n donut: '))\n",
        "  p = float(input(\"Enter donut's price: \"))\n",
        "  full_cost, dis_cost = cal_donut(n,p) #the variable names need to be the same with the ones we will call in the next two lines\n",
        "  print(f'Cost without discount: {full_cost:.2f}')\n",
        "  print(f'Cost with discount: {dis_cost:.2f}')\n",
        "\n",
        "main()"
      ],
      "metadata": {
        "colab": {
          "base_uri": "https://localhost:8080/"
        },
        "id": "z1VwZoHedL0J",
        "outputId": "55bfae1d-71f1-4f46-a8d6-de1451852381"
      },
      "execution_count": null,
      "outputs": [
        {
          "output_type": "stream",
          "name": "stdout",
          "text": [
            "Enter n donut: 50\n",
            "Enter donut's price: 20\n",
            "Cost without discount: 1000.00\n",
            "Cost with discount: 800.00\n"
          ]
        }
      ]
    },
    {
      "cell_type": "markdown",
      "source": [
        "**Q17**: Input Validation function\n",
        "\n",
        "สร้างฟังก์ชัน `input_validation(text, lower, upper)` เพื่อขอข้อมูลจากผู้ใช้และทำการตรวจสอบข้อมูลที่ป้อน - โดยจะถามผู้ใช้ซ้ำๆ จนกว่าข้อมูลที่ป้อนจะอยู่ในช่วงที่กำหนด (ระหว่าง lower และ upper รวมทั้งสองค่า)\n",
        "\n",
        "**ข้อกำหนดของฟังก์ชัน**:\n",
        "- มี arguments สามตัว:\n",
        "  - `text`: ข้อความที่จะแสดงให้ผู้ใช้เห็น\n",
        "  - `lower`: ขอบเขตล่างของตัวเลขที่ถูกต้อง\n",
        "  - `upper`: ขอบเขตบนของตัวเลขที่ถูกต้อง\n",
        "\n",
        "**Example**:\n",
        "```\n",
        "Enter your income: -10\n",
        "Value must be between 0 and 100000\n",
        "Enter your income: 100\n",
        "Enter your expense: 300000\n",
        "Value must be between 0 and 200000\n",
        "Enter your expense: 300\n",
        "Your income is 100.00\n",
        "YOur expense is 300.00\n",
        "```\n"
      ],
      "metadata": {
        "id": "egzlstVNsnhH"
      }
    },
    {
      "cell_type": "code",
      "source": [
        "def input_validation(text, lower, upper):\n",
        "  while ______:\n",
        "    value = input(_________________)\n",
        "    if __________________________:\n",
        "      break\n",
        "    print(f'Value must be between {lower} and {upper}')\n",
        "\n",
        "  return _______\n",
        "\n",
        "def main():\n",
        "  income = input_validation(\"Enter your income: \", 0, 100000)\n",
        "  expense = input_validation(___________________________)\n",
        "  print(f\"Your income is {income:.2f}\")\n",
        "  print(f\"Your expense is {expense:.2f}\")\n",
        "\n",
        "main()"
      ],
      "metadata": {
        "id": "kS6XuxKMs_1r"
      },
      "execution_count": null,
      "outputs": []
    },
    {
      "cell_type": "markdown",
      "source": [
        "Q17: Explanation and solution"
      ],
      "metadata": {
        "id": "50k-ys_7dM4E"
      }
    },
    {
      "cell_type": "code",
      "source": [
        "def input_validation(text, lower, upper):\n",
        "  while True: #loop until break is called\n",
        "    value = input(text) #The message can be anything that pass through the argument 'text'\n",
        "    if lower<= float(value) <= upper: # This's the same as ((lower <= float(value)) and (float(value) <= upper))\n",
        "      break # do this line when the value is within the specified range\n",
        "    print(f'Value must be between {lower} and {upper}')\n",
        "\n",
        "  return value\n",
        "\n",
        "def main():\n",
        "  income = input_validation(\"Enter your income: \", 0, 100000)\n",
        "  expense = input_validation(\"Enter your expense: \",0, 200000) #pass the message we want to show to user as an argument\n",
        "  print(f\"Your income is {income:.2f}\")\n",
        "  print(f\"Your expense is {expense:.2f}\")\n",
        "\n",
        "main()"
      ],
      "metadata": {
        "colab": {
          "base_uri": "https://localhost:8080/"
        },
        "id": "gfySpxjIdOFH",
        "outputId": "c79bb1ad-93fc-4833-d292-8957fa497e01"
      },
      "execution_count": null,
      "outputs": [
        {
          "output_type": "stream",
          "name": "stdout",
          "text": [
            "Enter your income: -10\n",
            "Value must be between 0 and 100000\n",
            "Enter your income: 100\n",
            "Enter your expense: 3000000\n",
            "Value must be between 0 and 200000\n",
            "Enter your expense: 300\n",
            "Your income is 100.00\n",
            "Your expense is 300.00\n"
          ]
        }
      ]
    },
    {
      "cell_type": "markdown",
      "source": [
        "**Q18**: Create a random number list\n",
        "\n",
        "เขียนฟังก์ชัน `gen_random(n)` ซึ่งรับตัวเลข `n` และส่งคืน list ของตัวเลขสุ่มระหว่าง 1 ถึง 10\n",
        "\n",
        "**Input**:\n",
        "- ค่าเริ่มต้นสำหรับการสุ่ม (seed number)\n",
        "- $n$ แสดงจำนวนของตัวเลขสุ่มที่จะถูกสร้าง\n",
        "\n",
        "**Output**:\n",
        "- A list of randomly generated numbers\n",
        "\n",
        "**หมายเหตุ**:\n",
        "- คุณต้องสร้างฟังก์ชัน `main()` ซึ่งถามผู้ใช้สำหรับค่า `n`, เรียกใช้ `gen_random(n)`, และแสดงผลลัพธ์\n",
        "- คุณต้องสร้างฟังก์ชัน `gen_random(n)`\n",
        "\n",
        "Example 1:\n",
        "```\n",
        "Enter seed: 7\n",
        "Enter n: 5\n",
        "[6, 3, 7, 1, 2]\n",
        "```\n",
        "\n",
        "Example 2:\n",
        "```\n",
        "Enter seed: 77\n",
        "Enter n: 10\n",
        "[5, 6, 4, 4, 4, 2, 5, 8, 9, 10]\n",
        "```"
      ],
      "metadata": {
        "id": "l2lI5ldNsucm"
      }
    },
    {
      "cell_type": "code",
      "source": [
        "# import\n",
        "...\n",
        "\n",
        "def gen_random(n):\n",
        "  results = []\n",
        "  # Fill your code below\n",
        "  ...\n",
        "\n",
        "  return results\n",
        "\n",
        "def main():\n",
        "  seed = int(input('Enter seed: '))\n",
        "  random.seed(seed)\n",
        "  n = int(input('Enter n: '))\n",
        "  ...\n",
        "\n",
        "main()"
      ],
      "metadata": {
        "id": "hgS486QssxCB"
      },
      "execution_count": null,
      "outputs": []
    },
    {
      "cell_type": "markdown",
      "source": [
        "Q18: Explanation and solution"
      ],
      "metadata": {
        "id": "wwzxbZiXdPuu"
      }
    },
    {
      "cell_type": "code",
      "source": [
        "# import\n",
        "import random\n",
        "\n",
        "def gen_random(n):\n",
        "  results = []\n",
        "  for i in range(n): # repeated n times\n",
        "    results.append(random.randint(1,10)) #generated one random integer within the range of 1 to 10\n",
        "  return results\n",
        "\n",
        "def main():\n",
        "  seed = int(input('Enter seed: '))\n",
        "  random.seed(seed)\n",
        "  n = int(input('Enter n: '))\n",
        "  print(gen_random(n))\n",
        "\n",
        "main()"
      ],
      "metadata": {
        "colab": {
          "base_uri": "https://localhost:8080/"
        },
        "id": "a9gAuLjndRCI",
        "outputId": "36383492-7af6-4bad-b135-141c41696c02"
      },
      "execution_count": null,
      "outputs": [
        {
          "output_type": "stream",
          "name": "stdout",
          "text": [
            "Enter seed: 7\n",
            "Enter n: 5\n",
            "[6, 3, 7, 1, 2]\n"
          ]
        }
      ]
    },
    {
      "cell_type": "markdown",
      "source": [
        "**Q19**: Mean and Standard Deviation\n",
        "\n",
        "เขียนโปรแกรมเพื่อคำนวณค่าส่วนเบี่ยงเบนมาตรฐานจากข้อมูลที่กำหนดให้\n",
        "\n",
        "สูตรสำหรับค่าส่วนเบี่ยงเบนมาตรฐาน (standard deviation):\n",
        "\n",
        "$s.d. = \\sqrt{\\frac{∑_{i=1}^n(x_i - x̄)^2}{n}}$,\n",
        "\n",
        "โดยที่ $n$ คือจำนวนข้อมูล และ $x̄$ คือค่าเฉลี่ย (mean), $\\frac{1}{n}∑_{i=1}^n(x_i)$\n",
        "\n",
        "**ข้อกำหนด**:\n",
        "- ต้องสร้างฟังก์ชัน `mean(data)` ซึ่งรับข้อมูลเป็น list และส่งคืนค่าเฉลี่ยของลิสต์นั้น\n",
        "- ต้องสร้างฟังก์ชัน `standard_deviation(data)` ซึ่งรับข้อมูลเป็น list และส่งคืนค่าส่วนเบี่ยงเบนมาตรฐานของข้อมูล โดยฟังก์ชันนี้ควรเรียกใช้ฟังก์ชัน `mean()`\n",
        "- ฟังก์ชัน `main()` ถูกกำหนดให้แล้ว\n",
        "\n",
        "Example 1:\n",
        "```\n",
        "standard_deviation([1, 2, 3, 4, 5])\n",
        "1.41\n",
        "```\n",
        "Explanation:\n",
        "- mean = $(1 + 2 + 3 + 4 + 5)/5$ = 3\n",
        "- $(1-3)^2 + (2-3)^2 + (3-3)^2 + (4-3)^2 + (5-3)^2 = 4 + 1 + 0 + 1 + 4 = 10$\n",
        "- $10/5 = 2$\n",
        "- $\\sqrt{2} = 1.41...$\n",
        "\n",
        "Example 2:\n",
        "```\n",
        "standard_deviation([10, 3, 8, 1, 9, 1, 3])\n",
        "3.59\n",
        "```\n",
        "\n",
        "Example 3:\n",
        "```\n",
        "standard_deviation([5, 5, 3, 8, 9, 7, 10, 6, 3, 9])\n",
        "2.38\n",
        "```\n",
        "\n",
        "\n"
      ],
      "metadata": {
        "id": "un1erguqpvra"
      }
    },
    {
      "cell_type": "code",
      "source": [
        "import math\n",
        "\n",
        "def mean(data):\n",
        "  # Calculate the mean of the data.\n",
        "\n",
        "\n",
        "\n",
        "def standard_deviation(data):\n",
        "  # Calculate the standard_deviation of the data.\n",
        "\n",
        "\n",
        "\n",
        "def main():\n",
        "\n",
        "  # Example 1\n",
        "  data = [1, 2, 3, 4, 5]\n",
        "  print(f\"{standard_deviation(data):.2f}\") # 1.41\n",
        "  # Example 2\n",
        "  data = [10, 3, 8, 1, 9, 1, 3]\n",
        "  print(f\"{standard_deviation(data):.2f}\") # 3.59\n",
        "  # Example 3\n",
        "  data = [5, 5, 3, 8, 9, 7, 10, 6, 3, 9]\n",
        "  print(f\"{standard_deviation(data):.2f}\") # 2.38\n",
        "\n",
        "main()"
      ],
      "metadata": {
        "id": "LZSMLy5Tpxmk"
      },
      "execution_count": null,
      "outputs": []
    },
    {
      "cell_type": "markdown",
      "source": [
        "Q19: Explanation and solution"
      ],
      "metadata": {
        "id": "HCD_jE5pdXDs"
      }
    },
    {
      "cell_type": "code",
      "source": [
        "import math\n",
        "# This program shows we can pass list as an argument to a function\n",
        "def mean(data):\n",
        "  # Calculate the mean of the data.\n",
        "  return sum(data)/len(data)\n",
        "\n",
        "\n",
        "def standard_deviation(data):\n",
        "  # Calculate the standard_deviation of the data.\n",
        "  x_bar = mean(data)\n",
        "  total = sum([ (x-x_bar)**2 for x in data ])\n",
        "  sd = math.sqrt(total/len(data))\n",
        "  return sd\n",
        "\n",
        "\n",
        "def main():\n",
        "\n",
        "  # Example 1\n",
        "  data = [1, 2, 3, 4, 5]\n",
        "  print(f\"{standard_deviation(data):.2f}\") # 1.41\n",
        "  # Example 2\n",
        "  data = [10, 3, 8, 1, 9, 1, 3]\n",
        "  print(f\"{standard_deviation(data):.2f}\") # 3.59\n",
        "  # Example 3\n",
        "  data = [5, 5, 3, 8, 9, 7, 10, 6, 3, 9]\n",
        "  print(f\"{standard_deviation(data):.2f}\") # 2.38\n",
        "\n",
        "main()"
      ],
      "metadata": {
        "colab": {
          "base_uri": "https://localhost:8080/"
        },
        "id": "aUP8I6SFdYgl",
        "outputId": "2e639171-3708-4c2f-eb35-10dcf20cac33"
      },
      "execution_count": null,
      "outputs": [
        {
          "output_type": "stream",
          "name": "stdout",
          "text": [
            "1.41\n",
            "3.59\n",
            "2.38\n"
          ]
        }
      ]
    },
    {
      "cell_type": "code",
      "source": [
        "#another version with for loop\n",
        "\n",
        "import math\n",
        "# This program shows we can pass list as an argument to a function\n",
        "def mean(data):\n",
        "  # Calculate the mean of the data.\n",
        "  total = 0\n",
        "  for i in range(len(data)):\n",
        "    total += data[i]\n",
        "  return total/len(data)\n",
        "\n",
        "\n",
        "def standard_deviation(data):\n",
        "  # Calculate the standard_deviation of the data.\n",
        "  x_bar = mean(data)\n",
        "  total = 0\n",
        "  for i in range(len(data)):\n",
        "    total += (data[i] - x_bar) ** 2\n",
        "  std =math.sqrt(total / len(data))\n",
        "  return std\n",
        "\n",
        "\n",
        "def main():\n",
        "\n",
        "  # Example 1\n",
        "  data = [1, 2, 3, 4, 5]\n",
        "  print(f\"{standard_deviation(data):.2f}\") # 1.41\n",
        "  # Example 2\n",
        "  data = [10, 3, 8, 1, 9, 1, 3]\n",
        "  print(f\"{standard_deviation(data):.2f}\") # 3.59\n",
        "  # Example 3\n",
        "  data = [5, 5, 3, 8, 9, 7, 10, 6, 3, 9]\n",
        "  print(f\"{standard_deviation(data):.2f}\") # 2.38\n",
        "\n",
        "main()"
      ],
      "metadata": {
        "colab": {
          "base_uri": "https://localhost:8080/"
        },
        "id": "3KNhprmgpT-p",
        "outputId": "f1edc0cb-05da-4823-8b52-31530b8d77e2"
      },
      "execution_count": null,
      "outputs": [
        {
          "output_type": "stream",
          "name": "stdout",
          "text": [
            "1.41\n",
            "3.59\n",
            "2.38\n"
          ]
        }
      ]
    },
    {
      "cell_type": "markdown",
      "source": [
        "**Q20** Calculate Midpoint and Distance\n",
        "\n",
        "เขียนโปรแกรมที่ถามผู้ใช้สำหรับตัวเลขสี่ตัวสำหรับจุดสองจุด: (x1, y1) และ (x2, y2) จากนั้นคำนวณระยะห่างระหว่างจุดสองจุดนี้และจุดกึ่งกลางระหว่างจุดทั้งสอง\n",
        "\n",
        "งานของคุณ:\n",
        "* สร้างฟังก์ชัน `main()` เพื่อรับข้อมูลจากผู้ใช้\n",
        "* สร้างฟังก์ชัน `cal_distance(x1, y1, x2, y2)` ซึ่งรับตัวเลขสี่ตัวและส่งคืนระยะห่างระหว่างจุดสองจุดนี้\n",
        "  * ระยะห่างระหว่าง $(x_1, y_1)$ และ $(x_2, y_2) $ = $\\sqrt{(x_1 - x_2)^2 + (y_1 - y_2)^2}$\n",
        "* สร้างฟังก์ชัน `cal_midpoint(x1, y1, x2, y2)`ซึ่งรับตัวเลขสี่ตัวและส่งคืนจุดกึ่งกลาง: ทั้ง $x$ และ $y$\n",
        "  * จุดกึ่งกลาง ($x_3, y_3$) = $(\\frac{x_1 + x_2}{2}, \\frac{y_1 + y_2}{2})$\n",
        "\n",
        "\n",
        "**Input**:\n",
        "- ตัวเลขจำนวนเต็ม 4 ตัว\n",
        "\n",
        "**Output**:\n",
        "- ระยะห่าง (ทศนิยม 3 ตำแหน่ง)\n",
        "- จุดกึ่งกลาง (ทศนิยม 2 ตำแหน่ง)\n",
        "\n",
        "**Example**:\n",
        "```\n",
        "Enter x1: 1\n",
        "Enter y1: 2\n",
        "Enter x2: 3\n",
        "Enter y2: 4\n",
        "Distance = 2.828\n",
        "Midpoint = (2.00, 3.00)\n",
        "```"
      ],
      "metadata": {
        "id": "E3fop40apaxE"
      }
    },
    {
      "cell_type": "code",
      "source": [
        "#implement cal_distance function here\n",
        "\n",
        "\n",
        "#implement cal_midpoint function here\n",
        "\n",
        "\n",
        "def main():\n",
        "  x1 = float(input(\"Enter x1: \"))\n",
        "  y1 = float(input(\"Enter y1: \"))\n",
        "  x2 = float(input(\"Enter x2: \"))\n",
        "  y2 = float(input(\"Enter y2: \"))\n",
        "  #Call the functions and print out answers below\n",
        "\n",
        "\n",
        "main()"
      ],
      "metadata": {
        "id": "uB1sO5Qvpb_A"
      },
      "execution_count": null,
      "outputs": []
    },
    {
      "cell_type": "markdown",
      "source": [
        "Q20: Explanation and solution"
      ],
      "metadata": {
        "id": "x8QSHfU3dZlU"
      }
    },
    {
      "cell_type": "code",
      "source": [
        "# Method 1) lean version without import math\n",
        "\n",
        "#implement cal_distance function here\n",
        "def cal_distance(x1, y1, x2, y2):\n",
        "  distance = ((x1-x2)**2 + (y1-y2)**2)**0.5\n",
        "  return distance\n",
        "\n",
        "#implement cal_midpoint function here\n",
        "def cal_midpoint(x1, y1, x2, y2):\n",
        "  x_mid = (x1+x2)/2\n",
        "  y_mid = (y1+y2)/2\n",
        "  return x_mid, y_mid\n",
        "\n",
        "def main():\n",
        "  x1 = float(input(\"Enter x1: \"))\n",
        "  y1 = float(input(\"Enter y1: \"))\n",
        "  x2 = float(input(\"Enter x2: \"))\n",
        "  y2 = float(input(\"Enter y2: \"))\n",
        "  #Call the functions and print out answers below\n",
        "  print(f\"Distance = {cal_distance(x1, y1, x2, y2):.3f}\")\n",
        "  print(f\"Midpoint = {cal_midpoint(x1, y1, x2, y2)}\")\n",
        "\n",
        "main()"
      ],
      "metadata": {
        "colab": {
          "base_uri": "https://localhost:8080/"
        },
        "id": "qriWWABSdbH8",
        "outputId": "511572da-bbdc-4f0c-87fb-c2cb25bea0ec"
      },
      "execution_count": null,
      "outputs": [
        {
          "output_type": "stream",
          "name": "stdout",
          "text": [
            "Enter x1: 1\n",
            "Enter y1: 2\n",
            "Enter x2: 3\n",
            "Enter y2: 4\n",
            "Distance = 2.828\n",
            "Midpoint = (2.0, 3.0)\n"
          ]
        }
      ]
    },
    {
      "cell_type": "code",
      "source": [
        "#Method 2) long version with import math\n",
        "\n",
        "import math\n",
        "\n",
        "#implement cal_distance function here\n",
        "def cal_distance(x1, y1, x2, y2):\n",
        "  distance = math.sqrt((x1-x2)**2 + (y1-y2)**2)\n",
        "  return distance\n",
        "\n",
        "#implement cal_midpoint function here\n",
        "def cal_midpoint(x1, y1, x2, y2):\n",
        "  x_mid = (x1+x2)/2\n",
        "  y_mid = (y1+y2)/2\n",
        "  return x_mid, y_mid\n",
        "\n",
        "def main():\n",
        "  x1 = float(input(\"Enter x1: \"))\n",
        "  y1 = float(input(\"Enter y1: \"))\n",
        "  x2 = float(input(\"Enter x2: \"))\n",
        "  y2 = float(input(\"Enter y2: \"))\n",
        "  #Call the functions and print out answers below\n",
        "  distance = cal_distance(x1, y1, x2, y2)\n",
        "  midpoint = cal_midpoint(x1, y1, x2, y2)\n",
        "  print(f\"Distance = {distance:.3f}\")\n",
        "  print(f\"Midpoint = ({midpoint[0]}, {midpoint[1]})\") #you can do either print the tuple as a whole or print them one by one\n",
        "\n",
        "main()"
      ],
      "metadata": {
        "colab": {
          "base_uri": "https://localhost:8080/"
        },
        "id": "mcrDx_25gFKc",
        "outputId": "01668f3e-08e5-41f0-bb43-aee7e89ad3c5"
      },
      "execution_count": null,
      "outputs": [
        {
          "output_type": "stream",
          "name": "stdout",
          "text": [
            "Enter x1: 1\n",
            "Enter y1: 2\n",
            "Enter x2: 3\n",
            "Enter y2: 4\n",
            "Distance = 2.828\n",
            "Midpoint = (2.0, 3.0)\n"
          ]
        }
      ]
    }
  ]
}