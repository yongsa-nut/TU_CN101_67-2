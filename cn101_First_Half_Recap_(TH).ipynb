{
  "nbformat": 4,
  "nbformat_minor": 0,
  "metadata": {
    "colab": {
      "provenance": [],
      "authorship_tag": "ABX9TyP3Wzomigk0x1D58S7qdIb3",
      "include_colab_link": true
    },
    "kernelspec": {
      "name": "python3",
      "display_name": "Python 3"
    },
    "language_info": {
      "name": "python"
    }
  },
  "cells": [
    {
      "cell_type": "markdown",
      "metadata": {
        "id": "view-in-github",
        "colab_type": "text"
      },
      "source": [
        "<a href=\"https://colab.research.google.com/github/yongsa-nut/TU_CN101_67-2/blob/main/cn101_First_Half_Recap_(TH).ipynb\" target=\"_parent\"><img src=\"https://colab.research.google.com/assets/colab-badge.svg\" alt=\"Open In Colab\"/></a>"
      ]
    },
    {
      "cell_type": "markdown",
      "source": [
        "# Recap"
      ],
      "metadata": {
        "id": "ex5R03U6UOH0"
      }
    },
    {
      "cell_type": "markdown",
      "source": [
        "**Q1**: What will the following program print out?\n",
        "\n",
        "```python\n",
        "x = 3\n",
        "y = 5\n",
        "a = x + y * (5 + 1)\n",
        "b = y + 16 // x\n",
        "print(x, a, b)\n",
        "```"
      ],
      "metadata": {
        "id": "ctgLi1X90Lfw"
      }
    },
    {
      "cell_type": "code",
      "source": [],
      "metadata": {
        "id": "llMNvQdu0Lxa"
      },
      "execution_count": null,
      "outputs": []
    },
    {
      "cell_type": "markdown",
      "source": [
        "**Q2** What will the following program print out? Assume the user input 1 and 5 respectively.\n",
        "\n",
        "```python\n",
        "x = int(input('Enter x: '))\n",
        "y = int(input('Enter y: '))\n",
        "print(f'{x+10*5:.2f}', end='-')\n",
        "x = 3\n",
        "print(f'{x+y**2:.2f}')\n",
        "```"
      ],
      "metadata": {
        "id": "K3I1FU_3zi3i"
      }
    },
    {
      "cell_type": "code",
      "execution_count": null,
      "metadata": {
        "id": "cQJx2_xWxZqu"
      },
      "outputs": [],
      "source": []
    },
    {
      "cell_type": "markdown",
      "source": [
        "**Q3**: What will the following program print out?\n",
        "```python\n",
        "a = 10\n",
        "if a > 5:\n",
        "  print('A',end='-')\n",
        "if a > 7:\n",
        "  print('B',end='-')\n",
        "  a = 1\n",
        "if a > 9:\n",
        "  print('C',end='-')\n",
        "else:\n",
        "  print('D')\n",
        "```"
      ],
      "metadata": {
        "id": "9_HIb2Uc25sz"
      }
    },
    {
      "cell_type": "code",
      "source": [],
      "metadata": {
        "id": "3vcCNqCr26A1"
      },
      "execution_count": null,
      "outputs": []
    },
    {
      "cell_type": "markdown",
      "source": [
        "**Q4**: What will the following program print out?\n",
        "\n",
        "```python\n",
        "first = 7 < 5\n",
        "second = 12 > 7\n",
        "if first and second:\n",
        "  print('A')\n",
        "else:\n",
        "  if first or (10 > 2**3+1):\n",
        "    print('B')\n",
        "  else:\n",
        "    print('C')\n",
        "```"
      ],
      "metadata": {
        "id": "3oNxZoP918Zf"
      }
    },
    {
      "cell_type": "code",
      "source": [],
      "metadata": {
        "id": "c4In5VZZ18ob"
      },
      "execution_count": null,
      "outputs": []
    },
    {
      "cell_type": "markdown",
      "source": [
        "**Q5**: What will the following program print out?\n",
        "```python\n",
        "total = 0\n",
        "for i in range(1, 7, 2):\n",
        "  total += i\n",
        "for j in range(5 , 1, -2):\n",
        "  total += j\n",
        "print(total)\n",
        "```"
      ],
      "metadata": {
        "id": "tjX1O5VR3RnU"
      }
    },
    {
      "cell_type": "code",
      "source": [],
      "metadata": {
        "id": "Ao21cgt23R4e"
      },
      "execution_count": null,
      "outputs": []
    },
    {
      "cell_type": "markdown",
      "source": [
        "**Q6**: What will the following program print out?\n",
        "```python\n",
        "total = 1\n",
        "x = 10\n",
        "while True:\n",
        "  total *= x\n",
        "  x -= 3\n",
        "  if x < 3:\n",
        "    break\n",
        "print(x, total)\n",
        "```"
      ],
      "metadata": {
        "id": "3HtpGxLS388M"
      }
    },
    {
      "cell_type": "code",
      "source": [],
      "metadata": {
        "id": "jMB-tKeu4FyX"
      },
      "execution_count": null,
      "outputs": []
    },
    {
      "cell_type": "markdown",
      "source": [
        "**Q7**: What will the following program print out?\n",
        "\n",
        "```python\n",
        "lst1 = [5, 8, 10, 12]\n",
        "n = len(lst1)\n",
        "total = 0\n",
        "for i in range(n):\n",
        "  if lst1[i] % 5 == 0:\n",
        "    total += 1\n",
        "  else:\n",
        "    total += lst1[i]\n",
        "print(total)\n",
        "```"
      ],
      "metadata": {
        "id": "FvHMU6NQ4F-U"
      }
    },
    {
      "cell_type": "code",
      "source": [],
      "metadata": {
        "id": "On34MKkj4MD3"
      },
      "execution_count": null,
      "outputs": []
    },
    {
      "cell_type": "markdown",
      "source": [
        "**Q8**: What will the followin program print out?\n",
        "```python\n",
        "count = 0\n",
        "for i in [1, 3, 8, 7]:\n",
        "  for j in range(0, 5, 2):\n",
        "    if (i%2 == 1) and (j > 1):\n",
        "      count += 1\n",
        "print(count)\n",
        "```"
      ],
      "metadata": {
        "id": "M2w4DTU74Mdo"
      }
    },
    {
      "cell_type": "code",
      "source": [],
      "metadata": {
        "id": "c5X7cZLZ4QSy"
      },
      "execution_count": null,
      "outputs": []
    },
    {
      "cell_type": "markdown",
      "source": [
        "**Q9**: Fill in the blank so that the program print out as follows when it runs and the user enters 20 and 10 respectively.\n",
        "\n",
        "```\n",
        "Enter your rate: 20\n",
        "Enter your hour: 10\n",
        "Your total salary is 400\n",
        "```"
      ],
      "metadata": {
        "id": "2uhCwnku7fUe"
      }
    },
    {
      "cell_type": "code",
      "source": [
        "prompt1 = ...\n",
        "prompt2 = \"Enter your hour: \"\n",
        "rate = int(input(prompt1))\n",
        "hour = int(input(...))\n",
        "print(f'Your BMI is {rate*hour}')"
      ],
      "metadata": {
        "id": "QoBA13UJxkXp"
      },
      "execution_count": null,
      "outputs": []
    },
    {
      "cell_type": "markdown",
      "source": [
        "**Q10**: Fill in the blank to calculate the following equation $z = \\frac{(x+1)^2}{2(y-1)^3}$."
      ],
      "metadata": {
        "id": "di77L7mo8VpY"
      }
    },
    {
      "cell_type": "code",
      "source": [
        "x = int(input('Enter x: '))\n",
        "y = int(input('Enter y: '))\n",
        "z = ..."
      ],
      "metadata": {
        "id": "-_PN6JUD8ms-"
      },
      "execution_count": null,
      "outputs": []
    },
    {
      "cell_type": "markdown",
      "source": [
        "**Q11**: Fill in the blank so that the program prints out `1 5 9`\n"
      ],
      "metadata": {
        "id": "-qi_9neYAQoe"
      }
    },
    {
      "cell_type": "code",
      "source": [
        "my_list = [0, 5, 1, 7, 2, 3]\n",
        "print(f'{my_list[...]} {my_list[...]} {my_list[...] + my_list[...]}')"
      ],
      "metadata": {
        "id": "UWZie5bhARoy"
      },
      "execution_count": null,
      "outputs": []
    },
    {
      "cell_type": "markdown",
      "source": [
        "## Programming"
      ],
      "metadata": {
        "id": "DmXrbEScxkmr"
      }
    },
    {
      "cell_type": "markdown",
      "source": [
        "**Q12**: Area and Circumference of a circle\n",
        "\n",
        "จงเขียนโปรแกรมเพื่อคำนวณหา พื้นที่ของวงกลม ($\\pi r^2$) และ เส้นรอบวง ($2\\pi r$). Set $\\pi$ to 3.14.\n",
        "\n",
        "**Input**:\n",
        "- A real number, รัสมี\n",
        "\n",
        "**Output**:\n",
        "- พื้นที่ ทศนิยมสามตำแหน่ง\n",
        "- เส้นรอบวง ทศนิยมสามตำแหน่ง\n",
        "\n",
        "**Requirements**:\n",
        "- Must use Named Constants\n",
        "\n"
      ],
      "metadata": {
        "id": "_8EMgiBUD4EL"
      }
    },
    {
      "cell_type": "code",
      "source": [],
      "metadata": {
        "id": "IXZb_Zu5L3DO"
      },
      "execution_count": null,
      "outputs": []
    },
    {
      "cell_type": "markdown",
      "source": [
        "**Q13**: Electricity bill\n",
        "\n",
        "คํานวณค่าไฟฟ้าที่ต้องจ่ายตามอัตราก้าวหน้า โดยมีรายละเอียดดังนี้\n",
        "ค่าไฟฟ้าที่ต้องจ่าย = จำนวนหน่วยที่ใช้ x อัตราค่าไฟ (ตามตารางด้านล่าง) + ค่าบริการรายเดือน\n",
        "\n",
        "โดยที่อัตราค่าไฟเป็นแบบก้าวหน้า ดังนี้:\n",
        "\n",
        "| หน่วยที่ใช้ (kWh) | อัตราค่าไฟ (บาท/หน่วย) |\n",
        "|-----------------|---------------------|\n",
        "| 0-50            | 3.25                |\n",
        "| 51-100          | 4.00                |\n",
        "| 101-200         | 4.50                |\n",
        "| 201 ขึ้นไป        | 5.00                |\n",
        "\n",
        "\n",
        "**ตัวอย่างการคำนวณ:**\n",
        "\n",
        "สมมติว่า ค่าบริการรายเดือน = 38.22 บาท\n",
        "\n",
        "**ตัวอย่างการคํานวณ 1**:\n",
        "หน่วยที่ใช้ 45 kWh\n",
        "\n",
        "ค่าไฟฟ้า = (45 x 3.25) + 38.22 = 184.47 บาท\n",
        "\n",
        "**ตัวอย่างการคํานวณ 2**:\n",
        "หน่วยที่ใช้ 80 kWh\n",
        "\n",
        "ค่าไฟฟ้า = (50 x 3.25) + (30 x 4.00) + 38.22 = 320.72 บาท\n",
        "\n",
        "**ตัวอย่างการคํานวณ 3**:\n",
        "หน่วยที่ใช้ 150 kWh\n",
        "\n",
        "ค่าไฟฟ้า = (50 x 3.25) + (50 x 4.00) + (50 x 4.50) + 38.22 = 625.72 บาท\n",
        "\n",
        "**ตัวอย่างการคํานวณ 4**:\n",
        "หน่วยที่ใช้ 250 kWh\n",
        "\n",
        "ค่าไฟฟ้า = (50 x 3.25) + (50 x 4.00) + (100 x 4.50) + (50 x 5.00) + 38.22 = 1100.72 บาท\n",
        "\n",
        "จงเขียนโปรแกรมคำนวณค่าไฟฟ้าจากจำนวนหน่วยที่ใช้\n",
        "\n",
        "**Input**:\n",
        "- จำนวนจริง หน่วยที่ใช้  \n",
        "- จำนวนจริง ค่าบริการรายเดือน\n",
        "\n",
        "**Output**:\n",
        "- ค่าไฟฟ้าทั้งหมด ทศนิยมสองตำแหน่ง\n",
        "\n",
        "**Example: 2**\n",
        "```\n",
        "Units: 45\n",
        "Monthly service fee: 25\n",
        "Bill: 171.25\n",
        "```\n",
        "\n",
        "**Example: 2**\n",
        "```\n",
        "Units: 250\n",
        "Monthly service fee: 38.22\n",
        "Bill: 1100.72\n",
        "```"
      ],
      "metadata": {
        "id": "wZcx9SWGL2bH"
      }
    },
    {
      "cell_type": "code",
      "source": [],
      "metadata": {
        "id": "VSfEXKMxxofS"
      },
      "execution_count": null,
      "outputs": []
    },
    {
      "cell_type": "markdown",
      "source": [
        "**Q14**: BMI + Validation\n",
        "\n",
        "เขียนโปรแกรมเพื่อคำนวณ Body Mass Index (BMI) และ บอกโหมดหมู่ของค่าที่ได้ ตามด้านล่างนี้:\n",
        "\n",
        "- Underweight: BMI < 18.5\n",
        "- Normal weight: 18.5 <= BMI < 25\n",
        "- Overweight: 25 <= BMI < 30\n",
        "- Obesity: BMI >= 30\n",
        "\n",
        "BMI = $\\frac{\\text{weight (kg)}}{\\text{(height (m))}^2}$\n",
        "\n",
        "**Input**:\n",
        "* จำนวนจริง, Weight in kg\n",
        "* จำนวนจริง, Height in meter.\n",
        "\n",
        "**Output**:\n",
        "* BMI ทศนิยมสองตำแหน่ง และ โหมดหมู่.\n",
        "\n",
        "**Requirements**\n",
        "\n",
        "- จะต้องเช็คว่าส่วนสูงจะต้องอยู่ระหว่าง 0 - 2.5 (m) ถ้าไม่ถูกต้องจะต้องถามให้ user พิมพ์จนกว่าจะถูก\n",
        "- จะต้องเช็คว่าน้ำหนักจะต้องอยู่ระหว่าง 0 - 300 (kg) ถ้าไม่ถูกต้องจะต้องถามให้ user พิมพ์จนกว่าจะถูก\n",
        "- จะต้องใช้ **Named Constants**\n",
        "\n",
        "Example 1 (lines start with `>` are input)\n",
        "```\n",
        ">Weight (kg): 70\n",
        ">Height (meter): 1.75\n",
        "Your BMI is 22.86\n",
        "Normal weight\n",
        "```\n",
        "\n",
        "Example 2\n",
        "```\n",
        ">Weight (kg): 350\n",
        "Weight must be between 0 and 300 (kg)\n",
        ">Weight (kg): -20\n",
        "Weight must be between 0 and 300 (kg)\n",
        ">Weight (kg): 80\n",
        ">Height (meter): 175\n",
        "Height must be between 0 and 2.5 (m)\n",
        ">Height (meter): -50\n",
        "Height must be between 0 and 2.5 (m)\n",
        ">Height (meter): 1.70\n",
        "Your BMI is 27.68\n",
        "Overweight\n",
        "```"
      ],
      "metadata": {
        "id": "VC-53tDt4zeM"
      }
    },
    {
      "cell_type": "code",
      "source": [],
      "metadata": {
        "id": "bCt0XXLaArVM"
      },
      "execution_count": null,
      "outputs": []
    },
    {
      "cell_type": "markdown",
      "source": [
        "**Q15**: Temperature Converter Program\n",
        "\n",
        "จงเขียนโปรแกรมที่แปลงอุณหภูมิระหว่างหน่วยฟาเรนไฮต์และเซลเซียส โปรแกรมควรแสดงเมนู (ตามด้านล่าง) ที่ให้ผู้ใช้เลือกระหว่างการแปลงจากเซลเซียสเป็นฟาเรนไฮต์ ฟาเรนไฮต์เป็นเซลเซียส หรือออกจากโปรแกรม\n",
        "\n",
        "เมนูมี 3 ตัวเลือก:\n",
        "- A. แปลงเซลเซียสเป็นฟาเรนไฮต์: F = (C × 1.8) + 32\n",
        "- B. แปลงฟาเรนไฮต์เป็นเซลเซียส: C = (F - 32) ÷ 1.8\n",
        "- X. ออกจากโปรแกรม\n",
        "\n",
        "**ข้อมูลนำเข้า**:\n",
        "- String. ข้อความสำหรับเลือกตัวเลือก\n",
        "- ถ้าเลือกตัวเลือกที่หนึ่ง ใส่ตัวเลข**จำนวนจริง**สำหรับอุณหภูมิในหน่วยเซลเซียส\n",
        "- ถ้าเลือกตัวเลือกที่สอง ใส่ตัวเลข**จำนวนจริง**สำหรับอุณหภูมิในหน่วยฟาเรนไฮต์\n",
        "\n",
        "**ข้อมูลส่งออก**:\n",
        "- ถ้าเลือกตัวเลือกที่หนึ่ง แสดงตัวเลข**จำนวนจริง**สำหรับอุณหภูมิในหน่วยฟาเรนไฮต์ (ทศนิยม 1 ตำแหน่ง)\n",
        "- ถ้าเลือกตัวเลือกที่สอง แสดงตัวเลข**จำนวนจริง**สำหรับอุณหภูมิในหน่วยเซลเซียส (ทศนิยม 1 ตำแหน่ง)\n",
        "\n",
        "**Hint**:\n",
        "- ใช้ `while True:`\n",
        "\n",
        "Example:\n",
        "```\n",
        "Temperature Converter:\n",
        "A - Celsius to Fahrenheit\n",
        "B - Fahrenheit to Celsius\n",
        "X - Exit\n",
        "---\n",
        "Enter choice: A\n",
        "Enter Celsius: 100\n",
        "Fahrenheit: 212.0°F\n",
        "***\n",
        "Temperature Converter:\n",
        "1 - Celsius to Fahrenheit\n",
        "2 - Fahrenheit to Celsius\n",
        "3 - Exit\n",
        "---\n",
        "Enter choice: B\n",
        "Enter Fahrenheit: 98.6\n",
        "Celsius: 37.0°C\n",
        "***\n",
        "Temperature Converter:\n",
        "1 - Celsius to Fahrenheit\n",
        "2 - Fahrenheit to Celsius\n",
        "3 - Exit\n",
        "---\n",
        "Enter choice: X\n",
        "Goodbye!\n",
        "```"
      ],
      "metadata": {
        "id": "f1g3wLeF8paN"
      }
    },
    {
      "cell_type": "code",
      "source": [],
      "metadata": {
        "id": "WPPGSxo7JwN1"
      },
      "execution_count": null,
      "outputs": []
    }
  ]
}