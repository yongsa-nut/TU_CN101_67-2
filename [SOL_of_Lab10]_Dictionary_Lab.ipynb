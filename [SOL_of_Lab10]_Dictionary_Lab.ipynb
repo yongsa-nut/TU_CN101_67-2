{
  "nbformat": 4,
  "nbformat_minor": 0,
  "metadata": {
    "colab": {
      "provenance": [],
      "include_colab_link": true
    },
    "kernelspec": {
      "name": "python3",
      "display_name": "Python 3"
    },
    "language_info": {
      "name": "python"
    }
  },
  "cells": [
    {
      "cell_type": "markdown",
      "metadata": {
        "id": "view-in-github",
        "colab_type": "text"
      },
      "source": [
        "<a href=\"https://colab.research.google.com/github/yongsa-nut/TU_CN101_67-2/blob/main/%5BSOL_of_Lab10%5D_Dictionary_Lab.ipynb\" target=\"_parent\"><img src=\"https://colab.research.google.com/assets/colab-badge.svg\" alt=\"Open In Colab\"/></a>"
      ]
    },
    {
      "cell_type": "markdown",
      "source": [
        "# Dictionary Lab"
      ],
      "metadata": {
        "id": "-0VmaKsKZPPL"
      }
    },
    {
      "cell_type": "markdown",
      "source": [
        "**Turn off AI**\n",
        "\n",
        "Tools > Setting > AI Assistance > Check Hide generative AI features"
      ],
      "metadata": {
        "id": "ChNByKgxZY8p"
      }
    },
    {
      "cell_type": "markdown",
      "source": [
        "**Q1**: What will the following program print out?\n",
        "\n",
        "```python\n",
        "my_dict = {'Mary':1,'Mathil':2,'Mona':3}\n",
        "print(my_dict['Mary'] + 2*my_dict['Mona'])\n",
        "```"
      ],
      "metadata": {
        "id": "RXZkOVKppCMh"
      }
    },
    {
      "cell_type": "code",
      "source": [
        "7"
      ],
      "metadata": {
        "id": "K3Z0-1b0pCoX"
      },
      "execution_count": null,
      "outputs": []
    },
    {
      "cell_type": "markdown",
      "source": [
        "Q1 Explanation"
      ],
      "metadata": {
        "id": "pldBE4HmFo5P"
      }
    },
    {
      "cell_type": "code",
      "source": [
        "my_dict = {'Mary':1,'Mathil':2,'Mona':3} #\n",
        "print(my_dict['Mary'] + 2*my_dict['Mona']) #my_dict['Mary'] => 1, my_dict['Mona'] => 3  --> therefore 1 + 2*3 => 7"
      ],
      "metadata": {
        "id": "PZx4vZtdFogi",
        "colab": {
          "base_uri": "https://localhost:8080/"
        },
        "outputId": "a3c17233-a71a-4bcf-ed83-2e4580aad6ea"
      },
      "execution_count": null,
      "outputs": [
        {
          "output_type": "stream",
          "name": "stdout",
          "text": [
            "7\n"
          ]
        }
      ]
    },
    {
      "cell_type": "markdown",
      "source": [
        "**Q2**: What will the following program print out?\n",
        "\n",
        "```python\n",
        "dict1 = {'A':1,'B':2,'C':3}\n",
        "dict1['A'] = 3\n",
        "dict1['B'] = dict1['C']\n",
        "dict1['Z'] = 5\n",
        "print(dict1)\n",
        "```"
      ],
      "metadata": {
        "id": "wkibhY55pMNQ"
      }
    },
    {
      "cell_type": "code",
      "source": [
        "{'A': 3, 'B': 3, 'C': 3, 'Z': 5}"
      ],
      "metadata": {
        "id": "_cuFXvsbpND9"
      },
      "execution_count": null,
      "outputs": []
    },
    {
      "cell_type": "markdown",
      "source": [
        "Q2 Explanation"
      ],
      "metadata": {
        "id": "iS27VbIEGQmu"
      }
    },
    {
      "cell_type": "code",
      "source": [
        "dict1 = {'A':1,'B':2,'C':3} # now, dict1['A'] == 1, dict1['B'] == 2, dict1['C'] == 3\n",
        "dict1['A'] = 3 # now, dict1 => {'A':3,'B':2,'C':3}\n",
        "dict1['B'] = dict1['C'] # now, dict1 => {'A':3,'B':3,'C':3}\n",
        "dict1['Z'] = 5 # now, dict1 => {'A':3,'B':3,'C':3, 'Z':5}\n",
        "print(dict1)"
      ],
      "metadata": {
        "id": "HTClhDy7GTRw",
        "colab": {
          "base_uri": "https://localhost:8080/"
        },
        "outputId": "96f9a522-b5b2-4359-978e-fe64d3246e62"
      },
      "execution_count": null,
      "outputs": [
        {
          "output_type": "stream",
          "name": "stdout",
          "text": [
            "{'A': 3, 'B': 3, 'C': 3, 'Z': 5}\n"
          ]
        }
      ]
    },
    {
      "cell_type": "markdown",
      "source": [
        "**Q3**: What will the following program print out?\n",
        "\n",
        "```python\n",
        "my_dict = {'AAA': 'aaa', 'BBB':'bbb', 'ABB':'abb', 'CBA':'cba', 'abc':'ABC'}\n",
        "target = 'ABC'\n",
        "if target in my_dict:\n",
        "  print('Yes')\n",
        "else:\n",
        "  print('No')\n",
        "```"
      ],
      "metadata": {
        "id": "-9BNC2CHpNWN"
      }
    },
    {
      "cell_type": "code",
      "source": [],
      "metadata": {
        "id": "uidjm0WApOEn"
      },
      "execution_count": null,
      "outputs": []
    },
    {
      "cell_type": "markdown",
      "source": [
        "Q3 Explanation"
      ],
      "metadata": {
        "id": "qHwps2_5GUGd"
      }
    },
    {
      "cell_type": "code",
      "source": [
        "my_dict = {'AAA': 'aaa', 'BBB':'bbb', 'ABB':'abb', 'CBA':'cba', 'abc':'ABC'}\n",
        "target = 'ABC'\n",
        "if target in my_dict: # This expression check all the 'keys' in dict. It has no access to their values.\n",
        "  print('Yes')\n",
        "else:\n",
        "  print('No')"
      ],
      "metadata": {
        "id": "uIovfQ6WGXIf",
        "colab": {
          "base_uri": "https://localhost:8080/"
        },
        "outputId": "1230d647-3dea-4454-fa38-cf0dd41945d9"
      },
      "execution_count": null,
      "outputs": [
        {
          "output_type": "stream",
          "name": "stdout",
          "text": [
            "No\n"
          ]
        }
      ]
    },
    {
      "cell_type": "markdown",
      "source": [
        "**Q4**: What will the following program print out?\n",
        "\n",
        "```python\n",
        "my_dict = {'A':2,'B':5,'C':7,'D':10}\n",
        "total = 0\n",
        "for key in my_dict:\n",
        "  total += my_dict[key]\n",
        "print(total)\n",
        "```"
      ],
      "metadata": {
        "id": "eizSCNCopOVb"
      }
    },
    {
      "cell_type": "code",
      "source": [
        "24"
      ],
      "metadata": {
        "id": "Hu8Fi3-LpPMm"
      },
      "execution_count": null,
      "outputs": []
    },
    {
      "cell_type": "markdown",
      "source": [
        "Q4 Explanation"
      ],
      "metadata": {
        "id": "m9exYZdQGYRE"
      }
    },
    {
      "cell_type": "code",
      "source": [
        "#This program get a total summation of all values in the dict\n",
        "my_dict = {'A':2,'B':5,'C':7,'D':10}\n",
        "total = 0\n",
        "for key in my_dict: # key => 'A', 'B', 'C', 'D'\n",
        "  total += my_dict[key] # total => 0+2+5+7+10\n",
        "print(total)"
      ],
      "metadata": {
        "id": "K4hj6x71GZ2m",
        "colab": {
          "base_uri": "https://localhost:8080/"
        },
        "outputId": "58b6eefe-3e61-4367-bb76-fff563e4c135"
      },
      "execution_count": null,
      "outputs": [
        {
          "output_type": "stream",
          "name": "stdout",
          "text": [
            "24\n"
          ]
        }
      ]
    },
    {
      "cell_type": "markdown",
      "source": [
        "**Q5**: What will the following program print out?\n",
        "\n",
        "```python\n",
        "my_dict = {'A':1,'B':2,'C':6,'D':8,'E':7}\n",
        "total = 1\n",
        "for key, value in my_dict.items():\n",
        "  if value % 2 == 0:\n",
        "    total *= 2\n",
        "  else:\n",
        "    total *= value\n",
        "print(total)\n",
        "```"
      ],
      "metadata": {
        "id": "aQljZH3ZpPY3"
      }
    },
    {
      "cell_type": "code",
      "source": [
        "56"
      ],
      "metadata": {
        "id": "FEg3SVE7pQK6"
      },
      "execution_count": null,
      "outputs": []
    },
    {
      "cell_type": "markdown",
      "source": [
        "Q5 Explanation"
      ],
      "metadata": {
        "id": "NNqreccCGaxc"
      }
    },
    {
      "cell_type": "code",
      "source": [
        "#This program check if values in the dict are even\n",
        "my_dict = {'A':1,'B':2,'C':6,'D':8,'E':7}\n",
        "total = 1\n",
        "for key, value in my_dict.items(): # .items() returns all the key-value pairs --> [('A',1) , ('B',2) , ('C',6) , ('D',8) , ('E',7)]\n",
        "  if value % 2 == 0: #check if the value is even or not --> these are 'B':2, 'C':6, 'D':8\n",
        "    total *= 2\n",
        "  else: # False when the value is odd --> these are 'A':1, 'E':7\n",
        "    total *= value\n",
        "print(total) # total --> 1 * 1 * 2 * 2 * 2 * 7"
      ],
      "metadata": {
        "id": "marPA9XTGcSE",
        "colab": {
          "base_uri": "https://localhost:8080/"
        },
        "outputId": "db25c9d6-be62-46ea-896d-be4c15b03522"
      },
      "execution_count": null,
      "outputs": [
        {
          "output_type": "stream",
          "name": "stdout",
          "text": [
            "56\n"
          ]
        }
      ]
    },
    {
      "cell_type": "markdown",
      "source": [
        "**Q6**: What will the following program print out?\n",
        "\n",
        "```python\n",
        "new_dict = {'2023':[],'2024':[]}\n",
        "new_dict['2023'].append(1)\n",
        "new_dict['2024'].append(10)\n",
        "new_dict['2022'] = ['A','B','C']\n",
        "print(new_dict)\n",
        "```"
      ],
      "metadata": {
        "id": "twXan-fGpQYr"
      }
    },
    {
      "cell_type": "code",
      "source": [
        "{'2023': [1], '2024': [10], '2022': ['A', 'B', 'C']}"
      ],
      "metadata": {
        "id": "3eb_KW2xpRbm"
      },
      "execution_count": null,
      "outputs": []
    },
    {
      "cell_type": "markdown",
      "source": [
        "Q6 Explanation"
      ],
      "metadata": {
        "id": "GBA5pYGkGdHk"
      }
    },
    {
      "cell_type": "code",
      "source": [
        "new_dict = {'2023':[],'2024':[]} # new_dict has two keys ('2023' and '2024') with an empty list as their values\n",
        "new_dict['2023'].append(1) #now new_dict = {'2023':[1], '2024':[]}\n",
        "new_dict['2024'].append(10) #now new_dict = {'2023':[1], '2024':[10]}\n",
        "new_dict['2022'] = ['A','B','C'] # add new key to the dict with new value --> now, new_dict = {'2023':[1], '2024':[10], '2022': ['A', 'B', 'C']}\n",
        "print(new_dict)"
      ],
      "metadata": {
        "id": "8XR1-kHrGesw",
        "colab": {
          "base_uri": "https://localhost:8080/"
        },
        "outputId": "0df36438-34b3-48c7-e90d-ae4069470893"
      },
      "execution_count": null,
      "outputs": [
        {
          "output_type": "stream",
          "name": "stdout",
          "text": [
            "{'2023': [1], '2024': [10], '2022': ['A', 'B', 'C']}\n"
          ]
        }
      ]
    },
    {
      "cell_type": "markdown",
      "source": [
        "**Q7**: What will the following program print out?\n",
        "\n",
        "```python\n",
        "sentences = \"Cat cat dog cat dog Meow meow cat cat meow\"\n",
        "sentences = sentences.upper()\n",
        "words = sentences.split()\n",
        "my_dict = {}\n",
        "for word in words:\n",
        "  my_dict[word] = my_dict.get(word,0) + 1\n",
        "print(my_dict)\n",
        "```"
      ],
      "metadata": {
        "id": "l02Bd4QmpRtb"
      }
    },
    {
      "cell_type": "code",
      "source": [
        "{'CAT': 5, 'DOG': 2, 'MEOW': 3}"
      ],
      "metadata": {
        "id": "VgvhE_bnpSmU"
      },
      "execution_count": null,
      "outputs": []
    },
    {
      "cell_type": "markdown",
      "source": [
        "Q7 Explanation"
      ],
      "metadata": {
        "id": "BUHOSksyGfeP"
      }
    },
    {
      "cell_type": "code",
      "source": [
        "# This program is an example of how to count words in a sentence using dictionary with .get() method\n",
        "sentences = \"Cat cat dog cat dog Meow meow cat cat meow\"\n",
        "sentences = sentences.upper() #capitalize everything\n",
        "words = sentences.split() #split sentences to a list of words\n",
        "my_dict = {} #create an empty dict for counting\n",
        "for word in words:\n",
        "  my_dict[word] = my_dict.get(word,0) + 1 #if this word doesn't exist in my_dict --> my_dict.get(word, 0) would return 0 -->then, add a new key in my_dict with 1\n",
        "                                          #if this word is found before, my_dict.get(word, 0) would return the counter associate with that word --> add one to the value\n",
        "print(my_dict)"
      ],
      "metadata": {
        "id": "mUtIEkgvGgzP",
        "colab": {
          "base_uri": "https://localhost:8080/"
        },
        "outputId": "912a3fd8-b512-4a69-8228-f1159a85a333"
      },
      "execution_count": null,
      "outputs": [
        {
          "output_type": "stream",
          "name": "stdout",
          "text": [
            "{'CAT': 5, 'DOG': 2, 'MEOW': 3}\n"
          ]
        }
      ]
    },
    {
      "cell_type": "code",
      "source": [
        "# Run this for more detail steps\n",
        "sentences = \"Cat cat dog cat dog Meow meow cat cat meow\"\n",
        "print(f\"\"\"The sectences is \"{sentences}\"\n",
        "---------\"\"\")\n",
        "sentences = sentences.upper()\n",
        "words = sentences.split()\n",
        "print(\"The variable 'words' is: \")\n",
        "print(words)\n",
        "print(\"---------\")\n",
        "my_dict = {}\n",
        "print(f\"Before the for loop my_dict is {my_dict}\")\n",
        "print(\"---------\")\n",
        "print(\"\"\"=====================\n",
        "starting the for loop to count for words..\n",
        "=====================\"\"\")\n",
        "for word in words:\n",
        "  # for explanation\n",
        "  print(f\"Current word is '{word}' \")\n",
        "\n",
        "  if my_dict.get(word,0) == 0:\n",
        "    print(f\"FOUND NEW WORD: {word}\")\n",
        "  else:\n",
        "    print(f\"{word} exists in my_dict.\")\n",
        "  # real code\n",
        "  my_dict[word] = my_dict.get(word,0) + 1\n",
        "  # for explanation\n",
        "  print(f\"now, my_dict is {my_dict}\")\n",
        "  print(\"---\")\n",
        "\n",
        "print(\"\"\"---------------------\n",
        "counting finished\n",
        "=====================\n",
        "\"\"\")\n",
        "print(my_dict)"
      ],
      "metadata": {
        "colab": {
          "base_uri": "https://localhost:8080/"
        },
        "id": "DbIthK3GnBTq",
        "outputId": "ae4a5823-9598-4f99-aa41-461041389638"
      },
      "execution_count": null,
      "outputs": [
        {
          "output_type": "stream",
          "name": "stdout",
          "text": [
            "The sectences is \"Cat cat dog cat dog Meow meow cat cat meow\" \n",
            "---------\n",
            "The variable 'words' is: \n",
            "['CAT', 'CAT', 'DOG', 'CAT', 'DOG', 'MEOW', 'MEOW', 'CAT', 'CAT', 'MEOW']\n",
            "---------\n",
            "Before the for loop my_dict is {}\n",
            "---------\n",
            "=====================\n",
            "starting the for loop to count for words..\n",
            "=====================\n",
            "Current word is 'CAT' \n",
            "FOUND NEW WORD: CAT\n",
            "now, my_dict is {'CAT': 1}\n",
            "---\n",
            "Current word is 'CAT' \n",
            "CAT exists in my_dict.\n",
            "now, my_dict is {'CAT': 2}\n",
            "---\n",
            "Current word is 'DOG' \n",
            "FOUND NEW WORD: DOG\n",
            "now, my_dict is {'CAT': 2, 'DOG': 1}\n",
            "---\n",
            "Current word is 'CAT' \n",
            "CAT exists in my_dict.\n",
            "now, my_dict is {'CAT': 3, 'DOG': 1}\n",
            "---\n",
            "Current word is 'DOG' \n",
            "DOG exists in my_dict.\n",
            "now, my_dict is {'CAT': 3, 'DOG': 2}\n",
            "---\n",
            "Current word is 'MEOW' \n",
            "FOUND NEW WORD: MEOW\n",
            "now, my_dict is {'CAT': 3, 'DOG': 2, 'MEOW': 1}\n",
            "---\n",
            "Current word is 'MEOW' \n",
            "MEOW exists in my_dict.\n",
            "now, my_dict is {'CAT': 3, 'DOG': 2, 'MEOW': 2}\n",
            "---\n",
            "Current word is 'CAT' \n",
            "CAT exists in my_dict.\n",
            "now, my_dict is {'CAT': 4, 'DOG': 2, 'MEOW': 2}\n",
            "---\n",
            "Current word is 'CAT' \n",
            "CAT exists in my_dict.\n",
            "now, my_dict is {'CAT': 5, 'DOG': 2, 'MEOW': 2}\n",
            "---\n",
            "Current word is 'MEOW' \n",
            "MEOW exists in my_dict.\n",
            "now, my_dict is {'CAT': 5, 'DOG': 2, 'MEOW': 3}\n",
            "---\n",
            "---------------------\n",
            "counting finished\n",
            "=====================\n",
            "\n",
            "{'CAT': 5, 'DOG': 2, 'MEOW': 3}\n"
          ]
        }
      ]
    },
    {
      "cell_type": "markdown",
      "source": [
        "**Q8**: Fill in the blank so that it prints out ``11``."
      ],
      "metadata": {
        "id": "57p4k2GrlNUA"
      }
    },
    {
      "cell_type": "code",
      "source": [
        "my_dict = {'A': 1, 'B': 11, 'C': 111}\n",
        "print(my_dict[__])"
      ],
      "metadata": {
        "id": "btGYJW-DlNB_"
      },
      "execution_count": null,
      "outputs": []
    },
    {
      "cell_type": "markdown",
      "source": [
        "Q8 Explanation"
      ],
      "metadata": {
        "id": "cZ3HI7RhGhij"
      }
    },
    {
      "cell_type": "code",
      "source": [
        "my_dict = {'A': 1, 'B': 11, 'C': 111}\n",
        "print(my_dict['B']) # We can access value in a dict by specified its key"
      ],
      "metadata": {
        "id": "02oYeJi_Gp-X"
      },
      "execution_count": null,
      "outputs": []
    },
    {
      "cell_type": "markdown",
      "source": [
        "**Q9**: Fill in the blank so that the program prints out `12`"
      ],
      "metadata": {
        "id": "ZSxAY-f7fL5P"
      }
    },
    {
      "cell_type": "code",
      "source": [
        "my_dict = {'A':'1','B':'2','C':10,'D':5}\n",
        "print(my_dict[____] + my_dict[____])"
      ],
      "metadata": {
        "id": "2eyodSLLfQMZ"
      },
      "execution_count": null,
      "outputs": []
    },
    {
      "cell_type": "markdown",
      "source": [
        "Q9 Explanation"
      ],
      "metadata": {
        "id": "2TM2pD_4F5XK"
      }
    },
    {
      "cell_type": "code",
      "source": [
        "my_dict = {'A':'1','B':'2','C':10,'D':5}\n",
        "print(my_dict['A'] + my_dict['B']) #because my_dict['A'] is '1' and my_dict['B'] is '2'"
      ],
      "metadata": {
        "colab": {
          "base_uri": "https://localhost:8080/"
        },
        "id": "L0yFUpF8F7Q3",
        "outputId": "472255b9-c9bd-4a80-8ad2-c212faf28ea8"
      },
      "execution_count": null,
      "outputs": [
        {
          "output_type": "stream",
          "name": "stdout",
          "text": [
            "12\n"
          ]
        }
      ]
    },
    {
      "cell_type": "markdown",
      "source": [
        "**Q10**: Fill in the blank so that it prints out `30`."
      ],
      "metadata": {
        "id": "HPL2R25RlRQ4"
      }
    },
    {
      "cell_type": "code",
      "source": [
        "dict_list = {'Math':[10, 20, 30],\n",
        "             'Science':[40, 50, 60],\n",
        "             'English':[70, 80, 90]}\n",
        "\n",
        "print(dict_list[__][__])"
      ],
      "metadata": {
        "id": "6SEL-ri3lWRd"
      },
      "execution_count": null,
      "outputs": []
    },
    {
      "cell_type": "markdown",
      "source": [
        "Q10 Explanation"
      ],
      "metadata": {
        "id": "3OWOx0YRGsdv"
      }
    },
    {
      "cell_type": "code",
      "source": [
        "dict_list = {'Math':[10, 20, 30],\n",
        "             'Science':[40, 50, 60],\n",
        "             'English':[70, 80, 90]}\n",
        "\n",
        "print(dict_list['Math'][2]) # dict_list['Math'] is [10, 20, 30] --> so, we can get 30 from dict_list['Math'][2]"
      ],
      "metadata": {
        "id": "1WZzh2AOGuHN",
        "colab": {
          "base_uri": "https://localhost:8080/"
        },
        "outputId": "99305aa3-43ed-4d4d-984e-30b9c71bc343"
      },
      "execution_count": null,
      "outputs": [
        {
          "output_type": "stream",
          "name": "stdout",
          "text": [
            "30\n"
          ]
        }
      ]
    },
    {
      "cell_type": "markdown",
      "source": [
        "**Q11**: Fill in the blank so that it prints out `A`."
      ],
      "metadata": {
        "id": "MIgO95-Fl1SN"
      }
    },
    {
      "cell_type": "code",
      "source": [
        "users = {'Mary':{'age':20, 'gender':'F','grade':'B'},\n",
        "         'John':{'age':30, 'gender':'M','grade':'A'},\n",
        "         'Bob':{'age':25, 'gender':'M','grade':'C'}}\n",
        "\n",
        "print(users[__][__])"
      ],
      "metadata": {
        "id": "89OFqzx4l_XY"
      },
      "execution_count": null,
      "outputs": []
    },
    {
      "cell_type": "markdown",
      "source": [
        "Q11 Explanation"
      ],
      "metadata": {
        "id": "SkyR3J3NGuyB"
      }
    },
    {
      "cell_type": "code",
      "source": [
        "users = {'Mary':{'age':20, 'gender':'F','grade':'B'},\n",
        "         'John':{'age':30, 'gender':'M','grade':'A'},\n",
        "         'Bob':{'age':25, 'gender':'M','grade':'C'}}\n",
        "\n",
        "print(users['John']['grade']) # users['John'] is {'age':30, 'gender':'M', 'grade':'A'} --> so, we can get 'A' from users['John']['grade']"
      ],
      "metadata": {
        "id": "Qwd0vt3BGwjT"
      },
      "execution_count": null,
      "outputs": []
    },
    {
      "cell_type": "markdown",
      "source": [
        "**Q12** Fill in the blanks so that the program print out `{'Anna': [30, 20], 'Bob': []}`"
      ],
      "metadata": {
        "id": "An9RPYexo6SG"
      }
    },
    {
      "cell_type": "code",
      "source": [
        "scores = {'Anna':[],'Bob':[]}\n",
        "scores['Anna'].____________\n",
        "scores['Anna'].____________\n",
        "print(scores)"
      ],
      "metadata": {
        "id": "z0yTFajNY9m7"
      },
      "execution_count": null,
      "outputs": []
    },
    {
      "cell_type": "markdown",
      "source": [
        "Q12 Explanation"
      ],
      "metadata": {
        "id": "Bs9BTld3G2GM"
      }
    },
    {
      "cell_type": "code",
      "source": [
        "# To get {'Anna': [30, 20], 'Bob': []} --> we need to add 30 and 20 to the list that can be accessed with scores['Anna']\n",
        "scores = {'Anna':[],'Bob':[]}\n",
        "scores['Anna'].append(30) # now, scores is {'Anna': [30], 'Bob': []}\n",
        "scores['Anna'].append(20) # now, scores is {'Anna': [30, 20], 'Bob': []}\n",
        "print(scores)"
      ],
      "metadata": {
        "id": "siRcBM4UG3bk",
        "colab": {
          "base_uri": "https://localhost:8080/"
        },
        "outputId": "ed983b24-6d6d-4390-8647-b0e4e360a444"
      },
      "execution_count": null,
      "outputs": [
        {
          "output_type": "stream",
          "name": "stdout",
          "text": [
            "{'Anna': [30, 20], 'Bob': []}\n"
          ]
        }
      ]
    },
    {
      "cell_type": "markdown",
      "source": [
        "**Q13**: FIll in the function `print_sum` to print out the sum of payment of each person in a given dictionary like below\n",
        "\n",
        "```\n",
        "First Payment\n",
        "Anna: 30\n",
        "Bob: 140\n",
        "Second Payment\n",
        "Alice: 120\n",
        "Chris: 150\n",
        "Mike: 10\n",
        "```"
      ],
      "metadata": {
        "id": "3Nmeu2Vbf3fL"
      }
    },
    {
      "cell_type": "code",
      "source": [
        "def print_sum(payments):\n",
        "  ...\n",
        "\n",
        "def main():\n",
        "  first = {'Anna':[10,20],\n",
        "           'Bob':[20,30,40,50]\n",
        "           }\n",
        "  second = {'Alice':[30, 40, 50],\n",
        "            'Chris':[50,100],\n",
        "            'Mike':[10]\n",
        "            }\n",
        "  print('First Payment')\n",
        "  print_sum(first)\n",
        "  print('Second Payment')\n",
        "  print_sum(second)\n",
        "\n",
        "main()"
      ],
      "metadata": {
        "id": "uPnDBufTf36v"
      },
      "execution_count": null,
      "outputs": []
    },
    {
      "cell_type": "markdown",
      "source": [
        "Q13 Explanation"
      ],
      "metadata": {
        "id": "WxYNtQxFG40p"
      }
    },
    {
      "cell_type": "markdown",
      "source": [
        "To solve this question, you need to understand what is in a given dictionary.\n",
        "\n",
        "We see the dictionary is defined in the main() function\n",
        "```python\n",
        "  first = {'Anna':[10,20],\n",
        "           'Bob':[20,30,40,50]\n",
        "           }\n",
        "```\n",
        "\n",
        "We see that the dictionary consists of a name of each person as keys and a list of all payments as values.\n",
        "\n",
        "Thus, we can loop through the dictionary with `payments.items()` to get the key (which is a name) and value (which is a list). Then, we can use `sum(list_of_payments)` to get the total to be printed out."
      ],
      "metadata": {
        "id": "9n5STYUG6Y54"
      }
    },
    {
      "cell_type": "code",
      "source": [
        "# Solutions\n",
        "\n",
        "def print_sum(payments): # we want to print out the sum of payment of each person in a given dictionary (that is, payments)\n",
        "  for name, list_of_payments in payments.items():\n",
        "    total = sum(list_of_payments)\n",
        "    print(f\"{name}: {total}\")\n",
        "\n",
        "def main():\n",
        "  first = {'Anna':[10,20],\n",
        "           'Bob':[20,30,40,50]\n",
        "           }\n",
        "  second = {'Alice':[30, 40, 50],\n",
        "            'Chris':[50,100],\n",
        "            'Mike':[10]\n",
        "            }\n",
        "  print('First Payment')\n",
        "  print_sum(first)\n",
        "  print('Second Payment')\n",
        "  print_sum(second)\n",
        "\n",
        "main()"
      ],
      "metadata": {
        "id": "SFgEIF8dHBSP",
        "colab": {
          "base_uri": "https://localhost:8080/"
        },
        "outputId": "776636b2-920f-41df-cee7-8c4cf6d28421"
      },
      "execution_count": null,
      "outputs": [
        {
          "output_type": "stream",
          "name": "stdout",
          "text": [
            "First Payment\n",
            "Anna: 30\n",
            "Bob: 140\n",
            "Second Payment\n",
            "Alice: 120\n",
            "Chris: 150\n",
            "Mike: 10\n"
          ]
        }
      ]
    },
    {
      "cell_type": "code",
      "source": [
        "# simpler solutions - when a dictionary is called with 'for', their keys are returned one by one\n",
        "\n",
        "def print_sum(payments): # we want to print out the sum of payment of each person in a given dictionary (that is, payments)\n",
        "  for name in payments:\n",
        "    total = sum(payments[name]) #payments[name] return its value which is a list\n",
        "    print(f\"{name}: {total}\")\n",
        "\n",
        "def main():\n",
        "  first = {'Anna':[10,20],\n",
        "           'Bob':[20,30,40,50]\n",
        "           }\n",
        "  second = {'Alice':[30, 40, 50],\n",
        "            'Chris':[50,100],\n",
        "            'Mike':[10]\n",
        "            }\n",
        "  print('First Payment')\n",
        "  print_sum(first)\n",
        "  print('Second Payment')\n",
        "  print_sum(second)\n",
        "\n",
        "main()"
      ],
      "metadata": {
        "colab": {
          "base_uri": "https://localhost:8080/"
        },
        "id": "e8lmp4Kjh981",
        "outputId": "6b18adcc-9ccc-4c1e-b419-adb8e85625d9"
      },
      "execution_count": null,
      "outputs": [
        {
          "output_type": "stream",
          "name": "stdout",
          "text": [
            "First Payment\n",
            "Anna: 30\n",
            "Bob: 140\n",
            "Second Payment\n",
            "Alice: 120\n",
            "Chris: 150\n",
            "Mike: 10\n"
          ]
        }
      ]
    },
    {
      "cell_type": "markdown",
      "source": [
        "**Q14**: Count vowels\n",
        "\n",
        "Create a dictionary to count the number of vowels (a, e, i, o, u) from a given input string\n",
        "\n",
        "**Input**\n",
        "- string\n",
        "\n",
        "**Output**\n",
        "- A dictionary\n",
        "\n",
        "**Note:**\n",
        "- Fill in the code in function `count_vowels(input_string)` which takes in a string and return a dictionary\n",
        "- Fill in the code in function `main()` which receives an input from the user, call `count_vowels(input_string)`, and print the result\n",
        "- The order of dictionary's keys doesn't matter.\n",
        "\n",
        "\n",
        "**Example 1**\n",
        "\n",
        "```\n",
        "Enter input string: AaA eE i o uUuu\n",
        "{'a': 3, 'e': 2, 'i': 1, 'o': 1, 'u': 4}\n",
        "```\n",
        "\n",
        "**Example 2**\n",
        "\n",
        "```\n",
        "Enter input string: Hello How are you? I'm fine thank you.\n",
        "{'a': 2, 'e': 3, 'i': 2, 'o': 4, 'u': 2}\n",
        "```\n"
      ],
      "metadata": {
        "id": "fjipzU35nBsN"
      }
    },
    {
      "cell_type": "code",
      "source": [
        "def count_vowels(input_string):\n",
        "  # Description: a function to create a dictionary of words and their counts\n",
        "  # Args: input_string - text\n",
        "  # Returns: a dictionary\n",
        "\n",
        "\n",
        "def main():\n",
        "\n",
        "\n",
        "\n",
        "main()"
      ],
      "metadata": {
        "id": "YQjqwEqPou9A"
      },
      "execution_count": null,
      "outputs": []
    },
    {
      "cell_type": "markdown",
      "source": [
        "Q14 Explanation"
      ],
      "metadata": {
        "id": "q5I-cKpvG_At"
      }
    },
    {
      "cell_type": "code",
      "source": [
        "# Method 1. Use simple condition after initialize a dictionary for count with 0\n",
        "\n",
        "def count_vowels(input_string):\n",
        "  # Description: a function to create a dictionary of words and their counts\n",
        "  # Args: input_string - text\n",
        "  # Returns: a dictionary\n",
        "\n",
        "  dict_for_counting = {'a': 0, 'e':0, 'i':0, 'o':0, 'u':0}\n",
        "  for letter in input_string.lower(): #use .lower() because we don't care if the letter is capitalized or not\n",
        "    if letter in dict_for_counting: #check if letter match one of the keys\n",
        "      dict_for_counting[letter] += 1\n",
        "  return dict_for_counting\n",
        "\n",
        "def main():\n",
        "  text = input(\"Enter input string: \")\n",
        "  num_vowels = count_vowels(text)\n",
        "  print(num_vowels)\n",
        "\n",
        "main()"
      ],
      "metadata": {
        "id": "Spn-dJAWHAPG",
        "colab": {
          "base_uri": "https://localhost:8080/"
        },
        "outputId": "b97b671a-3af4-43d3-ceeb-7b8fc17a705a"
      },
      "execution_count": null,
      "outputs": [
        {
          "output_type": "stream",
          "name": "stdout",
          "text": [
            "Enter input string: AaA eE i o uUuu\n",
            "{'a': 3, 'e': 2, 'i': 1, 'o': 1, 'u': 4}\n"
          ]
        }
      ]
    },
    {
      "cell_type": "code",
      "source": [
        "# Method 2. Use .get(key, default) method to count\n",
        "\n",
        "def count_vowels(input_string):\n",
        "  # Description: a function to create a dictionary of words and their counts\n",
        "  # Args: input_string - text\n",
        "  # Returns: a dictionary\n",
        "  dict_for_counting = {}\n",
        "  vowels = ['a', 'e', 'i', 'o', 'u']\n",
        "  for letter in input_string.lower():\n",
        "    if letter in vowels:\n",
        "      dict_for_counting[letter] = dict_for_counting.get(letter, 0) + 1\n",
        "  return dict_for_counting #Notice that the order of vowels in dict_for_counting is based on the order in which it is found in the input string\n",
        "\n",
        "def main():\n",
        "  text = input(\"Enter input string: \")\n",
        "  num_vowels = count_vowels(text)\n",
        "  print(num_vowels)\n",
        "\n",
        "main()"
      ],
      "metadata": {
        "colab": {
          "base_uri": "https://localhost:8080/"
        },
        "id": "KxHiXBlY9ifg",
        "outputId": "f8dc9900-6aa8-426d-a706-e968365e0510"
      },
      "execution_count": null,
      "outputs": [
        {
          "output_type": "stream",
          "name": "stdout",
          "text": [
            "Enter input string: Hello How are you? I'm fine thank you.\n",
            "{'e': 3, 'o': 4, 'a': 2, 'u': 2, 'i': 2}\n"
          ]
        }
      ]
    },
    {
      "cell_type": "markdown",
      "source": [
        "**Q15**: Dictionary of even and odd\n",
        "\n",
        "Write a program which receives an input from a user. The input is one string consists of numbers separated by commas. Then, create a dictionary which contains two lists for even and odd numbers in the input.\n",
        "\n",
        "**Input**:\n",
        "- A string\n",
        "\n",
        "**Output**:\n",
        "- A dictionary\n",
        "\n",
        "**Notes**:\n",
        "- `dict_even_odd(input_string)` function takes in a string and return a dictionary\n",
        "- `main()` function asks the user to type in the sequence of number, call `dict_even_odd(input_string)`, and print out the result.\n",
        "\n",
        "**Example 1**:\n",
        "```\n",
        "Enter input string: 1\n",
        "{'even': [], 'odd': [1]}\n",
        "```\n",
        "\n",
        "**Example 2**:\n",
        "```\n",
        "Enter input string: 1,3,5,8,10\n",
        "{'even': [8, 10], 'odd': [1, 3, 5]}\n",
        "```\n",
        "\n",
        "**Example 3**:\n",
        "```\n",
        "Enter input string: 0,4,7,9,12\n",
        "{'even': [0, 4, 12], 'odd': [7, 9]}\n",
        "```"
      ],
      "metadata": {
        "id": "vOsxxrFWt7Cm"
      }
    },
    {
      "cell_type": "code",
      "execution_count": null,
      "metadata": {
        "id": "9i8EQN0atpFC"
      },
      "outputs": [],
      "source": [
        "def dict_even_odd(input_string):\n",
        "  # A function to create a dict of even/odd lists\n",
        "  # Args: input_string - text of numbers separated by commas\n",
        "  # Returns: A dict\n",
        "\n",
        "\n",
        "def main():\n",
        "\n",
        "\n",
        "\n",
        "main()"
      ]
    },
    {
      "cell_type": "markdown",
      "source": [
        "Q15 Explanation"
      ],
      "metadata": {
        "id": "6LzXh0UCHDLQ"
      }
    },
    {
      "cell_type": "code",
      "source": [
        "def dict_even_odd(input_string):\n",
        "  # A function to create a dict of even/odd lists\n",
        "  # Args: input_string - text of numbers separated by commas\n",
        "  # Returns: A dict\n",
        "  list_num = input_string.split(',') # caution: output from .split is a list of string --> you need to convert it to integer before calculation\n",
        "  even_odd = {'even':[], 'odd':[]}   # create a dict for counting\n",
        "  for num in list_num:\n",
        "    if int(num)%2 == 0: #even\n",
        "      even_odd['even'].append(num)\n",
        "    else: #odd\n",
        "      even_odd['odd'].append(num)\n",
        "  return even_odd\n",
        "\n",
        "def main():\n",
        "  input_string = input(\"Enter input string: \")\n",
        "  even_odd_dict = dict_even_odd(input_string)\n",
        "  print(even_odd_dict)\n",
        "\n",
        "\n",
        "main()"
      ],
      "metadata": {
        "id": "9KYO-h80HEzM",
        "colab": {
          "base_uri": "https://localhost:8080/"
        },
        "outputId": "d8af3957-a803-477d-e11c-85b1ab0de157"
      },
      "execution_count": null,
      "outputs": [
        {
          "output_type": "stream",
          "name": "stdout",
          "text": [
            "Enter input string: 1,3,5,8,10\n",
            "{'even': ['8', '10'], 'odd': ['1', '3', '5']}\n"
          ]
        }
      ]
    },
    {
      "cell_type": "markdown",
      "source": [
        "\n",
        "\n",
        "---\n",
        "\n"
      ],
      "metadata": {
        "id": "WHAZiMUAbDAN"
      }
    },
    {
      "cell_type": "markdown",
      "source": [
        "# EXTRA"
      ],
      "metadata": {
        "id": "yIfXtdXsZluA"
      }
    },
    {
      "cell_type": "markdown",
      "source": [
        "Remember that there is a summary notebook about dictionary here https://colab.research.google.com/github/yongsa-nut/TU_CN101_67-1/blob/main/Dictionary.ipynb\n"
      ],
      "metadata": {
        "id": "FFcac1UQVPP0"
      }
    },
    {
      "cell_type": "markdown",
      "source": [
        "## Useful dictionary methods\n",
        "- `.keys()` returns all the keys in a dictionary as a sequence of tuples\n",
        "- `.values()` returns all the values in the dictionary as a sequence of tuples\n",
        "- `.items()` returns all the key-value pairs as a sequence of tuples in the dictionary  \n",
        "- `.get(key, default)`: Gets the value associated with a specified key. If the key is not found, the method does not raise an exception. Instead, it returns a default value."
      ],
      "metadata": {
        "id": "3GfaO--2Xdsa"
      }
    },
    {
      "cell_type": "code",
      "source": [
        "# keys, values, items example\n",
        "phonebook = {'Chris':'555−1111','Katie':'555-2222','Joanne':'555-3333'}\n",
        "print(phonebook.keys())\n",
        "print(phonebook.values())\n",
        "print(phonebook.items())"
      ],
      "metadata": {
        "colab": {
          "base_uri": "https://localhost:8080/"
        },
        "id": "Wx2vh746ZrEE",
        "outputId": "b77fc51f-b6e9-47e0-e177-74da5f10cb9c"
      },
      "execution_count": null,
      "outputs": [
        {
          "output_type": "stream",
          "name": "stdout",
          "text": [
            "dict_keys(['Chris', 'Katie', 'Joanne'])\n",
            "dict_values(['555−1111', '555-2222', '555-3333'])\n",
            "dict_items([('Chris', '555−1111'), ('Katie', '555-2222'), ('Joanne', '555-3333')])\n"
          ]
        }
      ]
    },
    {
      "cell_type": "code",
      "source": [
        "# Using them with for loop\n",
        "phonebook = {'Chris':'555−1111','Katie':'555-2222','Joanne':'555-3333'}\n",
        "for value in phonebook.values():\n",
        "  print(value)"
      ],
      "metadata": {
        "colab": {
          "base_uri": "https://localhost:8080/"
        },
        "id": "Gp8QxZpsZtT0",
        "outputId": "0b4bd4fb-df3e-478c-b7c7-76f6fbb293f4"
      },
      "execution_count": null,
      "outputs": [
        {
          "output_type": "stream",
          "name": "stdout",
          "text": [
            "555−1111\n",
            "555-2222\n",
            "555-3333\n"
          ]
        }
      ]
    },
    {
      "cell_type": "code",
      "source": [
        "#Using items with for loop\n",
        "phonebook = {'Chris':'555−1111','Katie':'555-2222','Joanne':'555-3333'}\n",
        "for key, value in phonebook.items():\n",
        "  print(f\"Key = {key}, Value = {value}\")"
      ],
      "metadata": {
        "colab": {
          "base_uri": "https://localhost:8080/"
        },
        "id": "Avn4lDqCZyZX",
        "outputId": "c372ec13-34e8-40e3-a641-7915c2d95b1e"
      },
      "execution_count": null,
      "outputs": [
        {
          "output_type": "stream",
          "name": "stdout",
          "text": [
            "Key = Chris, Value = 555−1111\n",
            "Key = Katie, Value = 555-2222\n",
            "Key = Joanne, Value = 555-3333\n"
          ]
        }
      ]
    },
    {
      "cell_type": "code",
      "source": [
        "# get method\n",
        "phonebook = {'Chris':'555−1111','Katie':'555-2222','Joanne':'555-3333'}\n",
        "print(phonebook.get('Chris','Not found'))\n",
        "print(phonebook.get('Marry','Not found'))"
      ],
      "metadata": {
        "colab": {
          "base_uri": "https://localhost:8080/"
        },
        "id": "K97R442xZzR5",
        "outputId": "774af558-d2fe-4899-fa78-803f66648bc5"
      },
      "execution_count": null,
      "outputs": [
        {
          "output_type": "stream",
          "name": "stdout",
          "text": [
            "555−1111\n",
            "Not found\n"
          ]
        }
      ]
    },
    {
      "cell_type": "code",
      "source": [
        "# Get equivalent to if else with check in\n",
        "phonebook = {'Chris':'555−1111','Katie':'555-2222','Joanne':'555-3333'}\n",
        "query = 'Mary'\n",
        "default = 'Not found'\n",
        "\n",
        "# using if else and in\n",
        "if query in phonebook:\n",
        "  print(phonebook[query])\n",
        "else:\n",
        "  print(default)\n",
        "\n",
        "# using get\n",
        "print(phonebook.get(query, default))"
      ],
      "metadata": {
        "colab": {
          "base_uri": "https://localhost:8080/"
        },
        "id": "QnP_q80Waky9",
        "outputId": "95b55025-6a39-402a-e546-046d5f35a345"
      },
      "execution_count": null,
      "outputs": [
        {
          "output_type": "stream",
          "name": "stdout",
          "text": [
            "Not found\n",
            "Not found\n"
          ]
        }
      ]
    },
    {
      "cell_type": "markdown",
      "source": [
        "Extra: another variation of Q3. What will the following program print out?\n",
        "```python\n",
        "my_dict = {'AAA': 'aaa', 'BBB':'bbb', 'ABB':'abb', 'CBA':'cba', 'abc':'ABC'}\n",
        "target = 'ABC'\n",
        "if target in my_dict.values():\n",
        "  print('Yes')\n",
        "else:\n",
        "  print('No')\n",
        "```"
      ],
      "metadata": {
        "id": "cS7TW9FedFCn"
      }
    },
    {
      "cell_type": "code",
      "source": [],
      "metadata": {
        "id": "_VBf8v6ddV8B"
      },
      "execution_count": null,
      "outputs": []
    },
    {
      "cell_type": "markdown",
      "source": [
        "Q3 extra - explanation"
      ],
      "metadata": {
        "id": "_zo00rUQf2Jp"
      }
    },
    {
      "cell_type": "code",
      "source": [
        "#Q3 extra - explanation\n",
        "my_dict = {'AAA': 'aaa', 'BBB':'bbb', 'ABB':'abb', 'CBA':'cba', 'abc':'ABC'}\n",
        "target = 'ABC'\n",
        "if target in my_dict.values(): # This expression check all the 'keys' in dict. It has no access to their values.\n",
        "  print('Yes')\n",
        "else:\n",
        "  print('No')\n",
        "#-------------------------------------------------\n",
        "#Extra explanation\n",
        "print(\"\"\"\n",
        "=============================\n",
        "Extra explanation\n",
        "-----------------------------\n",
        "\"\"\")\n",
        "print(f\"my_dict is {my_dict}\")\n",
        "print(\"----\")\n",
        "print(\".keys() returns all the keys in a dictionary.\")\n",
        "print(my_dict.keys())\n",
        "print(\"----\")\n",
        "print(\".values() returns all the values in the dictionary.\")\n",
        "print(my_dict.values())\n"
      ],
      "metadata": {
        "colab": {
          "base_uri": "https://localhost:8080/"
        },
        "id": "XNE06Z0ccyUJ",
        "outputId": "f1d20626-42c3-4c4e-92ef-88a4b3e0a847"
      },
      "execution_count": null,
      "outputs": [
        {
          "output_type": "stream",
          "name": "stdout",
          "text": [
            "Yes\n",
            "\n",
            "=============================\n",
            "Extra explanation\n",
            "-----------------------------\n",
            "\n",
            "my_dict is {'AAA': 'aaa', 'BBB': 'bbb', 'ABB': 'abb', 'CBA': 'cba', 'abc': 'ABC'}\n",
            "----\n",
            ".keys() returns all the keys in a dictionary.\n",
            "dict_keys(['AAA', 'BBB', 'ABB', 'CBA', 'abc'])\n",
            "----\n",
            ".values() returns all the values in the dictionary.\n",
            "dict_values(['aaa', 'bbb', 'abb', 'cba', 'ABC'])\n"
          ]
        }
      ]
    },
    {
      "cell_type": "markdown",
      "source": [
        "## Counting things with dictionary\n",
        "- Dictionaries are excellent for counting occurrences\n",
        "- Use keys for items and values for counts\n",
        "- Utilize the get() method with a default value"
      ],
      "metadata": {
        "id": "3U8kgRtaatdc"
      }
    },
    {
      "cell_type": "code",
      "source": [
        "# Counting with get\n",
        "sentence = \"The curious cat carefully crept closer to the colorful butterfly but the butterfly fluttered away leaving the cat curious about the butterfly's quick escape\"\n",
        "\n",
        "sentence = sentence.lower()\n",
        "sentence = sentence.split()\n",
        "\n",
        "word_count = {}\n",
        "for word in sentence:\n",
        "  word_count[word] = word_count.get(word, 0) + 1\n",
        "\n",
        "print(word_count)"
      ],
      "metadata": {
        "colab": {
          "base_uri": "https://localhost:8080/"
        },
        "id": "zw1u8hUea-TP",
        "outputId": "33795af3-1393-45ec-f5d5-353f267ffb7c"
      },
      "execution_count": null,
      "outputs": [
        {
          "output_type": "stream",
          "name": "stdout",
          "text": [
            "{'the': 5, 'curious': 2, 'cat': 2, 'carefully': 1, 'crept': 1, 'closer': 1, 'to': 1, 'colorful': 1, 'butterfly': 2, 'but': 1, 'fluttered': 1, 'away': 1, 'leaving': 1, 'about': 1, \"butterfly's\": 1, 'quick': 1, 'escape': 1}\n"
          ]
        }
      ]
    },
    {
      "cell_type": "code",
      "source": [
        "# Counting letters\n",
        "word = \"mississippi\"\n",
        "letter_count = {}\n",
        "\n",
        "for letter in word:\n",
        "    letter_count[letter] = letter_count.get(letter, 0) + 1\n",
        "\n",
        "print(letter_count)"
      ],
      "metadata": {
        "colab": {
          "base_uri": "https://localhost:8080/"
        },
        "id": "us-vt-b9a2w_",
        "outputId": "acb136d5-b6d1-4c6b-f48e-473fe392eb56"
      },
      "execution_count": null,
      "outputs": [
        {
          "output_type": "stream",
          "name": "stdout",
          "text": [
            "{'m': 1, 'i': 4, 's': 4, 'p': 2}\n"
          ]
        }
      ]
    }
  ]
}