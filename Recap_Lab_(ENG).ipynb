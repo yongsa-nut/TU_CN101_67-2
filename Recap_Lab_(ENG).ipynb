{
  "nbformat": 4,
  "nbformat_minor": 0,
  "metadata": {
    "colab": {
      "provenance": [],
      "authorship_tag": "ABX9TyNxf22fEi3SragRXpu1+ssT",
      "include_colab_link": true
    },
    "kernelspec": {
      "name": "python3",
      "display_name": "Python 3"
    },
    "language_info": {
      "name": "python"
    }
  },
  "cells": [
    {
      "cell_type": "markdown",
      "metadata": {
        "id": "view-in-github",
        "colab_type": "text"
      },
      "source": [
        "<a href=\"https://colab.research.google.com/github/yongsa-nut/TU_CN101_67-2/blob/main/Recap_Lab_(ENG).ipynb\" target=\"_parent\"><img src=\"https://colab.research.google.com/assets/colab-badge.svg\" alt=\"Open In Colab\"/></a>"
      ]
    },
    {
      "cell_type": "markdown",
      "source": [
        "**Q1** What is the output of the program?\n",
        "\n",
        "```python\n",
        "num = 1\n",
        "def aaa():\n",
        "  num = 0\n",
        "  print(num)\n",
        "\n",
        "def bbb():\n",
        "  global num\n",
        "  num += 2\n",
        "\n",
        "bbb()\n",
        "aaa()\n",
        "bbb()\n",
        "print(num)\n",
        "```"
      ],
      "metadata": {
        "id": "fpqwUp-RraJf"
      }
    },
    {
      "cell_type": "code",
      "source": [],
      "metadata": {
        "id": "9dn_zoFTqaE9"
      },
      "execution_count": null,
      "outputs": []
    },
    {
      "cell_type": "markdown",
      "source": [
        "**Q2** What is the output of the program?\n",
        "\n",
        "```python\n",
        "my_number = list(range(1,15,4))\n",
        "new_nums = [num-1 for num in my_number]\n",
        "print(new_nums)\n",
        "```"
      ],
      "metadata": {
        "id": "PmEGxiT6rr4S"
      }
    },
    {
      "cell_type": "code",
      "source": [],
      "metadata": {
        "id": "rBuEtFKjrtjM"
      },
      "execution_count": null,
      "outputs": []
    },
    {
      "cell_type": "markdown",
      "source": [
        "**Q3** What is the output of the program?\n",
        "\n",
        "```python\n",
        "our_dict = {'Anna':2, 'Mary':3, 'Joe':4, 'Nancy': 7}\n",
        "our_dict['Anna'] = 5\n",
        "print(our_dict['Joe'], our_dict['Anna']*2)\n",
        "```"
      ],
      "metadata": {
        "id": "AQ49hkpRrtwO"
      }
    },
    {
      "cell_type": "code",
      "source": [],
      "metadata": {
        "id": "vokNqsTyruad"
      },
      "execution_count": null,
      "outputs": []
    },
    {
      "cell_type": "markdown",
      "source": [
        "**Q4** What is the output of the program?\n",
        "\n",
        "```python\n",
        "TwoD = [[2,3,4],\n",
        "        [1,2],\n",
        "        [7,8,0]]\n",
        "print(TwoD[0][0] + TwoD[1][1] + TwoD[2][1])\n",
        "```"
      ],
      "metadata": {
        "id": "hglzB-1truvk"
      }
    },
    {
      "cell_type": "code",
      "source": [],
      "metadata": {
        "id": "-phYIgtJrvZ_"
      },
      "execution_count": null,
      "outputs": []
    },
    {
      "cell_type": "markdown",
      "source": [
        "**Q5** What is the output of the program?\n",
        "```python\n",
        "temp = ''\n",
        "for s in ['Aabc','ABC','eee']:\n",
        "  temp += s\n",
        "new_str = temp.lstrip('A').rstrip('e').strip('a')\n",
        "print(new_str)\n",
        "```"
      ],
      "metadata": {
        "id": "P2q9VQbwrvrQ"
      }
    },
    {
      "cell_type": "code",
      "source": [],
      "metadata": {
        "id": "leNEqX1frwpM"
      },
      "execution_count": null,
      "outputs": []
    },
    {
      "cell_type": "markdown",
      "source": [
        "**Q6** What is the output of the program?\n",
        "\n",
        "```python\n",
        "def do_aaa(x):\n",
        "  a = x+1\n",
        "  b = x*2\n",
        "  c = x/5\n",
        "  return a, b ,c\n",
        "outs = do_aaa(5)\n",
        "print(f\"{outs[1]}, {outs[2]}, {outs[0]}\")\n",
        "```"
      ],
      "metadata": {
        "id": "zOyWmsP8k9YP"
      }
    },
    {
      "cell_type": "code",
      "source": [],
      "metadata": {
        "id": "avi4NDnqk-FW"
      },
      "execution_count": null,
      "outputs": []
    },
    {
      "cell_type": "markdown",
      "source": [
        "**Qุ7** Fill in the blank so that the program prints out 'SON'"
      ],
      "metadata": {
        "id": "9iI5kspdvsa4"
      }
    },
    {
      "cell_type": "code",
      "source": [
        "my_text = \"LAN_SI_BOM\"\n",
        "print(my_text[_] + my_text[_] + my_text[_])"
      ],
      "metadata": {
        "id": "r-Nzi2YGv6XT"
      },
      "execution_count": null,
      "outputs": []
    },
    {
      "cell_type": "markdown",
      "source": [
        "**Qุ8** Fill in the blank so that the program prints out [5, 20, 35]"
      ],
      "metadata": {
        "id": "no-BdxQCzxFj"
      }
    },
    {
      "cell_type": "code",
      "source": [
        "my_list = [1, 5, 10, 15, 20, 25, 30, 35]\n",
        "print(my_list[_::_])"
      ],
      "metadata": {
        "id": "dW7gegCHz0-U"
      },
      "execution_count": null,
      "outputs": []
    },
    {
      "cell_type": "markdown",
      "source": [
        "**Qุ9** Fill in the blank so that the program prints out `[1,3,5,7]`"
      ],
      "metadata": {
        "id": "w_407F0Y0-Bb"
      }
    },
    {
      "cell_type": "code",
      "source": [
        "results = []\n",
        "for i in range(8):\n",
        "  if i%2 == 0:\n",
        "     ___________________\n",
        "print(results)"
      ],
      "metadata": {
        "id": "lzIGdw2a0_rd"
      },
      "execution_count": null,
      "outputs": []
    },
    {
      "cell_type": "markdown",
      "source": [
        "**Qุ10** Fill in the blank so that the program prints out 150"
      ],
      "metadata": {
        "id": "3oNVCnWG0_8C"
      }
    },
    {
      "cell_type": "code",
      "source": [
        "your_dict = {'A':2, 'B':__, 'C': 5}\n",
        "total = 1\n",
        "for key in your_dict:\n",
        "  total *= your_dict[key]\n",
        "print(total)"
      ],
      "metadata": {
        "id": "luv6CQvN1B7k"
      },
      "execution_count": null,
      "outputs": []
    },
    {
      "cell_type": "markdown",
      "source": [
        "**Q11** Circle's properties\n",
        "\n",
        "Write a function `circle_properties(radius)` which takes in a number `radius` of a circle and return an area and a circumference of the circle.\n",
        "\n",
        "Input:\n",
        "- Real number. the radius.\n",
        "\n",
        "Output:\n",
        "- Real number. Area of the circle in two decimals.\n",
        "- Real number. Circumference in two decimals.\n",
        "\n",
        "Example 1:\n",
        "\n",
        "```\n",
        "Enter the radius: 1\n",
        "Area: 3.14\n",
        "Circumference: 6.28\n",
        "```\n",
        "Example 2:\n",
        "```\n",
        "Enter the radius: 2.5\n",
        "Area: 19.63\n",
        "Circumference: 15.71\n",
        "```"
      ],
      "metadata": {
        "id": "xmSH-UItUYF_"
      }
    },
    {
      "cell_type": "code",
      "source": [
        "# import\n",
        "\n",
        "\n",
        "# Implement circle_properties(radius) function here\n",
        "\n",
        "\n",
        "\n",
        "def main():\n",
        "  radius = float(input(\"Enter the radius: \"))\n",
        "  # call circle_properties(radius) below\n",
        "\n",
        "\n",
        "\n",
        "main()"
      ],
      "metadata": {
        "id": "31iH8UdSVGL6"
      },
      "execution_count": null,
      "outputs": []
    },
    {
      "cell_type": "markdown",
      "source": [
        "**Q12**: Discount Price\n",
        "\n",
        "Write a program to calculate the discounted price where the user inputs the quantity of items purchased and the discount percentage. The price per item is 50 baht. If the total price is more than 1,000, a discount will be applied.\n",
        "\n",
        "**Input**\n",
        "- Amount. real number\n",
        "- % discount. real number\n",
        "\n",
        "**Output**\n",
        "- Original price. real number, two decimal.\n",
        "- Discount price. real number, two decimal.\n",
        "\n",
        "**Requirements**\n",
        "- `discount_price(amount, percent)` function\n",
        "  - `amount`: คือตัวเลขจำนวนของ, `percent`: คือตัวเลขที่ของ % ลดราคา\n",
        "  - คำนวณหาค่าลดราคา\n",
        "  - ส่งข้อมูลออกสองค่า ราคาก่อนลด และ ราคาหลังลด\n",
        "- `main()` function\n",
        "  - รับข้อมูล จำนวนของที่ซื้อ และ percent ลดราคาจาก user\n",
        "  - เรียกใช้ `discount_price()` และนำผลที่ได้มาแสดงผล\n",
        "\n",
        "Example 1\n",
        "```\n",
        "Enter amount: 10\n",
        "Enter discount %: 10\n",
        "Original price: 500.00\n",
        "Discount price: 500.00\n",
        "```\n",
        "\n",
        "Example 2\n",
        "```\n",
        "Enter amount: 100\n",
        "Enter discount %: 20\n",
        "Original price: 5000.00\n",
        "Discount price: 4000.00\n",
        "```"
      ],
      "metadata": {
        "id": "q4CLsAeCVJyj"
      }
    },
    {
      "cell_type": "code",
      "source": [
        "ITEM_PRICE = 50\n",
        "PRICE_THRESHOLD = 1000\n",
        "\n",
        "def discount_price(amount, percent):\n",
        "  ...\n",
        "\n",
        "def main():\n",
        "  amount = int(input(\"Enter amount: \"))\n",
        "  percent = float(input(\"Enter discount %: \"))\n",
        "  outputs = _____________________________________\n",
        "  print(f'Original price: {_______________:.2f}')\n",
        "  print(f'Discount price: {_______________:.2f}')\n",
        "\n",
        "main()"
      ],
      "metadata": {
        "id": "HY26YdsZW0Pb"
      },
      "execution_count": null,
      "outputs": []
    },
    {
      "cell_type": "markdown",
      "source": [
        "**Q13** Probability Calculation\n",
        "\n",
        "Write a program to calculate the product of probabilities. This program will accept input as real numbers separated by commas, then convert all numbers to probabilities using the softmax function, $x_i = \\frac{e^{x_i}}{\\sum_ie^{x_i}}$. Example: x = [1,2,3], $x_0 = \\frac{e^{1}}{e^{1}+e^{2}+e^{3}}$\n",
        "\n",
        "After that, calculate the product of all probabilities in two ways:\n",
        "- The first way is direct calculation by multiplying all numbers together\n",
        "- The second way is using Log-Sum-Exponential. This means finding the sum of logs of all probabilities first, then exponentiating to get the product value. We can do this because $e^{log(xy)} = e^{log(x) + log(y)}$.\n",
        "  - For example, $1\\times2\\times3\\times4 = e^{log(1)+log(2)+log(3)+log(4)}$\n",
        "\n",
        "**Input**:\n",
        "- Numbers separated by commas\n",
        "\n",
        "**Output**:\n",
        "- A list of probabilities from softmax\n",
        "- The product of all probabilities from `mul_prob` function\n",
        "- The product of all probabilities from `log-sum-exponential` function\n",
        "\n",
        "**Requirements**:\n",
        "- `get_numbers()` function\n",
        "  - Get input from the user\n",
        "  - Turn the input string into a list of numbers\n",
        "  - Return the list\n",
        "- `softmax(numbers)` function\n",
        "  - `numbers`: list of numbers\n",
        "  - Create a new list of probalities from softmax\n",
        "  - Return the list\n",
        "- `mul_prob(probs)` function\n",
        "  - `probs`: list of probability\n",
        "  - return the product of probabilities\n",
        "- `log_sum_exp(probs)` function\n",
        " - `probs`: list of probability\n",
        "  - return the product of probabilities using log, sum, exponential methods described above.\n",
        "- `main()` function\n",
        "  - Call `get_numbers()` and store the result in a variable\n",
        "  - Call `softmax(numbers)` to create a list of probability\n",
        "  - Call `mul_prob(probs)` and print out the result\n",
        "  - Call `log_sum_exp(probs)` and print out the result\n",
        "\n",
        "Example 1\n",
        "```\n",
        "Enter numbers: 1,2,3,4\n",
        "Probabilities: [0.03205860328008499, 0.08714431874203257, 0.23688281808991013, 0.6439142598879722]\n",
        "Product: 0.00042613311062571056\n",
        "Log-sum-exp product: 0.0004261331106257103\n",
        "```\n",
        "\n",
        "Example 2\n",
        "```\n",
        "Enter numbers: 1,1,1,1,1,1,1,1,1,1\n",
        "Probabilities: [0.1, 0.1, 0.1, 0.1, 0.1, 0.1, 0.1, 0.1, 0.1, 0.1]\n",
        "Product: 1.0000000000000006e-10\n",
        "Log-sum-exp product: 9.999999999999996e-11\n",
        "```"
      ],
      "metadata": {
        "id": "smTEhIeZS03g"
      }
    },
    {
      "cell_type": "code",
      "source": [
        "import math\n",
        "\n",
        "def get_numbers():\n",
        "  numbers_str = input(\"Enter numbers: \")\n",
        "\n",
        "  return ...\n",
        "\n",
        "def softmax(numbers):\n",
        "  exp_numbers = [math.exp(x) for x in numbers]\n",
        "  sum_exp = sum(exp_numbers)\n",
        "\n",
        "  probabilities = ...\n",
        "\n",
        "  return probabilities\n",
        "\n",
        "def mul_prob(probs):\n",
        "\n",
        "  return ...\n",
        "\n",
        "def log_sum_exp(probs):\n",
        "\n",
        "  return ...\n",
        "\n",
        "def main():\n",
        "  numbers = get_numbers()\n",
        "  probabilities = ______________\n",
        "  print(\"Probabilities:\", probabilities)\n",
        "\n",
        "  product = _________________\n",
        "  print(\"Product:\", product)\n",
        "\n",
        "  log_product = _________________\n",
        "  print(\"Log-sum-exp product:\", log_product)\n",
        "\n",
        "main()"
      ],
      "metadata": {
        "id": "pxb8hj-vS7ds"
      },
      "execution_count": null,
      "outputs": []
    },
    {
      "cell_type": "markdown",
      "source": [
        "**Q14** Name's length\n",
        "\n",
        "Write a program to receive multiple names as an input, where each name is separated by spaces. Then create a dictionary containing names with lengths of 3, 4, and 5 characters stored in lists. Also, find the count of names for each length.\n",
        "\n",
        "**Input**:\n",
        "- String of names separated by spaces\n",
        "\n",
        "**Output**:\n",
        "- Dictionary which stores the names with length 3, 4, and 5\n",
        "- The number of names with length of 3, 4, and 5\n",
        "\n",
        "**Requirements**:\n",
        "- `get_names()` function\n",
        "  - Receive an input from the user\n",
        "  - Create a dictionary which stores names with length of 3, 4, and 5 (See examples)\n",
        "  - return the dictionary\n",
        "- `num_names(names_dict)` function\n",
        "  - `name_dict` is a dictionary\n",
        "  - print out the number of names with length of 3, 4, 5\n",
        "- `main()` function\n",
        "  - Call `get_names()`, store the dictionary in a variable, and print it out.\n",
        "  - Call `num_names(names_dict)`\n",
        "\n",
        "Example 1\n",
        "```\n",
        "Enter names: Bob Cat Rose Rose Anna Alice Kido Anatasia Yo\n",
        "{3: ['Bob', 'Cat'], 4: ['Rose', 'Rose', 'Anna', 'Kido'], 5: ['Alice']}\n",
        "Number of names with length 3: 2\n",
        "Number of names with length 4: 4\n",
        "Number of names with length 5: 1\n",
        "```\n",
        "\n",
        "Example 2\n",
        "```\n",
        "Enter names: Kate Stacy Por Natty Somchat Somsri Chris Su Bob\n",
        "{3: ['Por', 'Bob'], 4: ['Kate'], 5: ['Stacy', 'Natty', 'Chris']}\n",
        "Number of names with length 3: 2\n",
        "Number of names with length 4: 1\n",
        "Number of names with length 5: 3\n",
        "```"
      ],
      "metadata": {
        "id": "lM_U-N3yTnMa"
      }
    },
    {
      "cell_type": "code",
      "source": [
        "\n",
        "\n"
      ],
      "metadata": {
        "id": "Ojz6H0MnToSU"
      },
      "execution_count": null,
      "outputs": []
    }
  ]
}