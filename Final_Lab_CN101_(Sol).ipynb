{
  "nbformat": 4,
  "nbformat_minor": 0,
  "metadata": {
    "colab": {
      "provenance": [],
      "authorship_tag": "ABX9TyM3mTOVakY8wm3BgEoFRfxs",
      "include_colab_link": true
    },
    "kernelspec": {
      "name": "python3",
      "display_name": "Python 3"
    },
    "language_info": {
      "name": "python"
    }
  },
  "cells": [
    {
      "cell_type": "markdown",
      "metadata": {
        "id": "view-in-github",
        "colab_type": "text"
      },
      "source": [
        "<a href=\"https://colab.research.google.com/github/yongsa-nut/TU_CN101_67-2/blob/main/Final_Lab_CN101_(Sol).ipynb\" target=\"_parent\"><img src=\"https://colab.research.google.com/assets/colab-badge.svg\" alt=\"Open In Colab\"/></a>"
      ]
    },
    {
      "cell_type": "markdown",
      "source": [
        "# Final Lab"
      ],
      "metadata": {
        "id": "5Ac1DYvHOqtL"
      }
    },
    {
      "cell_type": "markdown",
      "source": [
        "**Q1**: Write the output of the following program\n",
        "\n",
        "```python\n",
        "my_list = [10, 50, 30, 5, 7]\n",
        "your_list = my_list[-3:]\n",
        "print(min(my_list), max(your_list))\n",
        "```"
      ],
      "metadata": {
        "id": "MmHOownSOst0"
      }
    },
    {
      "cell_type": "code",
      "execution_count": null,
      "metadata": {
        "id": "nm1eUDYzOdx0"
      },
      "outputs": [],
      "source": [
        "5 30"
      ]
    },
    {
      "cell_type": "markdown",
      "source": [
        "**Q2**: Write the output of the following program\n",
        "\n",
        "```python\n",
        "numbers = [5, 10, 7, 9, 2]\n",
        "list1 = sorted(numbers, reverse=True)\n",
        "list2 = sorted(numbers, reverse=False)\n",
        "print(list1)\n",
        "print(list2)\n",
        "```"
      ],
      "metadata": {
        "id": "p0BMc-q4OuUN"
      }
    },
    {
      "cell_type": "code",
      "source": [
        "[10, 9, 7, 5, 2]\n",
        "[2, 5, 7, 9, 10]"
      ],
      "metadata": {
        "id": "F4YmM71DOvTh"
      },
      "execution_count": null,
      "outputs": []
    },
    {
      "cell_type": "markdown",
      "source": [
        "**Q3**: Write the output of the following program\n",
        "\n",
        "```python\n",
        "my_chars = ['AA','DD','BB','cc','ee','tt','kk']\n",
        "first = my_chars[:3]\n",
        "second = my_chars[-3:]\n",
        "f_str = \"-\".join(first)\n",
        "s_str = \" \".join(second)\n",
        "print(f_str + \" \" + s_str.upper())\n",
        "```"
      ],
      "metadata": {
        "id": "ytKZS8mxSuFH"
      }
    },
    {
      "cell_type": "code",
      "source": [
        "AA-DD-BB EE TT KK"
      ],
      "metadata": {
        "id": "zj3OpZvGSwOt"
      },
      "execution_count": null,
      "outputs": []
    },
    {
      "cell_type": "markdown",
      "source": [
        "**Q4**: Write the output of the following program\n",
        "\n",
        "```python\n",
        "temp = \"Hello<There<What<How<Okay<Yes\"\n",
        "words = temp.split('<')\n",
        "new_words = words[:2]\n",
        "print(new_words[-1])\n",
        "```"
      ],
      "metadata": {
        "id": "0A1CZ3JYSzXa"
      }
    },
    {
      "cell_type": "code",
      "source": [
        "There"
      ],
      "metadata": {
        "collapsed": true,
        "id": "6Sp9poqYS0WA"
      },
      "execution_count": null,
      "outputs": []
    },
    {
      "cell_type": "markdown",
      "source": [
        "**Q5**: Write the output of the following program\n",
        "\n",
        "```python\n",
        "dna = \"A C C T T G C C\"\n",
        "dna_list = dna.split(\" \")\n",
        "dna_dict = {}\n",
        "for g in dna_list:\n",
        "    dna_dict[g] = dna_dict.get(g, 0) + 1\n",
        "print(dna_dict)\n",
        "```"
      ],
      "metadata": {
        "id": "xe9HMJ85S0ia"
      }
    },
    {
      "cell_type": "code",
      "source": [
        "{'A':1,'C':4,'T':2,'G':1}"
      ],
      "metadata": {
        "id": "WWg2sn80S1Zv"
      },
      "execution_count": null,
      "outputs": []
    },
    {
      "cell_type": "markdown",
      "source": [
        "**Q6**: Write the output of the following program\n",
        "\n",
        "```python\n",
        "list_c = [(t//2) for t in range(7) if t % 2 == 0]\n",
        "print(sum(list_c))\n",
        "print(list_c)\n",
        "```"
      ],
      "metadata": {
        "id": "iogWwecOS1x2"
      }
    },
    {
      "cell_type": "code",
      "source": [
        "6\n",
        "[0, 1, 2, 3]"
      ],
      "metadata": {
        "id": "xX58Un9TS2wW"
      },
      "execution_count": null,
      "outputs": []
    },
    {
      "cell_type": "markdown",
      "source": [
        "**Q7**: Write the output of the following program\n",
        "\n",
        "```python\n",
        "my_dict = {'Alice':10, 'Bob':20, 'Zack':30, 'Rose':35}\n",
        "your_dict = {}\n",
        "my_dict['Rose'] = 25\n",
        "for name in my_dict:\n",
        "    if name in ['Alice', 'Rose', 'Zack']:\n",
        "        your_dict[name] = my_dict[name]\n",
        "print(your_dict)\n",
        "```"
      ],
      "metadata": {
        "id": "Mrt_apI5S3Qp"
      }
    },
    {
      "cell_type": "code",
      "source": [
        "{'Alice':10, 'Zack':30, 'Rose':25}"
      ],
      "metadata": {
        "id": "OIVX3beAS4lh"
      },
      "execution_count": null,
      "outputs": []
    },
    {
      "cell_type": "markdown",
      "source": [
        "**Q8**: Write the output of the following program\n",
        "\n",
        "```python\n",
        "sequences = [10, 20, 30]\n",
        "for i, num in enumerate(sequences):\n",
        "   print(f\"{i+1}, {num:.1f}\")\n",
        "```"
      ],
      "metadata": {
        "id": "3r6qzzIeS4xY"
      }
    },
    {
      "cell_type": "code",
      "source": [
        "1, 10.0\n",
        "2, 20.0\n",
        "3, 30.0"
      ],
      "metadata": {
        "id": "Q73VuKfhS6Cx"
      },
      "execution_count": null,
      "outputs": []
    },
    {
      "cell_type": "markdown",
      "source": [
        "**Q9**: Write the output of the following program\n",
        "\n",
        "```python\n",
        "def do_something(f, s, t):\n",
        "    x = f*s\n",
        "    y = t - s\n",
        "    return x, y\n",
        "\n",
        "wtf = [(10, 20, 30), (5, 10, 15)]\n",
        "for i, (first, second, third) in enumerate(wtf):\n",
        "    a, b = do_something(first, second, third)\n",
        "    print(i, a, b)\n",
        "```"
      ],
      "metadata": {
        "id": "Hrub_MhiS8-H"
      }
    },
    {
      "cell_type": "code",
      "source": [
        "0, 200, 10\n",
        "1, 50, 5"
      ],
      "metadata": {
        "id": "YnTL0JUuS-qY"
      },
      "execution_count": null,
      "outputs": []
    },
    {
      "cell_type": "markdown",
      "source": [
        "**Q10**: Write the output of the following program\n",
        "\n",
        "```python\n",
        "import math\n",
        "\n",
        "def create_list(n):\n",
        "    x = math.sqrt(n)\n",
        "    y = x*10\n",
        "    return [x,y]\n",
        "\n",
        "def print_things(things):\n",
        "    print(f'{things[0]:.2f}, {things[1]:.2f}')\n",
        "\n",
        "def main():\n",
        "    outs = create_list(4)\n",
        "    print_things(outs)\n",
        "\n",
        "main()\n",
        "```"
      ],
      "metadata": {
        "id": "kcVzodkeS-3M"
      }
    },
    {
      "cell_type": "code",
      "source": [
        "2.00, 20.00"
      ],
      "metadata": {
        "id": "1H1GKRYDS_4N"
      },
      "execution_count": null,
      "outputs": []
    },
    {
      "cell_type": "markdown",
      "source": [
        "# Short Programming"
      ],
      "metadata": {
        "id": "E5K1bBbgcIdc"
      }
    },
    {
      "cell_type": "markdown",
      "source": [
        "**Q11**: Pretty print\n",
        "\n",
        "Implement a function `pretty_print` which takes in a tuple and  print out like an example below.  \n",
        "\n",
        "Example\n",
        "```\n",
        "Your name is Alice\n",
        "Age: 20\n",
        "Height: 150\n",
        "Your name is Bob\n",
        "Age: 30\n",
        "Height: 170\n",
        "Your name is Anna\n",
        "Age: 16\n",
        "Height: 165\n",
        "```"
      ],
      "metadata": {
        "id": "5xHeukEiuXR_"
      }
    },
    {
      "cell_type": "code",
      "source": [
        "def pretty_print(info):\n",
        "    print(f'Your name is {info[0]}')\n",
        "    print(f'Age: {info[1]}')\n",
        "    print(f'Height: {info[2]}')\n",
        "\n",
        "def main():\n",
        "    students = [('Alice', 20, 150), ('Bob', 30, 170), ('Anna', 16, 165)]\n",
        "    for student in students:\n",
        "      pretty_print(student)\n",
        "main()"
      ],
      "metadata": {
        "id": "7NpZl3Beul2T",
        "colab": {
          "base_uri": "https://localhost:8080/"
        },
        "outputId": "4409d051-4c18-41a3-c0bd-3ca26df1f46f"
      },
      "execution_count": 2,
      "outputs": [
        {
          "output_type": "stream",
          "name": "stdout",
          "text": [
            "Your name is Alice\n",
            "Age: 20\n",
            "Height: 150\n",
            "Your name is Bob\n",
            "Age: 30\n",
            "Height: 170\n",
            "Your name is Anna\n",
            "Age: 16\n",
            "Height: 165\n"
          ]
        }
      ]
    },
    {
      "cell_type": "markdown",
      "source": [
        "**Q12**: Circle Properties\n",
        "\n",
        "Implement `circle_properties(radius)` function which takes in a radius of a circle and return area and the circumference of the circle.  \n",
        "\n",
        "**Input** (in `main`):\n",
        "- Real number. the radius from the user.\n",
        "\n",
        "**Output** (in `main`):\n",
        "- Real number. Area of the circle in two decimals.\n",
        "- Real number. Circumference in two decimals.\n",
        "\n",
        "**Note**:\n",
        "- Use pi value from math library\n",
        "\n",
        "Example 1:\n",
        "\n",
        "```\n",
        "Enter the radius: 1\n",
        "Area: 3.14\n",
        "Circumference: 6.28\n",
        "```\n",
        "\n",
        "Example 2:\n",
        "```\n",
        "Enter the radius: 2.5\n",
        "Area: 19.63\n",
        "Circumference: 15.71\n",
        "```"
      ],
      "metadata": {
        "id": "JtqBKgdmcMzD"
      }
    },
    {
      "cell_type": "code",
      "source": [
        "# import\n",
        "import math\n",
        "\n",
        "# Implement circle_properties(radius) function here\n",
        "# Argument: radius\n",
        "# Returns: area and circumference\n",
        "def circle_properties(radius):\n",
        "    area = math.pi*radius**2\n",
        "    circum = 2*math.pi*radius\n",
        "    return area, circum\n",
        "\n",
        "def main():\n",
        "    radius = float(input(\"Enter the radius: \"))\n",
        "    # call circle_properties(radius) below\n",
        "    a, c  = circle_properties(radius)\n",
        "    # print area and circumference\n",
        "    print(f\"Area: {a:.2f}\")\n",
        "    print(f\"Circumference: {c:.2f}\")\n",
        "\n",
        "main()"
      ],
      "metadata": {
        "id": "53IXbla5cQYM",
        "colab": {
          "base_uri": "https://localhost:8080/"
        },
        "outputId": "14388675-8b7b-4621-db6c-9b3bbd1fb40e"
      },
      "execution_count": 3,
      "outputs": [
        {
          "output_type": "stream",
          "name": "stdout",
          "text": [
            "Enter the radius: 2.5\n",
            "Area: 19.63\n",
            "Circumference: 15.71\n"
          ]
        }
      ]
    },
    {
      "cell_type": "markdown",
      "source": [
        "**Q13**: String to list of numbers\n",
        "\n",
        "Implement a function `query_and_preprocess` that asks the user for a sequence of numbers separated by `//` and converts it into a list of real numbers and return it.\n",
        "\n",
        "**Input**:\n",
        "- String, a sequence of numbers separated by `//`\n",
        "\n",
        "**Output**:\n",
        "- A list of numbers\n",
        "\n",
        "Example 1:\n",
        "```\n",
        "Enter numbers: 10//20//30\n",
        "Your list: [10, 20, 30]\n",
        "```\n",
        "\n",
        "Example 2:\n",
        "```\n",
        "Enter numbers: 5//10\n",
        "Your list: [5, 10]\n",
        "```"
      ],
      "metadata": {
        "id": "dDzL-aaocQsX"
      }
    },
    {
      "cell_type": "code",
      "source": [
        "def query_and_preprocess():\n",
        "    seq = input('Enter numbers: ')\n",
        "    # Fill in your code below\n",
        "    str_list = seq.split('//')\n",
        "    for i in range(len(str_list)):\n",
        "        str_list[i] = int(str_list[i])\n",
        "    return str_list\n",
        "\n",
        "def main():\n",
        "    your_list = query_and_preprocess()\n",
        "    print(f'Your list: {your_list}')\n",
        "\n",
        "main()"
      ],
      "metadata": {
        "id": "f1XZDtEucUDK",
        "colab": {
          "base_uri": "https://localhost:8080/"
        },
        "outputId": "aeff2058-1fa3-443d-988d-db7c3eb1a679"
      },
      "execution_count": 4,
      "outputs": [
        {
          "output_type": "stream",
          "name": "stdout",
          "text": [
            "Enter numbers: 10//20//30\n",
            "Your list: [10, 20, 30]\n"
          ]
        }
      ]
    },
    {
      "cell_type": "markdown",
      "source": [
        "**Q14**: Temperature Convertion\n",
        "\n",
        "Implement a program and functions to convert temperature from Fahrenheit to Celsius and Celsius to Fahrenheit based on user's input as follows:\n",
        "\n",
        "- If user chooses 1, get the temperature in Fahrenheit and convert it to Celsius.\n",
        "- If user chooses 2, get the temperature in Celsius and convert it to Fahrenheit.\n",
        "- If user chooses 3, exit the program (break out of the loop)\n",
        "\n",
        "**Requirements**:\n",
        "- `FtoC` function to convert Fahrenheit to Celsius (F = C*1.8 + 32)\n",
        "- `CtoF` function to convert Celsius to Fahrenheit (C = (F-32)*5/9)\n",
        "- `main` function which keep asking the user until the user chooses 3\n",
        "\n",
        "**Input**:\n",
        "- User's choice (1, 2, or 3)\n",
        "- If user chooses 1, then a real number for Fahrenheit (in two decimal places)\n",
        "- If user chooses 2, then a real number for celcius (in two decimal places)\n",
        "\n",
        "**Output**:\n",
        "- Fahrenheit or Celsius depending on the user's choice\n",
        "\n",
        "Example:\n",
        "\n",
        "```\n",
        "== Choice 1: FtoC, Choice 2: CtoF, Choice 3: Exit ==\n",
        "Enter your choice (1, 2, 3): 1\n",
        "Enter Fahrenheit: 32\n",
        "Celsius = 0.00\n",
        "== Choice 1: FtoC, Choice 2: CtoF, Choice 3: Exit ==\n",
        "Enter your choice (1, 2, 3): 2\n",
        "Enter Celsius: 100\n",
        "Fahrenheit = 212.00\n",
        "== Choice 1: FtoC, Choice 2: CtoF, Choice 3: Exit ==\n",
        "Enter your choice (1, 2, 3): 3\n",
        "Exit\n",
        "```\n"
      ],
      "metadata": {
        "id": "pw1fTi8_crpv"
      }
    },
    {
      "cell_type": "code",
      "source": [
        "def FtoC(fah):\n",
        "    return (fah-32)*5/9\n",
        "\n",
        "def CtoF(cel):\n",
        "    F =  cel*1.8 + 32\n",
        "    return F\n",
        "\n",
        "def main():\n",
        "    while True:\n",
        "        print('== Choice 1: FtoC, Choice 2: CtoF, Choice 3: Exit ==')\n",
        "        user_choice = int(input('Enter your choice (1, 2, 3): '))\n",
        "        if user_choice == 1:\n",
        "            fah = float(input('Enter Fahrenheit: '))\n",
        "            cel = FtoC(fah)\n",
        "            print(f'Celcius = {cel:.2f}')\n",
        "        elif user_choice == 2:\n",
        "            cel = float(input('Enter Celsius: '))\n",
        "            fah = CtoF(cel)\n",
        "            print(f'Fahrenheit = {fah:.2f}')\n",
        "        elif user_choice == 3:\n",
        "            print('Exit')\n",
        "            break\n",
        "main()"
      ],
      "metadata": {
        "id": "58AvlTD4cvsv"
      },
      "execution_count": null,
      "outputs": []
    },
    {
      "cell_type": "markdown",
      "source": [
        "**Q15**: Creating a dictionary\n",
        "\n",
        "Implement a program to create a dictionary of items and their amounts. The user will enter a sequence of pairs of items and amounts separated by `-`. For example, `Apple-20,Banana-30,Apple-10,Orange-40`. The same items will add all amounts together. The dictionary should be `{'Apple': 30, 'Banana':30,'Orange':40}`\n",
        "\n",
        "**Input**:\n",
        "- One string. A sequence of pairs of item and amount\n",
        "\n",
        "**Output**:\n",
        "- A dictionary\n",
        "\n",
        "**Pseudocode**:\n",
        "\n",
        "**Function: create_dict(item_amount_string)**\n",
        "1. Create an empty dictionary called `inventory_dict`\n",
        "2. Split the input `item_amount_string` by commas into a list of string called `pairs`\n",
        "3. For each `pair` in the list `pairs`:\n",
        "   \n",
        "   a. Split the `pair` by hyphen (-) into a list of string of item and amount and set it to `pair` (itself)\n",
        "   \n",
        "   b. Set `item` to the first part (index 0) of `pair` (before hyphen)\n",
        "   \n",
        "   c. Set `amount` to the second part (index 1) of `pair` (after hyphen) converted to an integer\n",
        "   \n",
        "   d. If `item` already exists in `inventory_dict`, add the new `amount` to its current value. If not, set its value to the current `amount`. (you can use `get(key, default)`)\n",
        "4. Return the completed `inventory_dict`\n",
        "\n",
        "**Function: main()**\n",
        "1. Ask the user to input a sequence and store it in `user_input`\n",
        "2. Call the `create_dict` function with `user_input` and store the result in `result_dict`\n",
        "3. Display `result_dict` to the user\n",
        "\n",
        "**Program Execution**\n",
        "1. Call the `main` function to start the program\n",
        "\n",
        "Example:\n",
        "```\n",
        "Enter sequence: Apple-20,Banana-30,Apple-10,Orange-40\n",
        "{'Apple': 30, 'Banana': 30, 'Orange': 40}\n",
        "```"
      ],
      "metadata": {
        "id": "NibdY2Ptcy1G"
      }
    },
    {
      "cell_type": "code",
      "source": [
        "def create_dict(item_amount_string):\n",
        "    inventory_dict = {}\n",
        "    pairs = item_amount_string.split(',')\n",
        "    for pair in pairs:\n",
        "        pair = pair.split('-')  # ['Apple','20']\n",
        "        item = pair[0]\n",
        "        amount = int(pair[1])\n",
        "        inventory_dict[item] = inventory_dict.get(item, 0) + amount\n",
        "    return inventory_dict\n",
        "\n",
        "def main():\n",
        "    user_input = input('Enter sequence: ')\n",
        "    result_dict = create_dict(user_input)\n",
        "    print(result_dict)\n",
        "\n",
        "main()"
      ],
      "metadata": {
        "id": "qDyiGVAfc0Gt",
        "colab": {
          "base_uri": "https://localhost:8080/"
        },
        "outputId": "dddd6799-94ee-4fd4-d3ea-cab5bbeebbf4"
      },
      "execution_count": 5,
      "outputs": [
        {
          "output_type": "stream",
          "name": "stdout",
          "text": [
            "Enter sequence: Apple-20,Banana-30,Apple-10,Orange-40\n",
            "{'Apple': 30, 'Banana': 30, 'Orange': 40}\n"
          ]
        }
      ]
    },
    {
      "cell_type": "markdown",
      "source": [
        "# Long Programming"
      ],
      "metadata": {
        "id": "AFrJyFfQcLIO"
      }
    },
    {
      "cell_type": "markdown",
      "source": [
        "**Q16**: Linear Regression\n",
        "\n",
        "In this problem, we will implement a simplified linear regression that we learned in the last lecture. The program will consist of three functions: `gen_data`, `squared_error`, and `main`. The detail of each function and pseudocode are provided below.\n",
        "\n",
        "**Function: gen_data(true_w, true_b, n)**\n",
        "\n",
        "**Description**: A function to generate a list of n pairs of x and y. The data will look like this [(x_1, y_1), ... , (x_n, y_n)]\n",
        "- Create an empty list called `data`\n",
        "- for loop `n` times\n",
        "  - Generate a random number using `random.uniform(-1,1)` and set it to `x`\n",
        "  - Calculate `y` based on the linear function `true_w*x + true_b`\n",
        "  - Append the pair (tuple) of `x` and `y` into `data`\n",
        "- Return `data`\n",
        "\n",
        "**Function: squared_error(w, b, x, y)**\n",
        "\n",
        "**Description**: A function to call calculate the squared error of a given data\n",
        "- Calculate y_hat based on the linear function `w*x + b` and set it to `y_hat`\n",
        "- Calculate squared error by subtracting `y` and `y_hat` and then square it and set it to `error`\n",
        "- return `error`\n",
        "\n",
        "**Function: main()**\n",
        "- Set random seed to 100\n",
        "- Query the user for **five values** in order: `true_w`, `true_b`, `w`, `b`, `n`. `n` is an integer and the rest are real/float number.\n",
        "- Call the `gen_data` with `true_w`, `true_b` and `n` to create a dataset and set to `dataset` variable\n",
        "- Create a variable `total_loss` to accumulate loss and set it to `0`\n",
        "- For `i, (x, y)` in `enumerate(dataset)`\n",
        "  - Call the `squared_error` to calculate loss for the data (`x` and `y`) and set it to `loss`\n",
        "  - Add `loss` to the `total_loss`\n",
        "  - if `i` is divible by 10\n",
        "    - print out `i`, `loss` and `total_loss` (two decimals. see example)\n",
        "- Calculate the mean of loss by dividing `total_loss` by `n` and set it to `mean_loss`\n",
        "- Display the `mean_loss` (two decimals) to the user  \n",
        "\n",
        "**Program Execution**\n",
        "- Call the main function to start the program\n",
        "\n",
        "**Note**:\n",
        "- The provided lines match the pseudocode.\n",
        "\n",
        "Example:\n",
        "\n",
        "```\n",
        "Enter true w: 1\n",
        "Enter true b: 1\n",
        "Enter w: 2\n",
        "Enter b: 2\n",
        "Enter n: 50\n",
        "Iteration 0: Loss = 0.08, total loss = 0.08\n",
        "Iteration 10: Loss = 0.01, total loss = 12.74\n",
        "Iteration 20: Loss = 1.57, total loss = 25.49\n",
        "Iteration 30: Loss = 0.00, total loss = 42.04\n",
        "Iteration 40: Loss = 3.26, total loss = 58.57\n",
        "Mean loss = 1.45\n",
        "```"
      ],
      "metadata": {
        "id": "VQe3qPAWs6Tf"
      }
    },
    {
      "cell_type": "code",
      "source": [
        "# import\n",
        "import random\n",
        "\n",
        "# implement gen_data function\n",
        "def gen_data(true_w, true_b, n):\n",
        "    data = []\n",
        "    for i in range(n):\n",
        "        x = random.uniform(-1,1)\n",
        "        y = true_w*x + true_b\n",
        "        data.append((x,y))\n",
        "    return data\n",
        "\n",
        "# implement loss function\n",
        "def squared_error(w, b, x, y):\n",
        "    y_hat = w*x + b\n",
        "    error = (y - y_hat)**2\n",
        "    return error\n",
        "\n",
        "# implement main function\n",
        "def main():\n",
        "    random.seed(100)\n",
        "    true_w = float(input('Enter true w: '))\n",
        "    true_b = float(input('Enter true b: '))\n",
        "    w = float(input('Enter w: '))\n",
        "    b = float(input('Enter b: '))\n",
        "    n = int(input('Enter n: '))\n",
        "    dataset = gen_data(true_w, true_b, n)\n",
        "    total_loss = 0\n",
        "    for i, (x, y) in enumerate(dataset):\n",
        "        loss = squared_error(w, b, x, y)\n",
        "        total_loss += loss\n",
        "        if i % 10 == 0: # divisible by 10\n",
        "          print(f'Iteration {i}: Loss = {loss}, total loss = {total_loss}')\n",
        "    mean_loss = total_loss/n\n",
        "    print(f'Mean loss = {mean_loss:.2f}')\n",
        "\n",
        "main()"
      ],
      "metadata": {
        "id": "HFLC9biAAyTx"
      },
      "execution_count": null,
      "outputs": []
    },
    {
      "cell_type": "markdown",
      "source": [
        "**Q17**: Grades\n",
        "\n",
        "Implement a program to calculate the average scores and their grades for n students and report the number of students that achieve an A. The user will first enter the number of students. Afterward, the user will enter a sequence of scores separated by commas for each student.\n",
        "\n",
        "The criteria for grading is as follows:\n",
        "- A: score >= 80\n",
        "- B: 70 <= score < 80\n",
        "- C: 60 <= score < 70\n",
        "- F: score < 60\n",
        "\n",
        "**Requirements**:\n",
        "\n",
        "**Function: get_scores()**:\n",
        "- A function to ask the user for the scores and return a list of scores in float (e.g., [20, 30.5, 40]).\n",
        "\n",
        "**Function: average_score(scores)**:\n",
        "- A function to calculate an average score of a list of scores. It returns an avarege score.\n",
        "\n",
        "**Function: letter_grade(score)**:\n",
        "- A function to determine the grade which takes in one score and return one letter grade based on the above criteria\n",
        "\n",
        "**Function: main()**:\n",
        "- The main function which first asks the user for the number of students and then loop asking the user for each student's score by calling `get_scores()`. For each student, display their average and grade which are from `average_score` and `letter_grade` respectively.\n",
        "- Finally, print out the number of students that get an A.\n",
        "\n",
        "**Input**:\n",
        "- The number of students.\n",
        "- Scores for each student\n",
        "\n",
        "**Output**:\n",
        "- The average score and grade for each student\n",
        "- The number of students that get an A.\n",
        "\n",
        "Example:\n",
        "```\n",
        "Enter the number of students: 3\n",
        "Student 1:\n",
        "Enter the scores: 89,75,92\n",
        "Average: 85.33\n",
        "Grade: A\n",
        "Student 2:\n",
        "Enter the scores: 80,70,69\n",
        "Average: 73.00\n",
        "Grade: B\n",
        "Student 3:\n",
        "Enter the scores: 99,98,97\n",
        "Average: 98.00\n",
        "Grade: A\n",
        "Number of students who got an A: 2\n",
        "```"
      ],
      "metadata": {
        "id": "3V_noY7as9SJ"
      }
    },
    {
      "cell_type": "code",
      "source": [
        "def get_scores():\n",
        "    scores = input('Enter the scores: ') # '99,98,97'\n",
        "    scores = scores.split(',') # ['99','98','97']\n",
        "    num_scores = []\n",
        "    for score in scores:\n",
        "      num_scores.append(float(score))\n",
        "    return num_scores\n",
        "\n",
        "def average_score(scores): # scores = [99, 98, 97]\n",
        "    return sum(scores)/len(scores)\n",
        "\n",
        "def letter_grade(score): # score = 98\n",
        "    if score >= 80:\n",
        "      return 'A'\n",
        "    elif score >= 70: # 70 <= score < 80\n",
        "      return 'B'\n",
        "    elif score >= 60:\n",
        "      return 'C'\n",
        "    else:\n",
        "      return 'F'\n",
        "\n",
        "def main():\n",
        "    n = int(input('Enter the number of students: '))\n",
        "    count_A = 0\n",
        "    for i in range(n):\n",
        "        print(f'Student {i+1}:')\n",
        "        scores = get_scores()\n",
        "        avg_score = average_score(scores)\n",
        "        letter = letter_grade(avg_score)\n",
        "        print(f'Average: {avg_score}')\n",
        "        print(f'Grade: {letter}')\n",
        "        if letter == 'A':\n",
        "            count_A += 1\n",
        "    print('Number of students who got an A:', count_A)\n",
        "\n",
        "main()"
      ],
      "metadata": {
        "id": "Wyfz_Lzms_u_"
      },
      "execution_count": null,
      "outputs": []
    }
  ]
}