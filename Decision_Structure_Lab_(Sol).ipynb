{
  "nbformat": 4,
  "nbformat_minor": 0,
  "metadata": {
    "colab": {
      "provenance": [],
      "authorship_tag": "ABX9TyP8Jv9nQWWF0mfkYNtjQMSv",
      "include_colab_link": true
    },
    "kernelspec": {
      "name": "python3",
      "display_name": "Python 3"
    },
    "language_info": {
      "name": "python"
    }
  },
  "cells": [
    {
      "cell_type": "markdown",
      "metadata": {
        "id": "view-in-github",
        "colab_type": "text"
      },
      "source": [
        "<a href=\"https://colab.research.google.com/github/yongsa-nut/TU_CN101_67-2/blob/main/Decision_Structure_Lab_(Sol).ipynb\" target=\"_parent\"><img src=\"https://colab.research.google.com/assets/colab-badge.svg\" alt=\"Open In Colab\"/></a>"
      ]
    },
    {
      "cell_type": "markdown",
      "source": [
        "## Decision Structure Lab"
      ],
      "metadata": {
        "id": "JegPI3soFgAi"
      }
    },
    {
      "cell_type": "markdown",
      "source": [
        "Turn off AI: Tools -> Settings -> Hide generative AI features"
      ],
      "metadata": {
        "id": "Qt-RDFQ-A7C-"
      }
    },
    {
      "cell_type": "markdown",
      "source": [
        "**Q1**: What will the program print out?\n",
        "\n",
        "```python\n",
        "a = 30\n",
        "b = 20\n",
        "c = 40\n",
        "print((a != b) or (b > c))\n",
        "print((c > b) and (a > b))\n",
        "```"
      ],
      "metadata": {
        "id": "UPyhZV9PPYOX"
      }
    },
    {
      "cell_type": "code",
      "source": [
        "True\n",
        "True"
      ],
      "metadata": {
        "id": "O6KOS_r0PYhN"
      },
      "execution_count": null,
      "outputs": []
    },
    {
      "cell_type": "markdown",
      "source": [
        "**Q2**: What will the program print out?\n",
        "```python\n",
        "x = 5\n",
        "if x > 3:\n",
        "  print(\"Hello\")\n",
        "else:\n",
        "  print(\"Goodbye\")\n",
        "```"
      ],
      "metadata": {
        "id": "SKvVvoqfPjmA"
      }
    },
    {
      "cell_type": "code",
      "source": [
        "Hello"
      ],
      "metadata": {
        "id": "lT6m1R-sP-3A"
      },
      "execution_count": null,
      "outputs": []
    },
    {
      "cell_type": "markdown",
      "source": [
        "**Q3**: What will the program print out?\n",
        "```python\n",
        "age = 18\n",
        "if age >= 18:\n",
        "    print(\"You can vote\")\n",
        "\n",
        "if age >= 30:\n",
        "    print(\"You are old\")\n",
        "else:\n",
        "    print(\"You are young\")\n",
        "\n",
        "print('Done')\n",
        "```"
      ],
      "metadata": {
        "id": "JPIl2k5-P_Ny"
      }
    },
    {
      "cell_type": "code",
      "source": [
        "You can vote\n",
        "You are young\n",
        "Done"
      ],
      "metadata": {
        "id": "fFsPcPGuQSAL"
      },
      "execution_count": null,
      "outputs": []
    },
    {
      "cell_type": "markdown",
      "source": [
        "**Q4**: What will the program print out?\n",
        "```python\n",
        "score = 75\n",
        "if score >= 90:\n",
        "    print(\"A\")\n",
        "elif score >= 80:\n",
        "    print(\"B\")\n",
        "elif score >= 70:\n",
        "    print(\"C\")\n",
        "else:\n",
        "    print(\"F\")\n",
        "```"
      ],
      "metadata": {
        "id": "Bmk0zfbfQSOn"
      }
    },
    {
      "cell_type": "code",
      "source": [
        "C"
      ],
      "metadata": {
        "id": "tlx3i90uQZSx"
      },
      "execution_count": null,
      "outputs": []
    },
    {
      "cell_type": "markdown",
      "source": [
        "**Q5**: What will the program print out?\n",
        "```python\n",
        "score = 95\n",
        "if score >= 90:\n",
        "  print(\"A\")\n",
        "if score >= 80:\n",
        "  print(\"B\")\n",
        "if score >= 70:\n",
        "  print(\"C\")\n",
        "else:\n",
        "  print(\"F\")\n",
        "```"
      ],
      "metadata": {
        "id": "bHhiWi0IQcQ2"
      }
    },
    {
      "cell_type": "code",
      "source": [
        "A\n",
        "B\n",
        "C"
      ],
      "metadata": {
        "id": "r9UiQSuIQcgS"
      },
      "execution_count": null,
      "outputs": []
    },
    {
      "cell_type": "markdown",
      "source": [
        "**Q6**: What will the program print out?\n",
        "\n",
        "```python\n",
        "a = 5\n",
        "b = 3\n",
        "c = 7\n",
        "if a > b and a > c:\n",
        "    print(\"A is largest\")\n",
        "elif b > a and b > c:\n",
        "    print(\"B is largest\")\n",
        "else:\n",
        "    print(\"C is largest\")\n",
        "```"
      ],
      "metadata": {
        "id": "W5bNRDoRRPux"
      }
    },
    {
      "cell_type": "code",
      "source": [
        "C is largest"
      ],
      "metadata": {
        "id": "-NVgumjPRP9E"
      },
      "execution_count": null,
      "outputs": []
    },
    {
      "cell_type": "markdown",
      "source": [
        "**Q7**: What will the followign code print out?\n",
        "\n",
        "```python\n",
        "x = 30\n",
        "if x > 50:\n",
        "  print(\"A\")\n",
        "elif x > 40:\n",
        " print(\"B\")\n",
        "elif x > 30:\n",
        " print(\"C\")\n",
        "else:\n",
        " print(\"D\")\n",
        "```"
      ],
      "metadata": {
        "id": "zYzLoQ7DBLm4"
      }
    },
    {
      "cell_type": "code",
      "source": [
        "D"
      ],
      "metadata": {
        "id": "ptcF8WGbBOEy"
      },
      "execution_count": null,
      "outputs": []
    },
    {
      "cell_type": "markdown",
      "source": [
        "**Q8**: What will the following code print out?\n",
        "```python\n",
        "x = 5\n",
        "y = 7\n",
        "z = 10\n",
        "print(f\"{x > z}, {z < y}, {x*2 == (y+z)}, {(x+z) != (1+y*2)}\")\n",
        "```"
      ],
      "metadata": {
        "id": "9k4MXyc-BOQ8"
      }
    },
    {
      "cell_type": "code",
      "source": [
        "False, False, False, False"
      ],
      "metadata": {
        "id": "uudrg1qGBQfk"
      },
      "execution_count": null,
      "outputs": []
    },
    {
      "cell_type": "markdown",
      "source": [
        "**Q9**: What will the following code print out?\n",
        "```python\n",
        "value = 52\n",
        "if value > 45:\n",
        "  print(\"First\", end='')\n",
        "if value > 40:\n",
        "  print(\"Second\", end='')\n",
        "if value > 35:\n",
        "  print(\"Third\", end='')\n",
        "else:\n",
        "  print(\"Fourth\", end='')\n",
        "```"
      ],
      "metadata": {
        "id": "W_U45UznBqbt"
      }
    },
    {
      "cell_type": "code",
      "source": [
        "FirstSecondThird"
      ],
      "metadata": {
        "id": "z30sCrZXBrp8"
      },
      "execution_count": null,
      "outputs": []
    },
    {
      "cell_type": "markdown",
      "source": [
        "**Q10**: What will the following code print out?\n",
        "```python\n",
        "name = 'Alice'\n",
        "value = 10\n",
        "if name == 'Anna':\n",
        "  print('Hello', end = ',')\n",
        "  if value > 20:\n",
        "    print('Big')\n",
        "  else:\n",
        "    print('Small')\n",
        "else:\n",
        "  print('Hi', end = ':')\n",
        "  if value < 15:\n",
        "    print('Yes')\n",
        "  else:\n",
        "    print('NO')\n",
        "```"
      ],
      "metadata": {
        "id": "KH3zSux-Btcc"
      }
    },
    {
      "cell_type": "code",
      "source": [
        "Hi:Yes"
      ],
      "metadata": {
        "id": "yN9a9ZRhBua7"
      },
      "execution_count": null,
      "outputs": []
    },
    {
      "cell_type": "markdown",
      "source": [
        "**Q11**: Fill in the blank to print \"Hello\" if x is greater than 5:"
      ],
      "metadata": {
        "id": "K3veLc2kRvoB"
      }
    },
    {
      "cell_type": "code",
      "source": [
        "x = 7\n",
        "if x > 5:\n",
        "  print(\"Hello\")"
      ],
      "metadata": {
        "id": "drNuMImQR8zd",
        "outputId": "ffc2f71a-e5cb-495d-b488-dd9e8c841f9a",
        "colab": {
          "base_uri": "https://localhost:8080/"
        }
      },
      "execution_count": null,
      "outputs": [
        {
          "output_type": "stream",
          "name": "stdout",
          "text": [
            "Hello\n"
          ]
        }
      ]
    },
    {
      "cell_type": "markdown",
      "source": [
        "**Q12**: Complete the code to print \"Pass\" if the score is 60 or above, and \"Fail\" otherwise:"
      ],
      "metadata": {
        "id": "GiBeo5-GR_dJ"
      }
    },
    {
      "cell_type": "code",
      "source": [
        "score = 75\n",
        "if score >= 60:\n",
        "  print(\"Pass\")  #here\n",
        "else:\n",
        "  print(\"Fail\")  #here"
      ],
      "metadata": {
        "id": "cL8QM5fFSApJ"
      },
      "execution_count": null,
      "outputs": []
    },
    {
      "cell_type": "markdown",
      "source": [
        "**Q13**: Fill in the blank to check if a number is divisible by both 2 and 3 (หารด้วยสอง และ สามลงตัว):"
      ],
      "metadata": {
        "id": "95wEzl5uSJjq"
      }
    },
    {
      "cell_type": "code",
      "source": [
        "num = 12\n",
        "if num % 2 == 0 and num % 3 == 0:\n",
        "  print(\"Divisible by 2 and 3\")"
      ],
      "metadata": {
        "id": "zFf4ndL1SJ9Q"
      },
      "execution_count": null,
      "outputs": []
    },
    {
      "cell_type": "markdown",
      "source": [
        "**Q14**: Complete the code to print \"Child\" if age is less than 13, \"Teen\" if age is between 13 and 19 (inclusive), and \"Adult\" otherwise:"
      ],
      "metadata": {
        "id": "LNTp_jilST4K"
      }
    },
    {
      "cell_type": "code",
      "source": [
        "age = 15\n",
        "if age < 13:\n",
        "  print(\"Child\")\n",
        "elif 13 <= age and age <= 19:\n",
        "  print(\"Teen\")\n",
        "else:\n",
        "  print(\"Adult\")"
      ],
      "metadata": {
        "id": "Co_jztM8SUNe"
      },
      "execution_count": null,
      "outputs": []
    },
    {
      "cell_type": "markdown",
      "source": [
        "**Q15**: Fill in the blank so that the program print out 'Here'. (There are multiple answers)"
      ],
      "metadata": {
        "id": "O-hTmfWVTH8-"
      }
    },
    {
      "cell_type": "code",
      "source": [
        "num = 12 # here\n",
        "if num > 19 and num < 9:\n",
        "  print('Not here')\n",
        "elif num <7:\n",
        "  print('Not here')\n",
        "elif num > 15:\n",
        "  print('Not here')\n",
        "else:\n",
        "  print('Here')"
      ],
      "metadata": {
        "id": "W0Q2XIH_TISs",
        "outputId": "d7c18d1c-de1b-4043-9953-00c468c69953",
        "colab": {
          "base_uri": "https://localhost:8080/"
        }
      },
      "execution_count": null,
      "outputs": [
        {
          "output_type": "stream",
          "name": "stdout",
          "text": [
            "here\n"
          ]
        }
      ]
    },
    {
      "cell_type": "markdown",
      "source": [
        "**Q16**: Fill in the blank so that the program print out \"2\""
      ],
      "metadata": {
        "id": "UZnZWWEbVI-V"
      }
    },
    {
      "cell_type": "code",
      "source": [
        "x = 5\n",
        "y = 7\n",
        "z = 6\n",
        "if x < y:\n",
        "  if y < z:\n",
        "      print(\"1\")\n",
        "  else:\n",
        "      print(\"2\")\n",
        "else:\n",
        "  if x < z:\n",
        "      print(\"3\")\n",
        "  else:\n",
        "      print(\"4\")"
      ],
      "metadata": {
        "id": "rT3WdVgwVJOv",
        "outputId": "652363e2-9bae-4420-f230-0454b1e3a499",
        "colab": {
          "base_uri": "https://localhost:8080/"
        }
      },
      "execution_count": null,
      "outputs": [
        {
          "output_type": "stream",
          "name": "stdout",
          "text": [
            "2\n"
          ]
        }
      ]
    },
    {
      "cell_type": "markdown",
      "source": [
        "**Q17**: Fill in the code below so that the program will output 'Second'."
      ],
      "metadata": {
        "id": "gMbXqMA3EWr1"
      }
    },
    {
      "cell_type": "code",
      "source": [
        "num =  12    # fill in the value here\n",
        "if num < 10 or num > 15:\n",
        "  print('First')\n",
        "else:\n",
        "  if num % 2 == 0 and num <= 13:\n",
        "    print('Second')\n",
        "  else:\n",
        "    print('Third')"
      ],
      "metadata": {
        "id": "cMLBo1ABEW8b",
        "outputId": "2d87d04c-90b6-468b-f3db-50707a9b760f",
        "colab": {
          "base_uri": "https://localhost:8080/"
        }
      },
      "execution_count": null,
      "outputs": [
        {
          "output_type": "stream",
          "name": "stdout",
          "text": [
            "Second\n"
          ]
        }
      ]
    },
    {
      "cell_type": "markdown",
      "source": [
        "**Q18**: Even or Odd?\n",
        "\n",
        "Write a program that receives a number from the user and print `Even` if the number is an even number and print `Odd` if the number is an odd number.\n",
        "\n",
        "Hint: You can use `% 2` to check even or odd.\n",
        "\n",
        "Example 1:\n",
        "```\n",
        ">Enter your number: 31\n",
        "Odd\n",
        "```\n",
        "Example 2:\n",
        "```\n",
        ">Enter your number: 24\n",
        "Even\n",
        "```"
      ],
      "metadata": {
        "id": "7JO5xzjTVzQr"
      }
    },
    {
      "cell_type": "code",
      "source": [
        "num = int(input('Enter your number: '))\n",
        "if num % 2 == 0:\n",
        "  print('Even')\n",
        "else:\n",
        "  print('Odd')"
      ],
      "metadata": {
        "id": "bKj3uZJFWJ4G",
        "outputId": "be4e8b2b-87f2-4e1f-af51-a0fe1369dcfc",
        "colab": {
          "base_uri": "https://localhost:8080/"
        }
      },
      "execution_count": null,
      "outputs": [
        {
          "output_type": "stream",
          "name": "stdout",
          "text": [
            "Enter your number: 24\n",
            "Even\n"
          ]
        }
      ]
    },
    {
      "cell_type": "markdown",
      "source": [
        "**Q19**: Date formatting\n",
        "\n",
        "Write a program to get inputs from the user for day, month, year, and format ('US', 'JP', 'TH'). Print the date in the given format as follows.\n",
        "\n",
        "- The 'US' format = Month Day Year.\n",
        "\n",
        "- The 'JP' format = Year Month Day.\n",
        "\n",
        "- The 'TH' format = Day Month Year.\n",
        "\n",
        "Input:\n",
        "- Day\n",
        "- Month\n",
        "- Year\n",
        "- string, format\n",
        "\n",
        "Output:\n",
        "- Date in the correct format\n",
        "\n",
        "Example 1:\n",
        "```\n",
        ">Enter day: 1\n",
        ">Enter month: 10\n",
        ">Enter year: 2024\n",
        ">Enter format: US\n",
        "Month 10 Day 1 Year 2024\n",
        "```\n",
        "\n",
        "Example 2:\n",
        "```\n",
        ">Enter day: 1\n",
        ">Enter month: 10\n",
        ">Enter year: 2024\n",
        ">Enter format: JP\n",
        "Year 2024 Month 10 Day 1\n",
        "```\n",
        "\n",
        "Example 3:\n",
        "```\n",
        ">Enter day: 1\n",
        ">Enter month: 10\n",
        ">Enter year: 2024\n",
        ">Enter format: TH\n",
        "Day 1 Month 10 Year 2024\n",
        "```"
      ],
      "metadata": {
        "id": "dbzvBR6eB6tP"
      }
    },
    {
      "cell_type": "code",
      "source": [
        "day = input('Enter day: ')\n",
        "month = input('Enter month: ')\n",
        "year = input('Enter year: ')\n",
        "format = input('Enter format: ')\n",
        "if format == 'US':\n",
        "  print(f'Month {month} Day {day} Year {year}')\n",
        "elif format == 'JP':\n",
        "  print(f'Year {year} Month {month} Day {day}')\n",
        "elif format == 'TH':\n",
        "  print(f'Day {day} Month {month} Year {year}')"
      ],
      "metadata": {
        "id": "1wP_Ngy0Wktb",
        "outputId": "81607748-6c63-443f-b28c-6ad0f7eb46d5",
        "colab": {
          "base_uri": "https://localhost:8080/"
        }
      },
      "execution_count": null,
      "outputs": [
        {
          "output_type": "stream",
          "name": "stdout",
          "text": [
            "Enter day: 1\n",
            "Enter month: 10\n",
            "Enter year: 2024\n",
            "Enter format: TH\n",
            "Day 1 Month 10 Year 2024\n"
          ]
        }
      ]
    },
    {
      "cell_type": "markdown",
      "source": [
        "**Q20**: Cashier Program ver 2.\n",
        "\n",
        "Write a program to calculate the total payment.\n",
        "\n",
        "There are three goods: Donut (10 Baht), Cupcake (20 Baht), and Popcorn (40 Baht). The customer can get discounts if the following conditions are met:\n",
        "\n",
        "- If you buy at least 20 donuts, get 20% off on donuts (discount applies to donuts only)\n",
        "- If you buy at least 10 cupcakes, get 10% off on cupcakes (discount applies to cupcakes only)\n",
        "\n",
        "Note: you can get both discounts.\n",
        "\n",
        "**Input:**\n",
        "- The number of donut, cupcake, and popcorn.\n",
        "\n",
        "**Output:**\n",
        "- Payment before the discount. 2 decimal places\n",
        "- Payment after the discount. 2 decimal places\n",
        "\n",
        "Example\n",
        "```\n",
        ">Enter the number of donut: 30\n",
        ">Enter the number of cupcake: 20\n",
        ">Enter the number of popcorn:  5\n",
        "The total payment befor discount is 900.00 baht.\n",
        "The payment after discount is 800.00 baht.\n",
        "```\n",
        "\n",
        "```\n",
        ">Enter the number of donut: 5\n",
        ">Enter the number of cupcake: 20\n",
        ">Enter the number of popcorn:  3\n",
        "The total payment befor discount is 570.00 baht.\n",
        "The payment after discount is 530.00 baht.\n",
        "```\n",
        "\n",
        "```\n",
        ">Enter the number of donut: 10\n",
        ">Enter the number of cupcake: 10\n",
        ">Enter the number of popcorn:  5\n",
        "The total payment befor discount is 500.00 baht.\n",
        "The payment after discount is 480.00 baht.\n",
        "```"
      ],
      "metadata": {
        "id": "dNNxM0JLB-9s"
      }
    },
    {
      "cell_type": "code",
      "source": [
        "DONUT_PRICE = 10\n",
        "CUPCAKE_PRICE = 20\n",
        "POPCORN_PRICE = 40\n",
        "\n",
        "# input\n",
        "donut = int(input('Enter the number of donut: '))\n",
        "cupcake = int(input('Enter the number of cupcake: '))\n",
        "popcorn = int(input('Enter the number of popcorn: '))\n",
        "\n",
        "# process\n",
        "total_payment = donut * DONUT_PRICE + cupcake * CUPCAKE_PRICE + popcorn * POPCORN_PRICE\n",
        "discount_payment = total_payment\n",
        "\n",
        "if donut >= 20:\n",
        "  discount_payment = discount_payment - donut * DONUT_PRICE * 0.2\n",
        "if cupcake >= 10:\n",
        "  discount_payment = discount_payment - cupcake * CUPCAKE_PRICE * 0.1\n",
        "\n",
        "# output\n",
        "print(f'The total payment before discount is {total_payment:.2f} baht.')\n",
        "print(f'The payment after discount is {discount_payment:.2f} baht.')"
      ],
      "metadata": {
        "id": "cDrQXf8eCAWD",
        "outputId": "6d29c6fd-32ea-45a1-bc7b-7b22c32928fb",
        "colab": {
          "base_uri": "https://localhost:8080/"
        }
      },
      "execution_count": null,
      "outputs": [
        {
          "output_type": "stream",
          "name": "stdout",
          "text": [
            "Enter the number of donut: 10\n",
            "Enter the number of cupcake: 10\n",
            "Enter the number of popcorn: 5\n",
            "The total payment before discount is 500.00 baht.\n",
            "The payment after discount is 480.00 baht.\n"
          ]
        }
      ]
    },
    {
      "cell_type": "markdown",
      "source": [
        "## Submission\n",
        "- File -> Download -> Download .ipynb\n",
        "- Upload to MS Teams"
      ],
      "metadata": {
        "id": "WEJOCTkDEpNk"
      }
    }
  ]
}