{
  "nbformat": 4,
  "nbformat_minor": 0,
  "metadata": {
    "colab": {
      "provenance": [],
      "authorship_tag": "ABX9TyOIhKXlm8hb6QVCb70Ic1pf",
      "include_colab_link": true
    },
    "kernelspec": {
      "name": "python3",
      "display_name": "Python 3"
    },
    "language_info": {
      "name": "python"
    }
  },
  "cells": [
    {
      "cell_type": "markdown",
      "metadata": {
        "id": "view-in-github",
        "colab_type": "text"
      },
      "source": [
        "<a href=\"https://colab.research.google.com/github/yongsa-nut/TU_CN101_67-2/blob/main/Function_Lab_2_(EN).ipynb\" target=\"_parent\"><img src=\"https://colab.research.google.com/assets/colab-badge.svg\" alt=\"Open In Colab\"/></a>"
      ]
    },
    {
      "cell_type": "markdown",
      "source": [
        "# Function Lab 2"
      ],
      "metadata": {
        "id": "j40-C7hfAp4t"
      }
    },
    {
      "cell_type": "markdown",
      "source": [
        "## Turn off AI: Tools -> Settings -> AI Assistance -> Hide"
      ],
      "metadata": {
        "id": "4xJsiKzlykH0"
      }
    },
    {
      "cell_type": "markdown",
      "source": [
        "**Q1**: What will the following program print out?\n",
        "\n",
        "```python\n",
        "def funcx(n):\n",
        "  y = 1+n**2\n",
        "  return 2*y\n",
        "\n",
        "def main():\n",
        "  print(funcx(funcx(2)))\n",
        "  \n",
        "main()\n",
        "```"
      ],
      "metadata": {
        "id": "gtc29vyTnXw_"
      }
    },
    {
      "cell_type": "code",
      "source": [],
      "metadata": {
        "id": "i53RS0N9ngV1"
      },
      "execution_count": null,
      "outputs": []
    },
    {
      "cell_type": "markdown",
      "source": [
        "**Q2**: What will the following program print out?\n",
        "\n",
        "```python\n",
        "def my_func(x=3, y=5):\n",
        " return x*y, x-y\n",
        "\n",
        "x, y = my_func(y=5, x=4)\n",
        "print(x, y)\n",
        "```"
      ],
      "metadata": {
        "id": "nHPrWd_fnglu"
      }
    },
    {
      "cell_type": "code",
      "source": [],
      "metadata": {
        "id": "_-OUA9CUnhYI"
      },
      "execution_count": null,
      "outputs": []
    },
    {
      "cell_type": "markdown",
      "source": [
        "**Q3**: What will the following program print out?\n",
        "\n",
        "```python\n",
        "def do_x(a, b, c):\n",
        "  return a*b, b+c, a+b*c\n",
        "x = 3\n",
        "outcomes = do_x(1, x, x+2)\n",
        "print(outcomes[2], outcomes[1], outcomes[0])\n",
        "```"
      ],
      "metadata": {
        "id": "fHBl5HkjMhhE"
      }
    },
    {
      "cell_type": "code",
      "source": [],
      "metadata": {
        "id": "gLCR_VJIMbp7"
      },
      "execution_count": null,
      "outputs": []
    },
    {
      "cell_type": "markdown",
      "source": [
        "**Q4**: What will the following program print out?\n",
        "\n",
        "```python\n",
        "def cal_something(data):\n",
        "  total = sum(data)\n",
        "  return total, total/len(data)\n",
        "  \n",
        "def print_results(data, results):\n",
        "  print(f\"Data is {data}\")\n",
        "  print(f\"Total = {results[0]}. Avg = {results[1]}\")\n",
        "\n",
        "def main():\n",
        "  my_data = [1, 5, 9, 5]\n",
        "  stats = cal_something(my_data)\n",
        "  print_results(my_data, stats)\n",
        "\n",
        "main()\n",
        "```"
      ],
      "metadata": {
        "id": "mgdjCVEtMd3m"
      }
    },
    {
      "cell_type": "code",
      "source": [],
      "metadata": {
        "id": "SLZjGJEoMkzR"
      },
      "execution_count": null,
      "outputs": []
    },
    {
      "cell_type": "markdown",
      "source": [
        "**Q5**: What will the following program print out?\n",
        "\n",
        "```python\n",
        "import math\n",
        "\n",
        "if math.e > 5:\n",
        "  print(\"Hello\", end='-')\n",
        "  if math.pi > 3:\n",
        "    print(\"Hi\")\n",
        "  else:\n",
        "    print(\"Bye\")\n",
        "else:\n",
        "  print(\"Noon\", end='-')\n",
        "  if math.pi < 3:\n",
        "    print(\"Rain\")\n",
        "  else:\n",
        "    print(\"Sunny\")\n",
        "```"
      ],
      "metadata": {
        "id": "vtpPQn60nhjm"
      }
    },
    {
      "cell_type": "code",
      "source": [],
      "metadata": {
        "id": "05PWUfYMnigL"
      },
      "execution_count": null,
      "outputs": []
    },
    {
      "cell_type": "markdown",
      "source": [
        "**Q6**: What will the following program print out?\n",
        "\n",
        "```python\n",
        "x = 5\n",
        "\n",
        "def do_x():\n",
        "  global x\n",
        "  x = x + 3\n",
        "\n",
        "def do_y():\n",
        "  do_x()\n",
        "  do_x()\n",
        "\n",
        "def do_z():\n",
        "  x = 7\n",
        "  x = x + 5\n",
        "\n",
        "do_y()\n",
        "print(x)\n",
        "do_z()\n",
        "print(x)\n",
        "```"
      ],
      "metadata": {
        "id": "QA7iZFbuJSsm"
      }
    },
    {
      "cell_type": "code",
      "source": [],
      "metadata": {
        "id": "YzwzUOuDJWff"
      },
      "execution_count": null,
      "outputs": []
    },
    {
      "cell_type": "markdown",
      "source": [
        "**Q7**:\n",
        "Fill in the blank to calculate the following equation: $y = \\frac{1}{2\\pi}e^{\\frac{-(x-\\mu)^2}{2}}$ (Note $\\mu$ = mu)"
      ],
      "metadata": {
        "id": "mC5ik0IMoWLO"
      }
    },
    {
      "cell_type": "code",
      "source": [
        "import math\n",
        "x = float(input('Enter x: ' ))\n",
        "mu = float(input('Enter mu: '))\n",
        "y = __________________________"
      ],
      "metadata": {
        "id": "bjJFTeJloXwY"
      },
      "execution_count": null,
      "outputs": []
    },
    {
      "cell_type": "markdown",
      "source": [
        "**Q8**: Fill in code so that the program print out a random integer between `lower` and `upper` values from the user."
      ],
      "metadata": {
        "id": "Sbw9yxuRpttp"
      }
    },
    {
      "cell_type": "code",
      "source": [
        "import random\n",
        "\n",
        "lower = int(input('Enter lower: '))\n",
        "upper = int(input('Enter upper: '))\n",
        "\n",
        "rand_num = random._________________\n",
        "print(rand_num)"
      ],
      "metadata": {
        "id": "7X9RcKlurAgD"
      },
      "execution_count": null,
      "outputs": []
    },
    {
      "cell_type": "markdown",
      "source": [
        "**Q9** Fill in the code so that the `gen_random_result` function **return** a random number between 1 and 50."
      ],
      "metadata": {
        "id": "OV8BzL71o1_n"
      }
    },
    {
      "cell_type": "code",
      "source": [
        "import random\n",
        "\n",
        "def gen_random_result(i):\n",
        "  random.seed(i)\n",
        "  _________________________\n",
        "\n",
        "def main():\n",
        "  print(gen_random_result(7))\n",
        "\n",
        "main()"
      ],
      "metadata": {
        "id": "hwSjmfs6o5A_"
      },
      "execution_count": null,
      "outputs": []
    },
    {
      "cell_type": "markdown",
      "source": [
        "**Q10**: Fill in the code below to create a list of **5** random numbers between 1 and 10. The output should be `[10, 5, 6, 9, 1]`"
      ],
      "metadata": {
        "id": "qNZSutGEt8H4"
      }
    },
    {
      "cell_type": "code",
      "source": [
        "import random\n",
        "\n",
        "random.seed(5)\n",
        "\n",
        "lst = [______________ for i in range(___)]\n",
        "print(lst)"
      ],
      "metadata": {
        "id": "6EJx1MhMt9Fw"
      },
      "execution_count": null,
      "outputs": []
    },
    {
      "cell_type": "markdown",
      "source": [
        "**Q11**: Fill in the blanks to complete the function `circle_area(radius)` to calculate the area of circle and the function `vol_sphere(radius)` to calculate the volume of sphere ($V = \\frac{4}{3}\\pi r^3$). Use $\\pi$ from math library.\n",
        "\n",
        "`circle_area(radius)`:\n",
        "- **Args**: radius (float)\n",
        "- **Return**: area of the circle\n",
        "\n",
        "`vol_sphere(radius)`:\n",
        "- **Args**: radius (float)\n",
        "- **Return**: volumn of the sphere\n",
        "\n",
        "**Example**:\n",
        "```\n",
        "Enter radius: 1\n",
        "Area: 3.14. Volume of sphere: 4.19.\n",
        "```"
      ],
      "metadata": {
        "id": "8nETZM1Ft9Re"
      }
    },
    {
      "cell_type": "code",
      "source": [
        "# Import\n",
        "_______________\n",
        "\n",
        "def circle_area(radius):\n",
        "  area = ______\n",
        "  return ______\n",
        "\n",
        "def vol_sphere(radius):\n",
        "  vol = _______\n",
        "  _____________\n",
        "\n",
        "def main():\n",
        "  rad = float(input('Enter radius: '))\n",
        "  c_area = circle_area(_______)\n",
        "  vol_sph = vol_sphere(_______)\n",
        "  print(f'Area: {c_area:.2f}. Volume of sphere: {______:.2f}.')\n",
        "\n",
        "main()"
      ],
      "metadata": {
        "id": "wHaoTLq-t-LS"
      },
      "execution_count": null,
      "outputs": []
    },
    {
      "cell_type": "markdown",
      "source": [
        "**Q12**: Fill in the blanks to complete the function `mul_all(numbers)` to calculate the multiplication of all numbers in a given list of numbers. For example, `mul_all([2,5,10,15])` = $2 \\times 5 \\times 10 \\times 15 = 1500$\n",
        "\n",
        "`mul_all(numbers)`:\n",
        "- **Args**: numbers (a list of numbers)\n",
        "- **Return**: the multiplication of all numbers in the list"
      ],
      "metadata": {
        "id": "SlaqM0Bht_wV"
      }
    },
    {
      "cell_type": "code",
      "source": [
        "def mul_all(numbers):\n",
        "  total = ___\n",
        "  for num in numbers:\n",
        "    total ___________\n",
        "\n",
        "  ____________\n",
        "\n",
        "def main():\n",
        "  print(mul_all([1,1,3,2]))   # 6\n",
        "  print(mul_all([2,5,10,15])) # 1500\n",
        "\n",
        "main()"
      ],
      "metadata": {
        "id": "zrTzld_UuAnz"
      },
      "execution_count": null,
      "outputs": []
    },
    {
      "cell_type": "markdown",
      "source": [
        "**Q13**: Fill in the blanks to complete the function `cal_donut(n_donut, price)` that calculate the total price of donuts. If the total price is more than 500, you will get 20% discount.\n",
        "\n",
        "`cal_donut(n_donut,price)`:\n",
        "- **Args**:\n",
        "  - `n_donut`: The number of donuts (integer)\n",
        "  - `price`: the price of donuts (float)\n",
        "- **Return**:\n",
        "  - The original price (float)\n",
        "  - The discounted price (float)\n",
        "\n",
        "\n",
        "**Example**:\n",
        "```\n",
        "Enter n donut: 50\n",
        "Enter donut's price: 20\n",
        "Cost without discount: 1000.00\n",
        "Cost with discount: 800.00\n",
        "```\n"
      ],
      "metadata": {
        "id": "gwh0j3Tkt-eD"
      }
    },
    {
      "cell_type": "code",
      "source": [
        "def cal_donut(n_donut, price):\n",
        "  total = ___________\n",
        "  if ________________:\n",
        "    discount = total*0.2 # 20% discount\n",
        "  else:\n",
        "    discount = ______\n",
        "  return total, _________\n",
        "\n",
        "def main():\n",
        "  n = int(input('Enter n donut: '))\n",
        "  p = float(input(\"Enter donut's price: \"))\n",
        "  _______________ = cal_donut(__________)\n",
        "  print(f'Cost without discount: {full_cost:.2f}')\n",
        "  print(f'Cost with discount: {dis_cost:.2f}')\n",
        "\n",
        "main()"
      ],
      "metadata": {
        "id": "oUUn_KAAt_cr"
      },
      "execution_count": null,
      "outputs": []
    },
    {
      "cell_type": "markdown",
      "source": [
        "**Q14**: Input Validation function\n",
        "\n",
        "Create a function `input_validation(text, lower, upper)` to ask the user for an input and do input validation - asking the user again and again until the input is within the given range (between lower and upper inclusively).\n",
        "\n",
        "**Function Requirement**:\n",
        "- **Args**:\n",
        "  - `text`: text to display to user\n",
        "  - `lower`: the lower bound of valid number\n",
        "  - `upper`: the upper bound of valid number\n",
        "- **Returns**:\n",
        "  - value from the user (float)\n",
        "\n",
        "**Example**:\n",
        "```\n",
        "Enter your income: -10\n",
        "Value must be between 0 and 100000\n",
        "Enter your income: 100\n",
        "Enter your expense: 300000\n",
        "Value must be between 0 and 200000\n",
        "Enter your expense: 300\n",
        "Your income is 100.00\n",
        "YOur expense is 300.00\n",
        "```\n"
      ],
      "metadata": {
        "id": "egzlstVNsnhH"
      }
    },
    {
      "cell_type": "code",
      "source": [
        "def input_validation(text, lower, upper):\n",
        "  while ______:\n",
        "    value = float(input(_________________))\n",
        "    if __________________________:\n",
        "      break\n",
        "    print(f'Value must be between {lower} and {upper}')\n",
        "\n",
        "  return _______\n",
        "\n",
        "def main():\n",
        "  income = input_validation(\"Enter your income: \", 0, 100000)\n",
        "  expense = input_validation(___________________,0, 200000)\n",
        "  print(f\"Your income is {income:.2f}\")\n",
        "  print(f\"Your expense is {expense:.2f}\")\n",
        "\n",
        "main()"
      ],
      "metadata": {
        "id": "kS6XuxKMs_1r"
      },
      "execution_count": null,
      "outputs": []
    },
    {
      "cell_type": "markdown",
      "source": [
        "**Q15**: Create a random number list\n",
        "\n",
        "Write function `gen_random(n)` which takes in a number `n` and return a list of random numbers between 1 and 10.\n",
        "\n",
        "`gen_random(n)`:\n",
        "- **Args**: n (integer) the number of random numbers\n",
        "- **Return**: A list of random numbers\n",
        "\n",
        "**User's Input (main)**:\n",
        "- seed number\n",
        "- $n$ indicates the number of random numbers to be generated.\n",
        "\n",
        "**Output**:\n",
        "- A list of randomly generated numbers\n",
        "\n",
        "**Requirements**:\n",
        "- You must create a function `main()` which ask the user for `n`, call `gen_random(n)`, and print the result\n",
        "- You must create a function `gen_random(n)`\n",
        "\n",
        "Example 1:\n",
        "```\n",
        "Enter seed: 7\n",
        "Enter n: 5\n",
        "[6, 3, 7, 1, 2]\n",
        "```\n",
        "\n",
        "Example 2:\n",
        "```\n",
        "Enter seed: 77\n",
        "Enter n: 10\n",
        "[5, 6, 4, 4, 4, 2, 5, 8, 9, 10]\n",
        "```"
      ],
      "metadata": {
        "id": "l2lI5ldNsucm"
      }
    },
    {
      "cell_type": "code",
      "source": [
        "# import\n",
        "...\n",
        "\n",
        "def gen_random(n):\n",
        "  results = []\n",
        "  # Fill your code below\n",
        "  ...\n",
        "\n",
        "  return results\n",
        "\n",
        "def main():\n",
        "  seed = int(input('Enter seed: '))\n",
        "  random.seed(seed)\n",
        "  n = int(input('Enter n: '))\n",
        "  ...\n",
        "\n",
        "main()"
      ],
      "metadata": {
        "id": "hgS486QssxCB"
      },
      "execution_count": null,
      "outputs": []
    },
    {
      "cell_type": "markdown",
      "source": [
        "**Q16**: Mean and Standard Deviation\n",
        "\n",
        "Write a program to calculate standard deviation from a given data list\n",
        "\n",
        "The formula for standard deviation:\n",
        "\n",
        "$s.d. = \\sqrt{\\frac{∑_{i=1}^n(x_i - x̄)^2}{n}}$,\n",
        "\n",
        "where $n$ is the number of data and $x̄$ คis mean, $\\frac{1}{n}∑_{i=1}^n(x_i)$.\n",
        "\n",
        "**Requirements**:\n",
        "- Must create a function `mean(data)` which takes in a list and return the mean of the list\n",
        "- `mean(data)`:\n",
        "  - **Args** - data (a list of numbers)\n",
        "  - **Return** - mean\n",
        "- Must create a function `standard_deviation(data)` which takes in a list and return the standard deviation of the data. The function should call `mean()`\n",
        "- `standard_deviation(data)`:\n",
        "  - **Args** - data (a list of numbers)\n",
        "  - **Return** - standard deviation\n",
        "- function `main()` is given\n",
        "\n",
        "Example 1:\n",
        "```\n",
        "standard_deviation([1, 2, 3, 4, 5])\n",
        "1.41\n",
        "```\n",
        "Explanation:\n",
        "- mean = $(1 + 2 + 3 + 4 + 5)/5$ = 3\n",
        "- $(1-3)^2 + (2-3)^2 + (3-3)^2 + (4-3)^2 + (5-3)^2 = 4 + 1 + 0 + 1 + 4 = 10$\n",
        "- $10/5 = 2$\n",
        "- $\\sqrt{2} = 1.41...$\n",
        "\n",
        "Example 2:\n",
        "```\n",
        "standard_deviation([10, 3, 8, 1, 9, 1, 3])\n",
        "3.59\n",
        "```\n",
        "\n",
        "Example 3:\n",
        "```\n",
        "standard_deviation([5, 5, 3, 8, 9, 7, 10, 6, 3, 9])\n",
        "2.38\n",
        "```\n",
        "\n",
        "\n"
      ],
      "metadata": {
        "id": "un1erguqpvra"
      }
    },
    {
      "cell_type": "code",
      "source": [
        "import math\n",
        "\n",
        "def mean(data):\n",
        "  # Calculate the mean of the data.\n",
        "\n",
        "\n",
        "\n",
        "def standard_deviation(data):\n",
        "  # Calculate the standard_deviation of the data.\n",
        "\n",
        "\n",
        "\n",
        "def main():\n",
        "\n",
        "  # Example 1\n",
        "  data = [1, 2, 3, 4, 5]\n",
        "  print(f\"{standard_deviation(data):.2f}\") # 1.41\n",
        "  # Example 2\n",
        "  data = [10, 3, 8, 1, 9, 1, 3]\n",
        "  print(f\"{standard_deviation(data):.2f}\") # 3.59\n",
        "  # Example 3\n",
        "  data = [5, 5, 3, 8, 9, 7, 10, 6, 3, 9]\n",
        "  print(f\"{standard_deviation(data):.2f}\") # 2.38\n",
        "\n",
        "main()"
      ],
      "metadata": {
        "id": "LZSMLy5Tpxmk"
      },
      "execution_count": null,
      "outputs": []
    },
    {
      "cell_type": "markdown",
      "source": [
        "**Q17** Calculate Midpoint and Distance\n",
        "\n",
        "Write a program that asks the user for four numbers for two points: (x1, y1) and (x2, y2). Then calculate the distance between these two points and the mid point between these two.\n",
        "\n",
        "Your tasks:\n",
        "* Create `main` function to get inputs from the user.\n",
        "* Create `cal_distance(x1, y1, x2, y2)` function which takes in four numbers and returns the distance between these two points\n",
        "  * Distance between $(x_1, y_1)$ and $(x_2, y_2) $ = $\\sqrt{(x_1 - x_2)^2 + (y_1 - y_2)^2}$\n",
        "  * **Args**: 4 numbers\n",
        "  * **Return**: 1 number (distance)\n",
        "* Create `cal_midpoint(x1, y1, x2, y2)` function which takes in four numbers and returns the mid point: both $x$ and $y$.\n",
        "  * Midpoint ($x_3, y_3$) = $(\\frac{x_1 + x_2}{2}, \\frac{y_1 + y_2}{2})$\n",
        "  * **Args**: 4 numbers\n",
        "  * **Return**: 2 numbers (x and y of the mid point)\n",
        "\n",
        "\n",
        "**Input**: 4 integer numbers\n",
        "\n",
        "**Output**: 1) distance (3 decimals) and 2) the mid point (2 decimals)\n",
        "\n",
        "Example:\n",
        "```\n",
        "Enter x1: 1\n",
        "Enter y1: 2\n",
        "Enter x2: 3\n",
        "Enter y2: 4\n",
        "Distance = 2.828\n",
        "Midpoint = (2.00, 3.00)\n",
        "```"
      ],
      "metadata": {
        "id": "E3fop40apaxE"
      }
    },
    {
      "cell_type": "code",
      "source": [
        "#implement cal_distance function here\n",
        "\n",
        "\n",
        "#implement cal_midpoint function here\n",
        "\n",
        "\n",
        "def main():\n",
        "  x1 = float(input(\"Enter x1: \"))\n",
        "  y1 = float(input(\"Enter y1: \"))\n",
        "  x2 = float(input(\"Enter x2: \"))\n",
        "  y2 = float(input(\"Enter y2: \"))\n",
        "  #Call the functions and print out answers below\n",
        "\n",
        "\n",
        "main()"
      ],
      "metadata": {
        "id": "uB1sO5Qvpb_A"
      },
      "execution_count": null,
      "outputs": []
    }
  ]
}