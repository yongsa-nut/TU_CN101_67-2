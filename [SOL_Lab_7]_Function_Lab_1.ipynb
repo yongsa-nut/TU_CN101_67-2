{
  "nbformat": 4,
  "nbformat_minor": 0,
  "metadata": {
    "colab": {
      "provenance": [],
      "include_colab_link": true
    },
    "kernelspec": {
      "name": "python3",
      "display_name": "Python 3"
    },
    "language_info": {
      "name": "python"
    }
  },
  "cells": [
    {
      "cell_type": "markdown",
      "metadata": {
        "id": "view-in-github",
        "colab_type": "text"
      },
      "source": [
        "<a href=\"https://colab.research.google.com/github/yongsa-nut/TU_CN101_67-2/blob/main/%5BSOL_Lab_7%5D_Function_Lab_1.ipynb\" target=\"_parent\"><img src=\"https://colab.research.google.com/assets/colab-badge.svg\" alt=\"Open In Colab\"/></a>"
      ]
    },
    {
      "cell_type": "markdown",
      "source": [
        "# Function Lab 1"
      ],
      "metadata": {
        "id": "u2w7pRxDADFQ"
      }
    },
    {
      "cell_type": "markdown",
      "source": [
        "Turn off AI: Tools -> Settings -> AI Assistance -> Hide"
      ],
      "metadata": {
        "id": "dNLfAlVAJO4d"
      }
    },
    {
      "cell_type": "markdown",
      "source": [
        "**Q1**: What will the following program output?\n",
        "\n",
        "```python\n",
        "def print_greeting():\n",
        "  print(\"Hello\")\n",
        "  print(\"Hi\")\n",
        "\n",
        "print_greeting()\n",
        "print_greeting()\n",
        "```"
      ],
      "metadata": {
        "id": "y9NBKodVxuUW"
      }
    },
    {
      "cell_type": "code",
      "execution_count": null,
      "metadata": {
        "id": "sbITL11ytvGn"
      },
      "outputs": [],
      "source": [
        "Hello\n",
        "Hi\n",
        "Hello\n",
        "Hi"
      ]
    },
    {
      "cell_type": "markdown",
      "source": [
        "**Q2**: What will the following program output?\n",
        "\n",
        "```python\n",
        "def func1():\n",
        "  print(\"AAA\", end='-')\n",
        "\n",
        "def func2():\n",
        "  func1()\n",
        "  print(\"BBB\",end='-')\n",
        "  func1()\n",
        "\n",
        "func2()\n",
        "```"
      ],
      "metadata": {
        "id": "QTuJvhi8xz6X"
      }
    },
    {
      "cell_type": "code",
      "source": [
        "AAA-BBB-AAA-"
      ],
      "metadata": {
        "id": "RZ7-PmaAoIXj"
      },
      "execution_count": null,
      "outputs": []
    },
    {
      "cell_type": "markdown",
      "source": [
        "**Q3** What will the following program output?\n",
        "\n",
        "```python\n",
        "def aaa():\n",
        "  print(\"aaa\", end=\"\")\n",
        "\n",
        "def bbb():\n",
        "  print(\"bbb\", end=\"\")\n",
        "\n",
        "def ccc():\n",
        "  print(\"ccc\", end=\"\")\n",
        "\n",
        "def main():\n",
        "  bbb()\n",
        "  aaa()\n",
        "\n",
        "main()\n",
        "```"
      ],
      "metadata": {
        "id": "Ua69A8-Qxr2m"
      }
    },
    {
      "cell_type": "code",
      "source": [
        "bbbaaa"
      ],
      "metadata": {
        "id": "QpM0gb0foK9f"
      },
      "execution_count": null,
      "outputs": []
    },
    {
      "cell_type": "markdown",
      "source": [
        "**Q4**: What will the following program output?\n",
        "\n",
        "```python\n",
        "def calculate(x):\n",
        "  y = x**2\n",
        "  print(x, y)\n",
        "\n",
        "calculate(2)\n",
        "y = 5\n",
        "calculate(y+1)\n",
        "```"
      ],
      "metadata": {
        "id": "m4eLrRBCyjIs"
      }
    },
    {
      "cell_type": "code",
      "source": [
        "2 4\n",
        "6 36"
      ],
      "metadata": {
        "id": "B7jvCumRoNoc"
      },
      "execution_count": null,
      "outputs": []
    },
    {
      "cell_type": "markdown",
      "source": [
        "**Q5** What will the following program output?\n",
        "\n",
        "```python\n",
        "def do_something(x, y):\n",
        "  print(f\"{x+y}\")\n",
        "\n",
        "def main():\n",
        "  do_something(1*3, 2+2)\n",
        "\n",
        "main()\n",
        "```"
      ],
      "metadata": {
        "id": "-mylKOlQyqRI"
      }
    },
    {
      "cell_type": "code",
      "source": [
        "7"
      ],
      "metadata": {
        "id": "pK-CKb2JysZs"
      },
      "execution_count": null,
      "outputs": []
    },
    {
      "cell_type": "markdown",
      "source": [
        "**Q6** What will the following program output?\n",
        "\n",
        "```python\n",
        "def xxx():\n",
        "  return 5\n",
        "\n",
        "def yyy():\n",
        "  return 7\n",
        "\n",
        "print(xxx() + yyy())\n",
        "x = yyy()\n",
        "y = xxx()\n",
        "z = x*y\n",
        "print(z)\n",
        "```"
      ],
      "metadata": {
        "id": "Am5hD8ihzFC0"
      }
    },
    {
      "cell_type": "code",
      "source": [
        "12\n",
        "35"
      ],
      "metadata": {
        "id": "-KEZXx0CoSnE"
      },
      "execution_count": null,
      "outputs": []
    },
    {
      "cell_type": "markdown",
      "source": [
        "**Q7**: What will the following program output?\n",
        "\n",
        "```python\n",
        "def func1(x):\n",
        "  x = x + 1\n",
        "  return x\n",
        "  \n",
        "print(func1(1) + func1(2))\n",
        "```"
      ],
      "metadata": {
        "id": "J4x4Ml9uz9I4"
      }
    },
    {
      "cell_type": "code",
      "source": [
        "5"
      ],
      "metadata": {
        "id": "2M3wZ3qGoU21"
      },
      "execution_count": null,
      "outputs": []
    },
    {
      "cell_type": "markdown",
      "source": [
        "**Q8:** What will the following program output?\n",
        "\n",
        "```python\n",
        "def func2(x, y):\n",
        "  return (x*y) + 2\n",
        "\n",
        "z = func2(y=2, x=3)\n",
        "print(func2(x=z, y = 2))\n",
        "```"
      ],
      "metadata": {
        "id": "X5ZqVjUk0Zk9"
      }
    },
    {
      "cell_type": "code",
      "source": [
        "18"
      ],
      "metadata": {
        "id": "mpBj0pmFoW3J"
      },
      "execution_count": null,
      "outputs": []
    },
    {
      "cell_type": "markdown",
      "source": [
        "**Q9**: What will the following program output?\n",
        "\n",
        "```python\n",
        "def aaa(x=1, y=2):\n",
        "  print(f\"{x+y}\", end=\",\")\n",
        "\n",
        "def bbb(x, y =2, z =3):\n",
        "  total = x + y + z\n",
        "  return total\n",
        "\n",
        "def main():\n",
        "  aaa()\n",
        "  result1 = bbb(5, 5, 5)\n",
        "  result2 = bbb(3, 3)\n",
        "  print(result1, result2)\n",
        "\n",
        "main()\n",
        "```"
      ],
      "metadata": {
        "id": "fUCEcldP0_ML"
      }
    },
    {
      "cell_type": "code",
      "source": [
        "3,15 9"
      ],
      "metadata": {
        "id": "B3zEB25XoY2r"
      },
      "execution_count": null,
      "outputs": []
    },
    {
      "cell_type": "markdown",
      "source": [
        "**Q10**: What will the following program output?\n",
        "\n",
        "```python\n",
        "def first(x):\n",
        "  x = x + 1\n",
        "  print(x, end=\" \")\n",
        "\n",
        "def second(x):\n",
        "  x = x + 2\n",
        "  return x\n",
        "\n",
        "def third(x):\n",
        "  x = x + 3\n",
        "  y = 5\n",
        "  return x\n",
        "\n",
        "def main():\n",
        "  x = 0\n",
        "  y = 0\n",
        "  first(x)\n",
        "  second(x)\n",
        "  y = y + third(x)\n",
        "  print(x, y)\n",
        "\n",
        "main()\n",
        "```"
      ],
      "metadata": {
        "id": "gp9cKhpD0oov"
      }
    },
    {
      "cell_type": "code",
      "source": [
        "1 0 3"
      ],
      "metadata": {
        "colab": {
          "base_uri": "https://localhost:8080/"
        },
        "id": "J43fZzm4occb",
        "outputId": "3d63342f-bc54-460e-b576-80d7376c3328"
      },
      "execution_count": null,
      "outputs": [
        {
          "output_type": "stream",
          "name": "stdout",
          "text": [
            "1 0 3\n"
          ]
        }
      ]
    },
    {
      "cell_type": "code",
      "source": [
        "#Extra: I made some changed to the original question. Do you see why the output from the program has changed?\n",
        "def first(x):\n",
        "  x = x + 1\n",
        "  print(x, end=\" \")\n",
        "\n",
        "def second(x):\n",
        "  x = x + 2\n",
        "  return x\n",
        "\n",
        "def third(x):\n",
        "  x = x + 3\n",
        "  y = 5\n",
        "  return x\n",
        "\n",
        "def main():\n",
        "  x = 0\n",
        "  y = 0\n",
        "  first(x)\n",
        "  x=second(x) #This line was just second(x)\n",
        "  y = y + third(x)\n",
        "  print(x, y)\n",
        "\n",
        "main()"
      ],
      "metadata": {
        "id": "3dz_i6KI1Yyn",
        "colab": {
          "base_uri": "https://localhost:8080/"
        },
        "outputId": "8cb2dd17-5dd4-49e1-9984-934ea99ac8b6"
      },
      "execution_count": null,
      "outputs": [
        {
          "output_type": "stream",
          "name": "stdout",
          "text": [
            "1 2 5\n"
          ]
        }
      ]
    },
    {
      "cell_type": "code",
      "source": [
        "#Extra: I made some changed to the original question. Do you see why the output from the program has changed?\n",
        "def first(x):\n",
        "  x = x + 1\n",
        "  print(x, end=\" \")\n",
        "\n",
        "def second(x):\n",
        "  x = x + 2\n",
        "  return x\n",
        "\n",
        "def third(x):\n",
        "  x = x + 3\n",
        "  y = 5\n",
        "  return x\n",
        "\n",
        "def main():\n",
        "  x = 0\n",
        "  y = 0\n",
        "  first(x)\n",
        "  y=second(x) #This line was just second(x)\n",
        "  y = y + third(x)\n",
        "  print(x, y)\n",
        "\n",
        "main()"
      ],
      "metadata": {
        "colab": {
          "base_uri": "https://localhost:8080/"
        },
        "id": "8PNKQxwOkLq6",
        "outputId": "3bc0fe8b-c1d9-4e4c-f09c-7dd27afdde6d"
      },
      "execution_count": null,
      "outputs": [
        {
          "output_type": "stream",
          "name": "stdout",
          "text": [
            "1 0 5\n"
          ]
        }
      ]
    },
    {
      "cell_type": "markdown",
      "source": [
        "**Q11**: What will the following program print out?\n",
        "\n",
        "```python\n",
        "def return_two():\n",
        "  return \"AAA\", \"CCC\"\n",
        "\n",
        "def print_things(things):\n",
        "  print(f\"1: {things[1]} 2: {things[0]}\")\n",
        "\n",
        "def main():\n",
        "  results = return_two()\n",
        "  print_things(results)\n",
        "main()\n",
        "```"
      ],
      "metadata": {
        "id": "GfxseB0s_dgq"
      }
    },
    {
      "cell_type": "code",
      "source": [
        "1: CCC 2: AAA"
      ],
      "metadata": {
        "id": "MKwIhaHHoeZd"
      },
      "execution_count": null,
      "outputs": []
    },
    {
      "cell_type": "markdown",
      "source": [
        "**Q12**: What will the following program print out?\n",
        "```python\n",
        "def do_something(n):\n",
        "  lst1 = [x for x in range(1,n)]\n",
        "  return lst1\n",
        "\n",
        "def main():\n",
        "  result = do_something(5)\n",
        "  print(result[0], sum(result))\n",
        "\n",
        "main()\n",
        "```"
      ],
      "metadata": {
        "id": "QohXLTET9xvs"
      }
    },
    {
      "cell_type": "code",
      "source": [
        "1 10"
      ],
      "metadata": {
        "id": "6Yc0wrj6ohNP"
      },
      "execution_count": null,
      "outputs": []
    },
    {
      "cell_type": "markdown",
      "source": [
        "**Q13**: What will the program output?\n",
        "\n",
        "```python\n",
        "def do_thing(num):\n",
        "  return num+1\n",
        "\n",
        "my_list = [do_thing(i) for i in range(1,5)]\n",
        "print(my_list)\n",
        "```"
      ],
      "metadata": {
        "id": "t9020ucD3GWH"
      }
    },
    {
      "cell_type": "code",
      "source": [
        "[2, 3, 4, 5]"
      ],
      "metadata": {
        "id": "7duhMyEMoi5A"
      },
      "execution_count": null,
      "outputs": []
    },
    {
      "cell_type": "markdown",
      "source": [
        "**Q14**: What will the program output?\n",
        "\n",
        "```python\n",
        "def do_x():\n",
        "  print('x')\n",
        "\n",
        "def do_y():\n",
        "  print('y')\n",
        "\n",
        "def big():\n",
        "  return 10\n",
        "\n",
        "def small():\n",
        "  return 1\n",
        "\n",
        "if big() > small():\n",
        "  do_x()\n",
        "else:\n",
        "  do_y()\n",
        "```"
      ],
      "metadata": {
        "id": "Vgz78owzEH09"
      }
    },
    {
      "cell_type": "code",
      "source": [
        "x"
      ],
      "metadata": {
        "id": "HpMhqhtook2L"
      },
      "execution_count": null,
      "outputs": []
    },
    {
      "cell_type": "markdown",
      "source": [
        "**Q15**: What will the program output?\n",
        "```python\n",
        "def multiply(x,y):\n",
        "  return x*y\n",
        "\n",
        "my_list = [10,20,30,40]\n",
        "for i in range(len(my_list)):\n",
        "  my_list[i] = multiply(i, my_list[i])\n",
        "\n",
        "print(my_list)\n",
        "```"
      ],
      "metadata": {
        "id": "8KB4bSppEMg3"
      }
    },
    {
      "cell_type": "code",
      "source": [
        "[0, 20, 60, 120]"
      ],
      "metadata": {
        "id": "ssq_PnGHomnQ"
      },
      "execution_count": null,
      "outputs": []
    },
    {
      "cell_type": "markdown",
      "source": [
        "**Q16**: Fill in the code below so that the code print out 6."
      ],
      "metadata": {
        "id": "LIzF8CBW1bBG"
      }
    },
    {
      "cell_type": "code",
      "source": [
        "def calX(x, y):\n",
        "  return x + y\n",
        "\n",
        "print(calX(calX(3,__), 2))"
      ],
      "metadata": {
        "id": "uawPPg5G1anH"
      },
      "execution_count": null,
      "outputs": []
    },
    {
      "cell_type": "code",
      "source": [
        "6"
      ],
      "metadata": {
        "id": "wHPkt1NzBHRr"
      },
      "execution_count": null,
      "outputs": []
    },
    {
      "cell_type": "markdown",
      "source": [
        "**Q17**: Fill in the code so that the program print out `Hello`"
      ],
      "metadata": {
        "id": "C42hQzkC1jtx"
      }
    },
    {
      "cell_type": "code",
      "source": [
        "def do_something():\n",
        "  ________________\n",
        "\n",
        "do_something()"
      ],
      "metadata": {
        "id": "uz74-vq41o9b"
      },
      "execution_count": null,
      "outputs": []
    },
    {
      "cell_type": "code",
      "source": [
        "#This question is straight forward! this function is called once and return is not needed)\n",
        "# --> so, to get \"Hello\", we can just print it out\n",
        "def do_something():\n",
        "  print(\"Hello\")\n",
        "\n",
        "do_something()"
      ],
      "metadata": {
        "colab": {
          "base_uri": "https://localhost:8080/"
        },
        "id": "faennpdlCj4q",
        "outputId": "399c90df-f821-471b-dff6-cb325f4237e2"
      },
      "execution_count": null,
      "outputs": [
        {
          "output_type": "stream",
          "name": "stdout",
          "text": [
            "Hello\n"
          ]
        }
      ]
    },
    {
      "cell_type": "markdown",
      "source": [
        "**Q18**: Fill in the code so that the program call the function `generate` and print out 5."
      ],
      "metadata": {
        "id": "RbmV5C0P2cRp"
      }
    },
    {
      "cell_type": "code",
      "source": [
        "def generate(x):\n",
        "  x *= 3\n",
        "  return x+2\n",
        "\n",
        "y = ________________\n",
        "print(y)"
      ],
      "metadata": {
        "id": "6ECDm6BL2rSs"
      },
      "execution_count": null,
      "outputs": []
    },
    {
      "cell_type": "code",
      "source": [
        "def generate(x):\n",
        "  x *= 3 # equivalent to x = x*3\n",
        "  return x+2\n",
        "#To do this question, let's consider what y = generate(x) does, that is, y = (x*3) + 2\n",
        "# Since we want y to be 5, then we can solve the equation for x\n",
        "# 5 = (x*3) +2 --> x => 1\n",
        "y = generate(x=1)\n",
        "print(y)"
      ],
      "metadata": {
        "colab": {
          "base_uri": "https://localhost:8080/"
        },
        "id": "xOuoFnLzDXlg",
        "outputId": "d2443aa7-7eb5-430a-def3-8885079fce8d"
      },
      "execution_count": null,
      "outputs": [
        {
          "output_type": "stream",
          "name": "stdout",
          "text": [
            "5\n"
          ]
        }
      ]
    },
    {
      "cell_type": "markdown",
      "source": [
        "**Q19**: Fill in the blanks so that the program print out `Yes:No`"
      ],
      "metadata": {
        "id": "_fpax4V4DBXq"
      }
    },
    {
      "cell_type": "code",
      "source": [
        "def check_condition(number):\n",
        "  return number == 10\n",
        "\n",
        "first_number = _______\n",
        "if check_condition(first_number):\n",
        "  print('Yes',end=':')\n",
        "else:\n",
        "  print('No',end=':')\n",
        "\n",
        "second_number = _______\n",
        "if check_condition(first_number) and check_condition(second_number):\n",
        "  print('Yes')\n",
        "else:\n",
        "  print('No')"
      ],
      "metadata": {
        "id": "uLA-g_vZDE0J"
      },
      "execution_count": null,
      "outputs": []
    },
    {
      "cell_type": "code",
      "source": [
        "# To solve this question, we need to understand what the program do as a whole\n",
        "# We want the program to print out \"Yes:No\"\n",
        "\n",
        "def check_condition(number):\n",
        "  return number == 10 #This function compare the input number with 10 --> it return True if num == 10 and False otherwise\n",
        "\n",
        "#There are two sections in this program\n",
        "\n",
        "# In the first section, we want check_condition(first_number) to be True, so that \"Yes:\" can be printed\n",
        "#Therefore, first_number => 10\n",
        "first_number = 10\n",
        "if check_condition(first_number):\n",
        "  print('Yes',end=':') #We want this line to printed out\n",
        "else:\n",
        "  print('No',end=':')\n",
        "\n",
        "# In the second section, we want check_condition(first_number) and check_condition(second_number) to be False, so that \"No\" can be printed\n",
        "# Since check_condition(first_number) is always True --> we need check_condition(second_number) to be False\n",
        "#Therefore, second_number can be anything but 10\n",
        "second_number = 101\n",
        "if check_condition(first_number) and check_condition(second_number):\n",
        "  print('Yes')\n",
        "else:\n",
        "  print('No') #We want this line to printed out"
      ],
      "metadata": {
        "colab": {
          "base_uri": "https://localhost:8080/"
        },
        "id": "DHjmzfvyEapd",
        "outputId": "302eda4f-556e-4ca3-807b-c6ae547cc05e"
      },
      "execution_count": null,
      "outputs": [
        {
          "output_type": "stream",
          "name": "stdout",
          "text": [
            "Yes:No\n"
          ]
        }
      ]
    },
    {
      "cell_type": "markdown",
      "source": [
        "**Q20**: Fill in the code below so that the program calls a function ``multiple_items`` to get an input from the user and returns the values back to the main to be printed out.\n",
        "\n",
        "Example of output:\n",
        "```\n",
        "Which is your favorite bridge? Baltimore\n",
        "When was it constructed? 1972\n",
        "My favorite bridge is 'Baltimore' and it was constructed in '1972'.\n",
        "```"
      ],
      "metadata": {
        "id": "tpJ-Drcx1vAo"
      }
    },
    {
      "cell_type": "code",
      "source": [
        "def multiple_items():\n",
        "  bridge = input(\"Which is your favorite bridge? \")\n",
        "  year = input(\"When was it constructed? \")\n",
        "  return bridge, year\n",
        "\n",
        "def main():\n",
        "  ______________________ #Fill in your code here\n",
        "  print(f\"My favorite bridge is '{brg}' and it was constructed in '{yr}'.\")\n",
        "main()"
      ],
      "metadata": {
        "id": "VqtmISXX12Hx"
      },
      "execution_count": null,
      "outputs": []
    },
    {
      "cell_type": "code",
      "source": [
        "\n",
        "def multiple_items():\n",
        "  bridge = input(\"Which is your favorite bridge? \")\n",
        "  year = input(\"When was it constructed? \")\n",
        "  return bridge, year\n",
        "\n",
        "def main():\n",
        "  brg, yr = multiple_items() # we need to match the variable names with the next line\n",
        "  print(f\"My favorite bridge is '{brg}' and it was constructed in '{yr}'.\")\n",
        "main()"
      ],
      "metadata": {
        "colab": {
          "base_uri": "https://localhost:8080/"
        },
        "id": "8YOccAWXGsC1",
        "outputId": "7ac13e03-f0c5-4cb0-833a-777820746bb4"
      },
      "execution_count": null,
      "outputs": [
        {
          "output_type": "stream",
          "name": "stdout",
          "text": [
            "Which is your favorite bridge? Baltimore\n",
            "When was it constructed? 1972\n",
            "My favorite bridge is 'Baltimore' and it was constructed in '1972'.\n"
          ]
        }
      ]
    },
    {
      "cell_type": "markdown",
      "source": [
        "**Q21**: Welcome\n",
        "\n",
        "Write a function ``print_welcome(n)`` which takes in `n` and prints \"Welcome\" n times\n",
        "\n",
        "**Input**:\n",
        "- $n$\n",
        "\n",
        "**Output**:\n",
        "- \"Welcome\" $n$ times/lines\n",
        "\n",
        "Example:\n",
        "\n",
        "```\n",
        "Enter n: 3\n",
        "Welcome\n",
        "Welcome\n",
        "Welcome\n",
        "```"
      ],
      "metadata": {
        "id": "iAr_v9U03YYw"
      }
    },
    {
      "cell_type": "code",
      "source": [
        "# implement print_welcome(n) here\n",
        "def print_welcome(n):\n",
        "  ...\n",
        "\n",
        "\n",
        "def main():\n",
        "  n = int(input(\"Enter n: \"))\n",
        "  print_welcome(n)\n",
        "main()"
      ],
      "metadata": {
        "id": "d5gQQmSD3Zjy"
      },
      "execution_count": null,
      "outputs": []
    },
    {
      "cell_type": "code",
      "source": [
        "# We want -> \"Welcome\"  𝑛  times/lines -->use loop to print(\"Welcome\") for n times\n",
        "def print_welcome(n):\n",
        "  for i in range(n):\n",
        "    print(\"Welcome\")\n",
        "\n",
        "\n",
        "def main():\n",
        "  n = int(input(\"Enter n: \"))\n",
        "  print_welcome(n)\n",
        "main()"
      ],
      "metadata": {
        "colab": {
          "base_uri": "https://localhost:8080/"
        },
        "id": "UNlgNrblIv4l",
        "outputId": "759c9b80-098a-446f-e430-0a9d7492b809"
      },
      "execution_count": null,
      "outputs": [
        {
          "output_type": "stream",
          "name": "stdout",
          "text": [
            "Enter n: 3\n",
            "Welcome\n",
            "Welcome\n",
            "Welcome\n"
          ]
        }
      ]
    },
    {
      "cell_type": "markdown",
      "source": [
        "**Q22**: Fahrenheit to Celsius function\n",
        "\n",
        "Write a $\\texttt{FtoC}$ function which takes in a number represents a temperature in Fahrenheit and returns a temperature in Celsius. The formula is $C = (F-32)*5/9$.\n",
        "\n",
        "**Input**:\n",
        "* a real number for temperature in F.\n",
        "\n",
        "**Output**:\n",
        "* a real number for Celsius in two decimals\n",
        "\n",
        "Example1:\n",
        "```\n",
        "Enter temperature (F):89\n",
        "31.67\n",
        "```\n",
        "\n",
        "Example2:\n",
        "```\n",
        "Enter temperature (F):32\n",
        "0.00\n",
        "```"
      ],
      "metadata": {
        "id": "aLNvNR_B3qMO"
      }
    },
    {
      "cell_type": "code",
      "source": [
        "# Implement FtoC function below\n",
        "def FtoC(F): #Get F as input and return C after convert it with the equation C = (F-32)*5/9\n",
        "  return (F-32)*5/9\n",
        "\n",
        "def main():\n",
        "  temp = float(input(\"Enter temperature (F): \"))\n",
        "  print(f\"{FtoC(temp):.2f}\")\n",
        "main()"
      ],
      "metadata": {
        "id": "DUf0Rs8y3vjs"
      },
      "execution_count": null,
      "outputs": []
    },
    {
      "cell_type": "markdown",
      "source": [
        "**Q23**: Old or Young\n",
        "\n",
        "จงเขียน function `old_or_young(age)` ซึ่งรับตัวเลขหนึ่งตัว (อายุ) และส่งข้อความออกมา เป็น `old` ถ้าอายุมากกว่า 30 ถ้าไม่ใช่ให้ส่ง `young` ออกมาแทน\n",
        "\n",
        "---\n",
        "Write a function `old_or_young(age)` that takes in a number (age) and returns `old` if age is greater than 30 and `young` otherwise.\n",
        "\n",
        "**Input**:\n",
        "- An integer for age\n",
        "\n",
        "**Output**:\n",
        "- A string: `old` or `young`\n",
        "\n",
        "**Examples**:\n",
        "```\n",
        "Enter age: 35\n",
        "old\n",
        "```\n",
        "\n",
        "```\n",
        "Enter age: 20\n",
        "young\n",
        "```"
      ],
      "metadata": {
        "id": "CWlHX4iTDNNo"
      }
    },
    {
      "cell_type": "code",
      "source": [
        "# Implement old_or_young function below\n",
        "\n",
        "\n",
        "\n",
        "# Implement main function below\n",
        "def main():\n",
        "  age = ...\n",
        "  result = ...\n",
        "  print(result)\n",
        "\n",
        "main()"
      ],
      "metadata": {
        "id": "2r0Mo0RZDOOh"
      },
      "execution_count": null,
      "outputs": []
    },
    {
      "cell_type": "code",
      "source": [
        "# Steps --> 1) get age, 2) call function old_or_young(age), and 3) return the text\n",
        "\n",
        "def old_or_young(age): #receive age as input\n",
        "  if age > 30: #check condition\n",
        "    return \"old\" #return \"old\" if age > 30\n",
        "  else:\n",
        "    return \"young\" #return \"young\" if age <= 30\n",
        "\n",
        "def main():\n",
        "  age = int(input(\"Enter age: \"))\n",
        "  result = old_or_young(age)\n",
        "  print(result)\n",
        "\n",
        "main()"
      ],
      "metadata": {
        "colab": {
          "base_uri": "https://localhost:8080/"
        },
        "id": "Dgd4tPlLJyUg",
        "outputId": "565354f4-4ab8-415f-c0b8-02f7e615aa7a"
      },
      "execution_count": null,
      "outputs": [
        {
          "output_type": "stream",
          "name": "stdout",
          "text": [
            "Enter age: 20\n",
            "young\n"
          ]
        }
      ]
    },
    {
      "cell_type": "markdown",
      "source": [
        "**Q24** Rectangle\n",
        "\n",
        "จงเขียน function `rectangle(w,h)` ซึ่งรับตัวเลขสองตัว Weight `w` and Height `h` และ ส่งค่ากลับสองค่า พื้นที่ และ เส้นรอบรูป ของรูปสี่เหลี่ยม\n",
        "\n",
        "---\n",
        "\n",
        "Write a function `rectangle(w,h)` which takes in two numbers: Weight `w` and Height `h` and returns two values: area and perimeter\n",
        "\n",
        "**Input**\n",
        "- Real number, w\n",
        "- Real number, h\n",
        "\n",
        "**Output**\n",
        "- Area, two decimal\n",
        "- Perimeter, two decimal\n",
        "\n",
        "**Requirement**\n",
        "- You must create a `main()` function which receive inputs from the user and call function `rectangle(w,h)`. Finally print out result. (See the previous question for an example)\n",
        "\n",
        "**Example 1**\n",
        "\n",
        "```\n",
        ">Enter w: 5\n",
        ">Enter h: 6\n",
        "Area is 30.00\n",
        "Perimeter is 22.00\n",
        "```\n",
        "\n",
        "**Example 2**\n",
        "\n",
        "```\n",
        ">Enter w: 10\n",
        ">Enter h: 2.5\n",
        "Area is 25.00\n",
        "Perimeter is 25.00\n",
        "```\n"
      ],
      "metadata": {
        "id": "3M1VlnIy4eIN"
      }
    },
    {
      "cell_type": "code",
      "source": [
        "# Method 1: calculate area and parimeter from the given w and h, then return the values\n",
        "\n",
        "# To implement rectangle function, we need to know what are the inputs, what to do with them, and what are the outputs to be returned\n",
        "def rectangle(w,h):\n",
        "  area = w*h\n",
        "  perimeter = 2*(w+h)\n",
        "  return area, perimeter\n",
        "\n",
        "def main():\n",
        "  w = float(input(\"Enter w: \")) #Use float because the question wanted the inputs to be \"real number\"\n",
        "  h = float(input(\"Enter h: \"))\n",
        "  area, perimeter = rectangle(w,h)\n",
        "  print(f\"Area is {area:.2f}\")\n",
        "  print(f\"Perimeter is {perimeter:.2f}\")\n",
        "\n",
        "main()\n"
      ],
      "metadata": {
        "id": "w8_4qkY06mPq",
        "colab": {
          "base_uri": "https://localhost:8080/"
        },
        "outputId": "dbb3c1c0-41cc-46da-b77d-eebef24c25fc"
      },
      "execution_count": null,
      "outputs": [
        {
          "output_type": "stream",
          "name": "stdout",
          "text": [
            "Enter w: 5\n",
            "Enter h: 6\n",
            "Area is 30.00\n",
            "Perimeter is 22.00\n"
          ]
        }
      ]
    },
    {
      "cell_type": "code",
      "source": [
        "# Method 2: return the string to be printed in main() (similar to Q23)\n",
        "\n",
        "# To implement rectangle function, we need to know what are the inputs, what to do with them, and what are the outputs to be returned\n",
        "def rectangle(w,h):\n",
        "  area =  f\"Area is {w*h:.2f}\"\n",
        "  perimeter = f\"Perimeter is {2*(w+h):.2f}\"\n",
        "  return area, perimeter\n",
        "\n",
        "def main():\n",
        "  w = float(input(\"Enter w: \")) #Use float because the question wanted the inputs to be \"real number\"\n",
        "  h = float(input(\"Enter h: \"))\n",
        "  area, perimeter = rectangle(w,h)\n",
        "  print(area)\n",
        "  print(perimeter)\n",
        "\n",
        "main()\n"
      ],
      "metadata": {
        "colab": {
          "base_uri": "https://localhost:8080/"
        },
        "id": "_qSwAddYMUZw",
        "outputId": "ddd6740d-05b0-44bc-ff12-3ee4fab7219d"
      },
      "execution_count": null,
      "outputs": [
        {
          "output_type": "stream",
          "name": "stdout",
          "text": [
            "Enter w: 10\n",
            "Enter h: 2.5\n",
            "Area is 25.00\n",
            "Perimeter is 25.00\n"
          ]
        }
      ]
    },
    {
      "cell_type": "markdown",
      "source": [
        "**Q25**: Mean\n",
        "\n",
        "จงเขียนฟังก์ชัน `mean(numbers)` เพื่อคำนวณหาค่า mean ของ list ของตัวเลขที่รับเข้ามา และ ส่งค่า mean นั้นออกไป\n",
        "\n",
        "---\n",
        "\n",
        "Write a function `mean(numbers)` which takes in a list of numbers and returns the mean of that list.\n",
        "\n",
        "**Function Requirements**\n",
        "- Argument: `numbers`: a list of integers\n",
        "- Output: mean\n",
        "\n",
        "Examples are provided in `main`\n"
      ],
      "metadata": {
        "id": "3N4n5jvbDLeD"
      }
    },
    {
      "cell_type": "code",
      "source": [
        "# implement mean function below\n",
        "def mean(numbers): # Argument: numbers: a list of integers\n",
        "  total = 0\n",
        "  for num in numbers:\n",
        "    total += num\n",
        "  return total/len(numbers)\n",
        "\n",
        "\n",
        "def main():\n",
        "  # Test 1\n",
        "  result1 = mean([1,2,3,4])\n",
        "  print(f'Your answer is {result1:.2f}. Expected answer is 2.50.')\n",
        "  # Test 2\n",
        "  result2 = mean([4,4,4])\n",
        "  print(f'Your answer is {result2:.2f}. Expected answer is 4.00.')\n",
        "  # Test 3\n",
        "  result3 = mean([-10, 30, 50, 70, 0, 1, 3])\n",
        "  print(f'Your answer is {result3:.2f}. Expected answer is 20.57.')\n",
        "\n",
        "main()"
      ],
      "metadata": {
        "id": "aU1U2KNYDM9K",
        "colab": {
          "base_uri": "https://localhost:8080/"
        },
        "outputId": "d38101ce-4ea8-4e9f-c909-5a2c0cf90994"
      },
      "execution_count": null,
      "outputs": [
        {
          "output_type": "stream",
          "name": "stdout",
          "text": [
            "Your answer is 2.50. Expected answer is 2.50.\n",
            "Your answer is 4.00. Expected answer is 4.00.\n",
            "Your answer is 20.57. Expected answer is 20.57.\n"
          ]
        }
      ]
    },
    {
      "cell_type": "code",
      "source": [
        "# Or, simply\n",
        "def mean(numbers):\n",
        "  return sum(numbers)/len(numbers)\n",
        "\n",
        "def main():\n",
        "  # Test 1\n",
        "  result1 = mean([1,2,3,4])\n",
        "  print(f'Your answer is {result1:.2f}. Expected answer is 2.50.')\n",
        "  # Test 2\n",
        "  result2 = mean([4,4,4])\n",
        "  print(f'Your answer is {result2:.2f}. Expected answer is 4.00.')\n",
        "  # Test 3\n",
        "  result3 = mean([-10, 30, 50, 70, 0, 1, 3])\n",
        "  print(f'Your answer is {result3:.2f}. Expected answer is 20.57.')\n",
        "\n",
        "main()"
      ],
      "metadata": {
        "colab": {
          "base_uri": "https://localhost:8080/"
        },
        "id": "jSpfrRINboBj",
        "outputId": "c7b6f875-cb7a-4cf7-9f85-9bc6ca6ace90"
      },
      "execution_count": null,
      "outputs": [
        {
          "output_type": "stream",
          "name": "stdout",
          "text": [
            "Your answer is 2.50. Expected answer is 2.50.\n",
            "Your answer is 4.00. Expected answer is 4.00.\n",
            "Your answer is 20.57. Expected answer is 20.57.\n"
          ]
        }
      ]
    }
  ]
}